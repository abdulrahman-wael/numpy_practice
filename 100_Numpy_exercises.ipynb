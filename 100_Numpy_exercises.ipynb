{
 "cells": [
  {
   "cell_type": "markdown",
   "id": "5a28b949",
   "metadata": {},
   "source": [
    "# 100 numpy exercises\n",
    "\n",
    "This is a collection of exercises that have been collected in the numpy mailing list, on stack overflow\n",
    "and in the numpy documentation. The goal of this collection is to offer a quick reference for both old\n",
    "and new users but also to provide a set of exercises for those who teach.\n",
    "\n",
    "\n",
    "If you find an error or think you've a better way to solve some of them, feel\n",
    "free to open an issue at <https://github.com/rougier/numpy-100>."
   ]
  },
  {
   "cell_type": "markdown",
   "id": "3f7a87ec",
   "metadata": {},
   "source": [
    "File automatically generated. See the documentation to update questions/answers/hints programmatically."
   ]
  },
  {
   "cell_type": "markdown",
   "id": "854ecf1b",
   "metadata": {},
   "source": [
    "Run the `initialise.py` module, then for each question you can query the\n",
    "answer or an hint with `hint(n)` or `answer(n)` for `n` question number."
   ]
  },
  {
   "cell_type": "code",
   "execution_count": 2,
   "id": "c53ea877",
   "metadata": {},
   "outputs": [],
   "source": [
    "%run initialise.py"
   ]
  },
  {
   "cell_type": "markdown",
   "id": "c00df986",
   "metadata": {},
   "source": [
    "#### 1. Import the numpy package under the name `np` (★☆☆)"
   ]
  },
  {
   "cell_type": "code",
   "execution_count": 3,
   "id": "35bde95c",
   "metadata": {},
   "outputs": [],
   "source": [
    "import numpy as np"
   ]
  },
  {
   "cell_type": "markdown",
   "id": "b555a89f",
   "metadata": {},
   "source": [
    "#### 2. Print the numpy version and the configuration (★☆☆) !"
   ]
  },
  {
   "cell_type": "code",
   "execution_count": 4,
   "id": "2c9d363d",
   "metadata": {},
   "outputs": [
    {
     "name": "stdout",
     "output_type": "stream",
     "text": [
      "2.3.3\n",
      "<module 'numpy.__config__' from '/home/abdulrahman/code/numpy_practice/.venv/lib/python3.12/site-packages/numpy/__config__.py'>\n",
      "hint: np.__version__, np.show_config)\n"
     ]
    }
   ],
   "source": [
    "print(np.__version__)\n",
    "print(np.__config__)\n",
    "np.show_config # XXXXXXXXXXXXXXXXXXXXXX\n",
    "# what is the difference between show_config, __config__ ?\n",
    "hint(2)"
   ]
  },
  {
   "cell_type": "markdown",
   "id": "e2713407",
   "metadata": {},
   "source": [
    "#### 3. Create a null vector of size 10 (★☆☆)"
   ]
  },
  {
   "cell_type": "code",
   "execution_count": 5,
   "id": "6df2f6db",
   "metadata": {},
   "outputs": [
    {
     "name": "stdout",
     "output_type": "stream",
     "text": [
      "[0. 0. 0. 0. 0. 0. 0. 0. 0. 0.]\n",
      "hint: np.zeros\n",
      "Z = np.zeros(10)\n",
      "print(Z)\n"
     ]
    }
   ],
   "source": [
    "print(np.zeros(10))\n",
    "hint(3)\n",
    "answer(3)\n",
    "\n",
    "# isn't it called a null vector? why it contains a number 0."
   ]
  },
  {
   "cell_type": "markdown",
   "id": "5a09554f",
   "metadata": {},
   "source": [
    "#### 4. How to find the memory size of any array (★☆☆) !"
   ]
  },
  {
   "cell_type": "code",
   "execution_count": 6,
   "id": "c55a2a00",
   "metadata": {},
   "outputs": [
    {
     "name": "stdout",
     "output_type": "stream",
     "text": [
      "10\n",
      "Z = np.zeros((10,10))\n",
      "print(\"%d bytes\" % (Z.size * Z.itemsize))\n",
      "\n",
      "# Simpler alternative\n",
      "print(\"%d bytes\" % Z.nbytes)\n",
      "80\n",
      "80\n"
     ]
    }
   ],
   "source": [
    "print(np.zeros(10).size) # XXXXXXXXXXXXXXXXX - this is not in \"Memory\"\n",
    "answer(4)\n",
    "\n",
    "print(np.zeros(10).size * np.zeros(10).itemsize)\n",
    "print(np.zeros(10).nbytes)"
   ]
  },
  {
   "cell_type": "markdown",
   "id": "4720d438",
   "metadata": {},
   "source": [
    "#### 5. How to get the documentation of the numpy add function from the command line? (★☆☆) !"
   ]
  },
  {
   "cell_type": "code",
   "execution_count": 7,
   "id": "d9e2277e",
   "metadata": {},
   "outputs": [
    {
     "name": "stdout",
     "output_type": "stream",
     "text": [
      "add(x1, x2, /, out=None, *, where=True, casting='same_kind', order='K', dtype=None, subok=True[, signature])\n",
      "\n",
      "Add arguments element-wise.\n",
      "\n",
      "Parameters\n",
      "----------\n",
      "x1, x2 : array_like\n",
      "    The arrays to be added.\n",
      "    If ``x1.shape != x2.shape``, they must be broadcastable to a common\n",
      "    shape (which becomes the shape of the output).\n",
      "out : ndarray, None, or tuple of ndarray and None, optional\n",
      "    A location into which the result is stored. If provided, it must have\n",
      "    a shape that the inputs broadcast to. If not provided or None,\n",
      "    a freshly-allocated array is returned. A tuple (possible only as a\n",
      "    keyword argument) must have length equal to the number of outputs.\n",
      "where : array_like, optional\n",
      "    This condition is broadcast over the input. At locations where the\n",
      "    condition is True, the `out` array will be set to the ufunc result.\n",
      "    Elsewhere, the `out` array will retain its original value.\n",
      "    Note that if an uninitialized `out` array is created via the default\n",
      "    ``out=None``, locations within it where the condition is False will\n",
      "    remain uninitialized.\n",
      "**kwargs\n",
      "    For other keyword-only arguments, see the\n",
      "    :ref:`ufunc docs <ufuncs.kwargs>`.\n",
      "\n",
      "Returns\n",
      "-------\n",
      "add : ndarray or scalar\n",
      "    The sum of `x1` and `x2`, element-wise.\n",
      "    This is a scalar if both `x1` and `x2` are scalars.\n",
      "\n",
      "Notes\n",
      "-----\n",
      "Equivalent to `x1` + `x2` in terms of array broadcasting.\n",
      "\n",
      "Examples\n",
      "--------\n",
      ">>> import numpy as np\n",
      ">>> np.add(1.0, 4.0)\n",
      "5.0\n",
      ">>> x1 = np.arange(9.0).reshape((3, 3))\n",
      ">>> x2 = np.arange(3.0)\n",
      ">>> np.add(x1, x2)\n",
      "array([[  0.,   2.,   4.],\n",
      "       [  3.,   5.,   7.],\n",
      "       [  6.,   8.,  10.]])\n",
      "\n",
      "The ``+`` operator can be used as a shorthand for ``np.add`` on ndarrays.\n",
      "\n",
      ">>> x1 = np.arange(9.0).reshape((3, 3))\n",
      ">>> x2 = np.arange(3.0)\n",
      ">>> x1 + x2\n",
      "array([[ 0.,  2.,  4.],\n",
      "       [ 3.,  5.,  7.],\n",
      "       [ 6.,  8., 10.]])\n",
      "%run `python -c \"import numpy; numpy.info(numpy.add)\"`\n"
     ]
    }
   ],
   "source": [
    "print(np.add.__doc__) # XXXXXXXXXXXX - not in Bash\n",
    "answer(5)\n",
    "\n",
    "# !python -c \"import numpy; numpy.info(numpy.add)\""
   ]
  },
  {
   "cell_type": "markdown",
   "id": "b812d322",
   "metadata": {},
   "source": [
    "#### 6. Create a null vector of size 10 but the fifth value which is 1 (★☆☆)"
   ]
  },
  {
   "cell_type": "code",
   "execution_count": 8,
   "id": "9f95cedf",
   "metadata": {},
   "outputs": [
    {
     "data": {
      "text/plain": [
       "array([0., 0., 0., 0., 1., 0., 0., 0., 0., 0.])"
      ]
     },
     "execution_count": 8,
     "metadata": {},
     "output_type": "execute_result"
    }
   ],
   "source": [
    "vec = np.zeros(10)\n",
    "vec[4] = 1\n",
    "vec"
   ]
  },
  {
   "cell_type": "markdown",
   "id": "a348f2a8",
   "metadata": {},
   "source": [
    "#### 7. Create a vector with values ranging from 10 to 49 (★☆☆)"
   ]
  },
  {
   "cell_type": "code",
   "execution_count": 9,
   "id": "5a68fd5b",
   "metadata": {},
   "outputs": [
    {
     "data": {
      "text/plain": [
       "array([10, 11, 12, 13, 14, 15, 16, 17, 18, 19, 20, 21, 22, 23, 24, 25, 26,\n",
       "       27, 28, 29, 30, 31, 32, 33, 34, 35, 36, 37, 38, 39, 40, 41, 42, 43,\n",
       "       44, 45, 46, 47, 48, 49])"
      ]
     },
     "execution_count": 9,
     "metadata": {},
     "output_type": "execute_result"
    }
   ],
   "source": [
    "vec = np.arange(10,50)\n",
    "vec"
   ]
  },
  {
   "cell_type": "markdown",
   "id": "2f4ca4c0",
   "metadata": {},
   "source": [
    "#### 8. Reverse a vector (first element becomes last) (★☆☆) !"
   ]
  },
  {
   "cell_type": "code",
   "execution_count": 10,
   "id": "1892e775",
   "metadata": {},
   "outputs": [
    {
     "data": {
      "text/plain": [
       "array([49, 48, 47, 46, 45, 44, 43, 42, 41, 40, 39, 38, 37, 36, 35, 34, 33,\n",
       "       32, 31, 30, 29, 28, 27, 26, 25, 24, 23, 22, 21, 20, 19, 18, 17, 16,\n",
       "       15, 14, 13, 12, 11, 10])"
      ]
     },
     "execution_count": 10,
     "metadata": {},
     "output_type": "execute_result"
    }
   ],
   "source": [
    "# vec[-1:0:-1] # where is the first element ?! # XXXXXXXXX\n",
    "\n",
    "vec[::-1]"
   ]
  },
  {
   "cell_type": "markdown",
   "id": "31381832",
   "metadata": {},
   "source": [
    "#### 9. Create a 3x3 matrix with values ranging from 0 to 8 (★☆☆)"
   ]
  },
  {
   "cell_type": "code",
   "execution_count": 11,
   "id": "0154f251",
   "metadata": {},
   "outputs": [
    {
     "data": {
      "text/plain": [
       "array([[0, 1, 2],\n",
       "       [3, 4, 5],\n",
       "       [6, 7, 8]])"
      ]
     },
     "execution_count": 11,
     "metadata": {},
     "output_type": "execute_result"
    }
   ],
   "source": [
    "vec = np.arange(9).reshape(3,3)\n",
    "vec"
   ]
  },
  {
   "cell_type": "markdown",
   "id": "8c353e84",
   "metadata": {},
   "source": [
    "#### 10. Find indices of non-zero elements from [1,2,0,0,4,0] (★☆☆) !"
   ]
  },
  {
   "cell_type": "code",
   "execution_count": 12,
   "id": "da3495c3",
   "metadata": {},
   "outputs": [
    {
     "data": {
      "text/plain": [
       "(array([0, 1, 4]),)"
      ]
     },
     "execution_count": 12,
     "metadata": {},
     "output_type": "execute_result"
    }
   ],
   "source": [
    "# vec = np.array([1,2,0,0,4,0])\n",
    "# vec[vec != 0] # XXXXXXXXXXXXX -> this will get the values themselves not the indices\n",
    "\n",
    "np.nonzero([1,2,0,0,4,0])"
   ]
  },
  {
   "cell_type": "markdown",
   "id": "a26ac749",
   "metadata": {},
   "source": [
    "#### 11. Create a 3x3 identity matrix (★☆☆) !"
   ]
  },
  {
   "cell_type": "code",
   "execution_count": 13,
   "id": "3e33feda",
   "metadata": {},
   "outputs": [
    {
     "data": {
      "text/plain": [
       "array([[1., 0., 0.],\n",
       "       [0., 1., 0.],\n",
       "       [0., 0., 1.]])"
      ]
     },
     "execution_count": 13,
     "metadata": {},
     "output_type": "execute_result"
    }
   ],
   "source": [
    "np.identity(3) # also: np.eye(N, M=None, k=0, dtype=None) -> it's more versatile\n",
    "# N = rows, M = cols, k = diagonal position."
   ]
  },
  {
   "cell_type": "markdown",
   "id": "3a293379",
   "metadata": {},
   "source": [
    "#### 12. Create a 3x3x3 array with random values (★☆☆)"
   ]
  },
  {
   "cell_type": "code",
   "execution_count": 14,
   "id": "2da08152",
   "metadata": {},
   "outputs": [
    {
     "data": {
      "text/plain": [
       "array([[[-0.56308413,  0.68440302,  1.09689101],\n",
       "        [ 1.57437778,  0.55434083,  0.12805035],\n",
       "        [ 1.05284538,  1.08807741, -0.69784261]],\n",
       "\n",
       "       [[-0.00328146,  1.29544992, -0.91586725],\n",
       "        [-0.62200601,  0.49626939, -0.08068791],\n",
       "        [ 0.41430022, -0.67488356, -0.73490328]],\n",
       "\n",
       "       [[ 0.45257755,  0.63309757,  0.37317321],\n",
       "        [ 0.91126671, -0.09628005,  0.50033414],\n",
       "        [-0.14203455,  0.61068895, -1.22693682]]])"
      ]
     },
     "execution_count": 14,
     "metadata": {},
     "output_type": "execute_result"
    }
   ],
   "source": [
    "np.random.randn(3,3,3)"
   ]
  },
  {
   "cell_type": "markdown",
   "id": "e3faa924",
   "metadata": {},
   "source": [
    "#### 13. Create a 10x10 array with random values and find the minimum and maximum values (★☆☆)"
   ]
  },
  {
   "cell_type": "code",
   "execution_count": 15,
   "id": "e9fb3793",
   "metadata": {},
   "outputs": [
    {
     "name": "stdout",
     "output_type": "stream",
     "text": [
      "[[ 0.2075257   0.0608442  -1.18405131 -0.04799426  0.55620239  0.91936085\n",
      "  -0.16759357 -0.52781304  0.06724732 -0.16597325]\n",
      " [ 0.04322133  2.04826995  0.88452836 -0.28445202 -0.14983675 -0.54095281\n",
      "  -1.21491527  2.05449311 -1.61686927  0.18519617]\n",
      " [ 0.74983029 -0.15555639  1.27050971  0.83280813 -0.54012992 -0.25715094\n",
      "  -0.27429965 -0.93112366  0.48904202  0.78421985]\n",
      " [-2.8115385  -0.23221599  0.56015715  1.362401   -0.63536551 -0.13677162\n",
      "  -0.67268532  1.47534371 -1.24183912 -0.36184485]\n",
      " [ 0.61640114 -0.08369057 -0.7495363  -0.5489775   0.79432383  0.32589686\n",
      "   0.01039242 -0.11659614  0.24293633  0.33672862]\n",
      " [ 0.52607326 -0.57810409  0.11753433 -0.87946769  0.50958895 -0.66740492\n",
      "   0.59218608 -1.01187603  0.79375664  0.49201399]\n",
      " [-1.11365229  0.50735269  0.79730157 -1.84119797  0.70635721 -1.88820162\n",
      "  -1.62924537  1.27461861 -1.01339347  0.87434852]\n",
      " [ 0.16768714 -0.26449715 -1.0471995   0.67969945 -0.06738676 -0.5322639\n",
      "   0.01807947 -0.34653674 -1.07402489  1.23488845]\n",
      " [-0.51311393  0.19931131 -0.48523468  0.06951138  0.34361421 -0.14486091\n",
      "   0.61427224  1.55359466  0.37516129  0.55428741]\n",
      " [-0.36269339 -0.68996495 -0.4938748   0.95256758  0.31520866 -0.94977342\n",
      "  -0.02753994  1.42925564  1.1720824  -2.74608377]]\n",
      "2.054493106684704 -2.811538500259802\n"
     ]
    }
   ],
   "source": [
    "vec = np.random.randn(10,10)\n",
    "print(vec)\n",
    "print(vec.max(), vec.min())"
   ]
  },
  {
   "cell_type": "markdown",
   "id": "317cb8d1",
   "metadata": {},
   "source": [
    "#### 14. Create a random vector of size 30 and find the mean value (★☆☆)"
   ]
  },
  {
   "cell_type": "code",
   "execution_count": 16,
   "id": "4ea995d6",
   "metadata": {},
   "outputs": [
    {
     "data": {
      "text/plain": [
       "np.float64(-0.29162491888392383)"
      ]
     },
     "execution_count": 16,
     "metadata": {},
     "output_type": "execute_result"
    }
   ],
   "source": [
    "np.random.randn(30).mean()"
   ]
  },
  {
   "cell_type": "markdown",
   "id": "b8dee0f2",
   "metadata": {},
   "source": [
    "#### 15. Create a 2d array with 1 on the border and 0 inside (★☆☆) !"
   ]
  },
  {
   "cell_type": "code",
   "execution_count": 17,
   "id": "7054464b",
   "metadata": {},
   "outputs": [
    {
     "data": {
      "text/plain": [
       "array([[1., 1., 1., 1., 1., 1., 1., 1., 1., 1.],\n",
       "       [1., 0., 0., 0., 0., 0., 0., 0., 0., 1.],\n",
       "       [1., 0., 0., 0., 0., 0., 0., 0., 0., 1.],\n",
       "       [1., 0., 0., 0., 0., 0., 0., 0., 0., 1.],\n",
       "       [1., 0., 0., 0., 0., 0., 0., 0., 0., 1.],\n",
       "       [1., 0., 0., 0., 0., 0., 0., 0., 0., 1.],\n",
       "       [1., 0., 0., 0., 0., 0., 0., 0., 0., 1.],\n",
       "       [1., 0., 0., 0., 0., 0., 0., 0., 0., 1.],\n",
       "       [1., 0., 0., 0., 0., 0., 0., 0., 0., 1.],\n",
       "       [1., 1., 1., 1., 1., 1., 1., 1., 1., 1.]])"
      ]
     },
     "execution_count": 17,
     "metadata": {},
     "output_type": "execute_result"
    }
   ],
   "source": [
    "vec = np.ones([10,10])\n",
    "\n",
    "vec[1:-1,1:-1] = 0\n",
    "\n",
    "vec"
   ]
  },
  {
   "cell_type": "markdown",
   "id": "1476f45f",
   "metadata": {},
   "source": [
    "#### 16. How to add a border (filled with 0's) around an existing array? (★☆☆) !"
   ]
  },
  {
   "cell_type": "code",
   "execution_count": 18,
   "id": "4f0212af",
   "metadata": {},
   "outputs": [
    {
     "data": {
      "text/plain": [
       "array([[0., 0., 0., 0., 0., 0., 0., 0., 0., 0., 0., 0.],\n",
       "       [0., 1., 1., 1., 1., 1., 1., 1., 1., 1., 1., 0.],\n",
       "       [0., 1., 1., 1., 1., 1., 1., 1., 1., 1., 1., 0.],\n",
       "       [0., 1., 1., 1., 1., 1., 1., 1., 1., 1., 1., 0.],\n",
       "       [0., 1., 1., 1., 1., 1., 1., 1., 1., 1., 1., 0.],\n",
       "       [0., 1., 1., 1., 1., 1., 1., 1., 1., 1., 1., 0.],\n",
       "       [0., 1., 1., 1., 1., 1., 1., 1., 1., 1., 1., 0.],\n",
       "       [0., 1., 1., 1., 1., 1., 1., 1., 1., 1., 1., 0.],\n",
       "       [0., 1., 1., 1., 1., 1., 1., 1., 1., 1., 1., 0.],\n",
       "       [0., 1., 1., 1., 1., 1., 1., 1., 1., 1., 1., 0.],\n",
       "       [0., 1., 1., 1., 1., 1., 1., 1., 1., 1., 1., 0.],\n",
       "       [0., 0., 0., 0., 0., 0., 0., 0., 0., 0., 0., 0.]])"
      ]
     },
     "execution_count": 18,
     "metadata": {},
     "output_type": "execute_result"
    }
   ],
   "source": [
    "# ??\n",
    "\n",
    "vec = np.ones([10,10])\n",
    "vec = np.pad(vec, pad_width=1, mode='constant', constant_values=[0])\n",
    "vec"
   ]
  },
  {
   "cell_type": "markdown",
   "id": "52844dc7",
   "metadata": {},
   "source": [
    "#### 17. What is the result of the following expression? (★☆☆) !\n",
    "```python\n",
    "0 * np.nan\n",
    "np.nan == np.nan\n",
    "np.inf > np.nan\n",
    "np.nan - np.nan\n",
    "np.nan in set([np.nan])\n",
    "0.3 == 3 * 0.1\n",
    "```"
   ]
  },
  {
   "cell_type": "code",
   "execution_count": 19,
   "id": "cfdb7352",
   "metadata": {},
   "outputs": [
    {
     "name": "stdout",
     "output_type": "stream",
     "text": [
      "nan\n",
      "False\n",
      "False\n",
      "nan\n",
      "True\n",
      "False\n"
     ]
    }
   ],
   "source": [
    "print(0 * np.nan)\n",
    "print(np.nan == np.nan)\n",
    "print(np.inf > np.nan)\n",
    "print(np.nan - np.nan)\n",
    "print(np.nan in set([np.nan]))\n",
    "print(0.3 == 3 * 0.1)"
   ]
  },
  {
   "cell_type": "markdown",
   "id": "9801c961",
   "metadata": {},
   "source": [
    "#### 18. Create a 5x5 matrix with values 1,2,3,4 just below the diagonal (★☆☆) !"
   ]
  },
  {
   "cell_type": "code",
   "execution_count": 20,
   "id": "4e97651a",
   "metadata": {},
   "outputs": [
    {
     "data": {
      "text/plain": [
       "array([[0, 0, 0, 0, 0],\n",
       "       [1, 0, 0, 0, 0],\n",
       "       [0, 2, 0, 0, 0],\n",
       "       [0, 0, 3, 0, 0],\n",
       "       [0, 0, 0, 4, 0]])"
      ]
     },
     "execution_count": 20,
     "metadata": {},
     "output_type": "execute_result"
    }
   ],
   "source": [
    "vec = np.zeros([5,5])\n",
    "\n",
    "vec[4,0:4] = [1,2,3,4]\n",
    "\n",
    "vec\n",
    "\n",
    "# another solution: \n",
    "np.diag(1+np.arange(4), k=-1) \n",
    "# 1. this first creates a diagonal below the original one (at k=0) \n",
    "# 2. the content of it is [1,2,3,4] which is equal to (1 + np.arange(4))\n",
    "# 3. the size of the array is (5*5) because the diagonal we created at (k=-1) have 4 elements so the original one will have 5 elements\n",
    "# 4. the rest of the elements are zero default"
   ]
  },
  {
   "cell_type": "markdown",
   "id": "3dc05e9f",
   "metadata": {},
   "source": [
    "#### 19. Create a 8x8 matrix and fill it with a checkerboard pattern (★☆☆) ! "
   ]
  },
  {
   "cell_type": "code",
   "execution_count": 21,
   "id": "0b100b85",
   "metadata": {},
   "outputs": [
    {
     "data": {
      "text/plain": [
       "array([[0., 1., 0., 1., 0., 1., 0., 1.],\n",
       "       [1., 0., 1., 0., 1., 0., 1., 0.],\n",
       "       [0., 1., 0., 1., 0., 1., 0., 1.],\n",
       "       [1., 0., 1., 0., 1., 0., 1., 0.],\n",
       "       [0., 1., 0., 1., 0., 1., 0., 1.],\n",
       "       [1., 0., 1., 0., 1., 0., 1., 0.],\n",
       "       [0., 1., 0., 1., 0., 1., 0., 1.],\n",
       "       [1., 0., 1., 0., 1., 0., 1., 0.]])"
      ]
     },
     "execution_count": 21,
     "metadata": {},
     "output_type": "execute_result"
    }
   ],
   "source": [
    "# ??\n",
    "vec = np.zeros([8,8])\n",
    "vec[1::2, ::2] = 1\n",
    "vec[::2, 1::2] = 1\n",
    "\n",
    "vec\n"
   ]
  },
  {
   "cell_type": "markdown",
   "id": "d8e941b6",
   "metadata": {},
   "source": [
    "#### 20. Consider a (6,7,8) shape array, what is the index (x,y,z) of the 100th element? (★☆☆)"
   ]
  },
  {
   "cell_type": "code",
   "execution_count": 22,
   "id": "b3bc1fcb",
   "metadata": {},
   "outputs": [
    {
     "data": {
      "text/plain": [
       "(np.int64(1), np.int64(5), np.int64(3))"
      ]
     },
     "execution_count": 22,
     "metadata": {},
     "output_type": "execute_result"
    }
   ],
   "source": [
    "vec = np.zeros([6,7,8])\n",
    "\n",
    "flat = vec.flatten()\n",
    "\n",
    "flat[99] = 6\n",
    "\n",
    "vec = flat.reshape(6,7,8)\n",
    "\n",
    "np.where(vec == 6)\n",
    "\n",
    "\n",
    "# another solution: \n",
    "np.unravel_index(99,(6,7,8)) # finding the corresponding index to a flat index in a multidimensional shape."
   ]
  },
  {
   "cell_type": "markdown",
   "id": "bf3b8ab3",
   "metadata": {},
   "source": [
    "#### 21. Create a checkerboard 8x8 matrix using the tile function (★☆☆)"
   ]
  },
  {
   "cell_type": "code",
   "execution_count": 23,
   "id": "eb15c681",
   "metadata": {},
   "outputs": [
    {
     "data": {
      "text/plain": [
       "array([[0, 1, 0, 1, 0, 1, 0, 1],\n",
       "       [0, 1, 0, 1, 0, 1, 0, 1],\n",
       "       [0, 1, 0, 1, 0, 1, 0, 1],\n",
       "       [0, 1, 0, 1, 0, 1, 0, 1],\n",
       "       [0, 1, 0, 1, 0, 1, 0, 1],\n",
       "       [0, 1, 0, 1, 0, 1, 0, 1],\n",
       "       [0, 1, 0, 1, 0, 1, 0, 1],\n",
       "       [0, 1, 0, 1, 0, 1, 0, 1]])"
      ]
     },
     "execution_count": 23,
     "metadata": {},
     "output_type": "execute_result"
    }
   ],
   "source": [
    "np.tile([0,1], [8,4])"
   ]
  },
  {
   "cell_type": "markdown",
   "id": "71af9d19",
   "metadata": {},
   "source": [
    "#### 22. Normalize a 5x5 random matrix (★☆☆)"
   ]
  },
  {
   "cell_type": "code",
   "execution_count": 24,
   "id": "df20b788",
   "metadata": {},
   "outputs": [
    {
     "name": "stdout",
     "output_type": "stream",
     "text": [
      "[[0.78824081 0.36484441 0.59829518 0.97779463 0.19576494]\n",
      " [0.41842877 0.         1.         0.39042216 0.55703471]\n",
      " [0.75781057 0.43496554 0.71797226 0.69338056 0.4740786 ]\n",
      " [0.66889274 0.58926184 0.19610862 0.448447   0.64038315]\n",
      " [0.89621302 0.14511067 0.40913038 0.89203691 0.26675122]]\n"
     ]
    }
   ],
   "source": [
    "val = np.random.randn(5,5)\n",
    "\n",
    "print((val - val.min())/(val.max() - val.min()) )"
   ]
  },
  {
   "cell_type": "markdown",
   "id": "01cd9893",
   "metadata": {},
   "source": [
    "#### 23. Create a custom dtype that describes a color as four unsigned bytes (RGBA) (★☆☆)"
   ]
  },
  {
   "cell_type": "code",
   "execution_count": 25,
   "id": "4acddc2f",
   "metadata": {},
   "outputs": [
    {
     "data": {
      "text/plain": [
       "array([(156, 188, 1, 0), (  0,   0, 0, 0), (  0,   0, 0, 0)],\n",
       "      dtype=[('R', 'u1'), ('G', 'u1'), ('B', 'u1'), ('A', 'u1')])"
      ]
     },
     "execution_count": 25,
     "metadata": {},
     "output_type": "execute_result"
    }
   ],
   "source": [
    "# !\n",
    "color = np.dtype([\n",
    "    ('R', 'u1'),\n",
    "    ('G', 'uint8'),\n",
    "    ('B', 'uint8'),\n",
    "    ('A', 'uint8')\n",
    "])\n",
    "# u1 = uint8\n",
    "\n",
    "colors = np.empty(3, dtype=color)\n",
    "\n",
    "colors"
   ]
  },
  {
   "cell_type": "markdown",
   "id": "0ef5f38b",
   "metadata": {},
   "source": [
    "#### 24. Multiply a 5x3 matrix by a 3x2 matrix (real matrix product) (★☆☆)"
   ]
  },
  {
   "cell_type": "code",
   "execution_count": 26,
   "id": "3d36d4a0",
   "metadata": {},
   "outputs": [
    {
     "name": "stdout",
     "output_type": "stream",
     "text": [
      "[[8 8 8]\n",
      " [9 7 2]\n",
      " [3 6 2]\n",
      " [7 4 6]\n",
      " [8 5 9]]\n",
      "[[4 4]\n",
      " [1 6]\n",
      " [3 6]]\n"
     ]
    },
    {
     "data": {
      "text/plain": [
       "array([[ 64, 128],\n",
       "       [ 49,  90],\n",
       "       [ 24,  60],\n",
       "       [ 50,  88],\n",
       "       [ 64, 116]])"
      ]
     },
     "execution_count": 26,
     "metadata": {},
     "output_type": "execute_result"
    }
   ],
   "source": [
    "val = np.random.randint(1,10, [5,3]) \n",
    "val2 = np.random.randint(1,10, [3,2])\n",
    "\n",
    "print(val)\n",
    "\n",
    "print(val2)\n",
    "\n",
    "val @ val2 #!"
   ]
  },
  {
   "cell_type": "markdown",
   "id": "a46db425",
   "metadata": {},
   "source": [
    "#### 25. Given a 1D array, negate all elements which are between 3 and 8, in place. (★☆☆)"
   ]
  },
  {
   "cell_type": "code",
   "execution_count": 27,
   "id": "86e3d6a8",
   "metadata": {},
   "outputs": [
    {
     "data": {
      "text/plain": [
       "array([0, 1, 2, 3, 6, 5, 4, 3, 8, 9])"
      ]
     },
     "execution_count": 27,
     "metadata": {},
     "output_type": "execute_result"
    }
   ],
   "source": [
    "val = np.arange(10)\n",
    "\n",
    "val[4:8] = 10 - val[4:8]\n",
    "\n",
    "val\n",
    "\n",
    "# answer(25)\n",
    "# # Author: Evgeni Burovski\n",
    "\n",
    "# Z = np.arange(11)\n",
    "# Z[(3 < Z) & (Z < 8)] *= -1 # !\n",
    "# print(Z)"
   ]
  },
  {
   "cell_type": "markdown",
   "id": "89fa6007",
   "metadata": {},
   "source": [
    "#### 26. What is the output of the following script? (★☆☆)\n",
    "```python\n",
    "# Author: Jake VanderPlas\n",
    "\n",
    "print(sum(range(5),-1))\n",
    "from numpy import *\n",
    "print(sum(range(5),-1))\n",
    "```"
   ]
  },
  {
   "cell_type": "code",
   "execution_count": 28,
   "id": "59f2c6dc",
   "metadata": {},
   "outputs": [
    {
     "data": {
      "text/plain": [
       "15"
      ]
     },
     "execution_count": 28,
     "metadata": {},
     "output_type": "execute_result"
    }
   ],
   "source": [
    "14 # !\n",
    "15 # !"
   ]
  },
  {
   "cell_type": "markdown",
   "id": "38de4589",
   "metadata": {},
   "source": [
    "#### 27. Consider an integer vector Z, which of these expressions are legal? (★☆☆)\n",
    "```python\n",
    "Z**Z\n",
    "2 << Z >> 2\n",
    "Z <- Z\n",
    "1j*Z\n",
    "Z/1/1\n",
    "Z<Z>Z\n",
    "```"
   ]
  },
  {
   "cell_type": "code",
   "execution_count": 29,
   "id": "a9dc9520",
   "metadata": {},
   "outputs": [
    {
     "name": "stdout",
     "output_type": "stream",
     "text": [
      "Z**Z\n",
      "2 << Z >> 2\n",
      "Z <- Z\n",
      "1j*Z\n",
      "Z/1/1\n",
      "Z<Z>Z\n",
      "27\n",
      "4\n",
      "False\n",
      "3j\n",
      "3.0\n",
      "False\n"
     ]
    }
   ],
   "source": [
    "# !\n",
    "\n",
    "I = 3\n",
    "2 << I >> 2\n",
    "I <- I # = I < - I\n",
    "\n",
    "answer(27)\n",
    "Z = 3\n",
    "print(Z**Z)\n",
    "print(2 << Z >> 2)\n",
    "print(Z <- Z)\n",
    "print(1j*Z)\n",
    "print(Z/1/1)\n",
    "print(Z<Z>Z)"
   ]
  },
  {
   "cell_type": "markdown",
   "id": "77c8b8c7",
   "metadata": {},
   "source": [
    "#### 28. What are the result of the following expressions? (★☆☆)\n",
    "```python\n",
    "np.array(0) / np.array(0)\n",
    "np.array(0) // np.array(0)\n",
    "np.array([np.nan]).astype(int).astype(float)\n",
    "```"
   ]
  },
  {
   "cell_type": "code",
   "execution_count": 30,
   "id": "3b66fe44",
   "metadata": {},
   "outputs": [
    {
     "name": "stdout",
     "output_type": "stream",
     "text": [
      "nan\n",
      "0\n",
      "[-9.22337204e+18]\n"
     ]
    },
    {
     "name": "stderr",
     "output_type": "stream",
     "text": [
      "/tmp/ipykernel_515020/604574712.py:2: RuntimeWarning: invalid value encountered in divide\n",
      "  print(np.array(0) / np.array(0))\n",
      "/tmp/ipykernel_515020/604574712.py:3: RuntimeWarning: divide by zero encountered in floor_divide\n",
      "  print(np.array(0) // np.array(0))\n",
      "/tmp/ipykernel_515020/604574712.py:4: RuntimeWarning: invalid value encountered in cast\n",
      "  print(np.array([np.nan]).astype(int).astype(float))\n"
     ]
    }
   ],
   "source": [
    "# !\n",
    "print(np.array(0) / np.array(0))\n",
    "print(np.array(0) // np.array(0))\n",
    "print(np.array([np.nan]).astype(int).astype(float))"
   ]
  },
  {
   "cell_type": "markdown",
   "id": "1f3f0892",
   "metadata": {},
   "source": [
    "#### 29. How to round away from zero a float array ? (★☆☆)"
   ]
  },
  {
   "cell_type": "code",
   "execution_count": 31,
   "id": "8fce1bd7",
   "metadata": {},
   "outputs": [
    {
     "name": "stdout",
     "output_type": "stream",
     "text": [
      "# Author: Charles R Harris\n",
      "\n",
      "Z = np.random.uniform(-10,+10,10)\n",
      "print(np.copysign(np.ceil(np.abs(Z)), Z))\n",
      "\n",
      "# More readable but less efficient\n",
      "print(np.where(Z>0, np.ceil(Z), np.floor(Z)))\n"
     ]
    }
   ],
   "source": [
    "answer(29) # I don't understand the first answer"
   ]
  },
  {
   "cell_type": "markdown",
   "id": "53f47438",
   "metadata": {},
   "source": [
    "#### 30. How to find common values between two arrays? (★☆☆)"
   ]
  },
  {
   "cell_type": "code",
   "execution_count": 32,
   "id": "981db6ec",
   "metadata": {},
   "outputs": [
    {
     "name": "stdout",
     "output_type": "stream",
     "text": [
      "Z1 = np.random.randint(0,10,10)\n",
      "Z2 = np.random.randint(0,10,10)\n",
      "print(np.intersect1d(Z1,Z2))\n"
     ]
    }
   ],
   "source": [
    "answer(30) # ok !"
   ]
  },
  {
   "cell_type": "markdown",
   "id": "51cf9109",
   "metadata": {},
   "source": [
    "#### 31. How to ignore all numpy warnings (not recommended)? (★☆☆)"
   ]
  },
  {
   "cell_type": "code",
   "execution_count": 33,
   "id": "09ba7521",
   "metadata": {},
   "outputs": [],
   "source": [
    "# with np.errstate(all=\"ignore\"): # ! (that's a context manager)\n",
    "#     np.arange(3) / 0"
   ]
  },
  {
   "cell_type": "markdown",
   "id": "948a691b",
   "metadata": {},
   "source": [
    "#### 32. Is the following expressions true? (★☆☆)\n",
    "```python\n",
    "np.sqrt(-1) == np.emath.sqrt(-1)\n",
    "```"
   ]
  },
  {
   "cell_type": "code",
   "execution_count": 34,
   "id": "6d8f745b",
   "metadata": {},
   "outputs": [
    {
     "name": "stderr",
     "output_type": "stream",
     "text": [
      "/tmp/ipykernel_515020/3595560445.py:3: RuntimeWarning: invalid value encountered in sqrt\n",
      "  np.sqrt(-1) == np.emath.sqrt(-1)\n"
     ]
    },
    {
     "data": {
      "text/plain": [
       "np.False_"
      ]
     },
     "execution_count": 34,
     "metadata": {},
     "output_type": "execute_result"
    }
   ],
   "source": [
    "# I think so.\n",
    "\n",
    "np.sqrt(-1) == np.emath.sqrt(-1)\n",
    "\n",
    "# it's wrong ! why?\n",
    "\n",
    "# np.sqrt(-1) # floating number output (nan)\n",
    "# np.emath.sqrt(-1) # complex number output (1j)\n",
    "\n",
    "\n",
    "# 🧮 What is numpy.lib.scimath?\n",
    "# The module is officially called numpy.lib.scimath. It's often imported under the convenient alias np.emath. Its purpose is to provide versions of mathematical functions that behave more usefully when dealing with complex numbers than the standard NumPy functions.\n",
    "\n",
    "# The key difference is in how they handle inputs that would be invalid for real numbers. For example, what should the function do if you try to take the square root of a negative number?"
   ]
  },
  {
   "cell_type": "markdown",
   "id": "d1a8992e",
   "metadata": {},
   "source": [
    "#### 33. How to get the dates of yesterday, today and tomorrow? (★☆☆)"
   ]
  },
  {
   "cell_type": "code",
   "execution_count": 35,
   "id": "31a1ade2",
   "metadata": {},
   "outputs": [
    {
     "data": {
      "text/plain": [
       "np.datetime64('2025-10-06T08:01:52')"
      ]
     },
     "execution_count": 35,
     "metadata": {},
     "output_type": "execute_result"
    }
   ],
   "source": [
    "np.datetime64('now') # wow that's correct !\n",
    "np.datetime64('now') - np.timedelta64(1,'D') # yesterday\n",
    "np.datetime64('now') + np.timedelta64(1,'D') # tomorrow"
   ]
  },
  {
   "cell_type": "markdown",
   "id": "01378794",
   "metadata": {},
   "source": [
    "#### 34. How to get all the dates corresponding to the month of July 2016? (★★☆)"
   ]
  },
  {
   "cell_type": "code",
   "execution_count": 36,
   "id": "928c55c6",
   "metadata": {},
   "outputs": [
    {
     "name": "stdout",
     "output_type": "stream",
     "text": [
      "2016-07-01\n",
      "2016-07-02\n",
      "2016-07-03\n",
      "2016-07-04\n",
      "2016-07-05\n",
      "2016-07-06\n",
      "2016-07-07\n",
      "2016-07-08\n",
      "2016-07-09\n",
      "2016-07-10\n",
      "2016-07-11\n",
      "2016-07-12\n",
      "2016-07-13\n",
      "2016-07-14\n",
      "2016-07-15\n",
      "2016-07-16\n",
      "2016-07-17\n",
      "2016-07-18\n",
      "2016-07-19\n",
      "2016-07-20\n",
      "2016-07-21\n",
      "2016-07-22\n",
      "2016-07-23\n",
      "2016-07-24\n",
      "2016-07-25\n",
      "2016-07-26\n",
      "2016-07-27\n",
      "2016-07-28\n",
      "2016-07-29\n",
      "2016-07-30\n",
      "2016-07-31\n",
      "Z = np.arange('2016-07', '2016-08', dtype='datetime64[D]')\n",
      "print(Z)\n",
      "['2016-07-01' '2016-07-02' '2016-07-03' '2016-07-04' '2016-07-05'\n",
      " '2016-07-06' '2016-07-07' '2016-07-08' '2016-07-09' '2016-07-10'\n",
      " '2016-07-11' '2016-07-12' '2016-07-13' '2016-07-14' '2016-07-15'\n",
      " '2016-07-16' '2016-07-17' '2016-07-18' '2016-07-19' '2016-07-20'\n",
      " '2016-07-21' '2016-07-22' '2016-07-23' '2016-07-24' '2016-07-25'\n",
      " '2016-07-26' '2016-07-27' '2016-07-28' '2016-07-29' '2016-07-30'\n",
      " '2016-07-31']\n"
     ]
    }
   ],
   "source": [
    "first = np.datetime64('2016-07-01')\n",
    "while np.datetime64(first, 'M').astype(int) % 12 + 1 == 7:\n",
    "    print(first)\n",
    "    first+=np.timedelta64(1,'D')\n",
    "\n",
    "answer(34)\n",
    "\n",
    "dates = np.arange('2016-07', '2016-08', dtype='datetime64[D]') # the 'D' symbol is important here.\n",
    "print(dates)"
   ]
  },
  {
   "cell_type": "markdown",
   "id": "e3f8fe94",
   "metadata": {},
   "source": [
    "#### 35. How to compute ((A+B)*(-A/2)) in place (without copy)? (★★☆)"
   ]
  },
  {
   "cell_type": "code",
   "execution_count": 37,
   "id": "14e478d5",
   "metadata": {},
   "outputs": [
    {
     "name": "stdout",
     "output_type": "stream",
     "text": [
      "A = np.ones(3)*1\n",
      "B = np.ones(3)*2\n",
      "np.add(A,B,out=B)\n",
      "np.divide(A,2,out=A)\n",
      "np.negative(A,out=A)\n",
      "np.multiply(A,B,out=A)\n"
     ]
    }
   ],
   "source": [
    "# KEY LEARNING SUMMARY FROM NUMPY IN-PLACE OPERATIONS:\n",
    "\n",
    "# 1. MEMORY MANAGEMENT\n",
    "# - Normal operations (A + B) create new arrays each time\n",
    "# - In-place operations (A += B) modify existing arrays, saving memory\n",
    "A = np.array([1, 2, 3])\n",
    "B = np.array([4, 5, 6])\n",
    "C = A + B  # New array created: [5, 7, 9]\n",
    "A += B     # A modified in-place: [5, 7, 9] (no new array)\n",
    "\n",
    "# 2. OUT PARAMETER USAGE  \n",
    "# - np.add(A, B, out=result) stores result in pre-allocated memory\n",
    "result = np.empty_like(A)\n",
    "np.add(A, B, out=result)  # result = [5, 7, 9] (no temporary)\n",
    "np.add(A, B, out=A)       # A = [5, 7, 9] (overwrite original)\n",
    "\n",
    "# 3. OPERATORS VS FUNCTIONS\n",
    "# - Operators for simplicity, functions for control\n",
    "C = A * B                    # Simple: [20, 35, 54]  \n",
    "np.multiply(A, B, out=A)     # Controlled: A = [20, 35, 54]\n",
    "np.multiply(A, B, where=[True,False,True])  # Conditional\n",
    "\n",
    "# 4. TEMPORARY VARIABLE STRATEGY\n",
    "# - One copy avoids multiple intermediates\n",
    "A = np.array([1, 2, 3], dtype=float); B = np.array([4, 5, 6])\n",
    "temp = A.astype(float)     # temp = [1, 2, 3] # without the .astype() -> the expression (Temp = A) will create an alias not a copy and when you multiply it by a fraction (.5) it will raise an error\n",
    "A += B              # A = [5, 7, 9] \n",
    "temp *= -0.5        # temp = [-0.5, -1, -1.5]\n",
    "A *= temp           # A = [-2.5, -7, -13.5] (only 3 arrays total)\n",
    "\n",
    "# 5. EXPRESSION EXECUTION FLOW\n",
    "# - Complex expressions create hidden temporaries\n",
    "result = ((A + B) * (-A / 2))\n",
    "# Actually creates: temp1=A+B, temp2=-A, temp3=temp2/2, result=temp1*temp3\n",
    "# Total: 4 new arrays instead of 1!\n",
    "\n",
    "# 6. EINSTEIN SUMMATION (EINSUM)\n",
    "# - Compact notation for complex operations\n",
    "A = np.array([[1, 2], [3, 4]])\n",
    "B = np.array([[5, 6], [7, 8]])\n",
    "result = np.einsum('ij,jk->ik', A, B)  # Matrix multiplication: [[19, 22], [43, 50]]\n",
    "\n",
    "# 7. PERFORMANCE TRADEOFFS\n",
    "# - Readable code vs Memory efficiency\n",
    "# result = A + B - C * D  # Readable but creates 3 temporaries\n",
    "# vs\n",
    "# result = A.copy(); result += B; temp = C.copy(); temp *= D; result -= temp  # Efficient but complex\n",
    "\n",
    "answer(35)"
   ]
  },
  {
   "cell_type": "markdown",
   "id": "5c4d58c9",
   "metadata": {},
   "source": [
    "#### 36. Extract the integer part of a random array of positive numbers using 4 different methods (★★☆)"
   ]
  },
  {
   "cell_type": "code",
   "execution_count": 38,
   "id": "586beded",
   "metadata": {},
   "outputs": [
    {
     "name": "stdout",
     "output_type": "stream",
     "text": [
      "[3. 5. 7. 8. 4. 3. 8. 5. 1. 8.]\n",
      "[3. 5. 7. 8. 4. 3. 8. 5. 1. 8.]\n",
      "[3. 5. 7. 8. 4. 3. 8. 5. 1. 8.]\n",
      "[3. 5. 7. 8. 4. 3. 8. 5. 1. 8.]\n",
      "[3 5 7 8 4 3 8 5 1 8]\n",
      "[3.02552607 5.98468179 7.94333511 8.11380112 4.51639871 3.22884281\n",
      " 8.91809649 5.44207976 1.46000817 8.08143416]\n",
      "Z = np.random.uniform(0,10,10)\n",
      "\n",
      "print(Z - Z%1)\n",
      "print(Z // 1)\n",
      "print(np.floor(Z))\n",
      "print(Z.astype(int))\n",
      "print(np.trunc(Z))\n"
     ]
    }
   ],
   "source": [
    "arr = np.random.uniform(0,10, 10)\n",
    "print((arr//1))\n",
    "print(np.floor(arr))\n",
    "print(np.trunc(arr))\n",
    "print((arr - arr%1))\n",
    "print(arr.astype(int))\n",
    "print(arr)\n",
    "\n",
    "answer(36)"
   ]
  },
  {
   "cell_type": "markdown",
   "id": "62628653",
   "metadata": {},
   "source": [
    "#### 37. Create a 5x5 matrix with row values ranging from 0 to 4 (★★☆)"
   ]
  },
  {
   "cell_type": "code",
   "execution_count": 39,
   "id": "e57763b3",
   "metadata": {},
   "outputs": [
    {
     "name": "stdout",
     "output_type": "stream",
     "text": [
      "[[0. 1. 2. 3. 4.]\n",
      " [0. 1. 2. 3. 4.]\n",
      " [0. 1. 2. 3. 4.]\n",
      " [0. 1. 2. 3. 4.]\n",
      " [0. 1. 2. 3. 4.]]\n",
      "Z = np.zeros((5,5))\n",
      "Z += np.arange(5)\n",
      "print(Z)\n",
      "\n",
      "# without broadcasting\n",
      "Z = np.tile(np.arange(0, 5), (5,1))\n",
      "print(Z)\n",
      "[[0. 1. 2. 3. 4.]\n",
      " [0. 1. 2. 3. 4.]\n",
      " [0. 1. 2. 3. 4.]\n",
      " [0. 1. 2. 3. 4.]\n",
      " [0. 1. 2. 3. 4.]]\n",
      "##########\n",
      "[[0 1 2 3 4]\n",
      " [0 1 2 3 4]\n",
      " [0 1 2 3 4]\n",
      " [0 1 2 3 4]\n",
      " [0 1 2 3 4]]\n"
     ]
    }
   ],
   "source": [
    "print(np.ones([5,5]) * np.arange(5)) \n",
    "\n",
    "\n",
    "answer(37)\n",
    "\n",
    "print(np.zeros([5,5]) + np.arange(5)) # just like my solution\n",
    "print(10*'#')\n",
    "print(np.tile(np.arange(5), [5,1]))\n",
    "\n",
    "# both np.ones, np.zeros produce floating point numbers"
   ]
  },
  {
   "cell_type": "markdown",
   "id": "d3d46d64",
   "metadata": {},
   "source": [
    "#### 38. Consider a generator function that generates 10 integers and use it to build an array (★☆☆)"
   ]
  },
  {
   "cell_type": "code",
   "execution_count": 40,
   "id": "24590d8c",
   "metadata": {},
   "outputs": [
    {
     "name": "stdout",
     "output_type": "stream",
     "text": [
      "[0. 1. 2. 3. 4. 5. 6. 7. 8. 9.]\n",
      "def generate():\n",
      "    for x in range(10):\n",
      "        yield x\n",
      "Z = np.fromiter(generate(),dtype=float,count=-1)\n",
      "print(Z)\n"
     ]
    }
   ],
   "source": [
    "def fun():\n",
    "    for i in range(10):\n",
    "        yield i\n",
    "# np.array(fun()) # that's wrong\n",
    "\n",
    "print(np.fromiter(fun(), dtype=float)) # adding \", count=-1\" doesn't affect the result?\n",
    "\n",
    "answer(38)"
   ]
  },
  {
   "cell_type": "markdown",
   "id": "5e1e51e4",
   "metadata": {},
   "source": [
    "#### 39. Create a vector of size 10 with values ranging from 0 to 1, both excluded (★★☆)"
   ]
  },
  {
   "cell_type": "code",
   "execution_count": 41,
   "id": "def73884",
   "metadata": {},
   "outputs": [
    {
     "name": "stdout",
     "output_type": "stream",
     "text": [
      "[0.85377128 0.99099821 0.33624922 0.06541582 0.69163416 0.49878551\n",
      " 0.40017859 0.91683204 0.32695294 0.42486525]\n",
      "Z = np.linspace(0,1,11,endpoint=False)[1:]\n",
      "print(Z)\n",
      "[0.09090909 0.18181818 0.27272727 0.36363636 0.45454545 0.54545455\n",
      " 0.63636364 0.72727273 0.81818182 0.90909091]\n",
      "[0.09090909 0.18181818 0.27272727 0.36363636 0.45454545 0.54545455\n",
      " 0.63636364 0.72727273 0.81818182 0.90909091]\n"
     ]
    }
   ],
   "source": [
    "print(np.random.uniform(0,1, 10)) # is this actually excluding 0, 1 ?\n",
    "\n",
    "answer(39)\n",
    "\n",
    "print(np.linspace(0,1,11, endpoint=False)[1:])\n",
    "# linspace produces an array that have equal difference between its consequetive elements\n",
    "# the endpoint=False part is for excluding the \"1\" from the array\n",
    "# the [1:] part is for excluding the \"0\" and therefore we need another element to make them = 10 elements so we produce 11.\n",
    "\n",
    "print(np.linspace(0,1,12)[1:-1]) # the same result as above"
   ]
  },
  {
   "cell_type": "markdown",
   "id": "9e19964c",
   "metadata": {},
   "source": [
    "#### 40. Create a random vector of size 10 and sort it (★★☆)"
   ]
  },
  {
   "cell_type": "code",
   "execution_count": 42,
   "id": "ec302eb1",
   "metadata": {},
   "outputs": [
    {
     "name": "stdout",
     "output_type": "stream",
     "text": [
      "[0.03083735 0.03667817 0.09669425 0.10221864 0.15532864 0.18004099\n",
      " 0.32983835 0.352561   0.49249289 0.79312163]\n",
      "[0.03103105 0.05143477 0.12882467 0.16073008 0.21170144 0.24235983\n",
      " 0.26616485 0.43007777 0.52412383 0.81702645]\n",
      "Z = np.random.random(10)\n",
      "Z.sort()\n",
      "print(Z)\n"
     ]
    }
   ],
   "source": [
    "r = np.random.rand(10); r.sort(); print(r)  # in place sorting\n",
    "\n",
    "print( np.sort( np.random.rand(10) ) ) # returns a new sorted array\n",
    "\n",
    "# # np.argsort() - Returns indices that would sort array\n",
    "# indices = np.argsort(arr)                    # [1, 3, 6, 0, 2, 4, 5]\n",
    "# sorted_via_indices = arr[indices]            # Same as np.sort(arr)\n",
    "\n",
    "\n",
    "# # Sort entire array flattened\n",
    "# flat_sorted = np.sort(arr_2d, axis=None)     # [1, 1, 2, 3, 4, 5, 5, 6, 9]\n",
    "\n",
    "answer(40)"
   ]
  },
  {
   "cell_type": "markdown",
   "id": "13a034e2",
   "metadata": {},
   "source": [
    "#### 41. How to sum a small array faster than np.sum? (★★☆)"
   ]
  },
  {
   "cell_type": "code",
   "execution_count": 43,
   "id": "b09a3551",
   "metadata": {},
   "outputs": [
    {
     "name": "stdout",
     "output_type": "stream",
     "text": [
      "# Author: Evgeni Burovski\n",
      "\n",
      "Z = np.arange(10)\n",
      "np.add.reduce(Z)\n",
      "##########\n",
      "16\n"
     ]
    }
   ],
   "source": [
    "# I don't know !\n",
    "\n",
    "answer(41)\n",
    "print('#'*10)\n",
    "print( np.add.reduce([3,10,3]) ) "
   ]
  },
  {
   "cell_type": "markdown",
   "id": "32d10473",
   "metadata": {},
   "source": [
    "#### 42. Consider two random arrays A and B, check if they are equal (★★☆)"
   ]
  },
  {
   "cell_type": "code",
   "execution_count": 44,
   "id": "5ebb1103",
   "metadata": {},
   "outputs": [
    {
     "name": "stdout",
     "output_type": "stream",
     "text": [
      "[False False False False False False False False False False]\n",
      "##########\n",
      "A = np.random.randint(0,2,5)\n",
      "B = np.random.randint(0,2,5)\n",
      "\n",
      "# Assuming identical shape of the arrays and a tolerance for the comparison of values\n",
      "equal = np.allclose(A,B)\n",
      "print(equal)\n",
      "\n",
      "# Checking both the shape and the element values, no tolerance (values have to be exactly equal)\n",
      "equal = np.array_equal(A,B)\n",
      "print(equal)\n",
      "False\n",
      "False\n"
     ]
    }
   ],
   "source": [
    "a = np.random.rand(10)\n",
    "b = np.random.rand(10)\n",
    "\n",
    "print( a == b )\n",
    "print('#'*10)\n",
    "\n",
    "answer(42)\n",
    "\n",
    "print( np.allclose(a,b) )\n",
    "\n",
    "print( np.array_equal(a,b) )"
   ]
  },
  {
   "cell_type": "markdown",
   "id": "a50474b0",
   "metadata": {},
   "source": [
    "#### 43. Make an array immutable (read-only) (★★☆)"
   ]
  },
  {
   "cell_type": "code",
   "execution_count": 45,
   "id": "db6fe176",
   "metadata": {},
   "outputs": [
    {
     "name": "stdout",
     "output_type": "stream",
     "text": [
      "Z = np.zeros(10)\n",
      "Z.flags.writeable = False\n",
      "Z[0] = 1\n"
     ]
    }
   ],
   "source": [
    "# what ?\n",
    "\n",
    "# for more about the topic: https://note.nkmk.me/en/python-numpy-ndarray-immutable-read-only/\n",
    "\n",
    "answer(43)\n",
    "\n",
    "# another way = \n",
    "# z = np.zeros(10)\n",
    "# z.setflags(write=False)\n",
    "# z[1] = 1"
   ]
  },
  {
   "cell_type": "markdown",
   "id": "b7a6093e",
   "metadata": {},
   "source": [
    "#### 44. Consider a random 10x2 matrix representing cartesian coordinates, convert them to polar coordinates (★★☆)"
   ]
  },
  {
   "cell_type": "code",
   "execution_count": 46,
   "id": "4479c48d",
   "metadata": {},
   "outputs": [
    {
     "name": "stdout",
     "output_type": "stream",
     "text": [
      "[[4 5]\n",
      " [3 5]\n",
      " [0 5]\n",
      " [4 2]\n",
      " [5 3]\n",
      " [5 9]\n",
      " [8 2]\n",
      " [6 5]\n",
      " [8 5]\n",
      " [4 2]]\n",
      "##########\n",
      "Z = np.random.random((10,2))\n",
      "X,Y = Z[:,0], Z[:,1]\n",
      "R = np.sqrt(X**2+Y**2)\n",
      "T = np.arctan2(Y,X)\n",
      "print(R)\n",
      "print(T)\n"
     ]
    }
   ],
   "source": [
    "original = np.random.randint(10, size=[10,2])\n",
    "print(original)\n",
    "print('#'*10)\n",
    "\n",
    "# useful: https://github.com/numpy/numpy/issues/5228\n",
    "\n",
    "# for example: \n",
    "\n",
    "# def cart2pol(x, y):\n",
    "#     \"\"\"Converts Cartesian coordinates to polar coordinates.\"\"\"\n",
    "#     rho = np.hypot(x, y)\n",
    "#     phi = np.arctan2(y, x)\n",
    "#     return rho, phi\n",
    "\n",
    "# def pol2cart(rho, phi):\n",
    "#     \"\"\"Converts polar coordinates to Cartesian coordinates.\"\"\"\n",
    "#     x = rho * np.cos(phi)\n",
    "#     y = rho * np.sin(phi)\n",
    "#     return x, y\n",
    "\n",
    "# print(original[:,1]) # getting all the rows but only the second column (number: 1)\n",
    "# we use arctan2 not arctan because it have better handling for dividing by zero issues\n",
    "\n",
    "answer(44)"
   ]
  },
  {
   "cell_type": "markdown",
   "id": "934f889c",
   "metadata": {},
   "source": [
    "#### 45. Create random vector of size 10 and replace the maximum value by 0 (★★☆)"
   ]
  },
  {
   "cell_type": "code",
   "execution_count": 47,
   "id": "4b576814",
   "metadata": {},
   "outputs": [
    {
     "name": "stdout",
     "output_type": "stream",
     "text": [
      "[7 7 3 8 4 2 3 5 6 7]\n",
      "##########\n",
      "[7 7 3 0 4 2 3 5 6 7]\n",
      "Z = np.random.random(10)\n",
      "Z[Z.argmax()] = 0\n",
      "print(Z)\n"
     ]
    }
   ],
   "source": [
    "arr = np.random.randint(10,size=[10])\n",
    "print(arr)\n",
    "print('#'*10)\n",
    "\n",
    "arr[ np.where(arr == arr.max())[0] ] = 0\n",
    "\n",
    "print(arr)\n",
    "\n",
    "answer(45)\n",
    "\n",
    "# so, arr.argmax() = np.where(arr == arr.max())[0]"
   ]
  },
  {
   "cell_type": "markdown",
   "id": "d4f6e2e1",
   "metadata": {},
   "source": [
    "#### 46. Create a structured array with `x` and `y` coordinates covering the [0,1]x[0,1] area (★★☆)"
   ]
  },
  {
   "cell_type": "code",
   "execution_count": 48,
   "id": "f90f969b",
   "metadata": {},
   "outputs": [
    {
     "name": "stdout",
     "output_type": "stream",
     "text": [
      "[[0 0]\n",
      " [0 1]\n",
      " [1 0]\n",
      " [1 1]]\n",
      "Z = np.zeros((5,5), [('x',float),('y',float)])\n",
      "Z['x'], Z['y'] = np.meshgrid(np.linspace(0,1,5),\n",
      "                             np.linspace(0,1,5))\n",
      "print(Z)\n",
      "[[(0., 0.) (0., 0.) (0., 0.) (0., 0.) (0., 0.)]\n",
      " [(0., 0.) (0., 0.) (0., 0.) (0., 0.) (0., 0.)]\n",
      " [(0., 0.) (0., 0.) (0., 0.) (0., 0.) (0., 0.)]\n",
      " [(0., 0.) (0., 0.) (0., 0.) (0., 0.) (0., 0.)]\n",
      " [(0., 0.) (0., 0.) (0., 0.) (0., 0.) (0., 0.)]]\n",
      "[[0. 0. 0. 0. 0.]\n",
      " [0. 0. 0. 0. 0.]\n",
      " [0. 0. 0. 0. 0.]\n",
      " [0. 0. 0. 0. 0.]\n",
      " [0. 0. 0. 0. 0.]]\n",
      "[[0. 0. 0. 0. 0.]\n",
      " [0. 0. 0. 0. 0.]\n",
      " [0. 0. 0. 0. 0.]\n",
      " [0. 0. 0. 0. 0.]\n",
      " [0. 0. 0. 0. 0.]]\n",
      "##########\n",
      "[[(0.  , 0.  ) (0.25, 0.  ) (0.5 , 0.  ) (0.75, 0.  ) (1.  , 0.  )]\n",
      " [(0.  , 0.25) (0.25, 0.25) (0.5 , 0.25) (0.75, 0.25) (1.  , 0.25)]\n",
      " [(0.  , 0.5 ) (0.25, 0.5 ) (0.5 , 0.5 ) (0.75, 0.5 ) (1.  , 0.5 )]\n",
      " [(0.  , 0.75) (0.25, 0.75) (0.5 , 0.75) (0.75, 0.75) (1.  , 0.75)]\n",
      " [(0.  , 1.  ) (0.25, 1.  ) (0.5 , 1.  ) (0.75, 1.  ) (1.  , 1.  )]]\n",
      "[[0.   0.25 0.5  0.75 1.  ]\n",
      " [0.   0.25 0.5  0.75 1.  ]\n",
      " [0.   0.25 0.5  0.75 1.  ]\n",
      " [0.   0.25 0.5  0.75 1.  ]\n",
      " [0.   0.25 0.5  0.75 1.  ]]\n",
      "[[0.   0.   0.   0.   0.  ]\n",
      " [0.25 0.25 0.25 0.25 0.25]\n",
      " [0.5  0.5  0.5  0.5  0.5 ]\n",
      " [0.75 0.75 0.75 0.75 0.75]\n",
      " [1.   1.   1.   1.   1.  ]]\n"
     ]
    }
   ],
   "source": [
    "arr = np.array([[0,0], [0,1], [1,0], [1,1]])\n",
    "print(arr)\n",
    "\n",
    "answer(46)\n",
    "\n",
    "arr = np.zeros((5,5), [('x', float), ('y', float)]) # naming columns - that's a structured array!\n",
    "print(arr)\n",
    "print(arr['x'], arr['y'], sep='\\n')\n",
    "print('#'*10)\n",
    "\n",
    "arr['x'], arr['y'] = np.meshgrid(np.linspace(0,1,5), np.linspace(0,1,5)) # creating all possible combinations between the two 1D arrays (np.linspace) to create one 2D array.\n",
    "\n",
    "print(arr)\n",
    "print(arr['x'], arr['y'], sep='\\n')\n",
    "\n",
    "\n",
    "# first, the question can be solved without specifying exactly 5 points in each direction but OK !\n",
    "# second, I've learned that I can name columns for a numpy array !\n",
    "# third, the 'meshgrid' function can be used to create a 2D array with all possbile combinations between two 1D arrays."
   ]
  },
  {
   "cell_type": "markdown",
   "id": "bc9c88d3",
   "metadata": {},
   "source": [
    "#### 47. Given two arrays, X and Y, construct the Cauchy matrix C (Cij =1/(xi - yj)) (★★☆)"
   ]
  },
  {
   "cell_type": "code",
   "execution_count": 49,
   "id": "e90ad595",
   "metadata": {},
   "outputs": [
    {
     "name": "stdout",
     "output_type": "stream",
     "text": [
      "[[-0.33333333 -0.5        -1.        ]\n",
      " [-0.25       -0.33333333 -0.5       ]\n",
      " [-0.2        -0.25       -0.33333333]]\n",
      "##########\n",
      "# Author: Evgeni Burovski\n",
      "\n",
      "X = np.arange(8)\n",
      "Y = X + 0.5\n",
      "C = 1.0 / np.subtract.outer(X, Y)\n",
      "print(np.linalg.det(C))\n",
      "[1 2 3] [4 5 6]\n",
      "[[-0.33333333 -0.25       -0.2       ]\n",
      " [-0.5        -0.33333333 -0.25      ]\n",
      " [-1.         -0.5        -0.33333333]]\n",
      "0.00046296296296296146\n"
     ]
    }
   ],
   "source": [
    "x = np.array([1,2,3])\n",
    "y = np.array([4,5,6])\n",
    "\n",
    "\n",
    "C = np.zeros((3,3), [('x', float), ('y', float)])\n",
    "C['x'], C['y'] = np.meshgrid(x,y)\n",
    "C = 1 / (C['x'] - C['y'])\n",
    "print(C, '#'*10, sep='\\n')\n",
    "\n",
    "answer(47)\n",
    "\n",
    "X = np.array([1,2,3])\n",
    "Y = np.array([4,5,6])\n",
    "print(X,Y)\n",
    "C = 1.0 / np.subtract.outer(X, Y)\n",
    "print(C)\n",
    "print(np.linalg.det(C))"
   ]
  },
  {
   "cell_type": "markdown",
   "id": "a840a52f",
   "metadata": {},
   "source": [
    "#### 48. Print the minimum and maximum representable values for each numpy scalar type (★★☆)"
   ]
  },
  {
   "cell_type": "code",
   "execution_count": 50,
   "id": "d2eb3b4a",
   "metadata": {},
   "outputs": [
    {
     "name": "stdout",
     "output_type": "stream",
     "text": [
      "for dtype in [np.int8, np.int32, np.int64]:\n",
      "   print(np.iinfo(dtype).min)\n",
      "   print(np.iinfo(dtype).max)\n",
      "for dtype in [np.float32, np.float64]:\n",
      "   print(np.finfo(dtype).min)\n",
      "   print(np.finfo(dtype).max)\n",
      "   print(np.finfo(dtype).eps)\n",
      "Machine parameters for int8\n",
      "---------------------------------------------------------------\n",
      "min = -128\n",
      "max = 127\n",
      "---------------------------------------------------------------\n",
      "\n",
      "Machine parameters for int16\n",
      "---------------------------------------------------------------\n",
      "min = -32768\n",
      "max = 32767\n",
      "---------------------------------------------------------------\n",
      "\n",
      "Machine parameters for int32\n",
      "---------------------------------------------------------------\n",
      "min = -2147483648\n",
      "max = 2147483647\n",
      "---------------------------------------------------------------\n",
      "\n",
      "Machine parameters for int64\n",
      "---------------------------------------------------------------\n",
      "min = -9223372036854775808\n",
      "max = 9223372036854775807\n",
      "---------------------------------------------------------------\n",
      "\n",
      "Machine parameters for uint8\n",
      "---------------------------------------------------------------\n",
      "min = 0\n",
      "max = 255\n",
      "---------------------------------------------------------------\n",
      "\n",
      "Machine parameters for uint16\n",
      "---------------------------------------------------------------\n",
      "min = 0\n",
      "max = 65535\n",
      "---------------------------------------------------------------\n",
      "\n",
      "Machine parameters for uint32\n",
      "---------------------------------------------------------------\n",
      "min = 0\n",
      "max = 4294967295\n",
      "---------------------------------------------------------------\n",
      "\n",
      "Machine parameters for uint64\n",
      "---------------------------------------------------------------\n",
      "min = 0\n",
      "max = 18446744073709551615\n",
      "---------------------------------------------------------------\n",
      "\n",
      "Machine parameters for float16\n",
      "---------------------------------------------------------------\n",
      "precision =   3   resolution = 1.00040e-03\n",
      "machep =    -10   eps =        9.76562e-04\n",
      "negep =     -11   epsneg =     4.88281e-04\n",
      "minexp =    -14   tiny =       6.10352e-05\n",
      "maxexp =     16   max =        6.55040e+04\n",
      "nexp =        5   min =        -max\n",
      "smallest_normal = 6.10352e-05   smallest_subnormal = 5.96046e-08\n",
      "---------------------------------------------------------------\n",
      "\n",
      "Machine parameters for float32\n",
      "---------------------------------------------------------------\n",
      "precision =   6   resolution = 1.0000000e-06\n",
      "machep =    -23   eps =        1.1920929e-07\n",
      "negep =     -24   epsneg =     5.9604645e-08\n",
      "minexp =   -126   tiny =       1.1754944e-38\n",
      "maxexp =    128   max =        3.4028235e+38\n",
      "nexp =        8   min =        -max\n",
      "smallest_normal = 1.1754944e-38   smallest_subnormal = 1.4012985e-45\n",
      "---------------------------------------------------------------\n",
      "\n",
      "Machine parameters for float64\n",
      "---------------------------------------------------------------\n",
      "precision =  15   resolution = 1.0000000000000001e-15\n",
      "machep =    -52   eps =        2.2204460492503131e-16\n",
      "negep =     -53   epsneg =     1.1102230246251565e-16\n",
      "minexp =  -1022   tiny =       2.2250738585072014e-308\n",
      "maxexp =   1024   max =        1.7976931348623157e+308\n",
      "nexp =       11   min =        -max\n",
      "smallest_normal = 2.2250738585072014e-308   smallest_subnormal = 4.9406564584124654e-324\n",
      "---------------------------------------------------------------\n",
      "\n",
      "9223372036854775807\n",
      "18446744073709551615\n"
     ]
    }
   ],
   "source": [
    "answer(48)\n",
    "\n",
    "types = [np.int8, np.int16, np.int32, np.int64, np.uint8, np.uint16, np.uint32, np.uint64]\n",
    "types_f = [np.float16, np.float32, np.float64]\n",
    "for dtype in types:\n",
    "    print(np.iinfo(dtype))\n",
    "for dtype in types_f:\n",
    "    print(np.finfo(dtype))\n",
    "    \n",
    "print(np.iinfo(np.intp).max, np.iinfo(np.uintp).max, sep='\\n')"
   ]
  },
  {
   "cell_type": "markdown",
   "id": "0a0819d5",
   "metadata": {},
   "source": [
    "#### 49. How to print all the values of an array? (★★☆)"
   ]
  },
  {
   "cell_type": "code",
   "execution_count": 51,
   "id": "d76dbf55",
   "metadata": {},
   "outputs": [
    {
     "name": "stdout",
     "output_type": "stream",
     "text": [
      "[[0. 0. 0. ... 0. 0. 0.]\n",
      " [0. 0. 0. ... 0. 0. 0.]\n",
      " [0. 0. 0. ... 0. 0. 0.]\n",
      " ...\n",
      " [0. 0. 0. ... 0. 0. 0.]\n",
      " [0. 0. 0. ... 0. 0. 0.]\n",
      " [0. 0. 0. ... 0. 0. 0.]]\n",
      "np.set_printoptions(threshold=float(\"inf\"))\n",
      "Z = np.zeros((40,40))\n",
      "print(Z)\n"
     ]
    }
   ],
   "source": [
    "print(np.zeros([40,40])) # the default threshold is 1000\n",
    "\n",
    "answer(49)"
   ]
  },
  {
   "cell_type": "code",
   "execution_count": 52,
   "id": "535e3568",
   "metadata": {},
   "outputs": [
    {
     "name": "stdout",
     "output_type": "stream",
     "text": [
      "[[0. 0. 0. 0. 0. 0. 0. 0. 0. 0. 0. 0. 0. 0. 0. 0. 0. 0. 0. 0. 0. 0. 0. 0.\n",
      "  0. 0. 0. 0. 0. 0. 0. 0. 0. 0. 0. 0. 0. 0. 0. 0.]\n",
      " [0. 0. 0. 0. 0. 0. 0. 0. 0. 0. 0. 0. 0. 0. 0. 0. 0. 0. 0. 0. 0. 0. 0. 0.\n",
      "  0. 0. 0. 0. 0. 0. 0. 0. 0. 0. 0. 0. 0. 0. 0. 0.]\n",
      " [0. 0. 0. 0. 0. 0. 0. 0. 0. 0. 0. 0. 0. 0. 0. 0. 0. 0. 0. 0. 0. 0. 0. 0.\n",
      "  0. 0. 0. 0. 0. 0. 0. 0. 0. 0. 0. 0. 0. 0. 0. 0.]\n",
      " [0. 0. 0. 0. 0. 0. 0. 0. 0. 0. 0. 0. 0. 0. 0. 0. 0. 0. 0. 0. 0. 0. 0. 0.\n",
      "  0. 0. 0. 0. 0. 0. 0. 0. 0. 0. 0. 0. 0. 0. 0. 0.]\n",
      " [0. 0. 0. 0. 0. 0. 0. 0. 0. 0. 0. 0. 0. 0. 0. 0. 0. 0. 0. 0. 0. 0. 0. 0.\n",
      "  0. 0. 0. 0. 0. 0. 0. 0. 0. 0. 0. 0. 0. 0. 0. 0.]\n",
      " [0. 0. 0. 0. 0. 0. 0. 0. 0. 0. 0. 0. 0. 0. 0. 0. 0. 0. 0. 0. 0. 0. 0. 0.\n",
      "  0. 0. 0. 0. 0. 0. 0. 0. 0. 0. 0. 0. 0. 0. 0. 0.]\n",
      " [0. 0. 0. 0. 0. 0. 0. 0. 0. 0. 0. 0. 0. 0. 0. 0. 0. 0. 0. 0. 0. 0. 0. 0.\n",
      "  0. 0. 0. 0. 0. 0. 0. 0. 0. 0. 0. 0. 0. 0. 0. 0.]\n",
      " [0. 0. 0. 0. 0. 0. 0. 0. 0. 0. 0. 0. 0. 0. 0. 0. 0. 0. 0. 0. 0. 0. 0. 0.\n",
      "  0. 0. 0. 0. 0. 0. 0. 0. 0. 0. 0. 0. 0. 0. 0. 0.]\n",
      " [0. 0. 0. 0. 0. 0. 0. 0. 0. 0. 0. 0. 0. 0. 0. 0. 0. 0. 0. 0. 0. 0. 0. 0.\n",
      "  0. 0. 0. 0. 0. 0. 0. 0. 0. 0. 0. 0. 0. 0. 0. 0.]\n",
      " [0. 0. 0. 0. 0. 0. 0. 0. 0. 0. 0. 0. 0. 0. 0. 0. 0. 0. 0. 0. 0. 0. 0. 0.\n",
      "  0. 0. 0. 0. 0. 0. 0. 0. 0. 0. 0. 0. 0. 0. 0. 0.]\n",
      " [0. 0. 0. 0. 0. 0. 0. 0. 0. 0. 0. 0. 0. 0. 0. 0. 0. 0. 0. 0. 0. 0. 0. 0.\n",
      "  0. 0. 0. 0. 0. 0. 0. 0. 0. 0. 0. 0. 0. 0. 0. 0.]\n",
      " [0. 0. 0. 0. 0. 0. 0. 0. 0. 0. 0. 0. 0. 0. 0. 0. 0. 0. 0. 0. 0. 0. 0. 0.\n",
      "  0. 0. 0. 0. 0. 0. 0. 0. 0. 0. 0. 0. 0. 0. 0. 0.]\n",
      " [0. 0. 0. 0. 0. 0. 0. 0. 0. 0. 0. 0. 0. 0. 0. 0. 0. 0. 0. 0. 0. 0. 0. 0.\n",
      "  0. 0. 0. 0. 0. 0. 0. 0. 0. 0. 0. 0. 0. 0. 0. 0.]\n",
      " [0. 0. 0. 0. 0. 0. 0. 0. 0. 0. 0. 0. 0. 0. 0. 0. 0. 0. 0. 0. 0. 0. 0. 0.\n",
      "  0. 0. 0. 0. 0. 0. 0. 0. 0. 0. 0. 0. 0. 0. 0. 0.]\n",
      " [0. 0. 0. 0. 0. 0. 0. 0. 0. 0. 0. 0. 0. 0. 0. 0. 0. 0. 0. 0. 0. 0. 0. 0.\n",
      "  0. 0. 0. 0. 0. 0. 0. 0. 0. 0. 0. 0. 0. 0. 0. 0.]\n",
      " [0. 0. 0. 0. 0. 0. 0. 0. 0. 0. 0. 0. 0. 0. 0. 0. 0. 0. 0. 0. 0. 0. 0. 0.\n",
      "  0. 0. 0. 0. 0. 0. 0. 0. 0. 0. 0. 0. 0. 0. 0. 0.]\n",
      " [0. 0. 0. 0. 0. 0. 0. 0. 0. 0. 0. 0. 0. 0. 0. 0. 0. 0. 0. 0. 0. 0. 0. 0.\n",
      "  0. 0. 0. 0. 0. 0. 0. 0. 0. 0. 0. 0. 0. 0. 0. 0.]\n",
      " [0. 0. 0. 0. 0. 0. 0. 0. 0. 0. 0. 0. 0. 0. 0. 0. 0. 0. 0. 0. 0. 0. 0. 0.\n",
      "  0. 0. 0. 0. 0. 0. 0. 0. 0. 0. 0. 0. 0. 0. 0. 0.]\n",
      " [0. 0. 0. 0. 0. 0. 0. 0. 0. 0. 0. 0. 0. 0. 0. 0. 0. 0. 0. 0. 0. 0. 0. 0.\n",
      "  0. 0. 0. 0. 0. 0. 0. 0. 0. 0. 0. 0. 0. 0. 0. 0.]\n",
      " [0. 0. 0. 0. 0. 0. 0. 0. 0. 0. 0. 0. 0. 0. 0. 0. 0. 0. 0. 0. 0. 0. 0. 0.\n",
      "  0. 0. 0. 0. 0. 0. 0. 0. 0. 0. 0. 0. 0. 0. 0. 0.]\n",
      " [0. 0. 0. 0. 0. 0. 0. 0. 0. 0. 0. 0. 0. 0. 0. 0. 0. 0. 0. 0. 0. 0. 0. 0.\n",
      "  0. 0. 0. 0. 0. 0. 0. 0. 0. 0. 0. 0. 0. 0. 0. 0.]\n",
      " [0. 0. 0. 0. 0. 0. 0. 0. 0. 0. 0. 0. 0. 0. 0. 0. 0. 0. 0. 0. 0. 0. 0. 0.\n",
      "  0. 0. 0. 0. 0. 0. 0. 0. 0. 0. 0. 0. 0. 0. 0. 0.]\n",
      " [0. 0. 0. 0. 0. 0. 0. 0. 0. 0. 0. 0. 0. 0. 0. 0. 0. 0. 0. 0. 0. 0. 0. 0.\n",
      "  0. 0. 0. 0. 0. 0. 0. 0. 0. 0. 0. 0. 0. 0. 0. 0.]\n",
      " [0. 0. 0. 0. 0. 0. 0. 0. 0. 0. 0. 0. 0. 0. 0. 0. 0. 0. 0. 0. 0. 0. 0. 0.\n",
      "  0. 0. 0. 0. 0. 0. 0. 0. 0. 0. 0. 0. 0. 0. 0. 0.]\n",
      " [0. 0. 0. 0. 0. 0. 0. 0. 0. 0. 0. 0. 0. 0. 0. 0. 0. 0. 0. 0. 0. 0. 0. 0.\n",
      "  0. 0. 0. 0. 0. 0. 0. 0. 0. 0. 0. 0. 0. 0. 0. 0.]\n",
      " [0. 0. 0. 0. 0. 0. 0. 0. 0. 0. 0. 0. 0. 0. 0. 0. 0. 0. 0. 0. 0. 0. 0. 0.\n",
      "  0. 0. 0. 0. 0. 0. 0. 0. 0. 0. 0. 0. 0. 0. 0. 0.]\n",
      " [0. 0. 0. 0. 0. 0. 0. 0. 0. 0. 0. 0. 0. 0. 0. 0. 0. 0. 0. 0. 0. 0. 0. 0.\n",
      "  0. 0. 0. 0. 0. 0. 0. 0. 0. 0. 0. 0. 0. 0. 0. 0.]\n",
      " [0. 0. 0. 0. 0. 0. 0. 0. 0. 0. 0. 0. 0. 0. 0. 0. 0. 0. 0. 0. 0. 0. 0. 0.\n",
      "  0. 0. 0. 0. 0. 0. 0. 0. 0. 0. 0. 0. 0. 0. 0. 0.]\n",
      " [0. 0. 0. 0. 0. 0. 0. 0. 0. 0. 0. 0. 0. 0. 0. 0. 0. 0. 0. 0. 0. 0. 0. 0.\n",
      "  0. 0. 0. 0. 0. 0. 0. 0. 0. 0. 0. 0. 0. 0. 0. 0.]\n",
      " [0. 0. 0. 0. 0. 0. 0. 0. 0. 0. 0. 0. 0. 0. 0. 0. 0. 0. 0. 0. 0. 0. 0. 0.\n",
      "  0. 0. 0. 0. 0. 0. 0. 0. 0. 0. 0. 0. 0. 0. 0. 0.]\n",
      " [0. 0. 0. 0. 0. 0. 0. 0. 0. 0. 0. 0. 0. 0. 0. 0. 0. 0. 0. 0. 0. 0. 0. 0.\n",
      "  0. 0. 0. 0. 0. 0. 0. 0. 0. 0. 0. 0. 0. 0. 0. 0.]\n",
      " [0. 0. 0. 0. 0. 0. 0. 0. 0. 0. 0. 0. 0. 0. 0. 0. 0. 0. 0. 0. 0. 0. 0. 0.\n",
      "  0. 0. 0. 0. 0. 0. 0. 0. 0. 0. 0. 0. 0. 0. 0. 0.]\n",
      " [0. 0. 0. 0. 0. 0. 0. 0. 0. 0. 0. 0. 0. 0. 0. 0. 0. 0. 0. 0. 0. 0. 0. 0.\n",
      "  0. 0. 0. 0. 0. 0. 0. 0. 0. 0. 0. 0. 0. 0. 0. 0.]\n",
      " [0. 0. 0. 0. 0. 0. 0. 0. 0. 0. 0. 0. 0. 0. 0. 0. 0. 0. 0. 0. 0. 0. 0. 0.\n",
      "  0. 0. 0. 0. 0. 0. 0. 0. 0. 0. 0. 0. 0. 0. 0. 0.]\n",
      " [0. 0. 0. 0. 0. 0. 0. 0. 0. 0. 0. 0. 0. 0. 0. 0. 0. 0. 0. 0. 0. 0. 0. 0.\n",
      "  0. 0. 0. 0. 0. 0. 0. 0. 0. 0. 0. 0. 0. 0. 0. 0.]\n",
      " [0. 0. 0. 0. 0. 0. 0. 0. 0. 0. 0. 0. 0. 0. 0. 0. 0. 0. 0. 0. 0. 0. 0. 0.\n",
      "  0. 0. 0. 0. 0. 0. 0. 0. 0. 0. 0. 0. 0. 0. 0. 0.]\n",
      " [0. 0. 0. 0. 0. 0. 0. 0. 0. 0. 0. 0. 0. 0. 0. 0. 0. 0. 0. 0. 0. 0. 0. 0.\n",
      "  0. 0. 0. 0. 0. 0. 0. 0. 0. 0. 0. 0. 0. 0. 0. 0.]\n",
      " [0. 0. 0. 0. 0. 0. 0. 0. 0. 0. 0. 0. 0. 0. 0. 0. 0. 0. 0. 0. 0. 0. 0. 0.\n",
      "  0. 0. 0. 0. 0. 0. 0. 0. 0. 0. 0. 0. 0. 0. 0. 0.]\n",
      " [0. 0. 0. 0. 0. 0. 0. 0. 0. 0. 0. 0. 0. 0. 0. 0. 0. 0. 0. 0. 0. 0. 0. 0.\n",
      "  0. 0. 0. 0. 0. 0. 0. 0. 0. 0. 0. 0. 0. 0. 0. 0.]\n",
      " [0. 0. 0. 0. 0. 0. 0. 0. 0. 0. 0. 0. 0. 0. 0. 0. 0. 0. 0. 0. 0. 0. 0. 0.\n",
      "  0. 0. 0. 0. 0. 0. 0. 0. 0. 0. 0. 0. 0. 0. 0. 0.]]\n"
     ]
    }
   ],
   "source": [
    "np.set_printoptions(threshold=float('inf')) # = np.inf = sys.maxsize\n",
    "print(np.zeros([40,40]))"
   ]
  },
  {
   "cell_type": "markdown",
   "id": "50c62214",
   "metadata": {},
   "source": [
    "#### 50. How to find the closest value (to a given scalar) in a vector? (★★☆)"
   ]
  },
  {
   "cell_type": "code",
   "execution_count": 53,
   "id": "24b45bb5",
   "metadata": {},
   "outputs": [
    {
     "name": "stdout",
     "output_type": "stream",
     "text": [
      "0.9746078801457974\n"
     ]
    }
   ],
   "source": [
    "arr = np.random.rand(10)\n",
    "value = 4.5\n",
    "diff = np.abs(arr - value)\n",
    "print(arr[diff.argmin()]) # not min() -> argmin is the index while min is the value"
   ]
  },
  {
   "cell_type": "markdown",
   "id": "4c5a5116",
   "metadata": {},
   "source": [
    "#### 51. Create a structured array representing a position (x,y) and a color (r,g,b) (★★☆)"
   ]
  },
  {
   "cell_type": "code",
   "execution_count": 54,
   "id": "275806b2",
   "metadata": {},
   "outputs": [
    {
     "name": "stdout",
     "output_type": "stream",
     "text": [
      "[[(0, 0) (0, 0) (0, 0) (0, 0) (0, 0)]\n",
      " [(0, 0) (0, 0) (0, 0) (0, 0) (0, 0)]\n",
      " [(0, 0) (0, 0) (0, 0) (0, 0) (0, 0)]\n",
      " [(0, 0) (0, 0) (0, 0) (0, 0) (0, 0)]\n",
      " [(0, 0) (0, 0) (0, 0) (0, 0) (0, 0)]]\n",
      "[[[(0, 0, 0) (0, 0, 0) (0, 0, 0) ... (0, 0, 0) (0, 0, 0) (0, 0, 0)]\n",
      "  [(0, 0, 0) (0, 0, 0) (0, 0, 0) ... (0, 0, 0) (0, 0, 0) (0, 0, 0)]\n",
      "  [(0, 0, 0) (0, 0, 0) (0, 0, 0) ... (0, 0, 0) (0, 0, 0) (0, 0, 0)]\n",
      "  ...\n",
      "  [(0, 0, 0) (0, 0, 0) (0, 0, 0) ... (0, 0, 0) (0, 0, 0) (0, 0, 0)]\n",
      "  [(0, 0, 0) (0, 0, 0) (0, 0, 0) ... (0, 0, 0) (0, 0, 0) (0, 0, 0)]\n",
      "  [(0, 0, 0) (0, 0, 0) (0, 0, 0) ... (0, 0, 0) (0, 0, 0) (0, 0, 0)]]\n",
      "\n",
      " [[(0, 0, 0) (0, 0, 0) (0, 0, 0) ... (0, 0, 0) (0, 0, 0) (0, 0, 0)]\n",
      "  [(0, 0, 0) (0, 0, 0) (0, 0, 0) ... (0, 0, 0) (0, 0, 0) (0, 0, 0)]\n",
      "  [(0, 0, 0) (0, 0, 0) (0, 0, 0) ... (0, 0, 0) (0, 0, 0) (0, 0, 0)]\n",
      "  ...\n",
      "  [(0, 0, 0) (0, 0, 0) (0, 0, 0) ... (0, 0, 0) (0, 0, 0) (0, 0, 0)]\n",
      "  [(0, 0, 0) (0, 0, 0) (0, 0, 0) ... (0, 0, 0) (0, 0, 0) (0, 0, 0)]\n",
      "  [(0, 0, 0) (0, 0, 0) (0, 0, 0) ... (0, 0, 0) (0, 0, 0) (0, 0, 0)]]\n",
      "\n",
      " [[(0, 0, 0) (0, 0, 0) (0, 0, 0) ... (0, 0, 0) (0, 0, 0) (0, 0, 0)]\n",
      "  [(0, 0, 0) (0, 0, 0) (0, 0, 0) ... (0, 0, 0) (0, 0, 0) (0, 0, 0)]\n",
      "  [(0, 0, 0) (0, 0, 0) (0, 0, 0) ... (0, 0, 0) (0, 0, 0) (0, 0, 0)]\n",
      "  ...\n",
      "  [(0, 0, 0) (0, 0, 0) (0, 0, 0) ... (0, 0, 0) (0, 0, 0) (0, 0, 0)]\n",
      "  [(0, 0, 0) (0, 0, 0) (0, 0, 0) ... (0, 0, 0) (0, 0, 0) (0, 0, 0)]\n",
      "  [(0, 0, 0) (0, 0, 0) (0, 0, 0) ... (0, 0, 0) (0, 0, 0) (0, 0, 0)]]\n",
      "\n",
      " ...\n",
      "\n",
      " [[(0, 0, 0) (0, 0, 0) (0, 0, 0) ... (0, 0, 0) (0, 0, 0) (0, 0, 0)]\n",
      "  [(0, 0, 0) (0, 0, 0) (0, 0, 0) ... (0, 0, 0) (0, 0, 0) (0, 0, 0)]\n",
      "  [(0, 0, 0) (0, 0, 0) (0, 0, 0) ... (0, 0, 0) (0, 0, 0) (0, 0, 0)]\n",
      "  ...\n",
      "  [(0, 0, 0) (0, 0, 0) (0, 0, 0) ... (0, 0, 0) (0, 0, 0) (0, 0, 0)]\n",
      "  [(0, 0, 0) (0, 0, 0) (0, 0, 0) ... (0, 0, 0) (0, 0, 0) (0, 0, 0)]\n",
      "  [(0, 0, 0) (0, 0, 0) (0, 0, 0) ... (0, 0, 0) (0, 0, 0) (0, 0, 0)]]\n",
      "\n",
      " [[(0, 0, 0) (0, 0, 0) (0, 0, 0) ... (0, 0, 0) (0, 0, 0) (0, 0, 0)]\n",
      "  [(0, 0, 0) (0, 0, 0) (0, 0, 0) ... (0, 0, 0) (0, 0, 0) (0, 0, 0)]\n",
      "  [(0, 0, 0) (0, 0, 0) (0, 0, 0) ... (0, 0, 0) (0, 0, 0) (0, 0, 0)]\n",
      "  ...\n",
      "  [(0, 0, 0) (0, 0, 0) (0, 0, 0) ... (0, 0, 0) (0, 0, 0) (0, 0, 0)]\n",
      "  [(0, 0, 0) (0, 0, 0) (0, 0, 0) ... (0, 0, 0) (0, 0, 0) (0, 0, 0)]\n",
      "  [(0, 0, 0) (0, 0, 0) (0, 0, 0) ... (0, 0, 0) (0, 0, 0) (0, 0, 0)]]\n",
      "\n",
      " [[(0, 0, 0) (0, 0, 0) (0, 0, 0) ... (0, 0, 0) (0, 0, 0) (0, 0, 0)]\n",
      "  [(0, 0, 0) (0, 0, 0) (0, 0, 0) ... (0, 0, 0) (0, 0, 0) (0, 0, 0)]\n",
      "  [(0, 0, 0) (0, 0, 0) (0, 0, 0) ... (0, 0, 0) (0, 0, 0) (0, 0, 0)]\n",
      "  ...\n",
      "  [(0, 0, 0) (0, 0, 0) (0, 0, 0) ... (0, 0, 0) (0, 0, 0) (0, 0, 0)]\n",
      "  [(0, 0, 0) (0, 0, 0) (0, 0, 0) ... (0, 0, 0) (0, 0, 0) (0, 0, 0)]\n",
      "  [(0, 0, 0) (0, 0, 0) (0, 0, 0) ... (0, 0, 0) (0, 0, 0) (0, 0, 0)]]]\n",
      "Z = np.zeros(10, [ ('position', [ ('x', float, 1),\n",
      "                                  ('y', float, 1)]),\n",
      "                   ('color',    [ ('r', float, 1),\n",
      "                                  ('g', float, 1),\n",
      "                                  ('b', float, 1)])])\n",
      "print(Z)\n"
     ]
    }
   ],
   "source": [
    "np.set_printoptions(threshold=1000) # = np.inf = sys.maxsize\n",
    "\n",
    "\n",
    "arr = np.zeros((5,5), [('x', int), ('y', int)])\n",
    "print(arr)\n",
    "\n",
    "arr = np.zeros((128,128,128), [('r', int), ('g', int), ('b', int)])\n",
    "print(arr)\n",
    "\n",
    "answer(51)\n",
    "\n",
    "\n",
    "# to make them in one array: Z = np.zeros(10, dtype = [ ('position', [ ('x', float, 1), ('y', float, 1)]),\n",
    "                            #    ('color',    [ ('r', float, ('g', float, 1), ('b', float, 1)])])"
   ]
  },
  {
   "cell_type": "markdown",
   "id": "1d3399ca",
   "metadata": {},
   "source": [
    "#### 52. Consider a random vector with shape (100,2) representing coordinates, find point by point distances (★★☆)"
   ]
  },
  {
   "cell_type": "code",
   "execution_count": 55,
   "id": "67eae5bf",
   "metadata": {},
   "outputs": [
    {
     "name": "stdout",
     "output_type": "stream",
     "text": [
      "Z = np.random.random((10,2))\n",
      "X,Y = np.atleast_2d(Z[:,0], Z[:,1])\n",
      "D = np.sqrt( (X-X.T)**2 + (Y-Y.T)**2)\n",
      "print(D)\n",
      "\n",
      "# Much faster with scipy\n",
      "import scipy\n",
      "# Thanks Gavin Heverly-Coulson (#issue 1)\n",
      "import scipy.spatial\n",
      "\n",
      "Z = np.random.random((10,2))\n",
      "D = scipy.spatial.distance.cdist(Z,Z)\n",
      "print(D)\n",
      "[[0.         0.57870328 0.17245881 0.40883489 0.31230457 0.24036319\n",
      "  0.07574199 0.37359637 0.25575967 0.62818464]\n",
      " [0.57870328 0.         0.56635553 0.68868117 0.28953257 0.387331\n",
      "  0.61243397 0.54706104 0.32731799 0.07272055]\n",
      " [0.17245881 0.56635553 0.         0.24029478 0.27686871 0.17905282\n",
      "  0.24732904 0.52226972 0.2963944  0.59853767]\n",
      " [0.40883489 0.68868117 0.24029478 0.         0.42759361 0.34481229\n",
      "  0.48079555 0.76043336 0.4992788  0.69747258]\n",
      " [0.31230457 0.28953257 0.27686871 0.42759361 0.         0.09801006\n",
      "  0.36427719 0.44980806 0.12728891 0.32566749]\n",
      " [0.24036319 0.387331   0.17905282 0.34481229 0.09801006 0.\n",
      "  0.303918   0.46281117 0.15904905 0.42069309]\n",
      " [0.07574199 0.61243397 0.24732904 0.48079555 0.36427719 0.303918\n",
      "  0.         0.32671022 0.28512741 0.66732263]\n",
      " [0.37359637 0.54706104 0.52226972 0.76043336 0.44980806 0.46281117\n",
      "  0.32671022 0.         0.3227082  0.61858548]\n",
      " [0.25575967 0.32731799 0.2963944  0.4992788  0.12728891 0.15904905\n",
      "  0.28512741 0.3227082  0.         0.38334707]\n",
      " [0.62818464 0.07272055 0.59853767 0.69747258 0.32566749 0.42069309\n",
      "  0.66732263 0.61858548 0.38334707 0.        ]]\n"
     ]
    }
   ],
   "source": [
    "answer(52)\n",
    "\n",
    "z = np.random.random((10,2))\n",
    "x, y = np.atleast_2d(z[:,0], z[:,1])\n",
    "d = np.sqrt( (x - x.T)**2 + (y - y.T)**2 )\n",
    "print(d)\n",
    "\n",
    "# no need to fully understand this !"
   ]
  },
  {
   "cell_type": "markdown",
   "id": "003ff920",
   "metadata": {},
   "source": [
    "#### 53. How to convert a float (32 bits) array into an integer (32 bits) array in place?"
   ]
  },
  {
   "cell_type": "code",
   "execution_count": 56,
   "id": "76245e6d",
   "metadata": {},
   "outputs": [
    {
     "name": "stdout",
     "output_type": "stream",
     "text": [
      "# Thanks Vikas (https://stackoverflow.com/a/10622758/5989906)\n",
      "# & unutbu (https://stackoverflow.com/a/4396247/5989906)\n",
      "Z = (np.random.rand(10)*100).astype(np.float32)\n",
      "Y = Z.view(np.int32)\n",
      "Y[:] = Z\n",
      "print(Y)\n"
     ]
    }
   ],
   "source": [
    "z = np.arange(10, dtype=np.float32)\n",
    "z.dtype = np.int32\n",
    "z.dtype\n",
    "\n",
    "answer(53)\n",
    "\n",
    "# 1. ORIGINAL ARRAY: [1.0, 2.7, 4.5] as float32\n",
    "#    Memory: [3F800000, 402CCCCD, 40900000] (float bit patterns)\n",
    "\n",
    "# 2. DANGEROUS: z.dtype = np.int32\n",
    "#    SAME memory, just reinterpreted: [1065353216, 1075000115, 1083179008]\n",
    "#    WRONG values - no actual conversion!\n",
    "\n",
    "# 3. SAFE BUT MEMORY-HEAVY: z.astype(np.int32)  \n",
    "#    CREATES NEW array: [1, 2, 4]\n",
    "#    ORIGINAL memory unchanged, NEW memory allocated\n",
    "\n",
    "# 4. MEMORY-EFFICIENT: Y = Z.view(np.int32); Y[:] = Z\n",
    "#    Step 1: Y views SAME memory as int32: [1065353216, 1075000115, 1083179008]\n",
    "#    Step 2: Y[:] = Z OVERWRITES memory with converted values: [1, 2, 4]\n",
    "#    Result: Same memory reused, proper conversion, no extra allocation"
   ]
  },
  {
   "cell_type": "markdown",
   "id": "0c99eac4",
   "metadata": {},
   "source": [
    "#### 54. How to read the following file? (★★☆)\n",
    "```\n",
    "1, 2, 3, 4, 5\n",
    "6,  ,  , 7, 8\n",
    " ,  , 9,10,11\n",
    "```"
   ]
  },
  {
   "cell_type": "code",
   "execution_count": 57,
   "id": "55c6bf8c",
   "metadata": {},
   "outputs": [
    {
     "name": "stdout",
     "output_type": "stream",
     "text": [
      "Z = np.arange(9).reshape(3,3)\n",
      "for index, value in np.ndenumerate(Z):\n",
      "    print(index, value)\n",
      "for index in np.ndindex(Z.shape):\n",
      "    print(index, Z[index])\n"
     ]
    }
   ],
   "source": [
    "f = np.genfromtxt('file.csv', delimiter=',')\n",
    "# =============================================\n",
    "# SUMMARY: READING FILES IN NUMPY\n",
    "# =============================================\n",
    "\n",
    "# 1. For simple text files (CSV, TSV):\n",
    "# ------------------------------------\n",
    "# data = np.loadtxt('file.txt')                    # Space-separated\n",
    "# data = np.loadtxt('file.csv', delimiter=',')     # CSV files\n",
    "# data = np.loadtxt('file.csv', delimiter=',', skiprows=1, dtype=int)  # Skip header, specify type\n",
    "# data = np.loadtxt('file.csv', delimiter=',', usecols=(0, 2))         # Select specific columns\n",
    "\n",
    "# 2. For text files with missing values:\n",
    "# --------------------------------------\n",
    "# data = np.genfromtxt('file.csv', delimiter=',')           # Auto-fill missing with NaN\n",
    "# data = np.genfromtxt('file.csv', delimiter=',', filling_values=0)  # Fill missing with 0\n",
    "# data = np.genfromtxt('file.csv', delimiter=',', usemask=True)      # Create masked array\n",
    "\n",
    "# 3. For NumPy binary files (.npy, .npz):\n",
    "# ---------------------------------------\n",
    "# array = np.load('data.npy')                                # Single array\n",
    "# with np.load('archive.npz') as data:                       # Multiple arrays\n",
    "#     array1 = data['array1']\n",
    "#     array2 = data['array2']\n",
    "\n",
    "# 4. For memory-mapped large arrays:\n",
    "# ----------------------------------\n",
    "# large_array = np.load('large_array.npy', mmap_mode='r')\n",
    "\n",
    "# 5. For raw binary data (use with caution):\n",
    "# ------------------------------------------\n",
    "# data = np.fromfile('binary_data.bin', dtype=np.float32)\n",
    "\n",
    "# =============================================\n",
    "# RECOMMENDATIONS:\n",
    "# - Use .npy/.npz format for reliable storage\n",
    "# - Avoid fromfile() for long-term storage\n",
    "# - Use genfromtxt() for messy data with missing values\n",
    "# =============================================\n",
    "\n",
    "answer(55)\n"
   ]
  },
  {
   "cell_type": "code",
   "execution_count": 58,
   "id": "f4c317af",
   "metadata": {},
   "outputs": [],
   "source": [
    "# =============================================\n",
    "# SUMMARY: CREATING NUMPY .NPY/.NPZ FILES\n",
    "# =============================================\n",
    "\n",
    "# 1. Saving single array to .npy:\n",
    "# -------------------------------\n",
    "# np.save('filename.npy', array)           # Saves single array efficiently\n",
    "# loaded_array = np.load('filename.npy')   # Load it back\n",
    "\n",
    "# 2. Saving multiple arrays to .npz:\n",
    "# ----------------------------------\n",
    "# np.savez('archive.npz', key1=array1, key2=array2)  # Uncompressed\n",
    "# np.savez_compressed('archive.npz', key1=array1, key2=array2)  # Compressed\n",
    "\n",
    "# 3. Loading .npz files:\n",
    "# ----------------------\n",
    "# data = np.load('archive.npz')\n",
    "# array1 = data['key1']                    # Access by key name\n",
    "# array2 = data['key2']\n",
    "# print(data.files)                        # List all keys\n",
    "\n",
    "# =============================================\n",
    "# CREATING CSV FILES FROM NUMPY\n",
    "# =============================================\n",
    "\n",
    "# 1. Basic CSV export:\n",
    "# --------------------\n",
    "# np.savetxt('data.csv', array, delimiter=',')           # Comma-separated\n",
    "# np.savetxt('data.tsv', array, delimiter='\\t')          # Tab-separated\n",
    "\n",
    "# 2. CSV with header and formatting:\n",
    "# ----------------------------------\n",
    "# np.savetxt('data.csv', array, delimiter=',', \n",
    "#            header='col1,col2,col3',        # Column names\n",
    "#            fmt='%.2f',                     # Float formatting (2 decimal places)\n",
    "#            comments='')                    # Remove '#' from header\n",
    "\n",
    "# 3. CSV with specific data types:\n",
    "# --------------------------------\n",
    "# np.savetxt('data.csv', array, delimiter=',', \n",
    "#            fmt='%d')                       # Integer format\n",
    "\n",
    "# 4. For structured arrays with mixed data:\n",
    "# -----------------------------------------\n",
    "# Use pandas: pd.DataFrame(array).to_csv('data.csv', index=False)\n",
    "\n",
    "# =============================================\n",
    "# QUICK EXAMPLES:\n",
    "# =============================================\n",
    "\n",
    "# Create and save arrays\n",
    "# array = np.random.rand(5, 3)\n",
    "# np.save('data.npy', array)                           # Binary format\n",
    "# np.savetxt('data.csv', array, delimiter=',')         # CSV format\n",
    "\n",
    "# Create structured data example\n",
    "# structured_array = np.array([(1, 2.5, 'A'), (2, 3.7, 'B')], \n",
    "#                            dtype=[('id', 'i4'), ('value', 'f4'), ('label', 'U1')])\n",
    "# Use pandas for mixed data types: \n",
    "# pd.DataFrame(structured_array).to_csv('structured.csv', index=False)\n",
    "\n",
    "# =============================================\n",
    "# KEY POINTS:\n",
    "# - Use .npy/.npz for NumPy-to-NumPy (fast, preserves everything)\n",
    "# - Use CSV for sharing/exchanging data with other programs\n",
    "# - Use pandas for complex/mixed data types in CSV\n",
    "# ============================================="
   ]
  },
  {
   "cell_type": "markdown",
   "id": "8cd30360",
   "metadata": {},
   "source": [
    "#### 55. What is the equivalent of enumerate for numpy arrays? (★★☆)"
   ]
  },
  {
   "cell_type": "code",
   "execution_count": 59,
   "id": "608315ba",
   "metadata": {},
   "outputs": [
    {
     "name": "stdout",
     "output_type": "stream",
     "text": [
      "8\n",
      "5\n",
      "9\n",
      "4\n",
      "2\n",
      "4\n",
      "9\n",
      "8\n",
      "2\n",
      "1\n",
      "52\n",
      "Z = np.arange(9).reshape(3,3)\n",
      "for index, value in np.ndenumerate(Z):\n",
      "    print(index, value)\n",
      "for index in np.ndindex(Z.shape):\n",
      "    print(index, Z[index])\n"
     ]
    }
   ],
   "source": [
    "arr = np.random.randint(1, 10, 10)\n",
    "size =0\n",
    "for i in np.ndenumerate(arr): # if you want only indexes use: ndindex() instead\n",
    "    print(i[1]); size+= i[1]\n",
    "print(size)\n",
    "\n",
    "answer(55)"
   ]
  },
  {
   "cell_type": "markdown",
   "id": "4823a294",
   "metadata": {},
   "source": [
    "#### 56. Generate a generic 2D Gaussian-like array (★★☆)"
   ]
  },
  {
   "cell_type": "code",
   "execution_count": 60,
   "id": "9b3b682d",
   "metadata": {},
   "outputs": [
    {
     "name": "stdout",
     "output_type": "stream",
     "text": [
      "[[ 1.38911504 -1.42013748]\n",
      " [ 0.20322255 -1.61682412]\n",
      " [ 0.94451182 -0.68590711]\n",
      " [ 0.51364478  0.60033878]\n",
      " [-0.43408285  0.33189599]\n",
      " [-0.31912234  0.43451177]\n",
      " [ 0.39046452 -0.00742856]\n",
      " [-0.75012489 -1.72207791]\n",
      " [-1.1507511  -1.15423603]\n",
      " [-0.37090728 -0.4793732 ]\n",
      " [-0.44050571  0.99369674]\n",
      " [-0.4707938   0.58799988]\n",
      " [-0.48836157 -0.87893327]\n",
      " [-0.53861051 -1.20758338]\n",
      " [ 1.70616321  0.58151797]\n",
      " [-0.43820925  0.75632754]\n",
      " [-0.03235427  1.31527192]\n",
      " [ 1.72466345 -0.74122612]\n",
      " [-0.0255818  -0.02625289]\n",
      " [ 0.4462751  -0.39590596]\n",
      " [-0.06026679 -0.50096646]\n",
      " [-0.70295338  1.27733039]\n",
      " [-0.24741266  0.50770058]\n",
      " [ 1.8131512  -0.67711528]\n",
      " [ 0.97846201 -1.9756037 ]\n",
      " [-0.09043482  0.56028558]\n",
      " [-1.01605802  0.15719728]\n",
      " [-0.78198932 -0.42968742]\n",
      " [ 1.04672418 -0.98820412]\n",
      " [-0.06141112  0.015029  ]\n",
      " [-1.57639818  0.29331953]\n",
      " [ 0.71482833  0.70024087]\n",
      " [ 0.31468115 -0.58820594]\n",
      " [-0.31703548  0.96914046]\n",
      " [-0.65685851 -0.19832422]\n",
      " [-0.6378845  -0.36887553]\n",
      " [-0.1209582  -0.23575728]\n",
      " [ 0.36836511 -0.53486373]\n",
      " [ 1.07909952 -0.22255732]\n",
      " [-0.10674076 -0.3893378 ]\n",
      " [-0.37229193 -0.26829495]\n",
      " [-1.12901748 -0.78722705]\n",
      " [ 1.14430764  0.86335108]\n",
      " [-1.61162407 -1.95237441]\n",
      " [ 0.18366205  0.24970174]\n",
      " [ 2.75292167  0.44482441]\n",
      " [ 0.82580045 -0.12238641]\n",
      " [ 1.85431337 -0.31371314]\n",
      " [ 1.39308343  0.81801477]\n",
      " [-0.18806057 -1.97740395]\n",
      " [-0.25865312 -0.70036869]\n",
      " [ 0.05296598  0.02295311]\n",
      " [ 0.5403458   2.26044947]\n",
      " [ 0.79818775 -0.66124622]\n",
      " [ 2.48245283  0.07621847]\n",
      " [ 1.4327879  -0.21670299]\n",
      " [-0.41296537  1.28687624]\n",
      " [ 0.32148621  0.32119571]\n",
      " [-0.50911281  0.20878684]\n",
      " [-0.23420319 -0.04652423]\n",
      " [-1.37554699  0.38461588]\n",
      " [-1.27436559  1.2555189 ]\n",
      " [-0.45017823 -1.06205784]\n",
      " [ 2.02190104  0.83706719]\n",
      " [ 0.49423627  0.49787075]\n",
      " [-0.40439982 -1.47223786]\n",
      " [ 0.21618131 -1.24302124]\n",
      " [-2.38879867  1.07704975]\n",
      " [ 1.9134092  -1.36256835]\n",
      " [-0.21782231 -0.61043329]\n",
      " [-0.94360743 -0.37764244]\n",
      " [-1.2565174  -1.01585572]\n",
      " [ 0.86385165  2.86277379]\n",
      " [-2.18700087  0.09213206]\n",
      " [-1.73352119 -0.38203751]\n",
      " [ 1.24069256 -3.01513946]\n",
      " [ 0.37247974 -0.79890178]\n",
      " [ 1.24427996 -0.30099263]\n",
      " [-0.86936387 -0.95415011]\n",
      " [-0.84314811  0.20802127]\n",
      " [-1.45226906  0.1286273 ]\n",
      " [ 0.05256623  0.35873926]\n",
      " [ 0.73244371 -1.3131841 ]\n",
      " [-0.35961736  0.94803692]\n",
      " [-0.55717867 -0.88710024]\n",
      " [ 0.57069822  1.59202331]\n",
      " [ 0.78303431 -1.2721846 ]\n",
      " [ 1.92808456  0.8316135 ]\n",
      " [-0.83714625 -0.56960555]\n",
      " [ 0.77922316 -0.36236925]\n",
      " [ 1.1028682  -2.84765736]\n",
      " [ 0.10590574 -1.97704514]\n",
      " [-0.2276759   0.147353  ]\n",
      " [ 1.13762831 -2.02807909]\n",
      " [-0.06850432 -0.22404856]\n",
      " [-0.27749338 -1.32046465]\n",
      " [-0.80463356 -1.3169844 ]\n",
      " [ 1.01865971  0.66459952]\n",
      " [ 1.62588744 -0.03794652]\n",
      " [-2.89783699 -0.23294954]]\n",
      "X, Y = np.meshgrid(np.linspace(-1,1,10), np.linspace(-1,1,10))\n",
      "D = np.sqrt(X*X+Y*Y)\n",
      "sigma, mu = 1.0, 0.0\n",
      "G = np.exp(-( (D-mu)**2 / ( 2.0 * sigma**2 ) ) )\n",
      "print(G)\n"
     ]
    }
   ],
   "source": [
    "print(np.random.normal(loc=0.0, scale=1.0, size=[100,2]))\n",
    "\n",
    "answer(56)\n",
    "\n",
    "# G(x,y) = exp(-(x² + y²) / (2σ²)) is equivalent to this"
   ]
  },
  {
   "cell_type": "markdown",
   "id": "2dd8891d",
   "metadata": {},
   "source": [
    "#### 57. How to randomly place p elements in a 2D array? (★★☆)"
   ]
  },
  {
   "cell_type": "code",
   "execution_count": 61,
   "id": "a55c52dc",
   "metadata": {},
   "outputs": [
    {
     "name": "stdout",
     "output_type": "stream",
     "text": [
      "# Author: Divakar\n",
      "\n",
      "n = 10\n",
      "p = 3\n",
      "Z = np.zeros((n,n))\n",
      "np.put(Z, np.random.choice(range(n*n), p, replace=False),1)\n",
      "print(Z)\n",
      "[86 94 96]\n",
      "[[ 0  0  0  0  0  0  0  0  0  0]\n",
      " [ 0  0  0  0  0  0  0  0  0  0]\n",
      " [ 0  0  0  0  0  0  0  0  0  0]\n",
      " [ 0  0  0  0  0  0  0  0  0  0]\n",
      " [ 0  0  0  0  0  0  0  0  0  0]\n",
      " [ 0  0  0  0  0  0  0  0  0  0]\n",
      " [ 0  0  0  0  0  0  0  0  0  0]\n",
      " [ 0  0  0  0  0  0  0  0  0  0]\n",
      " [ 0  0  0  0  0  0 20  0  0  0]\n",
      " [ 0  0  0  0 20  0 20  0  0  0]]\n"
     ]
    }
   ],
   "source": [
    "answer(57)\n",
    "\n",
    "arr = np.full(shape=[10,10], fill_value=0) # creating an array with a custom shape and default value\n",
    "p = 3\n",
    "\n",
    "\n",
    "# the following is useful for choosing a random number (size) of items from a max limit of (a)\n",
    "# replace=False means that no choice can be chosen twice.\n",
    "# in this case, we use this function to choose p (size) indicies from an array that have (arr.size=100) total indicies\n",
    "# .\n",
    "indicies = np.random.choice(a=arr.size, size=p, replace=False)\n",
    "print(indicies)\n",
    "\n",
    "\n",
    "# int this function np.put,  works with the random indicies we choosed, the values to put in them, and the array to make the changes to\n",
    "# the value (v) column when we want 3 values for example can work with 1, 2, or 3 values normally!\n",
    "# .\n",
    "np.put(a=arr, ind=indicies, v=[20])\n",
    "print(arr)\n"
   ]
  },
  {
   "cell_type": "markdown",
   "id": "270b6834",
   "metadata": {},
   "source": [
    "#### 58. Subtract the mean of each row of a matrix (★★☆)"
   ]
  },
  {
   "cell_type": "code",
   "execution_count": 62,
   "id": "814080c9",
   "metadata": {},
   "outputs": [
    {
     "name": "stdout",
     "output_type": "stream",
     "text": [
      "[np.float64(0.4813287148335565), np.float64(0.39814656509649915), np.float64(0.262728471364426), np.float64(0.23259706535700708)]\n",
      "##########\n",
      "[[0.13895868 0.35695373 0.68778427 0.34612549]\n",
      " [0.96041823 0.25222112 0.27108971 0.12594874]\n",
      " [0.46322457 0.15772706 0.04843935 0.02603067]\n",
      " [0.36271338 0.82568435 0.04360054 0.43228337]]\n",
      "##########\n",
      "# Author: Warren Weckesser\n",
      "\n",
      "X = np.random.rand(5, 10)\n",
      "\n",
      "# Recent versions of numpy\n",
      "Y = X - X.mean(axis=1, keepdims=True)\n",
      "\n",
      "# Older versions of numpy\n",
      "Y = X - X.mean(axis=1).reshape(-1, 1)\n",
      "\n",
      "print(Y)\n",
      "##########\n",
      "[[0.69006014 0.98989904 0.4947872  0.83232398 0.99093792 0.05943735\n",
      "  0.35247217 0.56209827 0.434965   0.28450008]\n",
      " [0.85556265 0.15798301 0.78615639 0.78305643 0.20224852 0.06818676\n",
      "  0.57551701 0.75921576 0.8581126  0.75174616]\n",
      " [0.95236336 0.85027009 0.12580083 0.56097098 0.69075078 0.31266634\n",
      "  0.44770154 0.27724411 0.81491723 0.63672179]\n",
      " [0.50048345 0.48322089 0.97080722 0.72426595 0.92038495 0.52786653\n",
      "  0.0671676  0.34606795 0.18865921 0.60004663]\n",
      " [0.34318273 0.18326714 0.30315793 0.57035075 0.58590313 0.07470149\n",
      "  0.43844024 0.78038118 0.62299797 0.27597527]]\n",
      "##########\n",
      "[[ 0.12091203  0.42075092 -0.07436091  0.26317586  0.4217898  -0.50971077\n",
      "  -0.21667595 -0.00704984 -0.13418311 -0.28464803]\n",
      " [ 0.27578412 -0.42179552  0.20637786  0.2032779  -0.37753001 -0.51159177\n",
      "  -0.00426152  0.17943723  0.27833407  0.17196764]\n",
      " [ 0.38542266  0.28332938 -0.44113988 -0.00596972  0.12381008 -0.25427436\n",
      "  -0.11923917 -0.2896966   0.24797653  0.06978109]\n",
      " [-0.03241359 -0.04967615  0.43791018  0.19136892  0.38748791 -0.00503051\n",
      "  -0.46572943 -0.18682909 -0.34423783  0.06714959]\n",
      " [-0.07465306 -0.23456864 -0.11467785  0.15251497  0.16806734 -0.34313429\n",
      "   0.02060446  0.3625454   0.20516218 -0.14186051]]\n"
     ]
    }
   ],
   "source": [
    "arr = np.random.rand(4,4)\n",
    "l = []\n",
    "\n",
    "# mean(axis=1) can replace all of the following\n",
    "for i in range(arr.shape[1]): \n",
    "    l.append(arr[:,i].mean())\n",
    "\n",
    "print(l)\n",
    "print('#'*10)\n",
    "print(arr)\n",
    "print('#'*10)\n",
    "\n",
    "answer(58)\n",
    "\n",
    "\n",
    "old_arr = np.random.rand(5, 10)\n",
    "\n",
    "# Recent versions of numpy\n",
    "new_arr = old_arr - old_arr.mean(axis=1, keepdims=True)\n",
    "\n",
    "# Older versions of numpy\n",
    "new_arr = old_arr - old_arr.mean(axis=1).reshape(-1, 1)\n",
    "\n",
    "\n",
    "print('#'*10)\n",
    "print(old_arr)\n",
    "print('#'*10)\n",
    "print(new_arr)\n",
    "# =============================================\n",
    "# NUMPY keepdims=True - KEY POINTS\n",
    "# =============================================\n",
    "\n",
    "# 1. WHAT IT DOES:\n",
    "# ---------------\n",
    "# keepdims=True preserves array dimensions during reduction operations\n",
    "# Without it: (5, 10) → mean(axis=1) → (5,)    # Dimension lost!\n",
    "# With it:    (5, 10) → mean(axis=1, keepdims=True) → (5, 1)  # Dimension kept!\n",
    "\n",
    "# 2. WHY IT MATTERS FOR BROADCASTING:\n",
    "# -----------------------------------\n",
    "# X.shape = (5, 10)\n",
    "# \n",
    "# Without keepdims:\n",
    "# mean = X.mean(axis=1)        # shape (5,) \n",
    "# Y = X - mean                 # ERROR! (5,10) vs (5,) - incompatible\n",
    "#\n",
    "# With keepdims:\n",
    "# mean = X.mean(axis=1, keepdims=True)  # shape (5, 1)\n",
    "# Y = X - mean                          # WORKS! (5,10) vs (5,1) - broadcasts\n",
    "\n",
    "# 3. PRACTICAL EXAMPLES:\n",
    "# ----------------------\n",
    "# Standardization:\n",
    "# normalized = (X - X.mean(axis=1, keepdims=True)) / X.std(axis=1, keepdims=True)\n",
    "\n",
    "# Centering:\n",
    "# centered = X - X.mean(axis=0, keepdims=True)  # Center columns\n",
    "\n",
    "# 4. ALTERNATIVE WITHOUT keepdims:\n",
    "# --------------------------------\n",
    "# mean_manual = X.mean(axis=1).reshape(-1, 1)  # Manual reshaping needed\n",
    "# Y_manual = X - mean_manual\n",
    "\n",
    "# 5. BOTTOM LINE:\n",
    "# ---------------\n",
    "# Use keepdims=True for cleaner code and automatic broadcasting compatibility\n",
    "# Especially useful with: mean(), sum(), max(), min(), std(), var()\n",
    "# =============================================\n",
    "# reshape(-1,1) means: keep the number of rows as it's but force the number of columns to be 1"
   ]
  },
  {
   "cell_type": "markdown",
   "id": "52c92916",
   "metadata": {},
   "source": [
    "#### 59. How to sort an array by the nth column? (★★☆)"
   ]
  },
  {
   "cell_type": "code",
   "execution_count": 63,
   "id": "c6ebac6d",
   "metadata": {},
   "outputs": [
    {
     "name": "stdout",
     "output_type": "stream",
     "text": [
      "[[5 3 6 3 5 8 6 2 4 8]\n",
      " [4 5 1 3 8 1 9 4 9 9]\n",
      " [2 1 4 7 3 7 6 5 1 2]\n",
      " [8 6 1 0 5 6 6 7 6 4]\n",
      " [2 6 6 0 8 2 0 0 0 6]\n",
      " [9 8 4 3 1 3 5 8 2 7]\n",
      " [7 8 3 7 6 0 4 7 0 2]\n",
      " [9 5 9 5 3 0 5 5 2 0]\n",
      " [9 8 9 8 0 5 0 4 6 6]\n",
      " [7 9 0 1 6 8 4 9 0 1]]\n",
      "##########\n",
      "# Author: Steve Tjoa\n",
      "\n",
      "Z = np.random.randint(0,10,(3,3))\n",
      "print(Z)\n",
      "print(Z[Z[:,1].argsort()])\n",
      "[[8 6 1 0 5 6 6 7 6 4]\n",
      " [2 6 6 0 8 2 0 0 0 6]\n",
      " [7 9 0 1 6 8 4 9 0 1]\n",
      " [4 5 1 3 8 1 9 4 9 9]\n",
      " [9 8 4 3 1 3 5 8 2 7]\n",
      " [5 3 6 3 5 8 6 2 4 8]\n",
      " [9 5 9 5 3 0 5 5 2 0]\n",
      " [2 1 4 7 3 7 6 5 1 2]\n",
      " [7 8 3 7 6 0 4 7 0 2]\n",
      " [9 8 9 8 0 5 0 4 6 6]]\n"
     ]
    }
   ],
   "source": [
    "arr = np.random.randint(0,10,[10,10])\n",
    "print(arr)\n",
    "print('#'*10)\n",
    "n = 3\n",
    "# arr.sort(axis=0, order=3)\n",
    "\n",
    "answer(59)\n",
    "\n",
    "print(arr[ arr[:,n].argsort() ]) # getting the indexes of the sorted nth column then \"arr[sorted_column]\" sort the whole array by it.\n",
    "\n",
    "# =============================================\n",
    "# NUMPY SORTING - COMPLETE SUMMARY\n",
    "# =============================================\n",
    "\n",
    "# 1. BASIC SORTING FUNCTIONS:\n",
    "# ---------------------------\n",
    "# sorted_arr = np.sort(arr)           # Returns sorted COPY (all dimensions)\n",
    "# arr.sort()                          # In-place sort (modifies original)\n",
    "# indices = np.argsort(arr)           # Returns indices that sort the array\n",
    "# sorted_arr = arr[indices]           # Sort using indices\n",
    "\n",
    "# 2. MULTI-DIMENSIONAL SORTING:\n",
    "# -----------------------------\n",
    "# np.sort(arr_2d, axis=0)            # Sort along ROWS (each column)\n",
    "# np.sort(arr_2d, axis=1)            # Sort along COLUMNS (each row)  \n",
    "# np.sort(arr_2d, axis=None)         # Flatten and sort entire array\n",
    "\n",
    "# 3. PARTIAL SORTING (Efficient for top/bottom k):\n",
    "# ------------------------------------------------\n",
    "# 1. partial = np.partition(arr, k)      # Elements before k are smaller, after are larger\n",
    "# 2. indices = np.argpartition(arr, k)   # Indices for partial sort\n",
    "# 3. Get 3 largest elements:\n",
    "    # Step 1: np.partition(arr, -3) - This rearranges the array so that the 3rd largest element \n",
    "    #   is in the 3rd position from the end, with all larger elements to its right\n",
    "    # Step 2: [-3:] - This takes a slice of the last 3 elements from the rearranged array\n",
    "    # Example: If arr = [5, 2, 8, 1, 9, 3, 7]\n",
    "    #          np.partition(arr, -3) might give: [1, 2, 3, 5, 7, 8, 9]  \n",
    "    #          Then [-3:] takes: [7, 8, 9] which are the 3 largest\n",
    "\n",
    "# 4. SORTING ALGORITHMS (kind parameter):\n",
    "# ---------------------------------------\n",
    "# np.sort(arr, kind='quicksort')     # Fastest, not stable (DEFAULT)\n",
    "# np.sort(arr, kind='mergesort')     # Stable (preserves equal element order)\n",
    "# np.sort(arr, kind='heapsort')      # Good worst-case performance\n",
    "\n",
    "# 5. STRUCTURED ARRAYS (sort by fields):\n",
    "# --------------------------------------\n",
    "# dt = [('name', 'U10'), ('age', int)]\n",
    "# people = np.array([('Alice',25), ('Bob',20)], dtype=dt)\n",
    "# by_age = np.sort(people, order='age')           # Sort by age field\n",
    "# by_multi = np.sort(people, order=['age','name'])# Sort by multiple fields\n",
    "\n",
    "# 6. SPECIAL DATA TYPES:\n",
    "# ----------------------\n",
    "# Complex: sorted by real part, then imaginary\n",
    "# Strings: lexicographical order\n",
    "# Custom: use argsort with custom key function\n",
    "\n",
    "# 7. COMMON PATTERNS:\n",
    "# -------------------\n",
    "# Descending order: np.sort(arr)[::-1]\n",
    "# Sort rows by column: data[data[:,0].argsort()]\n",
    "# Get top k: arr[np.argpartition(arr, -k)[-k:]]\n",
    "# Stable sort for complex cases: kind='mergesort'\n",
    "\n",
    "# =============================================\n",
    "# QUICK REFERENCE - WHEN TO USE WHAT:\n",
    "# =============================================\n",
    "\n",
    "# np.sort()        - Need sorted copy, any dimension\n",
    "# .sort()          - In-place, memory efficient  \n",
    "# np.argsort()     - Need sorting order for multiple arrays\n",
    "# np.partition()   - Only care about top/bottom k elements (FAST)\n",
    "# kind='mergesort' - When equal elements should keep original order\n",
    "# axis parameter   - Control sorting direction in multi-dim arrays\n",
    "\n",
    "# =============================================\n",
    "# PERFORMANCE TIPS:\n",
    "# =============================================\n",
    "# - Use partition() instead of sort() for top/bottom k\n",
    "# - quicksort is fastest for most cases\n",
    "# - mergesort when stability matters\n",
    "# - argsort + indexing for sorting multiple related arrays\n",
    "# ============================================="
   ]
  },
  {
   "cell_type": "markdown",
   "id": "05cef60b",
   "metadata": {},
   "source": [
    "#### 60. How to tell if a given 2D array has null columns? (★★☆)"
   ]
  },
  {
   "cell_type": "code",
   "execution_count": 64,
   "id": "7979b467",
   "metadata": {},
   "outputs": [
    {
     "name": "stdout",
     "output_type": "stream",
     "text": [
      "[]\n",
      "# Author: Warren Weckesser\n",
      "\n",
      "# null : 0 \n",
      "Z = np.random.randint(0,3,(3,10))\n",
      "print((~Z.any(axis=0)).any())\n",
      "\n",
      "# null : np.nan\n",
      "Z=np.array([\n",
      "    [0,1,np.nan],\n",
      "    [1,2,np.nan],\n",
      "    [4,5,np.nan]\n",
      "])\n",
      "print(np.isnan(Z).all(axis=0))\n",
      "##########\n"
     ]
    }
   ],
   "source": [
    "print(f[f is None]) # wrong!\n",
    "\n",
    "answer(60)\n",
    "\n",
    "# =============================================\n",
    "# CHECKING FOR NULL/NaN VALUES IN NUMPY ARRAYS\n",
    "# =============================================\n",
    "\n",
    "# 1. BASIC NaN CHECKING:\n",
    "# ----------------------\n",
    "# nan_mask = np.isnan(arr)            # Returns Boolean array (True where NaN exists)\n",
    "# has_any_nan = np.any(np.isnan(arr)) # Returns True if ANY NaN found in array\n",
    "# all_finite = np.all(np.isfinite(arr)) # Returns True if ALL elements are valid numbers\n",
    "\n",
    "# 2. PRACTICAL EXAMPLES:\n",
    "# ----------------------\n",
    "# arr = np.array([1.0, 2.0, np.nan, 4.0])\n",
    "# \n",
    "# np.isnan(arr)     → [False, False, True, False]  # See WHERE NaNs are\n",
    "# np.any(np.isnan(arr)) → True                     # Check IF any NaN exists\n",
    "# np.all(np.isfinite(arr)) → False                 # Check if ALL are valid numbers\n",
    "\n",
    "# 3. IMPORTANT NOTES:\n",
    "# -------------------\n",
    "# - Integer arrays CANNOT contain NaN values (only works with Floats)\n",
    "# - Use np.isnan(np.sum(arr)) for efficient yes/no checking\n",
    "# - Use np.isnan(arr) to locate exact positions of NaNs\n",
    "# - np.isfinite() also checks for infinite values (inf, -inf)\n",
    "\n",
    "# 4. QUICK REFERENCE:\n",
    "# -------------------\n",
    "# \"Is there any NaN?\" → np.any(np.isnan(arr))\n",
    "# \"Where are the NaNs?\" → np.isnan(arr)  \n",
    "# \"Are all values valid numbers?\" → np.all(np.isfinite(arr))\n",
    "# =============================================\n",
    "\n",
    "print('#'*10)\n",
    "# checking int 2D arrays for all-zero columns: ~arr.any(axis=0).any()\n",
    "# checking float 2D arrays for None columns: np.isnan(arr).all(axis=0)\n",
    "# .\n"
   ]
  },
  {
   "cell_type": "markdown",
   "id": "4891fdf5",
   "metadata": {},
   "source": [
    "#### 61. Find the nearest value from a given value in an array (★★☆)"
   ]
  },
  {
   "cell_type": "code",
   "execution_count": 65,
   "id": "b38950fd",
   "metadata": {},
   "outputs": [
    {
     "name": "stdout",
     "output_type": "stream",
     "text": [
      "Z = np.random.uniform(0,1,10)\n",
      "z = 0.5\n",
      "m = Z.flat[np.abs(Z - z).argmin()]\n",
      "print(m)\n",
      "##########\n",
      "[0.70597176 0.65646214 0.68223378 0.062006   0.07320623 0.58485328\n",
      " 0.56510102 0.82144679 0.61666512 0.28245176]\n",
      "##########\n",
      "0.5651010185739924\n"
     ]
    }
   ],
   "source": [
    "answer(61)\n",
    "arr = np.random.uniform(0,1,10)\n",
    "value = 0.5\n",
    "print('#'*10)\n",
    "print(arr)\n",
    "print('#'*10)\n",
    "\n",
    "print(arr[np.abs(arr - value).argmin()]) \n",
    "# if we want to use the same function for nD array (1D, 2D, 3D) we can use the same logic with arr.flat[] instead of arr[]\n",
    "# the code first subtract the \"value\" from all the \"arr\" elements ... the closest element in the \"arr\" to the \"value\" will have the minimum subtraction value\n",
    "#   by argmin we get the index of that subtraction value (instead of the opposite that happens with min())"
   ]
  },
  {
   "cell_type": "markdown",
   "id": "b34bfbc7",
   "metadata": {},
   "source": [
    "#### 62. Considering two arrays with shape (1,3) and (3,1), how to compute their sum using an iterator? (★★☆)"
   ]
  },
  {
   "cell_type": "code",
   "execution_count": 66,
   "id": "aa7eb006",
   "metadata": {},
   "outputs": [
    {
     "name": "stdout",
     "output_type": "stream",
     "text": [
      "hint: np.nditer\n",
      "##########\n",
      "[[0.21037845 0.14174329 0.33271039]] [[0.3696795 ]\n",
      " [0.14794074]\n",
      " [0.4389596 ]]\n",
      "0.6848321361837506\n",
      "##########\n",
      "A = np.arange(3).reshape(3,1)\n",
      "B = np.arange(3).reshape(1,3)\n",
      "it = np.nditer([A,B,None])\n",
      "for x,y,z in it: z[...] = x + y\n",
      "print(it.operands[2])\n"
     ]
    }
   ],
   "source": [
    "hint(62)\n",
    "print('#'*10)\n",
    "a = np.random.rand(1,3)\n",
    "b = np.random.rand(3,1)\n",
    "print(a,b)\n",
    "sum =0\n",
    "for i in np.nditer(a):\n",
    "    sum += i\n",
    "print(sum)\n",
    "print('#'*10)\n",
    "answer(62)"
   ]
  },
  {
   "cell_type": "markdown",
   "id": "77a27b83",
   "metadata": {},
   "source": [
    "#### 63. Create an array class that has a name attribute (★★☆)"
   ]
  },
  {
   "cell_type": "code",
   "execution_count": 67,
   "id": "a2a83936",
   "metadata": {},
   "outputs": [
    {
     "name": "stdout",
     "output_type": "stream",
     "text": [
      "class NamedArray(np.ndarray):\n",
      "    def __new__(cls, array, name=\"no name\"):\n",
      "        obj = np.asarray(array).view(cls)\n",
      "        obj.name = name\n",
      "        return obj\n",
      "    def __array_finalize__(self, obj):\n",
      "        if obj is None: return\n",
      "        self.name = getattr(obj, 'name', \"no name\")\n",
      "\n",
      "Z = NamedArray(np.arange(10), \"range_10\")\n",
      "print (Z.name)\n"
     ]
    }
   ],
   "source": [
    "class arr:\n",
    "    name: int\n",
    "\n",
    "answer(63)\n",
    "\n",
    "class arr2(np.ndarray):\n",
    "    def __new__():\n",
    "        pass\n"
   ]
  },
  {
   "cell_type": "markdown",
   "id": "f7f5d229",
   "metadata": {},
   "source": [
    "#### 64. Consider a given vector, how to add 1 to each element indexed by a second vector (be careful with repeated indices)? (★★★)"
   ]
  },
  {
   "cell_type": "code",
   "execution_count": 68,
   "id": "9b8f8f48",
   "metadata": {},
   "outputs": [
    {
     "name": "stdout",
     "output_type": "stream",
     "text": [
      "# Author: Brett Olsen\n",
      "\n",
      "Z = np.ones(10)\n",
      "I = np.random.randint(0,len(Z),20)\n",
      "Z += np.bincount(I, minlength=len(Z))\n",
      "print(Z)\n",
      "\n",
      "# Another solution\n",
      "# Author: Bartosz Telenczuk\n",
      "np.add.at(Z, I, 1)\n",
      "print(Z)\n",
      "[2. 2. 2. 1. 1. 2. 1. 2. 3. 4.]\n",
      "##########\n",
      "[2. 2. 2. 1. 1. 2. 1. 2. 3. 4.]\n",
      "##########\n",
      "[2. 2. 2. 1. 1. 2. 1. 2. 3. 4.]\n"
     ]
    }
   ],
   "source": [
    "# I think the questions asks about making two random int arrays then \n",
    "#   add one two each element after reindexing the first array by a second array.\n",
    "\n",
    "a = np.ones(10)\n",
    "b = np.random.randint(0,len(a),10)\n",
    "c = np.random.randint(0,len(a),10)\n",
    "\n",
    "# a.index_by(b)\n",
    "\n",
    "answer(64)\n",
    "# what actually the question is asking about is: extracting the (index:frequency) values from a random array then adding one two them (these indicies).\n",
    "\n",
    "\n",
    "# that is my solution: \n",
    "d = np.bincount(b, minlength=10)\n",
    "print(d+1.0)\n",
    "print('#'*10)\n",
    "\n",
    "# another solution:\n",
    "d = np.bincount(b, minlength=10) # By default, numpy.bincount creates an output array with a length of one more than the maximum value in your input array. The minlength parameter is useful when you need the output to be a specific size, regardless of the values in your input \n",
    "print(d+a)\n",
    "print('#'*10)\n",
    "\n",
    "# another:\n",
    "np.add.at(a, b, 1)\n",
    "print(a)"
   ]
  },
  {
   "cell_type": "markdown",
   "id": "b067fca8",
   "metadata": {},
   "source": [
    "#### 65. How to accumulate elements of a vector (X) to an array (F) based on an index list (I)? (★★★)"
   ]
  },
  {
   "cell_type": "code",
   "execution_count": 69,
   "id": "f983f8ba",
   "metadata": {},
   "outputs": [
    {
     "name": "stdout",
     "output_type": "stream",
     "text": [
      "x: [0 8 1 4 0 6 6 9 2 4]\n",
      "f: [1. 1. 1. 1. 1. 1. 1. 1. 1. 1.]\n",
      "l:  [0 9 6 5 9 4 5 7 3 8]\n",
      "##########\n",
      "[ 1.  1.  1.  3.  7.  7.  2. 10.  5.  1.]\n",
      "##########\n",
      "# Author: Alan G Isaac\n",
      "\n",
      "X = [1,2,3,4,5,6]\n",
      "I = [1,3,9,3,4,1]\n",
      "F = np.bincount(I,X)\n",
      "print(F)\n",
      "##########\n",
      "[ 1.  1.  1.  3.  7. 11.  2. 10.  5.  9.]\n"
     ]
    }
   ],
   "source": [
    "x = np.random.randint(0,10,10)\n",
    "f = np.ones(10)\n",
    "l = np.random.randint(0,10,10)\n",
    "\n",
    "print('x:', x)\n",
    "print('f:', f)\n",
    "print('l: ', l)\n",
    "\n",
    "print('#'*10)\n",
    "\n",
    "f[l] += x # if I have two indicies in (l) with the same value it takes the last one of them not both .. that's wrong.\n",
    "\n",
    "print(f)\n",
    "print('#'*10)\n",
    "\n",
    "answer(65)\n",
    "print('#'*10)\n",
    "\n",
    "print(1.0 + np.bincount(l, weights=x)) # now that's correct!\n",
    "# what have happened here is that each time an element (e) appears in the array (l), it's counted as one \"custom weight\" not \"1\" as the normal way.\n",
    "# by doing so: we found ourselves with an array that in position (0) for example have not the number of times the element (0) occured in (l) only but: the number of times it appeared * its value in x.\n",
    "# this will force elements of (x) to appear in their correct position in (l) and if they appeared multiple times in (l) the result array will accumulate the values of each (x) in its correct position."
   ]
  },
  {
   "cell_type": "markdown",
   "id": "765e2b8e",
   "metadata": {},
   "source": [
    "#### 66. Considering a (w,h,3) image of (dtype=ubyte), compute the number of unique colors (★★☆)"
   ]
  },
  {
   "cell_type": "code",
   "execution_count": 70,
   "id": "7572d90d",
   "metadata": {},
   "outputs": [
    {
     "name": "stdout",
     "output_type": "stream",
     "text": [
      "The image has 1000 unique colors.\n",
      "from void:  1000\n",
      "##########\n",
      "# Author: Fisher Wang\n",
      "\n",
      "w, h = 256, 256\n",
      "I = np.random.randint(0, 4, (h, w, 3)).astype(np.ubyte)\n",
      "colors = np.unique(I.reshape(-1, 3), axis=0)\n",
      "n = len(colors)\n",
      "print(n)\n",
      "\n",
      "# Faster version\n",
      "# Author: Mark Setchell\n",
      "# https://stackoverflow.com/a/59671950/2836621\n",
      "\n",
      "w, h = 256, 256\n",
      "I = np.random.randint(0,4,(h,w,3), dtype=np.uint8)\n",
      "\n",
      "# View each pixel as a single 24-bit integer, rather than three 8-bit bytes\n",
      "I24 = np.dot(I.astype(np.uint32),[1,256,65536])\n",
      "\n",
      "# Count unique colours\n",
      "n = len(np.unique(I24))\n",
      "print(n)\n",
      "##########\n",
      "64\n"
     ]
    }
   ],
   "source": [
    "# ???\n",
    "# I think: 255 * 255 * 255.\n",
    "\n",
    "# no the question asks about if I have a real image with the 3D representation: (weight, height, 3 \"for colors\") how to know the unique combinations of colors available.\n",
    "image = np.random.randint(0,255, size=[100,10,3], dtype=np.ubyte)\n",
    "\n",
    "# the first solution by deepseek:\n",
    "#   reshape -> calculate unique colors/rows -> len\n",
    "pixels = image.reshape(-1, 3) # Reshape to (w*h, 3)\n",
    "unique_colors = np.unique(pixels, axis=0) # Find unique colors/rows\n",
    "number_of_unique_colors = len(unique_colors)\n",
    "\n",
    "print(f\"The image has {number_of_unique_colors} unique colors.\")\n",
    "\n",
    "# an efficient solution by deepseek:\n",
    "#   reshape -> convert to void -> unique -> len\n",
    "pixels = image.reshape(-1, 3)\n",
    "void_view = np.ascontiguousarray(pixels).view(np.dtype((np.void, pixels.dtype.itemsize * pixels.shape[1])))\n",
    "unique_colors = np.unique(void_view)\n",
    "\n",
    "print('from void: ', len(unique_colors))\n",
    "print('#'*10)\n",
    "\n",
    "answer(66)\n",
    "print('#'*10)\n",
    "\n",
    "\n",
    "w, h = 256, 256\n",
    "I = np.random.randint(0,4,(h,w,3), dtype=np.uint8) # all the possible values in the 3 channels are just 4 ... which makes all possible combinations: 4 * 4 * 4= 64 -> this makes validating the answer easier.\n",
    "\n",
    "# View each pixel as a single 24-bit integer, rather than three 8-bit bytes\n",
    "I24 = np.dot(I.astype(np.uint32),[1,256,65536])\n",
    "\n",
    "# how to previous line works?: \n",
    "    # [1, 256, 65536] are powers of 256: 256⁰, 256¹, 256²\n",
    "    # Each RGB triple [R, G, B] becomes: R×1 + G×256 + B×65536\n",
    "    # This packs the 3 bytes into one 24-bit integer\n",
    "    # finally np.dot produces one answer by adding all the (multiplied results) together: a1*b1 + a2*b2 + ... an*bn\n",
    "\n",
    "\n",
    "\n",
    "# Count unique colours\n",
    "n = len(np.unique(I24))\n",
    "print(n)"
   ]
  },
  {
   "cell_type": "markdown",
   "id": "02743317",
   "metadata": {},
   "source": [
    "#### 67. Considering a four dimensions array, how to get sum over the last two axis at once? (★★★)"
   ]
  },
  {
   "cell_type": "code",
   "execution_count": 71,
   "id": "980b5c45",
   "metadata": {},
   "outputs": [
    {
     "name": "stdout",
     "output_type": "stream",
     "text": [
      "[[[[1 3 2 8]\n",
      "   [9 7 9 8]\n",
      "   [3 8 4 0]\n",
      "   [1 6 2 1]]\n",
      "\n",
      "  [[6 6 7 8]\n",
      "   [4 9 9 5]\n",
      "   [8 7 5 2]\n",
      "   [9 3 9 3]]\n",
      "\n",
      "  [[9 5 5 7]\n",
      "   [8 6 7 3]\n",
      "   [6 5 2 3]\n",
      "   [5 9 5 8]]\n",
      "\n",
      "  [[6 9 6 1]\n",
      "   [0 5 5 0]\n",
      "   [1 7 9 3]\n",
      "   [2 4 1 6]]]\n",
      "\n",
      "\n",
      " [[[0 4 1 2]\n",
      "   [4 7 8 8]\n",
      "   [3 3 6 2]\n",
      "   [3 3 6 9]]\n",
      "\n",
      "  [[5 9 4 9]\n",
      "   [9 4 8 4]\n",
      "   [6 9 3 8]\n",
      "   [6 0 7 7]]\n",
      "\n",
      "  [[5 0 3 0]\n",
      "   [1 5 9 4]\n",
      "   [8 8 5 2]\n",
      "   [6 6 3 7]]\n",
      "\n",
      "  [[0 7 1 4]\n",
      "   [0 4 3 3]\n",
      "   [9 7 7 8]\n",
      "   [6 8 1 3]]]\n",
      "\n",
      "\n",
      " [[[9 0 2 9]\n",
      "   [9 0 2 9]\n",
      "   [5 3 5 4]\n",
      "   [6 0 6 8]]\n",
      "\n",
      "  [[4 4 2 0]\n",
      "   [2 6 4 3]\n",
      "   [0 3 2 3]\n",
      "   [9 1 3 9]]\n",
      "\n",
      "  [[8 9 6 9]\n",
      "   [9 6 7 7]\n",
      "   [1 3 0 1]\n",
      "   [7 7 6 9]]\n",
      "\n",
      "  [[4 6 5 7]\n",
      "   [8 5 0 1]\n",
      "   [5 0 7 6]\n",
      "   [7 0 5 2]]]\n",
      "\n",
      "\n",
      " [[[3 8 8 8]\n",
      "   [9 3 9 7]\n",
      "   [7 8 3 2]\n",
      "   [8 7 2 3]]\n",
      "\n",
      "  [[4 3 4 0]\n",
      "   [3 1 8 3]\n",
      "   [8 6 9 2]\n",
      "   [0 9 4 5]]\n",
      "\n",
      "  [[6 7 0 2]\n",
      "   [6 1 4 9]\n",
      "   [4 9 1 5]\n",
      "   [6 5 4 3]]\n",
      "\n",
      "  [[6 2 8 0]\n",
      "   [6 8 9 0]\n",
      "   [9 9 2 8]\n",
      "   [4 7 9 3]]]]\n",
      "##########\n",
      "[[ 72 100  93  65]\n",
      " [ 69  98  72  71]\n",
      " [ 77  55  95  68]\n",
      " [ 95  69  72  90]]\n",
      "##########\n",
      "A = np.random.randint(0,10,(3,4,3,4))\n",
      "# solution by passing a tuple of axes (introduced in numpy 1.7.0)\n",
      "sum = A.sum(axis=(-2,-1))\n",
      "print(sum)\n",
      "# solution by flattening the last two dimensions into one\n",
      "# (useful for functions that don't accept tuples for axis argument)\n",
      "sum = A.reshape(A.shape[:-2] + (-1,)).sum(axis=-1)\n",
      "print(sum)\n",
      "##########\n",
      "[[ 72 100  93  65]\n",
      " [ 69  98  72  71]\n",
      " [ 77  55  95  68]\n",
      " [ 95  69  72  90]]\n",
      "[[ 72 100  93  65]\n",
      " [ 69  98  72  71]\n",
      " [ 77  55  95  68]\n",
      " [ 95  69  72  90]]\n"
     ]
    }
   ],
   "source": [
    "arr = np.random.randint(0,10, [4,4,4,4])\n",
    "print(arr)\n",
    "print('#'*10)\n",
    "\n",
    "print(np.sum((np.sum(arr, axis=3)), axis=2)) # that's correct !! :)\n",
    "print('#'*10)\n",
    "\n",
    "answer(67)\n",
    "print('#'*10)\n",
    "\n",
    "\n",
    "# solution by passing a tuple of axes (introduced in numpy 1.7.0)\n",
    "sum = arr.sum(axis=(-2,-1))\n",
    "print(sum)\n",
    "# solution by flattening the last two dimensions into one\n",
    "# (useful for functions that don't accept tuples for axis argument)\n",
    "sum = arr.reshape(arr.shape[:-2] + (-1,)).sum(axis=-1)\n",
    "\n",
    "# the meaning of the previous code: \n",
    "# 1. The numpy.reshape function can take the new shape either as a tuple of integers (dim1, dim2, ...) or as a series of separated integer arguments dim1, dim2, ...\n",
    "# 2. the function written: arr.shape[:-2] + (-1,) -> produces a tuple by concatenating two tuples\n",
    "# 3. arr.shape[:-2]: this is a tuple that contains the shape of all the array except the last two dimensions.\n",
    "# 4. (-1,): this is also a tuple that contains only the number -1 and what it do is commanding numpy to calculate the size of the last dimension (in this case, the dimension size = the product of the removed two dimensions at the end of the array)\n",
    "# 5. .sum(axis=-1): sum by the last dimension: which is automatically calculated in this case = original dim3 * original dim4.\n",
    "# .\n",
    "print(sum)"
   ]
  },
  {
   "cell_type": "markdown",
   "id": "fe8b8107",
   "metadata": {},
   "source": [
    "#### 68. Considering a one-dimensional vector D, how to compute means of subsets of D using a vector S of same size describing subset  indices? (★★★)"
   ]
  },
  {
   "cell_type": "code",
   "execution_count": 72,
   "id": "9c17c8c9",
   "metadata": {},
   "outputs": [
    {
     "name": "stdout",
     "output_type": "stream",
     "text": [
      "[3.         5.33333333 8.         4.75       3.        ]\n",
      "##########\n",
      "# Author: Jaime Fernández del Río\n",
      "\n",
      "D = np.random.uniform(0,1,100)\n",
      "S = np.random.randint(0,10,100)\n",
      "D_sums = np.bincount(S, weights=D)\n",
      "D_counts = np.bincount(S)\n",
      "D_means = D_sums / D_counts\n",
      "print(D_means)\n",
      "\n",
      "# Pandas solution as a reference due to more intuitive code\n",
      "import pandas as pd\n",
      "print(pd.Series(D).groupby(S).mean())\n"
     ]
    }
   ],
   "source": [
    "DVector = np.random.randint(0,10,10)\n",
    "SSubset = np.random.randint(0,5,10)\n",
    "\n",
    "# the solution is correct !\n",
    "print(np.bincount(SSubset, DVector)/ np.bincount(SSubset)) # this solution is by me .. also most of the solutions that comes before [answer()] is by me\n",
    "print('#'*10)\n",
    "\n",
    "answer(68)\n",
    "\n",
    "# import pandas as pd\n",
    "# print(pd.Series(DVector).groupby(SSubset).mean())"
   ]
  },
  {
   "cell_type": "markdown",
   "id": "7efa1173",
   "metadata": {},
   "source": [
    "#### 69. How to get the diagonal of a dot product? (★★★)"
   ]
  },
  {
   "cell_type": "code",
   "execution_count": 73,
   "id": "59fc6a51",
   "metadata": {},
   "outputs": [
    {
     "name": "stdout",
     "output_type": "stream",
     "text": [
      "[[2 4 9 5 1]\n",
      " [9 3 2 9 7]\n",
      " [6 2 5 5 4]\n",
      " [7 8 7 3 9]\n",
      " [6 5 4 4 7]]\n",
      "[[8 6 4 4 7]\n",
      " [6 3 1 5 0]\n",
      " [8 1 3 5 7]\n",
      " [2 7 0 9 8]\n",
      " [4 2 7 3 6]]\n",
      "[[126  70  46 121 123]\n",
      " [152 142  94 163 191]\n",
      " [126  90  69 116 141]\n",
      " [202 112 120 157 176]\n",
      " [146  97  90 126 144]]\n",
      "##########\n",
      "# Author: Mathieu Blondel\n",
      "\n",
      "A = np.random.uniform(0,1,(5,5))\n",
      "B = np.random.uniform(0,1,(5,5))\n",
      "\n",
      "# Slow version\n",
      "np.diag(np.dot(A, B))\n",
      "\n",
      "# Fast version\n",
      "np.sum(A * B.T, axis=1)\n",
      "\n",
      "# Faster version\n",
      "np.einsum(\"ij,ji->i\", A, B)\n",
      "##########\n",
      "[126 142  69 157 144]\n"
     ]
    }
   ],
   "source": [
    "a = np.random.randint(0,10,[5,5])\n",
    "b = np.random.randint(0,10,[5,5])\n",
    "c = np.dot(a,b)\n",
    "\n",
    "print(a,b,c, sep='\\n') # is there a diagonal for a dot product ? -> I think it will if I changed the shapes to 2D\n",
    "print('#'*10)\n",
    "\n",
    "answer(69)\n",
    "print('#'*10)\n",
    "\n",
    "print(np.diag(c)) # [i,i] = Σⱼ A[i,j] * B[j,i]"
   ]
  },
  {
   "cell_type": "markdown",
   "id": "b72adc30",
   "metadata": {},
   "source": [
    "#### 70. Consider the vector [1, 2, 3, 4, 5], how to build a new vector with 3 consecutive zeros interleaved between each value? (★★★)"
   ]
  },
  {
   "cell_type": "code",
   "execution_count": 74,
   "id": "94b582b4",
   "metadata": {},
   "outputs": [
    {
     "name": "stdout",
     "output_type": "stream",
     "text": [
      "# Author: Warren Weckesser\n",
      "\n",
      "Z = np.array([1,2,3,4,5])\n",
      "nz = 3\n",
      "Z0 = np.zeros(len(Z) + (len(Z)-1)*(nz))\n",
      "Z0[::nz+1] = Z\n",
      "print(Z0)\n",
      "##########\n",
      "[1. 0. 0. 0. 2. 0. 0. 0. 3. 0. 0. 0. 4. 0. 0. 0. 5.]\n"
     ]
    }
   ],
   "source": [
    "arr = [1, 2, 3, 4, 5]\n",
    "zeros = 3\n",
    "# arr2= np.array(arr[0])\n",
    "# for i in arr[1:]:\n",
    "#     arr2 = np.concatenate([arr2, np.array([0, 0, 0, i])])\n",
    "# print(arr2)\n",
    "\n",
    "answer(70)\n",
    "print('#'*10)\n",
    "\n",
    "new_arr = np.zeros(len(arr) + (len(arr)-1)*zeros) # the size of the new array is the size of actual elements + the zeros in between (3 zeros per each actual element except the last element.)\n",
    "new_arr[::zeros+1] = arr # this assigns a value of new_arr to an actual element in (arr).\n",
    "print(new_arr)\n"
   ]
  },
  {
   "cell_type": "markdown",
   "id": "fafa05b8",
   "metadata": {},
   "source": [
    "#### 71. Consider an array of dimension (5,5,3), how to multiply it by an array with dimensions (5,5)? (★★★)"
   ]
  },
  {
   "cell_type": "code",
   "execution_count": 75,
   "id": "0dbb5bd4",
   "metadata": {},
   "outputs": [
    {
     "name": "stdout",
     "output_type": "stream",
     "text": [
      "[[[1. 1. 1.]\n",
      "  [1. 1. 1.]\n",
      "  [1. 1. 1.]\n",
      "  [1. 1. 1.]\n",
      "  [1. 1. 1.]]\n",
      "\n",
      " [[1. 1. 1.]\n",
      "  [1. 1. 1.]\n",
      "  [1. 1. 1.]\n",
      "  [1. 1. 1.]\n",
      "  [1. 1. 1.]]\n",
      "\n",
      " [[1. 1. 1.]\n",
      "  [1. 1. 1.]\n",
      "  [1. 1. 1.]\n",
      "  [1. 1. 1.]\n",
      "  [1. 1. 1.]]\n",
      "\n",
      " [[1. 1. 1.]\n",
      "  [1. 1. 1.]\n",
      "  [1. 1. 1.]\n",
      "  [1. 1. 1.]\n",
      "  [1. 1. 1.]]\n",
      "\n",
      " [[1. 1. 1.]\n",
      "  [1. 1. 1.]\n",
      "  [1. 1. 1.]\n",
      "  [1. 1. 1.]\n",
      "  [1. 1. 1.]]]\n",
      "[[2. 2. 2. 2. 2.]\n",
      " [2. 2. 2. 2. 2.]\n",
      " [2. 2. 2. 2. 2.]\n",
      " [2. 2. 2. 2. 2.]\n",
      " [2. 2. 2. 2. 2.]]\n",
      "[[[2. 2. 2.]\n",
      "  [2. 2. 2.]\n",
      "  [2. 2. 2.]\n",
      "  [2. 2. 2.]\n",
      "  [2. 2. 2.]]\n",
      "\n",
      " [[2. 2. 2.]\n",
      "  [2. 2. 2.]\n",
      "  [2. 2. 2.]\n",
      "  [2. 2. 2.]\n",
      "  [2. 2. 2.]]\n",
      "\n",
      " [[2. 2. 2.]\n",
      "  [2. 2. 2.]\n",
      "  [2. 2. 2.]\n",
      "  [2. 2. 2.]\n",
      "  [2. 2. 2.]]\n",
      "\n",
      " [[2. 2. 2.]\n",
      "  [2. 2. 2.]\n",
      "  [2. 2. 2.]\n",
      "  [2. 2. 2.]\n",
      "  [2. 2. 2.]]\n",
      "\n",
      " [[2. 2. 2.]\n",
      "  [2. 2. 2.]\n",
      "  [2. 2. 2.]\n",
      "  [2. 2. 2.]\n",
      "  [2. 2. 2.]]]\n",
      "##########\n",
      "A = np.ones((5,5,3))\n",
      "B = 2*np.ones((5,5))\n",
      "print(A * B[:,:,None])\n",
      "##########\n",
      "[[[2. 2. 2.]\n",
      "  [2. 2. 2.]\n",
      "  [2. 2. 2.]\n",
      "  [2. 2. 2.]\n",
      "  [2. 2. 2.]]\n",
      "\n",
      " [[2. 2. 2.]\n",
      "  [2. 2. 2.]\n",
      "  [2. 2. 2.]\n",
      "  [2. 2. 2.]\n",
      "  [2. 2. 2.]]\n",
      "\n",
      " [[2. 2. 2.]\n",
      "  [2. 2. 2.]\n",
      "  [2. 2. 2.]\n",
      "  [2. 2. 2.]\n",
      "  [2. 2. 2.]]\n",
      "\n",
      " [[2. 2. 2.]\n",
      "  [2. 2. 2.]\n",
      "  [2. 2. 2.]\n",
      "  [2. 2. 2.]\n",
      "  [2. 2. 2.]]\n",
      "\n",
      " [[2. 2. 2.]\n",
      "  [2. 2. 2.]\n",
      "  [2. 2. 2.]\n",
      "  [2. 2. 2.]\n",
      "  [2. 2. 2.]]]\n"
     ]
    }
   ],
   "source": [
    "# by making the array with dimensions (5,5) -> (5,5,1)\n",
    "a = np.ones((5,5,3))\n",
    "b = 2*np.ones((5,5))\n",
    "c = b.reshape(5,5,1)\n",
    "print(a,b,a*c, sep='\\n')\n",
    "print('#'*10)\n",
    "\n",
    "answer(71)\n",
    "print('#'*10)\n",
    "\n",
    "print(a * b[:,:,None])\n",
    "\n",
    "# ========================\n",
    "# RESHAPE vs NEWAXIS (None)\n",
    "# ========================\n",
    "\n",
    "# RESHAPE USE CASES:\n",
    "# - Complete dimension reorganization: arr.reshape(2,3,4)\n",
    "# - When total elements must be preserved: 24 elements -> (2,3,4)\n",
    "# - Using -1 for auto-calculation: arr.reshape(5,-1,2)\n",
    "# - Flattening arrays: arr.reshape(-1)\n",
    "# - Converting between different dimensional layouts\n",
    "\n",
    "# NEWAXIS (None) USE CASES:\n",
    "# - Simply adding single dimensions: arr[:,None] or arr[None,:]\n",
    "# - Preparing for broadcasting: A * B[:,None]\n",
    "# - Converting 1D to column/row vectors: \n",
    "#   col_vector = arr[:,None]  # (n,) -> (n,1)\n",
    "#   row_vector = arr[None,:]  # (n,) -> (1,n)\n",
    "# - Quick dimension addition without full reshape\n",
    "\n",
    "# KEY DIFFERENCES:\n",
    "# reshape() - Manual control, must specify all dimensions\n",
    "# newaxis   - Automatic, preserves existing dimensions\n",
    "# reshape() - Can fail if element count doesn't match\n",
    "# newaxis   - Always works for dimension addition\n",
    "# reshape() - More explicit but verbose\n",
    "# newaxis   - Cleaner syntax for simple dimension adding\n",
    "\n",
    "# PERFORMANCE:\n",
    "# Both typically return views (memory efficient)\n",
    "# No significant performance difference for most cases\n",
    "\n",
    "# CODE EXAMPLES:\n",
    "# arr.reshape(5,5,1)    # Explicit full reshape\n",
    "# arr[:,:,None]         # Clean dimension addition\n",
    "# arr.reshape(-1,1)     # Auto-calc with reshape\n",
    "# arr[:,None]           # Same result with newaxis"
   ]
  },
  {
   "cell_type": "markdown",
   "id": "35a2bae5",
   "metadata": {},
   "source": [
    "#### 72. How to swap two rows of an array? (★★★)"
   ]
  },
  {
   "cell_type": "code",
   "execution_count": 76,
   "id": "d63b30c3",
   "metadata": {},
   "outputs": [
    {
     "name": "stdout",
     "output_type": "stream",
     "text": [
      "# Author: Eelco Hoogendoorn\n",
      "\n",
      "A = np.arange(25).reshape(5,5)\n",
      "A[[0,1]] = A[[1,0]]\n",
      "print(A)\n",
      "[[ 5  6  7  8  9]\n",
      " [ 0  1  2  3  4]\n",
      " [10 11 12 13 14]\n",
      " [15 16 17 18 19]\n",
      " [20 21 22 23 24]]\n"
     ]
    }
   ],
   "source": [
    "# using a temp var ?\n",
    "answer(72)\n",
    "\n",
    "a = np.arange(25).reshape((5,5))\n",
    "\n",
    "a[[0,1]] = a[[1,0]] # just like what you can do in normal python.\n",
    "print(a)"
   ]
  },
  {
   "cell_type": "markdown",
   "id": "b760fc57",
   "metadata": {},
   "source": [
    "#### 73. Consider a set of 10 triplets describing 10 triangles (with shared vertices), find the set of unique line segments composing all the  triangles (★★★)"
   ]
  },
  {
   "cell_type": "code",
   "execution_count": null,
   "id": "01738774",
   "metadata": {},
   "outputs": [
    {
     "name": "stdout",
     "output_type": "stream",
     "text": [
      "# Author: Nicolas P. Rougier\n",
      "\n",
      "faces = np.random.randint(0,100,(10,3))\n",
      "F = np.roll(faces.repeat(2,axis=1),-1,axis=1)\n",
      "F = F.reshape(len(F)*3,2)\n",
      "F = np.sort(F,axis=1)\n",
      "G = F.view( dtype=[('p0',F.dtype),('p1',F.dtype)] )\n",
      "G = np.unique(G)\n",
      "print(G)\n"
     ]
    }
   ],
   "source": [
    "# there is a solution using: reshape, meshgrid, sort, unique ... all together ... but I won't write it.\n",
    "\n",
    "answer(73)\n",
    "\n",
    "faces = np.random.randint(0,100,(10,3)) # per each edge of any triangle there is only (one value)\n",
    "\n",
    "F = np.roll(faces.repeat(2,axis=1),-1,axis=1) # all possible combinations of points (=line segments of each triangle) ... this doubles the number of points then roll them: \n",
    "# faces.repeat(2,axis=1) doubles each vertex: [a,b,c] → [a,a,b,b,c,c]\n",
    "# np.roll(...,-1,axis=1) shifts left by 1: [a,a,b,b,c,c] → [a,b,b,c,c,a]\n",
    "# Result: adjacent pairs representing edges: [(a,b), (b,c), (c,a)]\n",
    "\n",
    "F = F.reshape(len(F)*3,2) # (10,6) to (30,2)\n",
    "F = np.sort(F,axis=1) # Ensures [3,1] and [1,3] both become [1,3]\n",
    "\n",
    "G = F.view( dtype=[('p0',F.dtype),('p1',F.dtype)] )\n",
    "# view() reinterprets each [p0,p1] pair as a single structured element with two fields\n",
    "# This allows np.unique() to treat entire edge pairs as atomic units for comparison\n",
    "# Without this trick, np.unique() would treat the 2D array differently\n",
    "\n",
    "\n",
    "G = np.unique(G) # without the previous step this would be: np.unique(G, axis=0)\n",
    "print(G)"
   ]
  },
  {
   "cell_type": "markdown",
   "id": "2d28cdaa",
   "metadata": {},
   "source": [
    "#### 74. Given a sorted array C that corresponds to a bincount, how to produce an array A such that np.bincount(A) == C? (★★★)"
   ]
  },
  {
   "cell_type": "code",
   "execution_count": null,
   "id": "8423859b",
   "metadata": {},
   "outputs": [],
   "source": []
  },
  {
   "cell_type": "markdown",
   "id": "5f4cafbd",
   "metadata": {},
   "source": [
    "#### 75. How to compute averages using a sliding window over an array? (★★★)"
   ]
  },
  {
   "cell_type": "code",
   "execution_count": null,
   "id": "62d6d514",
   "metadata": {},
   "outputs": [],
   "source": []
  },
  {
   "cell_type": "markdown",
   "id": "575d8bb4",
   "metadata": {},
   "source": [
    "#### 76. Consider a one-dimensional array Z, build a two-dimensional array whose first row is (Z[0],Z[1],Z[2]) and each subsequent row is  shifted by 1 (last row should be (Z[-3],Z[-2],Z[-1]) (★★★)"
   ]
  },
  {
   "cell_type": "code",
   "execution_count": null,
   "id": "2a41d341",
   "metadata": {},
   "outputs": [],
   "source": []
  },
  {
   "cell_type": "markdown",
   "id": "80dc0b2a",
   "metadata": {},
   "source": [
    "#### 77. How to negate a boolean, or to change the sign of a float inplace? (★★★)"
   ]
  },
  {
   "cell_type": "code",
   "execution_count": null,
   "id": "6fc68014",
   "metadata": {},
   "outputs": [],
   "source": []
  },
  {
   "cell_type": "markdown",
   "id": "7288634d",
   "metadata": {},
   "source": [
    "#### 78. Consider 2 sets of points P0,P1 describing lines (2d) and a point p, how to compute distance from p to each line i (P0[i],P1[i])? (★★★)"
   ]
  },
  {
   "cell_type": "code",
   "execution_count": null,
   "id": "4602caa6",
   "metadata": {},
   "outputs": [],
   "source": []
  },
  {
   "cell_type": "markdown",
   "id": "e1880e79",
   "metadata": {},
   "source": [
    "#### 79. Consider 2 sets of points P0,P1 describing lines (2d) and a set of points P, how to compute distance from each point j (P[j]) to each line i (P0[i],P1[i])? (★★★)"
   ]
  },
  {
   "cell_type": "code",
   "execution_count": null,
   "id": "a14e151b",
   "metadata": {},
   "outputs": [],
   "source": []
  },
  {
   "cell_type": "markdown",
   "id": "b8a2a287",
   "metadata": {},
   "source": [
    "#### 80. Consider an arbitrary array, write a function that extracts a subpart with a fixed shape and centered on a given element (pad with a `fill` value when necessary) (★★★)"
   ]
  },
  {
   "cell_type": "code",
   "execution_count": null,
   "id": "86af1186",
   "metadata": {},
   "outputs": [],
   "source": []
  },
  {
   "cell_type": "markdown",
   "id": "caa64150",
   "metadata": {},
   "source": [
    "#### 81. Consider an array Z = [1,2,3,4,5,6,7,8,9,10,11,12,13,14], how to generate an array R = [[1,2,3,4], [2,3,4,5], [3,4,5,6], ..., [11,12,13,14]]? (★★★)"
   ]
  },
  {
   "cell_type": "code",
   "execution_count": null,
   "id": "4e7cc696",
   "metadata": {},
   "outputs": [],
   "source": []
  },
  {
   "cell_type": "markdown",
   "id": "9444c83b",
   "metadata": {},
   "source": [
    "#### 82. Compute a matrix rank (★★★)"
   ]
  },
  {
   "cell_type": "code",
   "execution_count": null,
   "id": "9e5c1d64",
   "metadata": {},
   "outputs": [],
   "source": []
  },
  {
   "cell_type": "markdown",
   "id": "6eef9f33",
   "metadata": {},
   "source": [
    "#### 83. How to find the most frequent value in an array?"
   ]
  },
  {
   "cell_type": "code",
   "execution_count": null,
   "id": "9fb60e52",
   "metadata": {},
   "outputs": [],
   "source": []
  },
  {
   "cell_type": "markdown",
   "id": "65f370f9",
   "metadata": {},
   "source": [
    "#### 84. Extract all the contiguous 3x3 blocks from a random 10x10 matrix (★★★)"
   ]
  },
  {
   "cell_type": "code",
   "execution_count": null,
   "id": "65ade1a6",
   "metadata": {},
   "outputs": [],
   "source": []
  },
  {
   "cell_type": "markdown",
   "id": "845ad7f8",
   "metadata": {},
   "source": [
    "#### 85. Create a 2D array subclass such that Z[i,j] == Z[j,i] (★★★)"
   ]
  },
  {
   "cell_type": "code",
   "execution_count": null,
   "id": "30b1ba71",
   "metadata": {},
   "outputs": [],
   "source": []
  },
  {
   "cell_type": "markdown",
   "id": "adc48f02",
   "metadata": {},
   "source": [
    "#### 86. Consider a set of p matrices with shape (n,n) and a set of p vectors with shape (n,1). How to compute the sum of of the p matrix products at once? (result has shape (n,1)) (★★★)"
   ]
  },
  {
   "cell_type": "code",
   "execution_count": null,
   "id": "ec798e90",
   "metadata": {},
   "outputs": [],
   "source": []
  },
  {
   "cell_type": "markdown",
   "id": "9efb34b2",
   "metadata": {},
   "source": [
    "#### 87. Consider a 16x16 array, how to get the block-sum (block size is 4x4)? (★★★)"
   ]
  },
  {
   "cell_type": "code",
   "execution_count": null,
   "id": "ea79f40b",
   "metadata": {},
   "outputs": [],
   "source": []
  },
  {
   "cell_type": "markdown",
   "id": "a9368578",
   "metadata": {},
   "source": [
    "#### 88. How to implement the Game of Life using numpy arrays? (★★★)"
   ]
  },
  {
   "cell_type": "code",
   "execution_count": null,
   "id": "315e9f11",
   "metadata": {},
   "outputs": [],
   "source": []
  },
  {
   "cell_type": "markdown",
   "id": "8c598af3",
   "metadata": {},
   "source": [
    "#### 89. How to get the n largest values of an array (★★★)"
   ]
  },
  {
   "cell_type": "code",
   "execution_count": null,
   "id": "cba8d433",
   "metadata": {},
   "outputs": [],
   "source": []
  },
  {
   "cell_type": "markdown",
   "id": "036a3bb0",
   "metadata": {},
   "source": [
    "#### 90. Given an arbitrary number of vectors, build the cartesian product (every combination of every item) (★★★)"
   ]
  },
  {
   "cell_type": "code",
   "execution_count": null,
   "id": "d712972d",
   "metadata": {},
   "outputs": [],
   "source": []
  },
  {
   "cell_type": "markdown",
   "id": "36487aab",
   "metadata": {},
   "source": [
    "#### 91. How to create a record array from a regular array? (★★★)"
   ]
  },
  {
   "cell_type": "code",
   "execution_count": null,
   "id": "9779dbac",
   "metadata": {},
   "outputs": [],
   "source": []
  },
  {
   "cell_type": "markdown",
   "id": "9f178562",
   "metadata": {},
   "source": [
    "#### 92. Consider a large vector Z, compute Z to the power of 3 using 3 different methods (★★★)"
   ]
  },
  {
   "cell_type": "code",
   "execution_count": null,
   "id": "b08000b8",
   "metadata": {},
   "outputs": [],
   "source": []
  },
  {
   "cell_type": "markdown",
   "id": "86acaf60",
   "metadata": {},
   "source": [
    "#### 93. Consider two arrays A and B of shape (8,3) and (2,2). How to find rows of A that contain elements of each row of B regardless of the order of the elements in B? (★★★)"
   ]
  },
  {
   "cell_type": "code",
   "execution_count": null,
   "id": "793b26d4",
   "metadata": {},
   "outputs": [],
   "source": []
  },
  {
   "cell_type": "markdown",
   "id": "c71b9df2",
   "metadata": {},
   "source": [
    "#### 94. Considering a 10x3 matrix, extract rows with unequal values (e.g. [2,2,3]) (★★★)"
   ]
  },
  {
   "cell_type": "code",
   "execution_count": null,
   "id": "494069f0",
   "metadata": {},
   "outputs": [],
   "source": []
  },
  {
   "cell_type": "markdown",
   "id": "1a8ae7c1",
   "metadata": {},
   "source": [
    "#### 95. Convert a vector of ints into a matrix binary representation (★★★)"
   ]
  },
  {
   "cell_type": "code",
   "execution_count": null,
   "id": "d5e967b8",
   "metadata": {},
   "outputs": [],
   "source": []
  },
  {
   "cell_type": "markdown",
   "id": "edef1198",
   "metadata": {},
   "source": [
    "#### 96. Given a two dimensional array, how to extract unique rows? (★★★)"
   ]
  },
  {
   "cell_type": "code",
   "execution_count": null,
   "id": "fa14799b",
   "metadata": {},
   "outputs": [],
   "source": []
  },
  {
   "cell_type": "markdown",
   "id": "575598a1",
   "metadata": {},
   "source": [
    "#### 97. Considering 2 vectors A & B, write the einsum equivalent of inner, outer, sum, and mul function (★★★)"
   ]
  },
  {
   "cell_type": "code",
   "execution_count": null,
   "id": "9da72f6e",
   "metadata": {},
   "outputs": [],
   "source": []
  },
  {
   "cell_type": "markdown",
   "id": "88e2796a",
   "metadata": {},
   "source": [
    "#### 98. Considering a path described by two vectors (X,Y), how to sample it using equidistant samples (★★★)?"
   ]
  },
  {
   "cell_type": "code",
   "execution_count": null,
   "id": "c17314f8",
   "metadata": {},
   "outputs": [],
   "source": []
  },
  {
   "cell_type": "markdown",
   "id": "8b25b7bd",
   "metadata": {},
   "source": [
    "#### 99. Given an integer n and a 2D array X, select from X the rows which can be interpreted as draws from a multinomial distribution with n degrees, i.e., the rows which only contain integers and which sum to n. (★★★)"
   ]
  },
  {
   "cell_type": "code",
   "execution_count": null,
   "id": "f0dc48cd",
   "metadata": {},
   "outputs": [],
   "source": []
  },
  {
   "cell_type": "markdown",
   "id": "b7068c76",
   "metadata": {},
   "source": [
    "#### 100. Compute bootstrapped 95% confidence intervals for the mean of a 1D array X (i.e., resample the elements of an array with replacement N times, compute the mean of each sample, and then compute percentiles over the means). (★★★)"
   ]
  },
  {
   "cell_type": "code",
   "execution_count": null,
   "id": "3c234201",
   "metadata": {},
   "outputs": [],
   "source": []
  }
 ],
 "metadata": {
  "kernelspec": {
   "display_name": ".venv",
   "language": "python",
   "name": "python3"
  },
  "language_info": {
   "codemirror_mode": {
    "name": "ipython",
    "version": 3
   },
   "file_extension": ".py",
   "mimetype": "text/x-python",
   "name": "python",
   "nbconvert_exporter": "python",
   "pygments_lexer": "ipython3",
   "version": "3.12.3"
  }
 },
 "nbformat": 4,
 "nbformat_minor": 5
}
