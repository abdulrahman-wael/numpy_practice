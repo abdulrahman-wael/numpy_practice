{
 "cells": [
  {
   "cell_type": "markdown",
   "id": "5a28b949",
   "metadata": {},
   "source": [
    "# 100 numpy exercises\n",
    "\n",
    "This is a collection of exercises that have been collected in the numpy mailing list, on stack overflow\n",
    "and in the numpy documentation. The goal of this collection is to offer a quick reference for both old\n",
    "and new users but also to provide a set of exercises for those who teach.\n",
    "\n",
    "\n",
    "If you find an error or think you've a better way to solve some of them, feel\n",
    "free to open an issue at <https://github.com/rougier/numpy-100>."
   ]
  },
  {
   "cell_type": "markdown",
   "id": "3f7a87ec",
   "metadata": {},
   "source": [
    "File automatically generated. See the documentation to update questions/answers/hints programmatically."
   ]
  },
  {
   "cell_type": "markdown",
   "id": "854ecf1b",
   "metadata": {},
   "source": [
    "Run the `initialise.py` module, then for each question you can query the\n",
    "answer or an hint with `hint(n)` or `answer(n)` for `n` question number."
   ]
  },
  {
   "cell_type": "code",
   "execution_count": 2,
   "id": "c53ea877",
   "metadata": {},
   "outputs": [],
   "source": [
    "%run initialise.py"
   ]
  },
  {
   "cell_type": "markdown",
   "id": "c00df986",
   "metadata": {},
   "source": [
    "#### 1. Import the numpy package under the name `np` (★☆☆)"
   ]
  },
  {
   "cell_type": "code",
   "execution_count": 3,
   "id": "35bde95c",
   "metadata": {},
   "outputs": [],
   "source": [
    "import numpy as np"
   ]
  },
  {
   "cell_type": "markdown",
   "id": "b555a89f",
   "metadata": {},
   "source": [
    "#### 2. Print the numpy version and the configuration (★☆☆) !"
   ]
  },
  {
   "cell_type": "code",
   "execution_count": 4,
   "id": "2c9d363d",
   "metadata": {},
   "outputs": [
    {
     "name": "stdout",
     "output_type": "stream",
     "text": [
      "2.3.3\n",
      "<module 'numpy.__config__' from '/home/abdulrahman/code/numpy_practice/.venv/lib/python3.12/site-packages/numpy/__config__.py'>\n",
      "hint: np.__version__, np.show_config)\n"
     ]
    }
   ],
   "source": [
    "print(np.__version__)\n",
    "print(np.__config__)\n",
    "np.show_config # XXXXXXXXXXXXXXXXXXXXXX\n",
    "# what is the difference between show_config, __config__ ?\n",
    "hint(2)"
   ]
  },
  {
   "cell_type": "markdown",
   "id": "e2713407",
   "metadata": {},
   "source": [
    "#### 3. Create a null vector of size 10 (★☆☆)"
   ]
  },
  {
   "cell_type": "code",
   "execution_count": 5,
   "id": "6df2f6db",
   "metadata": {},
   "outputs": [
    {
     "name": "stdout",
     "output_type": "stream",
     "text": [
      "[0. 0. 0. 0. 0. 0. 0. 0. 0. 0.]\n",
      "hint: np.zeros\n",
      "Z = np.zeros(10)\n",
      "print(Z)\n"
     ]
    }
   ],
   "source": [
    "print(np.zeros(10))\n",
    "hint(3)\n",
    "answer(3)\n",
    "\n",
    "# isn't it called a null vector? why it contains a number 0."
   ]
  },
  {
   "cell_type": "markdown",
   "id": "5a09554f",
   "metadata": {},
   "source": [
    "#### 4. How to find the memory size of any array (★☆☆) !"
   ]
  },
  {
   "cell_type": "code",
   "execution_count": 6,
   "id": "c55a2a00",
   "metadata": {},
   "outputs": [
    {
     "name": "stdout",
     "output_type": "stream",
     "text": [
      "10\n",
      "Z = np.zeros((10,10))\n",
      "print(\"%d bytes\" % (Z.size * Z.itemsize))\n",
      "\n",
      "# Simpler alternative\n",
      "print(\"%d bytes\" % Z.nbytes)\n",
      "80\n",
      "80\n"
     ]
    }
   ],
   "source": [
    "print(np.zeros(10).size) # XXXXXXXXXXXXXXXXX - this is not in \"Memory\"\n",
    "answer(4)\n",
    "\n",
    "print(np.zeros(10).size * np.zeros(10).itemsize)\n",
    "print(np.zeros(10).nbytes)"
   ]
  },
  {
   "cell_type": "markdown",
   "id": "4720d438",
   "metadata": {},
   "source": [
    "#### 5. How to get the documentation of the numpy add function from the command line? (★☆☆) !"
   ]
  },
  {
   "cell_type": "code",
   "execution_count": 7,
   "id": "d9e2277e",
   "metadata": {},
   "outputs": [
    {
     "name": "stdout",
     "output_type": "stream",
     "text": [
      "add(x1, x2, /, out=None, *, where=True, casting='same_kind', order='K', dtype=None, subok=True[, signature])\n",
      "\n",
      "Add arguments element-wise.\n",
      "\n",
      "Parameters\n",
      "----------\n",
      "x1, x2 : array_like\n",
      "    The arrays to be added.\n",
      "    If ``x1.shape != x2.shape``, they must be broadcastable to a common\n",
      "    shape (which becomes the shape of the output).\n",
      "out : ndarray, None, or tuple of ndarray and None, optional\n",
      "    A location into which the result is stored. If provided, it must have\n",
      "    a shape that the inputs broadcast to. If not provided or None,\n",
      "    a freshly-allocated array is returned. A tuple (possible only as a\n",
      "    keyword argument) must have length equal to the number of outputs.\n",
      "where : array_like, optional\n",
      "    This condition is broadcast over the input. At locations where the\n",
      "    condition is True, the `out` array will be set to the ufunc result.\n",
      "    Elsewhere, the `out` array will retain its original value.\n",
      "    Note that if an uninitialized `out` array is created via the default\n",
      "    ``out=None``, locations within it where the condition is False will\n",
      "    remain uninitialized.\n",
      "**kwargs\n",
      "    For other keyword-only arguments, see the\n",
      "    :ref:`ufunc docs <ufuncs.kwargs>`.\n",
      "\n",
      "Returns\n",
      "-------\n",
      "add : ndarray or scalar\n",
      "    The sum of `x1` and `x2`, element-wise.\n",
      "    This is a scalar if both `x1` and `x2` are scalars.\n",
      "\n",
      "Notes\n",
      "-----\n",
      "Equivalent to `x1` + `x2` in terms of array broadcasting.\n",
      "\n",
      "Examples\n",
      "--------\n",
      ">>> import numpy as np\n",
      ">>> np.add(1.0, 4.0)\n",
      "5.0\n",
      ">>> x1 = np.arange(9.0).reshape((3, 3))\n",
      ">>> x2 = np.arange(3.0)\n",
      ">>> np.add(x1, x2)\n",
      "array([[  0.,   2.,   4.],\n",
      "       [  3.,   5.,   7.],\n",
      "       [  6.,   8.,  10.]])\n",
      "\n",
      "The ``+`` operator can be used as a shorthand for ``np.add`` on ndarrays.\n",
      "\n",
      ">>> x1 = np.arange(9.0).reshape((3, 3))\n",
      ">>> x2 = np.arange(3.0)\n",
      ">>> x1 + x2\n",
      "array([[ 0.,  2.,  4.],\n",
      "       [ 3.,  5.,  7.],\n",
      "       [ 6.,  8., 10.]])\n",
      "%run `python -c \"import numpy; numpy.info(numpy.add)\"`\n"
     ]
    }
   ],
   "source": [
    "print(np.add.__doc__) # XXXXXXXXXXXX - not in Bash\n",
    "answer(5)\n",
    "\n",
    "# !python -c \"import numpy; numpy.info(numpy.add)\""
   ]
  },
  {
   "cell_type": "markdown",
   "id": "b812d322",
   "metadata": {},
   "source": [
    "#### 6. Create a null vector of size 10 but the fifth value which is 1 (★☆☆)"
   ]
  },
  {
   "cell_type": "code",
   "execution_count": 8,
   "id": "9f95cedf",
   "metadata": {},
   "outputs": [
    {
     "data": {
      "text/plain": [
       "array([0., 0., 0., 0., 1., 0., 0., 0., 0., 0.])"
      ]
     },
     "execution_count": 8,
     "metadata": {},
     "output_type": "execute_result"
    }
   ],
   "source": [
    "vec = np.zeros(10)\n",
    "vec[4] = 1\n",
    "vec"
   ]
  },
  {
   "cell_type": "markdown",
   "id": "a348f2a8",
   "metadata": {},
   "source": [
    "#### 7. Create a vector with values ranging from 10 to 49 (★☆☆)"
   ]
  },
  {
   "cell_type": "code",
   "execution_count": 9,
   "id": "5a68fd5b",
   "metadata": {},
   "outputs": [
    {
     "data": {
      "text/plain": [
       "array([10, 11, 12, 13, 14, 15, 16, 17, 18, 19, 20, 21, 22, 23, 24, 25, 26,\n",
       "       27, 28, 29, 30, 31, 32, 33, 34, 35, 36, 37, 38, 39, 40, 41, 42, 43,\n",
       "       44, 45, 46, 47, 48, 49])"
      ]
     },
     "execution_count": 9,
     "metadata": {},
     "output_type": "execute_result"
    }
   ],
   "source": [
    "vec = np.arange(10,50)\n",
    "vec"
   ]
  },
  {
   "cell_type": "markdown",
   "id": "2f4ca4c0",
   "metadata": {},
   "source": [
    "#### 8. Reverse a vector (first element becomes last) (★☆☆) !"
   ]
  },
  {
   "cell_type": "code",
   "execution_count": 10,
   "id": "1892e775",
   "metadata": {},
   "outputs": [
    {
     "data": {
      "text/plain": [
       "array([49, 48, 47, 46, 45, 44, 43, 42, 41, 40, 39, 38, 37, 36, 35, 34, 33,\n",
       "       32, 31, 30, 29, 28, 27, 26, 25, 24, 23, 22, 21, 20, 19, 18, 17, 16,\n",
       "       15, 14, 13, 12, 11, 10])"
      ]
     },
     "execution_count": 10,
     "metadata": {},
     "output_type": "execute_result"
    }
   ],
   "source": [
    "# vec[-1:0:-1] # where is the first element ?! # XXXXXXXXX\n",
    "\n",
    "vec[::-1]"
   ]
  },
  {
   "cell_type": "markdown",
   "id": "31381832",
   "metadata": {},
   "source": [
    "#### 9. Create a 3x3 matrix with values ranging from 0 to 8 (★☆☆)"
   ]
  },
  {
   "cell_type": "code",
   "execution_count": 11,
   "id": "0154f251",
   "metadata": {},
   "outputs": [
    {
     "data": {
      "text/plain": [
       "array([[0, 1, 2],\n",
       "       [3, 4, 5],\n",
       "       [6, 7, 8]])"
      ]
     },
     "execution_count": 11,
     "metadata": {},
     "output_type": "execute_result"
    }
   ],
   "source": [
    "vec = np.arange(9).reshape(3,3)\n",
    "vec"
   ]
  },
  {
   "cell_type": "markdown",
   "id": "8c353e84",
   "metadata": {},
   "source": [
    "#### 10. Find indices of non-zero elements from [1,2,0,0,4,0] (★☆☆) !"
   ]
  },
  {
   "cell_type": "code",
   "execution_count": 12,
   "id": "da3495c3",
   "metadata": {},
   "outputs": [
    {
     "data": {
      "text/plain": [
       "(array([0, 1, 4]),)"
      ]
     },
     "execution_count": 12,
     "metadata": {},
     "output_type": "execute_result"
    }
   ],
   "source": [
    "# vec = np.array([1,2,0,0,4,0])\n",
    "# vec[vec != 0] # XXXXXXXXXXXXX -> this will get the values themselves not the indices\n",
    "\n",
    "np.nonzero([1,2,0,0,4,0])"
   ]
  },
  {
   "cell_type": "markdown",
   "id": "a26ac749",
   "metadata": {},
   "source": [
    "#### 11. Create a 3x3 identity matrix (★☆☆) !"
   ]
  },
  {
   "cell_type": "code",
   "execution_count": 13,
   "id": "3e33feda",
   "metadata": {},
   "outputs": [
    {
     "data": {
      "text/plain": [
       "array([[1., 0., 0.],\n",
       "       [0., 1., 0.],\n",
       "       [0., 0., 1.]])"
      ]
     },
     "execution_count": 13,
     "metadata": {},
     "output_type": "execute_result"
    }
   ],
   "source": [
    "np.identity(3) # also: np.eye(N, M=None, k=0, dtype=None) -> it's more versatile\n",
    "# N = rows, M = cols, k = diagonal position."
   ]
  },
  {
   "cell_type": "markdown",
   "id": "3a293379",
   "metadata": {},
   "source": [
    "#### 12. Create a 3x3x3 array with random values (★☆☆)"
   ]
  },
  {
   "cell_type": "code",
   "execution_count": 14,
   "id": "2da08152",
   "metadata": {},
   "outputs": [
    {
     "data": {
      "text/plain": [
       "array([[[-1.53840671,  0.06673884,  0.46594854],\n",
       "        [-0.61135516, -2.45139618,  1.38477783],\n",
       "        [-1.2407499 , -1.06229057,  0.82761171]],\n",
       "\n",
       "       [[-0.11158304,  0.04575573,  0.84770958],\n",
       "        [-2.03040155,  0.86708603, -0.10116526],\n",
       "        [-0.70835473,  0.41078449,  2.83727941]],\n",
       "\n",
       "       [[-1.52027929,  0.31120142,  1.13680816],\n",
       "        [ 0.08299304,  0.11109111,  0.14299906],\n",
       "        [ 0.40832796, -1.04112379,  1.2911081 ]]])"
      ]
     },
     "execution_count": 14,
     "metadata": {},
     "output_type": "execute_result"
    }
   ],
   "source": [
    "np.random.randn(3,3,3)"
   ]
  },
  {
   "cell_type": "markdown",
   "id": "e3faa924",
   "metadata": {},
   "source": [
    "#### 13. Create a 10x10 array with random values and find the minimum and maximum values (★☆☆)"
   ]
  },
  {
   "cell_type": "code",
   "execution_count": 15,
   "id": "e9fb3793",
   "metadata": {},
   "outputs": [
    {
     "name": "stdout",
     "output_type": "stream",
     "text": [
      "[[ 1.27604748e+00 -3.92601856e-01 -2.95626016e-01  4.85002871e-01\n",
      "  -1.48583548e+00 -5.58202495e-01 -3.95654148e-01  4.13629894e-01\n",
      "  -2.74501728e+00  7.75842072e-01]\n",
      " [ 1.14519227e+00 -1.77615339e+00  1.17134495e-01 -4.64152250e-01\n",
      "   6.35847551e-01  1.94652837e+00 -6.35281494e-01 -1.25869869e+00\n",
      "  -1.14392085e+00 -6.37969400e-01]\n",
      " [-1.28197349e+00 -5.83558057e-01  8.78972356e-01  1.49687392e+00\n",
      "  -8.51290594e-04 -8.67213476e-01  8.78816060e-01  1.89167042e+00\n",
      "   3.54085571e-01  1.33612054e+00]\n",
      " [-2.55879440e-02  3.73035121e-01  1.76952785e-01  6.42976334e-02\n",
      "  -9.02057158e-01  1.13383592e+00 -6.08198452e-01 -3.15521103e-01\n",
      "  -1.01782255e+00 -1.49854819e+00]\n",
      " [ 1.36147715e+00 -5.48279069e-01 -2.14372348e-01 -2.22450546e-01\n",
      "  -4.85376765e-01  2.04927321e+00 -1.68448544e-01  2.10882474e-01\n",
      "  -1.84635187e-01 -1.34647967e+00]\n",
      " [ 2.35825662e-01 -1.36318036e+00 -2.31448402e+00  1.28550682e-01\n",
      "   4.29051086e-01 -3.41141896e-01  1.47550337e+00 -1.73801609e+00\n",
      "  -9.61236408e-01 -7.77933456e-01]\n",
      " [ 8.55543309e-04 -4.44460568e-02  1.54975955e+00 -1.07758067e-01\n",
      "   8.36145520e-01 -1.25970011e+00 -3.24650241e-01 -1.21312740e+00\n",
      "  -4.81445640e-01 -9.90887626e-01]\n",
      " [-3.01419807e-01  2.58567367e-01 -4.45484866e-01  1.93107597e+00\n",
      "  -1.16165790e+00 -6.46999868e-01 -5.20458064e-01 -1.91492807e-01\n",
      "  -1.42522161e+00  4.81103017e-01]\n",
      " [-5.46200866e-01  1.37154544e+00  5.67814992e-02  1.58722803e+00\n",
      "   4.19227785e-02  9.47539138e-01  1.30913019e+00 -2.12632747e-01\n",
      "  -6.68822335e-01 -6.60625339e-01]\n",
      " [ 6.12783887e-01  4.40161730e-01  1.21467904e+00 -8.23814963e-01\n",
      "   6.54165556e-01 -1.77274155e+00 -1.14129714e+00 -2.04200959e+00\n",
      "  -2.11498596e-01  1.46171820e+00]]\n",
      "2.049273213101873 -2.7450172764813368\n"
     ]
    }
   ],
   "source": [
    "vec = np.random.randn(10,10)\n",
    "print(vec)\n",
    "print(vec.max(), vec.min())"
   ]
  },
  {
   "cell_type": "markdown",
   "id": "317cb8d1",
   "metadata": {},
   "source": [
    "#### 14. Create a random vector of size 30 and find the mean value (★☆☆)"
   ]
  },
  {
   "cell_type": "code",
   "execution_count": 16,
   "id": "4ea995d6",
   "metadata": {},
   "outputs": [
    {
     "data": {
      "text/plain": [
       "np.float64(-0.31474956902949985)"
      ]
     },
     "execution_count": 16,
     "metadata": {},
     "output_type": "execute_result"
    }
   ],
   "source": [
    "np.random.randn(30).mean()"
   ]
  },
  {
   "cell_type": "markdown",
   "id": "b8dee0f2",
   "metadata": {},
   "source": [
    "#### 15. Create a 2d array with 1 on the border and 0 inside (★☆☆) !"
   ]
  },
  {
   "cell_type": "code",
   "execution_count": 17,
   "id": "7054464b",
   "metadata": {},
   "outputs": [
    {
     "data": {
      "text/plain": [
       "array([[1., 1., 1., 1., 1., 1., 1., 1., 1., 1.],\n",
       "       [1., 0., 0., 0., 0., 0., 0., 0., 0., 1.],\n",
       "       [1., 0., 0., 0., 0., 0., 0., 0., 0., 1.],\n",
       "       [1., 0., 0., 0., 0., 0., 0., 0., 0., 1.],\n",
       "       [1., 0., 0., 0., 0., 0., 0., 0., 0., 1.],\n",
       "       [1., 0., 0., 0., 0., 0., 0., 0., 0., 1.],\n",
       "       [1., 0., 0., 0., 0., 0., 0., 0., 0., 1.],\n",
       "       [1., 0., 0., 0., 0., 0., 0., 0., 0., 1.],\n",
       "       [1., 0., 0., 0., 0., 0., 0., 0., 0., 1.],\n",
       "       [1., 1., 1., 1., 1., 1., 1., 1., 1., 1.]])"
      ]
     },
     "execution_count": 17,
     "metadata": {},
     "output_type": "execute_result"
    }
   ],
   "source": [
    "vec = np.ones([10,10])\n",
    "\n",
    "vec[1:-1,1:-1] = 0\n",
    "\n",
    "vec"
   ]
  },
  {
   "cell_type": "markdown",
   "id": "1476f45f",
   "metadata": {},
   "source": [
    "#### 16. How to add a border (filled with 0's) around an existing array? (★☆☆) !"
   ]
  },
  {
   "cell_type": "code",
   "execution_count": 18,
   "id": "4f0212af",
   "metadata": {},
   "outputs": [
    {
     "data": {
      "text/plain": [
       "array([[0., 0., 0., 0., 0., 0., 0., 0., 0., 0., 0., 0.],\n",
       "       [0., 1., 1., 1., 1., 1., 1., 1., 1., 1., 1., 0.],\n",
       "       [0., 1., 1., 1., 1., 1., 1., 1., 1., 1., 1., 0.],\n",
       "       [0., 1., 1., 1., 1., 1., 1., 1., 1., 1., 1., 0.],\n",
       "       [0., 1., 1., 1., 1., 1., 1., 1., 1., 1., 1., 0.],\n",
       "       [0., 1., 1., 1., 1., 1., 1., 1., 1., 1., 1., 0.],\n",
       "       [0., 1., 1., 1., 1., 1., 1., 1., 1., 1., 1., 0.],\n",
       "       [0., 1., 1., 1., 1., 1., 1., 1., 1., 1., 1., 0.],\n",
       "       [0., 1., 1., 1., 1., 1., 1., 1., 1., 1., 1., 0.],\n",
       "       [0., 1., 1., 1., 1., 1., 1., 1., 1., 1., 1., 0.],\n",
       "       [0., 1., 1., 1., 1., 1., 1., 1., 1., 1., 1., 0.],\n",
       "       [0., 0., 0., 0., 0., 0., 0., 0., 0., 0., 0., 0.]])"
      ]
     },
     "execution_count": 18,
     "metadata": {},
     "output_type": "execute_result"
    }
   ],
   "source": [
    "# ??\n",
    "\n",
    "vec = np.ones([10,10])\n",
    "vec = np.pad(vec, pad_width=1, mode='constant', constant_values=[0])\n",
    "vec"
   ]
  },
  {
   "cell_type": "markdown",
   "id": "52844dc7",
   "metadata": {},
   "source": [
    "#### 17. What is the result of the following expression? (★☆☆) !\n",
    "```python\n",
    "0 * np.nan\n",
    "np.nan == np.nan\n",
    "np.inf > np.nan\n",
    "np.nan - np.nan\n",
    "np.nan in set([np.nan])\n",
    "0.3 == 3 * 0.1\n",
    "```"
   ]
  },
  {
   "cell_type": "code",
   "execution_count": 19,
   "id": "cfdb7352",
   "metadata": {},
   "outputs": [
    {
     "name": "stdout",
     "output_type": "stream",
     "text": [
      "nan\n",
      "False\n",
      "False\n",
      "nan\n",
      "True\n",
      "False\n"
     ]
    }
   ],
   "source": [
    "print(0 * np.nan)\n",
    "print(np.nan == np.nan)\n",
    "print(np.inf > np.nan)\n",
    "print(np.nan - np.nan)\n",
    "print(np.nan in set([np.nan]))\n",
    "print(0.3 == 3 * 0.1)"
   ]
  },
  {
   "cell_type": "markdown",
   "id": "9801c961",
   "metadata": {},
   "source": [
    "#### 18. Create a 5x5 matrix with values 1,2,3,4 just below the diagonal (★☆☆) !"
   ]
  },
  {
   "cell_type": "code",
   "execution_count": 20,
   "id": "4e97651a",
   "metadata": {},
   "outputs": [
    {
     "data": {
      "text/plain": [
       "array([[0, 0, 0, 0, 0],\n",
       "       [1, 0, 0, 0, 0],\n",
       "       [0, 2, 0, 0, 0],\n",
       "       [0, 0, 3, 0, 0],\n",
       "       [0, 0, 0, 4, 0]])"
      ]
     },
     "execution_count": 20,
     "metadata": {},
     "output_type": "execute_result"
    }
   ],
   "source": [
    "vec = np.zeros([5,5])\n",
    "\n",
    "vec[4,0:4] = [1,2,3,4]\n",
    "\n",
    "vec\n",
    "\n",
    "# another solution: \n",
    "np.diag(1+np.arange(4), k=-1) \n",
    "# 1. this first creates a diagonal below the original one (at k=0) \n",
    "# 2. the content of it is [1,2,3,4] which is equal to (1 + np.arange(4))\n",
    "# 3. the size of the array is (5*5) because the diagonal we created at (k=-1) have 4 elements so the original one will have 5 elements\n",
    "# 4. the rest of the elements are zero default"
   ]
  },
  {
   "cell_type": "markdown",
   "id": "3dc05e9f",
   "metadata": {},
   "source": [
    "#### 19. Create a 8x8 matrix and fill it with a checkerboard pattern (★☆☆) ! "
   ]
  },
  {
   "cell_type": "code",
   "execution_count": 21,
   "id": "0b100b85",
   "metadata": {},
   "outputs": [
    {
     "data": {
      "text/plain": [
       "array([[0., 1., 0., 1., 0., 1., 0., 1.],\n",
       "       [1., 0., 1., 0., 1., 0., 1., 0.],\n",
       "       [0., 1., 0., 1., 0., 1., 0., 1.],\n",
       "       [1., 0., 1., 0., 1., 0., 1., 0.],\n",
       "       [0., 1., 0., 1., 0., 1., 0., 1.],\n",
       "       [1., 0., 1., 0., 1., 0., 1., 0.],\n",
       "       [0., 1., 0., 1., 0., 1., 0., 1.],\n",
       "       [1., 0., 1., 0., 1., 0., 1., 0.]])"
      ]
     },
     "execution_count": 21,
     "metadata": {},
     "output_type": "execute_result"
    }
   ],
   "source": [
    "# ??\n",
    "vec = np.zeros([8,8])\n",
    "vec[1::2, ::2] = 1\n",
    "vec[::2, 1::2] = 1\n",
    "\n",
    "vec\n"
   ]
  },
  {
   "cell_type": "markdown",
   "id": "d8e941b6",
   "metadata": {},
   "source": [
    "#### 20. Consider a (6,7,8) shape array, what is the index (x,y,z) of the 100th element? (★☆☆)"
   ]
  },
  {
   "cell_type": "code",
   "execution_count": 22,
   "id": "b3bc1fcb",
   "metadata": {},
   "outputs": [
    {
     "data": {
      "text/plain": [
       "(np.int64(1), np.int64(5), np.int64(3))"
      ]
     },
     "execution_count": 22,
     "metadata": {},
     "output_type": "execute_result"
    }
   ],
   "source": [
    "vec = np.zeros([6,7,8])\n",
    "\n",
    "flat = vec.flatten()\n",
    "\n",
    "flat[99] = 6\n",
    "\n",
    "vec = flat.reshape(6,7,8)\n",
    "\n",
    "np.where(vec == 6)\n",
    "\n",
    "\n",
    "# another solution: \n",
    "np.unravel_index(99,(6,7,8)) # finding the corresponding index to a flat index in a multidimensional shape."
   ]
  },
  {
   "cell_type": "markdown",
   "id": "bf3b8ab3",
   "metadata": {},
   "source": [
    "#### 21. Create a checkerboard 8x8 matrix using the tile function (★☆☆)"
   ]
  },
  {
   "cell_type": "code",
   "execution_count": 23,
   "id": "eb15c681",
   "metadata": {},
   "outputs": [
    {
     "data": {
      "text/plain": [
       "array([[0, 1, 0, 1, 0, 1, 0, 1],\n",
       "       [0, 1, 0, 1, 0, 1, 0, 1],\n",
       "       [0, 1, 0, 1, 0, 1, 0, 1],\n",
       "       [0, 1, 0, 1, 0, 1, 0, 1],\n",
       "       [0, 1, 0, 1, 0, 1, 0, 1],\n",
       "       [0, 1, 0, 1, 0, 1, 0, 1],\n",
       "       [0, 1, 0, 1, 0, 1, 0, 1],\n",
       "       [0, 1, 0, 1, 0, 1, 0, 1]])"
      ]
     },
     "execution_count": 23,
     "metadata": {},
     "output_type": "execute_result"
    }
   ],
   "source": [
    "np.tile([0,1], [8,4])"
   ]
  },
  {
   "cell_type": "markdown",
   "id": "71af9d19",
   "metadata": {},
   "source": [
    "#### 22. Normalize a 5x5 random matrix (★☆☆)"
   ]
  },
  {
   "cell_type": "code",
   "execution_count": 24,
   "id": "df20b788",
   "metadata": {},
   "outputs": [
    {
     "name": "stdout",
     "output_type": "stream",
     "text": [
      "[[0.63649035 0.52619213 0.49604938 0.46199377 0.38896833]\n",
      " [0.37437692 0.46769899 0.61578534 0.         0.64213695]\n",
      " [0.22620673 0.35299977 0.68119958 0.65273327 0.62597741]\n",
      " [0.63916873 0.92482193 0.49861949 0.68313069 0.77037783]\n",
      " [0.66758717 0.38700567 0.62221422 0.57539494 1.        ]]\n"
     ]
    }
   ],
   "source": [
    "val = np.random.randn(5,5)\n",
    "\n",
    "print((val - val.min())/(val.max() - val.min()) )"
   ]
  },
  {
   "cell_type": "markdown",
   "id": "01cd9893",
   "metadata": {},
   "source": [
    "#### 23. Create a custom dtype that describes a color as four unsigned bytes (RGBA) (★☆☆)"
   ]
  },
  {
   "cell_type": "code",
   "execution_count": 25,
   "id": "4acddc2f",
   "metadata": {},
   "outputs": [
    {
     "data": {
      "text/plain": [
       "array([(15, 13, 4, 0), ( 0,  0, 0, 0), ( 0,  0, 0, 0)],\n",
       "      dtype=[('R', 'u1'), ('G', 'u1'), ('B', 'u1'), ('A', 'u1')])"
      ]
     },
     "execution_count": 25,
     "metadata": {},
     "output_type": "execute_result"
    }
   ],
   "source": [
    "# !\n",
    "color = np.dtype([\n",
    "    ('R', 'u1'),\n",
    "    ('G', 'uint8'),\n",
    "    ('B', 'uint8'),\n",
    "    ('A', 'uint8')\n",
    "])\n",
    "# u1 = uint8\n",
    "\n",
    "colors = np.empty(3, dtype=color)\n",
    "\n",
    "colors"
   ]
  },
  {
   "cell_type": "markdown",
   "id": "0ef5f38b",
   "metadata": {},
   "source": [
    "#### 24. Multiply a 5x3 matrix by a 3x2 matrix (real matrix product) (★☆☆)"
   ]
  },
  {
   "cell_type": "code",
   "execution_count": 26,
   "id": "3d36d4a0",
   "metadata": {},
   "outputs": [
    {
     "name": "stdout",
     "output_type": "stream",
     "text": [
      "[[3 9 8]\n",
      " [9 6 4]\n",
      " [5 3 9]\n",
      " [6 1 4]\n",
      " [3 8 3]]\n",
      "[[9 2]\n",
      " [6 7]\n",
      " [8 2]]\n"
     ]
    },
    {
     "data": {
      "text/plain": [
       "array([[145,  85],\n",
       "       [149,  68],\n",
       "       [135,  49],\n",
       "       [ 92,  27],\n",
       "       [ 99,  68]])"
      ]
     },
     "execution_count": 26,
     "metadata": {},
     "output_type": "execute_result"
    }
   ],
   "source": [
    "val = np.random.randint(1,10, [5,3]) \n",
    "val2 = np.random.randint(1,10, [3,2])\n",
    "\n",
    "print(val)\n",
    "\n",
    "print(val2)\n",
    "\n",
    "val @ val2 #!"
   ]
  },
  {
   "cell_type": "markdown",
   "id": "a46db425",
   "metadata": {},
   "source": [
    "#### 25. Given a 1D array, negate all elements which are between 3 and 8, in place. (★☆☆)"
   ]
  },
  {
   "cell_type": "code",
   "execution_count": 27,
   "id": "86e3d6a8",
   "metadata": {},
   "outputs": [
    {
     "data": {
      "text/plain": [
       "array([0, 1, 2, 3, 6, 5, 4, 3, 8, 9])"
      ]
     },
     "execution_count": 27,
     "metadata": {},
     "output_type": "execute_result"
    }
   ],
   "source": [
    "val = np.arange(10)\n",
    "\n",
    "val[4:8] = 10 - val[4:8]\n",
    "\n",
    "val\n",
    "\n",
    "# answer(25)\n",
    "# # Author: Evgeni Burovski\n",
    "\n",
    "# Z = np.arange(11)\n",
    "# Z[(3 < Z) & (Z < 8)] *= -1 # !\n",
    "# print(Z)"
   ]
  },
  {
   "cell_type": "markdown",
   "id": "89fa6007",
   "metadata": {},
   "source": [
    "#### 26. What is the output of the following script? (★☆☆)\n",
    "```python\n",
    "# Author: Jake VanderPlas\n",
    "\n",
    "print(sum(range(5),-1))\n",
    "from numpy import *\n",
    "print(sum(range(5),-1))\n",
    "```"
   ]
  },
  {
   "cell_type": "code",
   "execution_count": 28,
   "id": "59f2c6dc",
   "metadata": {},
   "outputs": [
    {
     "data": {
      "text/plain": [
       "15"
      ]
     },
     "execution_count": 28,
     "metadata": {},
     "output_type": "execute_result"
    }
   ],
   "source": [
    "14 # !\n",
    "15 # !"
   ]
  },
  {
   "cell_type": "markdown",
   "id": "38de4589",
   "metadata": {},
   "source": [
    "#### 27. Consider an integer vector Z, which of these expressions are legal? (★☆☆)\n",
    "```python\n",
    "Z**Z\n",
    "2 << Z >> 2\n",
    "Z <- Z\n",
    "1j*Z\n",
    "Z/1/1\n",
    "Z<Z>Z\n",
    "```"
   ]
  },
  {
   "cell_type": "code",
   "execution_count": 29,
   "id": "a9dc9520",
   "metadata": {},
   "outputs": [
    {
     "name": "stdout",
     "output_type": "stream",
     "text": [
      "Z**Z\n",
      "2 << Z >> 2\n",
      "Z <- Z\n",
      "1j*Z\n",
      "Z/1/1\n",
      "Z<Z>Z\n",
      "27\n",
      "4\n",
      "False\n",
      "3j\n",
      "3.0\n",
      "False\n"
     ]
    }
   ],
   "source": [
    "# !\n",
    "\n",
    "I = 3\n",
    "2 << I >> 2\n",
    "I <- I # = I < - I\n",
    "\n",
    "answer(27)\n",
    "Z = 3\n",
    "print(Z**Z)\n",
    "print(2 << Z >> 2)\n",
    "print(Z <- Z)\n",
    "print(1j*Z)\n",
    "print(Z/1/1)\n",
    "print(Z<Z>Z)"
   ]
  },
  {
   "cell_type": "markdown",
   "id": "77c8b8c7",
   "metadata": {},
   "source": [
    "#### 28. What are the result of the following expressions? (★☆☆)\n",
    "```python\n",
    "np.array(0) / np.array(0)\n",
    "np.array(0) // np.array(0)\n",
    "np.array([np.nan]).astype(int).astype(float)\n",
    "```"
   ]
  },
  {
   "cell_type": "code",
   "execution_count": 30,
   "id": "3b66fe44",
   "metadata": {},
   "outputs": [
    {
     "name": "stdout",
     "output_type": "stream",
     "text": [
      "nan\n",
      "0\n",
      "[-9.22337204e+18]\n"
     ]
    },
    {
     "name": "stderr",
     "output_type": "stream",
     "text": [
      "/tmp/ipykernel_4076/604574712.py:2: RuntimeWarning: invalid value encountered in divide\n",
      "  print(np.array(0) / np.array(0))\n",
      "/tmp/ipykernel_4076/604574712.py:3: RuntimeWarning: divide by zero encountered in floor_divide\n",
      "  print(np.array(0) // np.array(0))\n",
      "/tmp/ipykernel_4076/604574712.py:4: RuntimeWarning: invalid value encountered in cast\n",
      "  print(np.array([np.nan]).astype(int).astype(float))\n"
     ]
    }
   ],
   "source": [
    "# !\n",
    "print(np.array(0) / np.array(0))\n",
    "print(np.array(0) // np.array(0))\n",
    "print(np.array([np.nan]).astype(int).astype(float))"
   ]
  },
  {
   "cell_type": "markdown",
   "id": "1f3f0892",
   "metadata": {},
   "source": [
    "#### 29. How to round away from zero a float array ? (★☆☆)"
   ]
  },
  {
   "cell_type": "code",
   "execution_count": 31,
   "id": "8fce1bd7",
   "metadata": {},
   "outputs": [
    {
     "name": "stdout",
     "output_type": "stream",
     "text": [
      "# Author: Charles R Harris\n",
      "\n",
      "Z = np.random.uniform(-10,+10,10)\n",
      "print(np.copysign(np.ceil(np.abs(Z)), Z))\n",
      "\n",
      "# More readable but less efficient\n",
      "print(np.where(Z>0, np.ceil(Z), np.floor(Z)))\n"
     ]
    }
   ],
   "source": [
    "answer(29) # I don't understand the first answer"
   ]
  },
  {
   "cell_type": "markdown",
   "id": "53f47438",
   "metadata": {},
   "source": [
    "#### 30. How to find common values between two arrays? (★☆☆)"
   ]
  },
  {
   "cell_type": "code",
   "execution_count": 32,
   "id": "981db6ec",
   "metadata": {},
   "outputs": [
    {
     "name": "stdout",
     "output_type": "stream",
     "text": [
      "Z1 = np.random.randint(0,10,10)\n",
      "Z2 = np.random.randint(0,10,10)\n",
      "print(np.intersect1d(Z1,Z2))\n"
     ]
    }
   ],
   "source": [
    "answer(30) # ok !"
   ]
  },
  {
   "cell_type": "markdown",
   "id": "51cf9109",
   "metadata": {},
   "source": [
    "#### 31. How to ignore all numpy warnings (not recommended)? (★☆☆)"
   ]
  },
  {
   "cell_type": "code",
   "execution_count": 33,
   "id": "09ba7521",
   "metadata": {},
   "outputs": [],
   "source": [
    "# with np.errstate(all=\"ignore\"): # ! (that's a context manager)\n",
    "#     np.arange(3) / 0"
   ]
  },
  {
   "cell_type": "markdown",
   "id": "948a691b",
   "metadata": {},
   "source": [
    "#### 32. Is the following expressions true? (★☆☆)\n",
    "```python\n",
    "np.sqrt(-1) == np.emath.sqrt(-1)\n",
    "```"
   ]
  },
  {
   "cell_type": "code",
   "execution_count": 34,
   "id": "6d8f745b",
   "metadata": {},
   "outputs": [
    {
     "name": "stderr",
     "output_type": "stream",
     "text": [
      "/tmp/ipykernel_4076/3595560445.py:3: RuntimeWarning: invalid value encountered in sqrt\n",
      "  np.sqrt(-1) == np.emath.sqrt(-1)\n"
     ]
    },
    {
     "data": {
      "text/plain": [
       "np.False_"
      ]
     },
     "execution_count": 34,
     "metadata": {},
     "output_type": "execute_result"
    }
   ],
   "source": [
    "# I think so.\n",
    "\n",
    "np.sqrt(-1) == np.emath.sqrt(-1)\n",
    "\n",
    "# it's wrong ! why?\n",
    "\n",
    "# np.sqrt(-1) # floating number output (nan)\n",
    "# np.emath.sqrt(-1) # complex number output (1j)\n",
    "\n",
    "\n",
    "# 🧮 What is numpy.lib.scimath?\n",
    "# The module is officially called numpy.lib.scimath. It's often imported under the convenient alias np.emath. Its purpose is to provide versions of mathematical functions that behave more usefully when dealing with complex numbers than the standard NumPy functions.\n",
    "\n",
    "# The key difference is in how they handle inputs that would be invalid for real numbers. For example, what should the function do if you try to take the square root of a negative number?"
   ]
  },
  {
   "cell_type": "markdown",
   "id": "d1a8992e",
   "metadata": {},
   "source": [
    "#### 33. How to get the dates of yesterday, today and tomorrow? (★☆☆)"
   ]
  },
  {
   "cell_type": "code",
   "execution_count": 35,
   "id": "31a1ade2",
   "metadata": {},
   "outputs": [
    {
     "data": {
      "text/plain": [
       "np.datetime64('2025-10-10T05:59:48')"
      ]
     },
     "execution_count": 35,
     "metadata": {},
     "output_type": "execute_result"
    }
   ],
   "source": [
    "np.datetime64('now') # wow that's correct !\n",
    "np.datetime64('now') - np.timedelta64(1,'D') # yesterday\n",
    "np.datetime64('now') + np.timedelta64(1,'D') # tomorrow"
   ]
  },
  {
   "cell_type": "markdown",
   "id": "01378794",
   "metadata": {},
   "source": [
    "#### 34. How to get all the dates corresponding to the month of July 2016? (★★☆)"
   ]
  },
  {
   "cell_type": "code",
   "execution_count": 36,
   "id": "928c55c6",
   "metadata": {},
   "outputs": [
    {
     "name": "stdout",
     "output_type": "stream",
     "text": [
      "2016-07-01\n",
      "2016-07-02\n",
      "2016-07-03\n",
      "2016-07-04\n",
      "2016-07-05\n",
      "2016-07-06\n",
      "2016-07-07\n",
      "2016-07-08\n",
      "2016-07-09\n",
      "2016-07-10\n",
      "2016-07-11\n",
      "2016-07-12\n",
      "2016-07-13\n",
      "2016-07-14\n",
      "2016-07-15\n",
      "2016-07-16\n",
      "2016-07-17\n",
      "2016-07-18\n",
      "2016-07-19\n",
      "2016-07-20\n",
      "2016-07-21\n",
      "2016-07-22\n",
      "2016-07-23\n",
      "2016-07-24\n",
      "2016-07-25\n",
      "2016-07-26\n",
      "2016-07-27\n",
      "2016-07-28\n",
      "2016-07-29\n",
      "2016-07-30\n",
      "2016-07-31\n",
      "Z = np.arange('2016-07', '2016-08', dtype='datetime64[D]')\n",
      "print(Z)\n",
      "['2016-07-01' '2016-07-02' '2016-07-03' '2016-07-04' '2016-07-05'\n",
      " '2016-07-06' '2016-07-07' '2016-07-08' '2016-07-09' '2016-07-10'\n",
      " '2016-07-11' '2016-07-12' '2016-07-13' '2016-07-14' '2016-07-15'\n",
      " '2016-07-16' '2016-07-17' '2016-07-18' '2016-07-19' '2016-07-20'\n",
      " '2016-07-21' '2016-07-22' '2016-07-23' '2016-07-24' '2016-07-25'\n",
      " '2016-07-26' '2016-07-27' '2016-07-28' '2016-07-29' '2016-07-30'\n",
      " '2016-07-31']\n"
     ]
    }
   ],
   "source": [
    "first = np.datetime64('2016-07-01')\n",
    "while np.datetime64(first, 'M').astype(int) % 12 + 1 == 7:\n",
    "    print(first)\n",
    "    first+=np.timedelta64(1,'D')\n",
    "\n",
    "answer(34)\n",
    "\n",
    "dates = np.arange('2016-07', '2016-08', dtype='datetime64[D]') # the 'D' symbol is important here.\n",
    "print(dates)"
   ]
  },
  {
   "cell_type": "markdown",
   "id": "e3f8fe94",
   "metadata": {},
   "source": [
    "#### 35. How to compute ((A+B)*(-A/2)) in place (without copy)? (★★☆)"
   ]
  },
  {
   "cell_type": "code",
   "execution_count": 37,
   "id": "14e478d5",
   "metadata": {},
   "outputs": [
    {
     "name": "stdout",
     "output_type": "stream",
     "text": [
      "A = np.ones(3)*1\n",
      "B = np.ones(3)*2\n",
      "np.add(A,B,out=B)\n",
      "np.divide(A,2,out=A)\n",
      "np.negative(A,out=A)\n",
      "np.multiply(A,B,out=A)\n"
     ]
    }
   ],
   "source": [
    "# KEY LEARNING SUMMARY FROM NUMPY IN-PLACE OPERATIONS:\n",
    "\n",
    "# 1. MEMORY MANAGEMENT\n",
    "# - Normal operations (A + B) create new arrays each time\n",
    "# - In-place operations (A += B) modify existing arrays, saving memory\n",
    "A = np.array([1, 2, 3])\n",
    "B = np.array([4, 5, 6])\n",
    "C = A + B  # New array created: [5, 7, 9]\n",
    "A += B     # A modified in-place: [5, 7, 9] (no new array)\n",
    "\n",
    "# 2. OUT PARAMETER USAGE  \n",
    "# - np.add(A, B, out=result) stores result in pre-allocated memory\n",
    "result = np.empty_like(A)\n",
    "np.add(A, B, out=result)  # result = [5, 7, 9] (no temporary)\n",
    "np.add(A, B, out=A)       # A = [5, 7, 9] (overwrite original)\n",
    "\n",
    "# 3. OPERATORS VS FUNCTIONS\n",
    "# - Operators for simplicity, functions for control\n",
    "C = A * B                    # Simple: [20, 35, 54]  \n",
    "np.multiply(A, B, out=A)     # Controlled: A = [20, 35, 54]\n",
    "np.multiply(A, B, where=[True,False,True])  # Conditional\n",
    "\n",
    "# 4. TEMPORARY VARIABLE STRATEGY\n",
    "# - One copy avoids multiple intermediates\n",
    "A = np.array([1, 2, 3], dtype=float); B = np.array([4, 5, 6])\n",
    "temp = A.astype(float)     # temp = [1, 2, 3] # without the .astype() -> the expression (Temp = A) will create an alias not a copy and when you multiply it by a fraction (.5) it will raise an error\n",
    "A += B              # A = [5, 7, 9] \n",
    "temp *= -0.5        # temp = [-0.5, -1, -1.5]\n",
    "A *= temp           # A = [-2.5, -7, -13.5] (only 3 arrays total)\n",
    "\n",
    "# 5. EXPRESSION EXECUTION FLOW\n",
    "# - Complex expressions create hidden temporaries\n",
    "result = ((A + B) * (-A / 2))\n",
    "# Actually creates: temp1=A+B, temp2=-A, temp3=temp2/2, result=temp1*temp3\n",
    "# Total: 4 new arrays instead of 1!\n",
    "\n",
    "# 6. EINSTEIN SUMMATION (EINSUM)\n",
    "# - Compact notation for complex operations\n",
    "A = np.array([[1, 2], [3, 4]])\n",
    "B = np.array([[5, 6], [7, 8]])\n",
    "result = np.einsum('ij,jk->ik', A, B)  # Matrix multiplication: [[19, 22], [43, 50]]\n",
    "\n",
    "# 7. PERFORMANCE TRADEOFFS\n",
    "# - Readable code vs Memory efficiency\n",
    "# result = A + B - C * D  # Readable but creates 3 temporaries\n",
    "# vs\n",
    "# result = A.copy(); result += B; temp = C.copy(); temp *= D; result -= temp  # Efficient but complex\n",
    "\n",
    "answer(35)"
   ]
  },
  {
   "cell_type": "markdown",
   "id": "5c4d58c9",
   "metadata": {},
   "source": [
    "#### 36. Extract the integer part of a random array of positive numbers using 4 different methods (★★☆)"
   ]
  },
  {
   "cell_type": "code",
   "execution_count": 38,
   "id": "586beded",
   "metadata": {},
   "outputs": [
    {
     "name": "stdout",
     "output_type": "stream",
     "text": [
      "[2. 8. 7. 3. 4. 0. 9. 4. 1. 0.]\n",
      "[2. 8. 7. 3. 4. 0. 9. 4. 1. 0.]\n",
      "[2. 8. 7. 3. 4. 0. 9. 4. 1. 0.]\n",
      "[2. 8. 7. 3. 4. 0. 9. 4. 1. 0.]\n",
      "[2 8 7 3 4 0 9 4 1 0]\n",
      "[2.90093888 8.48751159 7.21200935 3.41656807 4.15826282 0.1323621\n",
      " 9.76926381 4.2727181  1.37233431 0.81926342]\n",
      "Z = np.random.uniform(0,10,10)\n",
      "\n",
      "print(Z - Z%1)\n",
      "print(Z // 1)\n",
      "print(np.floor(Z))\n",
      "print(Z.astype(int))\n",
      "print(np.trunc(Z))\n"
     ]
    }
   ],
   "source": [
    "arr = np.random.uniform(0,10, 10)\n",
    "print((arr//1))\n",
    "print(np.floor(arr))\n",
    "print(np.trunc(arr))\n",
    "print((arr - arr%1))\n",
    "print(arr.astype(int))\n",
    "print(arr)\n",
    "\n",
    "answer(36)"
   ]
  },
  {
   "cell_type": "markdown",
   "id": "62628653",
   "metadata": {},
   "source": [
    "#### 37. Create a 5x5 matrix with row values ranging from 0 to 4 (★★☆)"
   ]
  },
  {
   "cell_type": "code",
   "execution_count": 39,
   "id": "e57763b3",
   "metadata": {},
   "outputs": [
    {
     "name": "stdout",
     "output_type": "stream",
     "text": [
      "[[0. 1. 2. 3. 4.]\n",
      " [0. 1. 2. 3. 4.]\n",
      " [0. 1. 2. 3. 4.]\n",
      " [0. 1. 2. 3. 4.]\n",
      " [0. 1. 2. 3. 4.]]\n",
      "Z = np.zeros((5,5))\n",
      "Z += np.arange(5)\n",
      "print(Z)\n",
      "\n",
      "# without broadcasting\n",
      "Z = np.tile(np.arange(0, 5), (5,1))\n",
      "print(Z)\n",
      "[[0. 1. 2. 3. 4.]\n",
      " [0. 1. 2. 3. 4.]\n",
      " [0. 1. 2. 3. 4.]\n",
      " [0. 1. 2. 3. 4.]\n",
      " [0. 1. 2. 3. 4.]]\n",
      "##########\n",
      "[[0 1 2 3 4]\n",
      " [0 1 2 3 4]\n",
      " [0 1 2 3 4]\n",
      " [0 1 2 3 4]\n",
      " [0 1 2 3 4]]\n"
     ]
    }
   ],
   "source": [
    "print(np.ones([5,5]) * np.arange(5)) \n",
    "\n",
    "\n",
    "answer(37)\n",
    "\n",
    "print(np.zeros([5,5]) + np.arange(5)) # just like my solution\n",
    "print(10*'#')\n",
    "print(np.tile(np.arange(5), [5,1]))\n",
    "\n",
    "# both np.ones, np.zeros produce floating point numbers"
   ]
  },
  {
   "cell_type": "markdown",
   "id": "d3d46d64",
   "metadata": {},
   "source": [
    "#### 38. Consider a generator function that generates 10 integers and use it to build an array (★☆☆)"
   ]
  },
  {
   "cell_type": "code",
   "execution_count": 40,
   "id": "24590d8c",
   "metadata": {},
   "outputs": [
    {
     "name": "stdout",
     "output_type": "stream",
     "text": [
      "[0. 1. 2. 3. 4. 5. 6. 7. 8. 9.]\n",
      "def generate():\n",
      "    for x in range(10):\n",
      "        yield x\n",
      "Z = np.fromiter(generate(),dtype=float,count=-1)\n",
      "print(Z)\n"
     ]
    }
   ],
   "source": [
    "def fun():\n",
    "    for i in range(10):\n",
    "        yield i\n",
    "# np.array(fun()) # that's wrong\n",
    "\n",
    "print(np.fromiter(fun(), dtype=float)) # adding \", count=-1\" doesn't affect the result?\n",
    "\n",
    "answer(38)"
   ]
  },
  {
   "cell_type": "markdown",
   "id": "5e1e51e4",
   "metadata": {},
   "source": [
    "#### 39. Create a vector of size 10 with values ranging from 0 to 1, both excluded (★★☆)"
   ]
  },
  {
   "cell_type": "code",
   "execution_count": 41,
   "id": "def73884",
   "metadata": {},
   "outputs": [
    {
     "name": "stdout",
     "output_type": "stream",
     "text": [
      "[0.53036478 0.63941845 0.79114591 0.35874157 0.3342173  0.97989873\n",
      " 0.87263961 0.37788063 0.96146286 0.16295868]\n",
      "Z = np.linspace(0,1,11,endpoint=False)[1:]\n",
      "print(Z)\n",
      "[0.09090909 0.18181818 0.27272727 0.36363636 0.45454545 0.54545455\n",
      " 0.63636364 0.72727273 0.81818182 0.90909091]\n",
      "[0.09090909 0.18181818 0.27272727 0.36363636 0.45454545 0.54545455\n",
      " 0.63636364 0.72727273 0.81818182 0.90909091]\n"
     ]
    }
   ],
   "source": [
    "print(np.random.uniform(0,1, 10)) # is this actually excluding 0, 1 ?\n",
    "\n",
    "answer(39)\n",
    "\n",
    "print(np.linspace(0,1,11, endpoint=False)[1:])\n",
    "# linspace produces an array that have equal difference between its consequetive elements\n",
    "# the endpoint=False part is for excluding the \"1\" from the array\n",
    "# the [1:] part is for excluding the \"0\" and therefore we need another element to make them = 10 elements so we produce 11.\n",
    "\n",
    "print(np.linspace(0,1,12)[1:-1]) # the same result as above"
   ]
  },
  {
   "cell_type": "markdown",
   "id": "9e19964c",
   "metadata": {},
   "source": [
    "#### 40. Create a random vector of size 10 and sort it (★★☆)"
   ]
  },
  {
   "cell_type": "code",
   "execution_count": 42,
   "id": "ec302eb1",
   "metadata": {},
   "outputs": [
    {
     "name": "stdout",
     "output_type": "stream",
     "text": [
      "[0.08354388 0.12512358 0.14642511 0.43727609 0.63697471 0.79115993\n",
      " 0.84463368 0.8922133  0.89896518 0.90889294]\n",
      "[0.14333845 0.15388394 0.28019678 0.31969924 0.36700876 0.40620021\n",
      " 0.69943231 0.76425158 0.90706975 0.91462657]\n",
      "Z = np.random.random(10)\n",
      "Z.sort()\n",
      "print(Z)\n"
     ]
    }
   ],
   "source": [
    "r = np.random.rand(10); r.sort(); print(r)  # in place sorting\n",
    "\n",
    "print( np.sort( np.random.rand(10) ) ) # returns a new sorted array\n",
    "\n",
    "# # np.argsort() - Returns indices that would sort array\n",
    "# indices = np.argsort(arr)                    # [1, 3, 6, 0, 2, 4, 5]\n",
    "# sorted_via_indices = arr[indices]            # Same as np.sort(arr)\n",
    "\n",
    "\n",
    "# # Sort entire array flattened\n",
    "# flat_sorted = np.sort(arr_2d, axis=None)     # [1, 1, 2, 3, 4, 5, 5, 6, 9]\n",
    "\n",
    "answer(40)"
   ]
  },
  {
   "cell_type": "markdown",
   "id": "13a034e2",
   "metadata": {},
   "source": [
    "#### 41. How to sum a small array faster than np.sum? (★★☆)"
   ]
  },
  {
   "cell_type": "code",
   "execution_count": 43,
   "id": "b09a3551",
   "metadata": {},
   "outputs": [
    {
     "name": "stdout",
     "output_type": "stream",
     "text": [
      "# Author: Evgeni Burovski\n",
      "\n",
      "Z = np.arange(10)\n",
      "np.add.reduce(Z)\n",
      "##########\n",
      "16\n"
     ]
    }
   ],
   "source": [
    "# I don't know !\n",
    "\n",
    "answer(41)\n",
    "print('#'*10)\n",
    "print( np.add.reduce([3,10,3]) ) "
   ]
  },
  {
   "cell_type": "markdown",
   "id": "32d10473",
   "metadata": {},
   "source": [
    "#### 42. Consider two random arrays A and B, check if they are equal (★★☆)"
   ]
  },
  {
   "cell_type": "code",
   "execution_count": 44,
   "id": "5ebb1103",
   "metadata": {},
   "outputs": [
    {
     "name": "stdout",
     "output_type": "stream",
     "text": [
      "[False False False False False False False False False False]\n",
      "##########\n",
      "A = np.random.randint(0,2,5)\n",
      "B = np.random.randint(0,2,5)\n",
      "\n",
      "# Assuming identical shape of the arrays and a tolerance for the comparison of values\n",
      "equal = np.allclose(A,B)\n",
      "print(equal)\n",
      "\n",
      "# Checking both the shape and the element values, no tolerance (values have to be exactly equal)\n",
      "equal = np.array_equal(A,B)\n",
      "print(equal)\n",
      "False\n",
      "False\n"
     ]
    }
   ],
   "source": [
    "a = np.random.rand(10)\n",
    "b = np.random.rand(10)\n",
    "\n",
    "print( a == b )\n",
    "print('#'*10)\n",
    "\n",
    "answer(42)\n",
    "\n",
    "print( np.allclose(a,b) )\n",
    "\n",
    "print( np.array_equal(a,b) )"
   ]
  },
  {
   "cell_type": "markdown",
   "id": "a50474b0",
   "metadata": {},
   "source": [
    "#### 43. Make an array immutable (read-only) (★★☆)"
   ]
  },
  {
   "cell_type": "code",
   "execution_count": 45,
   "id": "db6fe176",
   "metadata": {},
   "outputs": [
    {
     "name": "stdout",
     "output_type": "stream",
     "text": [
      "Z = np.zeros(10)\n",
      "Z.flags.writeable = False\n",
      "Z[0] = 1\n"
     ]
    }
   ],
   "source": [
    "# what ?\n",
    "\n",
    "# for more about the topic: https://note.nkmk.me/en/python-numpy-ndarray-immutable-read-only/\n",
    "\n",
    "answer(43)\n",
    "\n",
    "# another way = \n",
    "# z = np.zeros(10)\n",
    "# z.setflags(write=False)\n",
    "# z[1] = 1"
   ]
  },
  {
   "cell_type": "markdown",
   "id": "b7a6093e",
   "metadata": {},
   "source": [
    "#### 44. Consider a random 10x2 matrix representing cartesian coordinates, convert them to polar coordinates (★★☆)"
   ]
  },
  {
   "cell_type": "code",
   "execution_count": 46,
   "id": "4479c48d",
   "metadata": {},
   "outputs": [
    {
     "name": "stdout",
     "output_type": "stream",
     "text": [
      "[[3 4]\n",
      " [5 4]\n",
      " [4 6]\n",
      " [7 0]\n",
      " [2 4]\n",
      " [9 2]\n",
      " [9 9]\n",
      " [5 8]\n",
      " [4 0]\n",
      " [8 1]]\n",
      "##########\n",
      "Z = np.random.random((10,2))\n",
      "X,Y = Z[:,0], Z[:,1]\n",
      "R = np.sqrt(X**2+Y**2)\n",
      "T = np.arctan2(Y,X)\n",
      "print(R)\n",
      "print(T)\n"
     ]
    }
   ],
   "source": [
    "original = np.random.randint(10, size=[10,2])\n",
    "print(original)\n",
    "print('#'*10)\n",
    "\n",
    "# useful: https://github.com/numpy/numpy/issues/5228\n",
    "\n",
    "# for example: \n",
    "\n",
    "# def cart2pol(x, y):\n",
    "#     \"\"\"Converts Cartesian coordinates to polar coordinates.\"\"\"\n",
    "#     rho = np.hypot(x, y)\n",
    "#     phi = np.arctan2(y, x)\n",
    "#     return rho, phi\n",
    "\n",
    "# def pol2cart(rho, phi):\n",
    "#     \"\"\"Converts polar coordinates to Cartesian coordinates.\"\"\"\n",
    "#     x = rho * np.cos(phi)\n",
    "#     y = rho * np.sin(phi)\n",
    "#     return x, y\n",
    "\n",
    "# print(original[:,1]) # getting all the rows but only the second column (number: 1)\n",
    "# we use arctan2 not arctan because it have better handling for dividing by zero issues\n",
    "\n",
    "answer(44)"
   ]
  },
  {
   "cell_type": "markdown",
   "id": "934f889c",
   "metadata": {},
   "source": [
    "#### 45. Create random vector of size 10 and replace the maximum value by 0 (★★☆)"
   ]
  },
  {
   "cell_type": "code",
   "execution_count": 47,
   "id": "4b576814",
   "metadata": {},
   "outputs": [
    {
     "name": "stdout",
     "output_type": "stream",
     "text": [
      "[7 0 6 5 3 1 9 5 1 9]\n",
      "##########\n",
      "[7 0 6 5 3 1 0 5 1 0]\n",
      "Z = np.random.random(10)\n",
      "Z[Z.argmax()] = 0\n",
      "print(Z)\n"
     ]
    }
   ],
   "source": [
    "arr = np.random.randint(10,size=[10])\n",
    "print(arr)\n",
    "print('#'*10)\n",
    "\n",
    "arr[ np.where(arr == arr.max())[0] ] = 0\n",
    "\n",
    "print(arr)\n",
    "\n",
    "answer(45)\n",
    "\n",
    "# so, arr.argmax() = np.where(arr == arr.max())[0]"
   ]
  },
  {
   "cell_type": "markdown",
   "id": "d4f6e2e1",
   "metadata": {},
   "source": [
    "#### 46. Create a structured array with `x` and `y` coordinates covering the [0,1]x[0,1] area (★★☆)"
   ]
  },
  {
   "cell_type": "code",
   "execution_count": 48,
   "id": "f90f969b",
   "metadata": {},
   "outputs": [
    {
     "name": "stdout",
     "output_type": "stream",
     "text": [
      "[[0 0]\n",
      " [0 1]\n",
      " [1 0]\n",
      " [1 1]]\n",
      "Z = np.zeros((5,5), [('x',float),('y',float)])\n",
      "Z['x'], Z['y'] = np.meshgrid(np.linspace(0,1,5),\n",
      "                             np.linspace(0,1,5))\n",
      "print(Z)\n",
      "[[(0., 0.) (0., 0.) (0., 0.) (0., 0.) (0., 0.)]\n",
      " [(0., 0.) (0., 0.) (0., 0.) (0., 0.) (0., 0.)]\n",
      " [(0., 0.) (0., 0.) (0., 0.) (0., 0.) (0., 0.)]\n",
      " [(0., 0.) (0., 0.) (0., 0.) (0., 0.) (0., 0.)]\n",
      " [(0., 0.) (0., 0.) (0., 0.) (0., 0.) (0., 0.)]]\n",
      "[[0. 0. 0. 0. 0.]\n",
      " [0. 0. 0. 0. 0.]\n",
      " [0. 0. 0. 0. 0.]\n",
      " [0. 0. 0. 0. 0.]\n",
      " [0. 0. 0. 0. 0.]]\n",
      "[[0. 0. 0. 0. 0.]\n",
      " [0. 0. 0. 0. 0.]\n",
      " [0. 0. 0. 0. 0.]\n",
      " [0. 0. 0. 0. 0.]\n",
      " [0. 0. 0. 0. 0.]]\n",
      "##########\n",
      "[[(0.  , 0.  ) (0.25, 0.  ) (0.5 , 0.  ) (0.75, 0.  ) (1.  , 0.  )]\n",
      " [(0.  , 0.25) (0.25, 0.25) (0.5 , 0.25) (0.75, 0.25) (1.  , 0.25)]\n",
      " [(0.  , 0.5 ) (0.25, 0.5 ) (0.5 , 0.5 ) (0.75, 0.5 ) (1.  , 0.5 )]\n",
      " [(0.  , 0.75) (0.25, 0.75) (0.5 , 0.75) (0.75, 0.75) (1.  , 0.75)]\n",
      " [(0.  , 1.  ) (0.25, 1.  ) (0.5 , 1.  ) (0.75, 1.  ) (1.  , 1.  )]]\n",
      "[[0.   0.25 0.5  0.75 1.  ]\n",
      " [0.   0.25 0.5  0.75 1.  ]\n",
      " [0.   0.25 0.5  0.75 1.  ]\n",
      " [0.   0.25 0.5  0.75 1.  ]\n",
      " [0.   0.25 0.5  0.75 1.  ]]\n",
      "[[0.   0.   0.   0.   0.  ]\n",
      " [0.25 0.25 0.25 0.25 0.25]\n",
      " [0.5  0.5  0.5  0.5  0.5 ]\n",
      " [0.75 0.75 0.75 0.75 0.75]\n",
      " [1.   1.   1.   1.   1.  ]]\n"
     ]
    }
   ],
   "source": [
    "arr = np.array([[0,0], [0,1], [1,0], [1,1]])\n",
    "print(arr)\n",
    "\n",
    "answer(46)\n",
    "\n",
    "arr = np.zeros((5,5), [('x', float), ('y', float)]) # naming columns - that's a structured array!\n",
    "print(arr)\n",
    "print(arr['x'], arr['y'], sep='\\n')\n",
    "print('#'*10)\n",
    "\n",
    "arr['x'], arr['y'] = np.meshgrid(np.linspace(0,1,5), np.linspace(0,1,5)) # creating all possible combinations between the two 1D arrays (np.linspace) to create one 2D array.\n",
    "\n",
    "print(arr)\n",
    "print(arr['x'], arr['y'], sep='\\n')\n",
    "\n",
    "\n",
    "# first, the question can be solved without specifying exactly 5 points in each direction but OK !\n",
    "# second, I've learned that I can name columns for a numpy array !\n",
    "# third, the 'meshgrid' function can be used to create a 2D array with all possbile combinations between two 1D arrays."
   ]
  },
  {
   "cell_type": "markdown",
   "id": "bc9c88d3",
   "metadata": {},
   "source": [
    "#### 47. Given two arrays, X and Y, construct the Cauchy matrix C (Cij =1/(xi - yj)) (★★☆)"
   ]
  },
  {
   "cell_type": "code",
   "execution_count": 49,
   "id": "e90ad595",
   "metadata": {},
   "outputs": [
    {
     "name": "stdout",
     "output_type": "stream",
     "text": [
      "[[-0.33333333 -0.5        -1.        ]\n",
      " [-0.25       -0.33333333 -0.5       ]\n",
      " [-0.2        -0.25       -0.33333333]]\n",
      "##########\n",
      "# Author: Evgeni Burovski\n",
      "\n",
      "X = np.arange(8)\n",
      "Y = X + 0.5\n",
      "C = 1.0 / np.subtract.outer(X, Y)\n",
      "print(np.linalg.det(C))\n",
      "[1 2 3] [4 5 6]\n",
      "[[-0.33333333 -0.25       -0.2       ]\n",
      " [-0.5        -0.33333333 -0.25      ]\n",
      " [-1.         -0.5        -0.33333333]]\n",
      "0.00046296296296296146\n"
     ]
    }
   ],
   "source": [
    "x = np.array([1,2,3])\n",
    "y = np.array([4,5,6])\n",
    "\n",
    "\n",
    "C = np.zeros((3,3), [('x', float), ('y', float)])\n",
    "C['x'], C['y'] = np.meshgrid(x,y)\n",
    "C = 1 / (C['x'] - C['y'])\n",
    "print(C, '#'*10, sep='\\n')\n",
    "\n",
    "answer(47)\n",
    "\n",
    "X = np.array([1,2,3])\n",
    "Y = np.array([4,5,6])\n",
    "print(X,Y)\n",
    "C = 1.0 / np.subtract.outer(X, Y)\n",
    "print(C)\n",
    "print(np.linalg.det(C))"
   ]
  },
  {
   "cell_type": "markdown",
   "id": "a840a52f",
   "metadata": {},
   "source": [
    "#### 48. Print the minimum and maximum representable values for each numpy scalar type (★★☆)"
   ]
  },
  {
   "cell_type": "code",
   "execution_count": 50,
   "id": "d2eb3b4a",
   "metadata": {},
   "outputs": [
    {
     "name": "stdout",
     "output_type": "stream",
     "text": [
      "for dtype in [np.int8, np.int32, np.int64]:\n",
      "   print(np.iinfo(dtype).min)\n",
      "   print(np.iinfo(dtype).max)\n",
      "for dtype in [np.float32, np.float64]:\n",
      "   print(np.finfo(dtype).min)\n",
      "   print(np.finfo(dtype).max)\n",
      "   print(np.finfo(dtype).eps)\n",
      "Machine parameters for int8\n",
      "---------------------------------------------------------------\n",
      "min = -128\n",
      "max = 127\n",
      "---------------------------------------------------------------\n",
      "\n",
      "Machine parameters for int16\n",
      "---------------------------------------------------------------\n",
      "min = -32768\n",
      "max = 32767\n",
      "---------------------------------------------------------------\n",
      "\n",
      "Machine parameters for int32\n",
      "---------------------------------------------------------------\n",
      "min = -2147483648\n",
      "max = 2147483647\n",
      "---------------------------------------------------------------\n",
      "\n",
      "Machine parameters for int64\n",
      "---------------------------------------------------------------\n",
      "min = -9223372036854775808\n",
      "max = 9223372036854775807\n",
      "---------------------------------------------------------------\n",
      "\n",
      "Machine parameters for uint8\n",
      "---------------------------------------------------------------\n",
      "min = 0\n",
      "max = 255\n",
      "---------------------------------------------------------------\n",
      "\n",
      "Machine parameters for uint16\n",
      "---------------------------------------------------------------\n",
      "min = 0\n",
      "max = 65535\n",
      "---------------------------------------------------------------\n",
      "\n",
      "Machine parameters for uint32\n",
      "---------------------------------------------------------------\n",
      "min = 0\n",
      "max = 4294967295\n",
      "---------------------------------------------------------------\n",
      "\n",
      "Machine parameters for uint64\n",
      "---------------------------------------------------------------\n",
      "min = 0\n",
      "max = 18446744073709551615\n",
      "---------------------------------------------------------------\n",
      "\n",
      "Machine parameters for float16\n",
      "---------------------------------------------------------------\n",
      "precision =   3   resolution = 1.00040e-03\n",
      "machep =    -10   eps =        9.76562e-04\n",
      "negep =     -11   epsneg =     4.88281e-04\n",
      "minexp =    -14   tiny =       6.10352e-05\n",
      "maxexp =     16   max =        6.55040e+04\n",
      "nexp =        5   min =        -max\n",
      "smallest_normal = 6.10352e-05   smallest_subnormal = 5.96046e-08\n",
      "---------------------------------------------------------------\n",
      "\n",
      "Machine parameters for float32\n",
      "---------------------------------------------------------------\n",
      "precision =   6   resolution = 1.0000000e-06\n",
      "machep =    -23   eps =        1.1920929e-07\n",
      "negep =     -24   epsneg =     5.9604645e-08\n",
      "minexp =   -126   tiny =       1.1754944e-38\n",
      "maxexp =    128   max =        3.4028235e+38\n",
      "nexp =        8   min =        -max\n",
      "smallest_normal = 1.1754944e-38   smallest_subnormal = 1.4012985e-45\n",
      "---------------------------------------------------------------\n",
      "\n",
      "Machine parameters for float64\n",
      "---------------------------------------------------------------\n",
      "precision =  15   resolution = 1.0000000000000001e-15\n",
      "machep =    -52   eps =        2.2204460492503131e-16\n",
      "negep =     -53   epsneg =     1.1102230246251565e-16\n",
      "minexp =  -1022   tiny =       2.2250738585072014e-308\n",
      "maxexp =   1024   max =        1.7976931348623157e+308\n",
      "nexp =       11   min =        -max\n",
      "smallest_normal = 2.2250738585072014e-308   smallest_subnormal = 4.9406564584124654e-324\n",
      "---------------------------------------------------------------\n",
      "\n",
      "9223372036854775807\n",
      "18446744073709551615\n"
     ]
    }
   ],
   "source": [
    "answer(48)\n",
    "\n",
    "types = [np.int8, np.int16, np.int32, np.int64, np.uint8, np.uint16, np.uint32, np.uint64]\n",
    "types_f = [np.float16, np.float32, np.float64]\n",
    "for dtype in types:\n",
    "    print(np.iinfo(dtype))\n",
    "for dtype in types_f:\n",
    "    print(np.finfo(dtype))\n",
    "    \n",
    "print(np.iinfo(np.intp).max, np.iinfo(np.uintp).max, sep='\\n')"
   ]
  },
  {
   "cell_type": "markdown",
   "id": "0a0819d5",
   "metadata": {},
   "source": [
    "#### 49. How to print all the values of an array? (★★☆)"
   ]
  },
  {
   "cell_type": "code",
   "execution_count": 51,
   "id": "d76dbf55",
   "metadata": {},
   "outputs": [
    {
     "name": "stdout",
     "output_type": "stream",
     "text": [
      "[[0. 0. 0. ... 0. 0. 0.]\n",
      " [0. 0. 0. ... 0. 0. 0.]\n",
      " [0. 0. 0. ... 0. 0. 0.]\n",
      " ...\n",
      " [0. 0. 0. ... 0. 0. 0.]\n",
      " [0. 0. 0. ... 0. 0. 0.]\n",
      " [0. 0. 0. ... 0. 0. 0.]]\n",
      "np.set_printoptions(threshold=float(\"inf\"))\n",
      "Z = np.zeros((40,40))\n",
      "print(Z)\n"
     ]
    }
   ],
   "source": [
    "print(np.zeros([40,40])) # the default threshold is 1000\n",
    "\n",
    "answer(49)"
   ]
  },
  {
   "cell_type": "code",
   "execution_count": 52,
   "id": "535e3568",
   "metadata": {},
   "outputs": [
    {
     "name": "stdout",
     "output_type": "stream",
     "text": [
      "[[0. 0. 0. 0. 0. 0. 0. 0. 0. 0. 0. 0. 0. 0. 0. 0. 0. 0. 0. 0. 0. 0. 0. 0.\n",
      "  0. 0. 0. 0. 0. 0. 0. 0. 0. 0. 0. 0. 0. 0. 0. 0.]\n",
      " [0. 0. 0. 0. 0. 0. 0. 0. 0. 0. 0. 0. 0. 0. 0. 0. 0. 0. 0. 0. 0. 0. 0. 0.\n",
      "  0. 0. 0. 0. 0. 0. 0. 0. 0. 0. 0. 0. 0. 0. 0. 0.]\n",
      " [0. 0. 0. 0. 0. 0. 0. 0. 0. 0. 0. 0. 0. 0. 0. 0. 0. 0. 0. 0. 0. 0. 0. 0.\n",
      "  0. 0. 0. 0. 0. 0. 0. 0. 0. 0. 0. 0. 0. 0. 0. 0.]\n",
      " [0. 0. 0. 0. 0. 0. 0. 0. 0. 0. 0. 0. 0. 0. 0. 0. 0. 0. 0. 0. 0. 0. 0. 0.\n",
      "  0. 0. 0. 0. 0. 0. 0. 0. 0. 0. 0. 0. 0. 0. 0. 0.]\n",
      " [0. 0. 0. 0. 0. 0. 0. 0. 0. 0. 0. 0. 0. 0. 0. 0. 0. 0. 0. 0. 0. 0. 0. 0.\n",
      "  0. 0. 0. 0. 0. 0. 0. 0. 0. 0. 0. 0. 0. 0. 0. 0.]\n",
      " [0. 0. 0. 0. 0. 0. 0. 0. 0. 0. 0. 0. 0. 0. 0. 0. 0. 0. 0. 0. 0. 0. 0. 0.\n",
      "  0. 0. 0. 0. 0. 0. 0. 0. 0. 0. 0. 0. 0. 0. 0. 0.]\n",
      " [0. 0. 0. 0. 0. 0. 0. 0. 0. 0. 0. 0. 0. 0. 0. 0. 0. 0. 0. 0. 0. 0. 0. 0.\n",
      "  0. 0. 0. 0. 0. 0. 0. 0. 0. 0. 0. 0. 0. 0. 0. 0.]\n",
      " [0. 0. 0. 0. 0. 0. 0. 0. 0. 0. 0. 0. 0. 0. 0. 0. 0. 0. 0. 0. 0. 0. 0. 0.\n",
      "  0. 0. 0. 0. 0. 0. 0. 0. 0. 0. 0. 0. 0. 0. 0. 0.]\n",
      " [0. 0. 0. 0. 0. 0. 0. 0. 0. 0. 0. 0. 0. 0. 0. 0. 0. 0. 0. 0. 0. 0. 0. 0.\n",
      "  0. 0. 0. 0. 0. 0. 0. 0. 0. 0. 0. 0. 0. 0. 0. 0.]\n",
      " [0. 0. 0. 0. 0. 0. 0. 0. 0. 0. 0. 0. 0. 0. 0. 0. 0. 0. 0. 0. 0. 0. 0. 0.\n",
      "  0. 0. 0. 0. 0. 0. 0. 0. 0. 0. 0. 0. 0. 0. 0. 0.]\n",
      " [0. 0. 0. 0. 0. 0. 0. 0. 0. 0. 0. 0. 0. 0. 0. 0. 0. 0. 0. 0. 0. 0. 0. 0.\n",
      "  0. 0. 0. 0. 0. 0. 0. 0. 0. 0. 0. 0. 0. 0. 0. 0.]\n",
      " [0. 0. 0. 0. 0. 0. 0. 0. 0. 0. 0. 0. 0. 0. 0. 0. 0. 0. 0. 0. 0. 0. 0. 0.\n",
      "  0. 0. 0. 0. 0. 0. 0. 0. 0. 0. 0. 0. 0. 0. 0. 0.]\n",
      " [0. 0. 0. 0. 0. 0. 0. 0. 0. 0. 0. 0. 0. 0. 0. 0. 0. 0. 0. 0. 0. 0. 0. 0.\n",
      "  0. 0. 0. 0. 0. 0. 0. 0. 0. 0. 0. 0. 0. 0. 0. 0.]\n",
      " [0. 0. 0. 0. 0. 0. 0. 0. 0. 0. 0. 0. 0. 0. 0. 0. 0. 0. 0. 0. 0. 0. 0. 0.\n",
      "  0. 0. 0. 0. 0. 0. 0. 0. 0. 0. 0. 0. 0. 0. 0. 0.]\n",
      " [0. 0. 0. 0. 0. 0. 0. 0. 0. 0. 0. 0. 0. 0. 0. 0. 0. 0. 0. 0. 0. 0. 0. 0.\n",
      "  0. 0. 0. 0. 0. 0. 0. 0. 0. 0. 0. 0. 0. 0. 0. 0.]\n",
      " [0. 0. 0. 0. 0. 0. 0. 0. 0. 0. 0. 0. 0. 0. 0. 0. 0. 0. 0. 0. 0. 0. 0. 0.\n",
      "  0. 0. 0. 0. 0. 0. 0. 0. 0. 0. 0. 0. 0. 0. 0. 0.]\n",
      " [0. 0. 0. 0. 0. 0. 0. 0. 0. 0. 0. 0. 0. 0. 0. 0. 0. 0. 0. 0. 0. 0. 0. 0.\n",
      "  0. 0. 0. 0. 0. 0. 0. 0. 0. 0. 0. 0. 0. 0. 0. 0.]\n",
      " [0. 0. 0. 0. 0. 0. 0. 0. 0. 0. 0. 0. 0. 0. 0. 0. 0. 0. 0. 0. 0. 0. 0. 0.\n",
      "  0. 0. 0. 0. 0. 0. 0. 0. 0. 0. 0. 0. 0. 0. 0. 0.]\n",
      " [0. 0. 0. 0. 0. 0. 0. 0. 0. 0. 0. 0. 0. 0. 0. 0. 0. 0. 0. 0. 0. 0. 0. 0.\n",
      "  0. 0. 0. 0. 0. 0. 0. 0. 0. 0. 0. 0. 0. 0. 0. 0.]\n",
      " [0. 0. 0. 0. 0. 0. 0. 0. 0. 0. 0. 0. 0. 0. 0. 0. 0. 0. 0. 0. 0. 0. 0. 0.\n",
      "  0. 0. 0. 0. 0. 0. 0. 0. 0. 0. 0. 0. 0. 0. 0. 0.]\n",
      " [0. 0. 0. 0. 0. 0. 0. 0. 0. 0. 0. 0. 0. 0. 0. 0. 0. 0. 0. 0. 0. 0. 0. 0.\n",
      "  0. 0. 0. 0. 0. 0. 0. 0. 0. 0. 0. 0. 0. 0. 0. 0.]\n",
      " [0. 0. 0. 0. 0. 0. 0. 0. 0. 0. 0. 0. 0. 0. 0. 0. 0. 0. 0. 0. 0. 0. 0. 0.\n",
      "  0. 0. 0. 0. 0. 0. 0. 0. 0. 0. 0. 0. 0. 0. 0. 0.]\n",
      " [0. 0. 0. 0. 0. 0. 0. 0. 0. 0. 0. 0. 0. 0. 0. 0. 0. 0. 0. 0. 0. 0. 0. 0.\n",
      "  0. 0. 0. 0. 0. 0. 0. 0. 0. 0. 0. 0. 0. 0. 0. 0.]\n",
      " [0. 0. 0. 0. 0. 0. 0. 0. 0. 0. 0. 0. 0. 0. 0. 0. 0. 0. 0. 0. 0. 0. 0. 0.\n",
      "  0. 0. 0. 0. 0. 0. 0. 0. 0. 0. 0. 0. 0. 0. 0. 0.]\n",
      " [0. 0. 0. 0. 0. 0. 0. 0. 0. 0. 0. 0. 0. 0. 0. 0. 0. 0. 0. 0. 0. 0. 0. 0.\n",
      "  0. 0. 0. 0. 0. 0. 0. 0. 0. 0. 0. 0. 0. 0. 0. 0.]\n",
      " [0. 0. 0. 0. 0. 0. 0. 0. 0. 0. 0. 0. 0. 0. 0. 0. 0. 0. 0. 0. 0. 0. 0. 0.\n",
      "  0. 0. 0. 0. 0. 0. 0. 0. 0. 0. 0. 0. 0. 0. 0. 0.]\n",
      " [0. 0. 0. 0. 0. 0. 0. 0. 0. 0. 0. 0. 0. 0. 0. 0. 0. 0. 0. 0. 0. 0. 0. 0.\n",
      "  0. 0. 0. 0. 0. 0. 0. 0. 0. 0. 0. 0. 0. 0. 0. 0.]\n",
      " [0. 0. 0. 0. 0. 0. 0. 0. 0. 0. 0. 0. 0. 0. 0. 0. 0. 0. 0. 0. 0. 0. 0. 0.\n",
      "  0. 0. 0. 0. 0. 0. 0. 0. 0. 0. 0. 0. 0. 0. 0. 0.]\n",
      " [0. 0. 0. 0. 0. 0. 0. 0. 0. 0. 0. 0. 0. 0. 0. 0. 0. 0. 0. 0. 0. 0. 0. 0.\n",
      "  0. 0. 0. 0. 0. 0. 0. 0. 0. 0. 0. 0. 0. 0. 0. 0.]\n",
      " [0. 0. 0. 0. 0. 0. 0. 0. 0. 0. 0. 0. 0. 0. 0. 0. 0. 0. 0. 0. 0. 0. 0. 0.\n",
      "  0. 0. 0. 0. 0. 0. 0. 0. 0. 0. 0. 0. 0. 0. 0. 0.]\n",
      " [0. 0. 0. 0. 0. 0. 0. 0. 0. 0. 0. 0. 0. 0. 0. 0. 0. 0. 0. 0. 0. 0. 0. 0.\n",
      "  0. 0. 0. 0. 0. 0. 0. 0. 0. 0. 0. 0. 0. 0. 0. 0.]\n",
      " [0. 0. 0. 0. 0. 0. 0. 0. 0. 0. 0. 0. 0. 0. 0. 0. 0. 0. 0. 0. 0. 0. 0. 0.\n",
      "  0. 0. 0. 0. 0. 0. 0. 0. 0. 0. 0. 0. 0. 0. 0. 0.]\n",
      " [0. 0. 0. 0. 0. 0. 0. 0. 0. 0. 0. 0. 0. 0. 0. 0. 0. 0. 0. 0. 0. 0. 0. 0.\n",
      "  0. 0. 0. 0. 0. 0. 0. 0. 0. 0. 0. 0. 0. 0. 0. 0.]\n",
      " [0. 0. 0. 0. 0. 0. 0. 0. 0. 0. 0. 0. 0. 0. 0. 0. 0. 0. 0. 0. 0. 0. 0. 0.\n",
      "  0. 0. 0. 0. 0. 0. 0. 0. 0. 0. 0. 0. 0. 0. 0. 0.]\n",
      " [0. 0. 0. 0. 0. 0. 0. 0. 0. 0. 0. 0. 0. 0. 0. 0. 0. 0. 0. 0. 0. 0. 0. 0.\n",
      "  0. 0. 0. 0. 0. 0. 0. 0. 0. 0. 0. 0. 0. 0. 0. 0.]\n",
      " [0. 0. 0. 0. 0. 0. 0. 0. 0. 0. 0. 0. 0. 0. 0. 0. 0. 0. 0. 0. 0. 0. 0. 0.\n",
      "  0. 0. 0. 0. 0. 0. 0. 0. 0. 0. 0. 0. 0. 0. 0. 0.]\n",
      " [0. 0. 0. 0. 0. 0. 0. 0. 0. 0. 0. 0. 0. 0. 0. 0. 0. 0. 0. 0. 0. 0. 0. 0.\n",
      "  0. 0. 0. 0. 0. 0. 0. 0. 0. 0. 0. 0. 0. 0. 0. 0.]\n",
      " [0. 0. 0. 0. 0. 0. 0. 0. 0. 0. 0. 0. 0. 0. 0. 0. 0. 0. 0. 0. 0. 0. 0. 0.\n",
      "  0. 0. 0. 0. 0. 0. 0. 0. 0. 0. 0. 0. 0. 0. 0. 0.]\n",
      " [0. 0. 0. 0. 0. 0. 0. 0. 0. 0. 0. 0. 0. 0. 0. 0. 0. 0. 0. 0. 0. 0. 0. 0.\n",
      "  0. 0. 0. 0. 0. 0. 0. 0. 0. 0. 0. 0. 0. 0. 0. 0.]\n",
      " [0. 0. 0. 0. 0. 0. 0. 0. 0. 0. 0. 0. 0. 0. 0. 0. 0. 0. 0. 0. 0. 0. 0. 0.\n",
      "  0. 0. 0. 0. 0. 0. 0. 0. 0. 0. 0. 0. 0. 0. 0. 0.]]\n"
     ]
    }
   ],
   "source": [
    "np.set_printoptions(threshold=float('inf')) # = np.inf = sys.maxsize\n",
    "print(np.zeros([40,40]))"
   ]
  },
  {
   "cell_type": "markdown",
   "id": "50c62214",
   "metadata": {},
   "source": [
    "#### 50. How to find the closest value (to a given scalar) in a vector? (★★☆)"
   ]
  },
  {
   "cell_type": "code",
   "execution_count": 53,
   "id": "24b45bb5",
   "metadata": {},
   "outputs": [
    {
     "name": "stdout",
     "output_type": "stream",
     "text": [
      "0.9890033075212282\n"
     ]
    }
   ],
   "source": [
    "arr = np.random.rand(10)\n",
    "value = 4.5\n",
    "diff = np.abs(arr - value)\n",
    "print(arr[diff.argmin()]) # not min() -> argmin is the index while min is the value"
   ]
  },
  {
   "cell_type": "markdown",
   "id": "4c5a5116",
   "metadata": {},
   "source": [
    "#### 51. Create a structured array representing a position (x,y) and a color (r,g,b) (★★☆)"
   ]
  },
  {
   "cell_type": "code",
   "execution_count": 54,
   "id": "275806b2",
   "metadata": {},
   "outputs": [
    {
     "name": "stdout",
     "output_type": "stream",
     "text": [
      "[[(0, 0) (0, 0) (0, 0) (0, 0) (0, 0)]\n",
      " [(0, 0) (0, 0) (0, 0) (0, 0) (0, 0)]\n",
      " [(0, 0) (0, 0) (0, 0) (0, 0) (0, 0)]\n",
      " [(0, 0) (0, 0) (0, 0) (0, 0) (0, 0)]\n",
      " [(0, 0) (0, 0) (0, 0) (0, 0) (0, 0)]]\n",
      "[[[(0, 0, 0) (0, 0, 0) (0, 0, 0) ... (0, 0, 0) (0, 0, 0) (0, 0, 0)]\n",
      "  [(0, 0, 0) (0, 0, 0) (0, 0, 0) ... (0, 0, 0) (0, 0, 0) (0, 0, 0)]\n",
      "  [(0, 0, 0) (0, 0, 0) (0, 0, 0) ... (0, 0, 0) (0, 0, 0) (0, 0, 0)]\n",
      "  ...\n",
      "  [(0, 0, 0) (0, 0, 0) (0, 0, 0) ... (0, 0, 0) (0, 0, 0) (0, 0, 0)]\n",
      "  [(0, 0, 0) (0, 0, 0) (0, 0, 0) ... (0, 0, 0) (0, 0, 0) (0, 0, 0)]\n",
      "  [(0, 0, 0) (0, 0, 0) (0, 0, 0) ... (0, 0, 0) (0, 0, 0) (0, 0, 0)]]\n",
      "\n",
      " [[(0, 0, 0) (0, 0, 0) (0, 0, 0) ... (0, 0, 0) (0, 0, 0) (0, 0, 0)]\n",
      "  [(0, 0, 0) (0, 0, 0) (0, 0, 0) ... (0, 0, 0) (0, 0, 0) (0, 0, 0)]\n",
      "  [(0, 0, 0) (0, 0, 0) (0, 0, 0) ... (0, 0, 0) (0, 0, 0) (0, 0, 0)]\n",
      "  ...\n",
      "  [(0, 0, 0) (0, 0, 0) (0, 0, 0) ... (0, 0, 0) (0, 0, 0) (0, 0, 0)]\n",
      "  [(0, 0, 0) (0, 0, 0) (0, 0, 0) ... (0, 0, 0) (0, 0, 0) (0, 0, 0)]\n",
      "  [(0, 0, 0) (0, 0, 0) (0, 0, 0) ... (0, 0, 0) (0, 0, 0) (0, 0, 0)]]\n",
      "\n",
      " [[(0, 0, 0) (0, 0, 0) (0, 0, 0) ... (0, 0, 0) (0, 0, 0) (0, 0, 0)]\n",
      "  [(0, 0, 0) (0, 0, 0) (0, 0, 0) ... (0, 0, 0) (0, 0, 0) (0, 0, 0)]\n",
      "  [(0, 0, 0) (0, 0, 0) (0, 0, 0) ... (0, 0, 0) (0, 0, 0) (0, 0, 0)]\n",
      "  ...\n",
      "  [(0, 0, 0) (0, 0, 0) (0, 0, 0) ... (0, 0, 0) (0, 0, 0) (0, 0, 0)]\n",
      "  [(0, 0, 0) (0, 0, 0) (0, 0, 0) ... (0, 0, 0) (0, 0, 0) (0, 0, 0)]\n",
      "  [(0, 0, 0) (0, 0, 0) (0, 0, 0) ... (0, 0, 0) (0, 0, 0) (0, 0, 0)]]\n",
      "\n",
      " ...\n",
      "\n",
      " [[(0, 0, 0) (0, 0, 0) (0, 0, 0) ... (0, 0, 0) (0, 0, 0) (0, 0, 0)]\n",
      "  [(0, 0, 0) (0, 0, 0) (0, 0, 0) ... (0, 0, 0) (0, 0, 0) (0, 0, 0)]\n",
      "  [(0, 0, 0) (0, 0, 0) (0, 0, 0) ... (0, 0, 0) (0, 0, 0) (0, 0, 0)]\n",
      "  ...\n",
      "  [(0, 0, 0) (0, 0, 0) (0, 0, 0) ... (0, 0, 0) (0, 0, 0) (0, 0, 0)]\n",
      "  [(0, 0, 0) (0, 0, 0) (0, 0, 0) ... (0, 0, 0) (0, 0, 0) (0, 0, 0)]\n",
      "  [(0, 0, 0) (0, 0, 0) (0, 0, 0) ... (0, 0, 0) (0, 0, 0) (0, 0, 0)]]\n",
      "\n",
      " [[(0, 0, 0) (0, 0, 0) (0, 0, 0) ... (0, 0, 0) (0, 0, 0) (0, 0, 0)]\n",
      "  [(0, 0, 0) (0, 0, 0) (0, 0, 0) ... (0, 0, 0) (0, 0, 0) (0, 0, 0)]\n",
      "  [(0, 0, 0) (0, 0, 0) (0, 0, 0) ... (0, 0, 0) (0, 0, 0) (0, 0, 0)]\n",
      "  ...\n",
      "  [(0, 0, 0) (0, 0, 0) (0, 0, 0) ... (0, 0, 0) (0, 0, 0) (0, 0, 0)]\n",
      "  [(0, 0, 0) (0, 0, 0) (0, 0, 0) ... (0, 0, 0) (0, 0, 0) (0, 0, 0)]\n",
      "  [(0, 0, 0) (0, 0, 0) (0, 0, 0) ... (0, 0, 0) (0, 0, 0) (0, 0, 0)]]\n",
      "\n",
      " [[(0, 0, 0) (0, 0, 0) (0, 0, 0) ... (0, 0, 0) (0, 0, 0) (0, 0, 0)]\n",
      "  [(0, 0, 0) (0, 0, 0) (0, 0, 0) ... (0, 0, 0) (0, 0, 0) (0, 0, 0)]\n",
      "  [(0, 0, 0) (0, 0, 0) (0, 0, 0) ... (0, 0, 0) (0, 0, 0) (0, 0, 0)]\n",
      "  ...\n",
      "  [(0, 0, 0) (0, 0, 0) (0, 0, 0) ... (0, 0, 0) (0, 0, 0) (0, 0, 0)]\n",
      "  [(0, 0, 0) (0, 0, 0) (0, 0, 0) ... (0, 0, 0) (0, 0, 0) (0, 0, 0)]\n",
      "  [(0, 0, 0) (0, 0, 0) (0, 0, 0) ... (0, 0, 0) (0, 0, 0) (0, 0, 0)]]]\n",
      "Z = np.zeros(10, [ ('position', [ ('x', float, 1),\n",
      "                                  ('y', float, 1)]),\n",
      "                   ('color',    [ ('r', float, 1),\n",
      "                                  ('g', float, 1),\n",
      "                                  ('b', float, 1)])])\n",
      "print(Z)\n"
     ]
    }
   ],
   "source": [
    "np.set_printoptions(threshold=1000) # = np.inf = sys.maxsize\n",
    "\n",
    "\n",
    "arr = np.zeros((5,5), [('x', int), ('y', int)])\n",
    "print(arr)\n",
    "\n",
    "arr = np.zeros((128,128,128), [('r', int), ('g', int), ('b', int)])\n",
    "print(arr)\n",
    "\n",
    "answer(51)\n",
    "\n",
    "\n",
    "# to make them in one array: Z = np.zeros(10, dtype = [ ('position', [ ('x', float, 1), ('y', float, 1)]),\n",
    "                            #    ('color',    [ ('r', float, ('g', float, 1), ('b', float, 1)])])"
   ]
  },
  {
   "cell_type": "markdown",
   "id": "1d3399ca",
   "metadata": {},
   "source": [
    "#### 52. Consider a random vector with shape (100,2) representing coordinates, find point by point distances (★★☆)"
   ]
  },
  {
   "cell_type": "code",
   "execution_count": 55,
   "id": "67eae5bf",
   "metadata": {},
   "outputs": [
    {
     "name": "stdout",
     "output_type": "stream",
     "text": [
      "Z = np.random.random((10,2))\n",
      "X,Y = np.atleast_2d(Z[:,0], Z[:,1])\n",
      "D = np.sqrt( (X-X.T)**2 + (Y-Y.T)**2)\n",
      "print(D)\n",
      "\n",
      "# Much faster with scipy\n",
      "import scipy\n",
      "# Thanks Gavin Heverly-Coulson (#issue 1)\n",
      "import scipy.spatial\n",
      "\n",
      "Z = np.random.random((10,2))\n",
      "D = scipy.spatial.distance.cdist(Z,Z)\n",
      "print(D)\n",
      "[[0.         0.57866077 0.55925454 0.43325459 0.28376979 0.69605188\n",
      "  0.44186839 0.43696713 0.45196685 0.37464729]\n",
      " [0.57866077 0.         0.79157258 0.61672329 0.80764102 1.2055431\n",
      "  0.87190945 0.50655094 0.81913219 0.93699651]\n",
      " [0.55925454 0.79157258 0.         0.17763767 0.78767046 0.58062173\n",
      "  0.27223242 0.28586608 0.17953835 0.5573634 ]\n",
      " [0.43325459 0.61672329 0.17763767 0.         0.69414575 0.6708382\n",
      "  0.32240186 0.11880163 0.23782128 0.54616742]\n",
      " [0.28376979 0.80764102 0.78767046 0.69414575 0.         0.71379702\n",
      "  0.59114873 0.71560318 0.64035969 0.36461725]\n",
      " [0.69605188 1.2055431  0.58062173 0.6708382  0.71379702 0.\n",
      "  0.35069889 0.78268015 0.4339564  0.35270384]\n",
      " [0.44186839 0.87190945 0.27223242 0.32240186 0.59114873 0.35069889\n",
      "  0.         0.43215415 0.09508029 0.29614724]\n",
      " [0.43696713 0.50655094 0.28586608 0.11880163 0.71560318 0.78268015\n",
      "  0.43215415 0.         0.35303743 0.62493054]\n",
      " [0.45196685 0.81913219 0.17953835 0.23782128 0.64035969 0.4339564\n",
      "  0.09508029 0.35303743 0.         0.37942278]\n",
      " [0.37464729 0.93699651 0.5573634  0.54616742 0.36461725 0.35270384\n",
      "  0.29614724 0.62493054 0.37942278 0.        ]]\n"
     ]
    }
   ],
   "source": [
    "answer(52)\n",
    "\n",
    "z = np.random.random((10,2))\n",
    "x, y = np.atleast_2d(z[:,0], z[:,1])\n",
    "d = np.sqrt( (x - x.T)**2 + (y - y.T)**2 )\n",
    "print(d)\n",
    "\n",
    "# no need to fully understand this !"
   ]
  },
  {
   "cell_type": "markdown",
   "id": "003ff920",
   "metadata": {},
   "source": [
    "#### 53. How to convert a float (32 bits) array into an integer (32 bits) array in place?"
   ]
  },
  {
   "cell_type": "code",
   "execution_count": 56,
   "id": "76245e6d",
   "metadata": {},
   "outputs": [
    {
     "name": "stdout",
     "output_type": "stream",
     "text": [
      "# Thanks Vikas (https://stackoverflow.com/a/10622758/5989906)\n",
      "# & unutbu (https://stackoverflow.com/a/4396247/5989906)\n",
      "Z = (np.random.rand(10)*100).astype(np.float32)\n",
      "Y = Z.view(np.int32)\n",
      "Y[:] = Z\n",
      "print(Y)\n"
     ]
    }
   ],
   "source": [
    "z = np.arange(10, dtype=np.float32)\n",
    "z.dtype = np.int32\n",
    "z.dtype\n",
    "\n",
    "answer(53)\n",
    "\n",
    "# 1. ORIGINAL ARRAY: [1.0, 2.7, 4.5] as float32\n",
    "#    Memory: [3F800000, 402CCCCD, 40900000] (float bit patterns)\n",
    "\n",
    "# 2. DANGEROUS: z.dtype = np.int32\n",
    "#    SAME memory, just reinterpreted: [1065353216, 1075000115, 1083179008]\n",
    "#    WRONG values - no actual conversion!\n",
    "\n",
    "# 3. SAFE BUT MEMORY-HEAVY: z.astype(np.int32)  \n",
    "#    CREATES NEW array: [1, 2, 4]\n",
    "#    ORIGINAL memory unchanged, NEW memory allocated\n",
    "\n",
    "# 4. MEMORY-EFFICIENT: Y = Z.view(np.int32); Y[:] = Z\n",
    "#    Step 1: Y views SAME memory as int32: [1065353216, 1075000115, 1083179008]\n",
    "#    Step 2: Y[:] = Z OVERWRITES memory with converted values: [1, 2, 4]\n",
    "#    Result: Same memory reused, proper conversion, no extra allocation"
   ]
  },
  {
   "cell_type": "markdown",
   "id": "0c99eac4",
   "metadata": {},
   "source": [
    "#### 54. How to read the following file? (★★☆)\n",
    "```\n",
    "1, 2, 3, 4, 5\n",
    "6,  ,  , 7, 8\n",
    " ,  , 9,10,11\n",
    "```"
   ]
  },
  {
   "cell_type": "code",
   "execution_count": 57,
   "id": "55c6bf8c",
   "metadata": {},
   "outputs": [
    {
     "name": "stdout",
     "output_type": "stream",
     "text": [
      "Z = np.arange(9).reshape(3,3)\n",
      "for index, value in np.ndenumerate(Z):\n",
      "    print(index, value)\n",
      "for index in np.ndindex(Z.shape):\n",
      "    print(index, Z[index])\n"
     ]
    }
   ],
   "source": [
    "f = np.genfromtxt('file.csv', delimiter=',')\n",
    "# =============================================\n",
    "# SUMMARY: READING FILES IN NUMPY\n",
    "# =============================================\n",
    "\n",
    "# 1. For simple text files (CSV, TSV):\n",
    "# ------------------------------------\n",
    "# data = np.loadtxt('file.txt')                    # Space-separated\n",
    "# data = np.loadtxt('file.csv', delimiter=',')     # CSV files\n",
    "# data = np.loadtxt('file.csv', delimiter=',', skiprows=1, dtype=int)  # Skip header, specify type\n",
    "# data = np.loadtxt('file.csv', delimiter=',', usecols=(0, 2))         # Select specific columns\n",
    "\n",
    "# 2. For text files with missing values:\n",
    "# --------------------------------------\n",
    "# data = np.genfromtxt('file.csv', delimiter=',')           # Auto-fill missing with NaN\n",
    "# data = np.genfromtxt('file.csv', delimiter=',', filling_values=0)  # Fill missing with 0\n",
    "# data = np.genfromtxt('file.csv', delimiter=',', usemask=True)      # Create masked array\n",
    "\n",
    "# 3. For NumPy binary files (.npy, .npz):\n",
    "# ---------------------------------------\n",
    "# array = np.load('data.npy')                                # Single array\n",
    "# with np.load('archive.npz') as data:                       # Multiple arrays\n",
    "#     array1 = data['array1']\n",
    "#     array2 = data['array2']\n",
    "\n",
    "# 4. For memory-mapped large arrays:\n",
    "# ----------------------------------\n",
    "# large_array = np.load('large_array.npy', mmap_mode='r')\n",
    "\n",
    "# 5. For raw binary data (use with caution):\n",
    "# ------------------------------------------\n",
    "# data = np.fromfile('binary_data.bin', dtype=np.float32)\n",
    "\n",
    "# =============================================\n",
    "# RECOMMENDATIONS:\n",
    "# - Use .npy/.npz format for reliable storage\n",
    "# - Avoid fromfile() for long-term storage\n",
    "# - Use genfromtxt() for messy data with missing values\n",
    "# =============================================\n",
    "\n",
    "answer(55)\n"
   ]
  },
  {
   "cell_type": "code",
   "execution_count": 58,
   "id": "f4c317af",
   "metadata": {},
   "outputs": [],
   "source": [
    "# =============================================\n",
    "# SUMMARY: CREATING NUMPY .NPY/.NPZ FILES\n",
    "# =============================================\n",
    "\n",
    "# 1. Saving single array to .npy:\n",
    "# -------------------------------\n",
    "# np.save('filename.npy', array)           # Saves single array efficiently\n",
    "# loaded_array = np.load('filename.npy')   # Load it back\n",
    "\n",
    "# 2. Saving multiple arrays to .npz:\n",
    "# ----------------------------------\n",
    "# np.savez('archive.npz', key1=array1, key2=array2)  # Uncompressed\n",
    "# np.savez_compressed('archive.npz', key1=array1, key2=array2)  # Compressed\n",
    "\n",
    "# 3. Loading .npz files:\n",
    "# ----------------------\n",
    "# data = np.load('archive.npz')\n",
    "# array1 = data['key1']                    # Access by key name\n",
    "# array2 = data['key2']\n",
    "# print(data.files)                        # List all keys\n",
    "\n",
    "# =============================================\n",
    "# CREATING CSV FILES FROM NUMPY\n",
    "# =============================================\n",
    "\n",
    "# 1. Basic CSV export:\n",
    "# --------------------\n",
    "# np.savetxt('data.csv', array, delimiter=',')           # Comma-separated\n",
    "# np.savetxt('data.tsv', array, delimiter='\\t')          # Tab-separated\n",
    "\n",
    "# 2. CSV with header and formatting:\n",
    "# ----------------------------------\n",
    "# np.savetxt('data.csv', array, delimiter=',', \n",
    "#            header='col1,col2,col3',        # Column names\n",
    "#            fmt='%.2f',                     # Float formatting (2 decimal places)\n",
    "#            comments='')                    # Remove '#' from header\n",
    "\n",
    "# 3. CSV with specific data types:\n",
    "# --------------------------------\n",
    "# np.savetxt('data.csv', array, delimiter=',', \n",
    "#            fmt='%d')                       # Integer format\n",
    "\n",
    "# 4. For structured arrays with mixed data:\n",
    "# -----------------------------------------\n",
    "# Use pandas: pd.DataFrame(array).to_csv('data.csv', index=False)\n",
    "\n",
    "# =============================================\n",
    "# QUICK EXAMPLES:\n",
    "# =============================================\n",
    "\n",
    "# Create and save arrays\n",
    "# array = np.random.rand(5, 3)\n",
    "# np.save('data.npy', array)                           # Binary format\n",
    "# np.savetxt('data.csv', array, delimiter=',')         # CSV format\n",
    "\n",
    "# Create structured data example\n",
    "# structured_array = np.array([(1, 2.5, 'A'), (2, 3.7, 'B')], \n",
    "#                            dtype=[('id', 'i4'), ('value', 'f4'), ('label', 'U1')])\n",
    "# Use pandas for mixed data types: \n",
    "# pd.DataFrame(structured_array).to_csv('structured.csv', index=False)\n",
    "\n",
    "# =============================================\n",
    "# KEY POINTS:\n",
    "# - Use .npy/.npz for NumPy-to-NumPy (fast, preserves everything)\n",
    "# - Use CSV for sharing/exchanging data with other programs\n",
    "# - Use pandas for complex/mixed data types in CSV\n",
    "# ============================================="
   ]
  },
  {
   "cell_type": "markdown",
   "id": "8cd30360",
   "metadata": {},
   "source": [
    "#### 55. What is the equivalent of enumerate for numpy arrays? (★★☆)"
   ]
  },
  {
   "cell_type": "code",
   "execution_count": 59,
   "id": "608315ba",
   "metadata": {},
   "outputs": [
    {
     "name": "stdout",
     "output_type": "stream",
     "text": [
      "1\n",
      "4\n",
      "9\n",
      "2\n",
      "6\n",
      "3\n",
      "1\n",
      "9\n",
      "7\n",
      "9\n",
      "51\n",
      "Z = np.arange(9).reshape(3,3)\n",
      "for index, value in np.ndenumerate(Z):\n",
      "    print(index, value)\n",
      "for index in np.ndindex(Z.shape):\n",
      "    print(index, Z[index])\n"
     ]
    }
   ],
   "source": [
    "arr = np.random.randint(1, 10, 10)\n",
    "size =0\n",
    "for i in np.ndenumerate(arr): # if you want only indexes use: ndindex() instead\n",
    "    print(i[1]); size+= i[1]\n",
    "print(size)\n",
    "\n",
    "answer(55)"
   ]
  },
  {
   "cell_type": "markdown",
   "id": "4823a294",
   "metadata": {},
   "source": [
    "#### 56. Generate a generic 2D Gaussian-like array (★★☆)"
   ]
  },
  {
   "cell_type": "code",
   "execution_count": 60,
   "id": "9b3b682d",
   "metadata": {},
   "outputs": [
    {
     "name": "stdout",
     "output_type": "stream",
     "text": [
      "[[ 1.36260394 -0.13645321]\n",
      " [ 1.85954833 -0.22645804]\n",
      " [ 1.14184761  2.03804956]\n",
      " [-0.60286097 -1.0883401 ]\n",
      " [ 1.7190775   0.18835537]\n",
      " [-0.89998807 -0.4774512 ]\n",
      " [-0.42561887 -2.81888822]\n",
      " [-0.16045198  0.28175949]\n",
      " [-1.3513011  -0.98681392]\n",
      " [ 0.92522327 -1.04261552]\n",
      " [-1.65189238 -0.00458325]\n",
      " [-1.07394132 -0.62493198]\n",
      " [ 0.59896935  0.69797787]\n",
      " [ 0.80532017  0.94427523]\n",
      " [ 1.30728305  0.43401479]\n",
      " [ 0.16264492  1.13087081]\n",
      " [-0.42720748 -1.83201142]\n",
      " [ 0.91005591 -2.02601425]\n",
      " [-0.32209397 -1.66702272]\n",
      " [ 0.74434886 -0.82486682]\n",
      " [ 0.9024304  -0.63298326]\n",
      " [ 0.8694823  -0.88260397]\n",
      " [-0.95600558 -0.86122516]\n",
      " [-0.8994122  -0.16346187]\n",
      " [-0.17400519  1.60127207]\n",
      " [-0.21047966  2.55196376]\n",
      " [-0.89286428  0.67356949]\n",
      " [ 0.20030261 -1.13189613]\n",
      " [ 0.14468436 -0.88931723]\n",
      " [-0.85260093 -0.26252739]\n",
      " [ 0.9543116   0.96015739]\n",
      " [-0.76962206  1.29217498]\n",
      " [-2.01947895 -0.74619119]\n",
      " [ 0.23332307  0.78973438]\n",
      " [ 0.52514778  0.72920863]\n",
      " [ 0.69576089 -1.38805983]\n",
      " [ 0.97960394 -0.54411673]\n",
      " [-0.07468306 -0.7467711 ]\n",
      " [ 0.26460998  1.30510124]\n",
      " [-0.30530547  0.92183074]\n",
      " [ 0.83634895 -0.53233002]\n",
      " [-0.7331876  -1.24296046]\n",
      " [ 1.02473006  0.98754416]\n",
      " [-0.72982227  0.62854443]\n",
      " [ 0.74679226 -1.53141196]\n",
      " [-2.44694492  2.28557755]\n",
      " [-0.83624963 -0.2092139 ]\n",
      " [ 0.23373875 -0.76229254]\n",
      " [ 0.03038203 -0.0628992 ]\n",
      " [-2.03896427 -0.52126037]\n",
      " [-0.42208896 -1.19247964]\n",
      " [-0.80422764  0.25098242]\n",
      " [ 1.16628876  0.05659324]\n",
      " [ 0.90019228 -0.03527807]\n",
      " [ 1.448442   -0.56583701]\n",
      " [ 0.13164405 -0.67071858]\n",
      " [-1.52810616 -1.12044681]\n",
      " [-1.18950339 -0.3381075 ]\n",
      " [-1.1401421   0.41395269]\n",
      " [ 0.94990323  0.11413966]\n",
      " [ 1.72853904 -0.323353  ]\n",
      " [-1.33342372  0.56362722]\n",
      " [-1.26730255  1.73228775]\n",
      " [-1.19852852 -0.24255953]\n",
      " [ 0.79681345 -0.61940005]\n",
      " [ 1.33476984  0.08089987]\n",
      " [ 0.8678024   0.0254467 ]\n",
      " [-0.54260331 -0.72315259]\n",
      " [-0.6427911   0.5113224 ]\n",
      " [ 0.39974628 -0.46050908]\n",
      " [ 0.64824101  0.00915914]\n",
      " [-0.57937799 -0.53424575]\n",
      " [ 0.30864241 -0.65786873]\n",
      " [ 0.90838446 -0.91824862]\n",
      " [ 0.20025287 -0.11165269]\n",
      " [ 0.85122654  0.73731812]\n",
      " [ 0.31366832 -0.72197911]\n",
      " [ 0.26347288 -0.26789523]\n",
      " [ 0.52350172  0.5314676 ]\n",
      " [-0.45492154  0.40846927]\n",
      " [ 0.67013026 -1.1521244 ]\n",
      " [-0.62996816 -0.67057005]\n",
      " [ 0.42878057 -0.63030244]\n",
      " [-1.21119358  0.33088966]\n",
      " [-1.9242751  -0.98149144]\n",
      " [-0.99335294  1.87231607]\n",
      " [-0.36787205  0.79867211]\n",
      " [-0.49065101 -0.89240227]\n",
      " [-0.08419685 -1.17878326]\n",
      " [ 1.28546968 -1.57412354]\n",
      " [ 0.95209307 -1.15166944]\n",
      " [ 0.04680065 -1.19519177]\n",
      " [ 0.80587255  0.58255506]\n",
      " [ 1.84377974  0.93988703]\n",
      " [-0.03101203 -1.1816065 ]\n",
      " [ 0.46442483 -0.8490962 ]\n",
      " [ 0.79043589 -1.48506726]\n",
      " [ 0.21894334 -1.08610664]\n",
      " [ 1.37233581  0.89861774]\n",
      " [ 0.13611736  0.0663669 ]]\n",
      "X, Y = np.meshgrid(np.linspace(-1,1,10), np.linspace(-1,1,10))\n",
      "D = np.sqrt(X*X+Y*Y)\n",
      "sigma, mu = 1.0, 0.0\n",
      "G = np.exp(-( (D-mu)**2 / ( 2.0 * sigma**2 ) ) )\n",
      "print(G)\n"
     ]
    }
   ],
   "source": [
    "print(np.random.normal(loc=0.0, scale=1.0, size=[100,2]))\n",
    "\n",
    "answer(56)\n",
    "\n",
    "# G(x,y) = exp(-(x² + y²) / (2σ²)) is equivalent to this"
   ]
  },
  {
   "cell_type": "markdown",
   "id": "2dd8891d",
   "metadata": {},
   "source": [
    "#### 57. How to randomly place p elements in a 2D array? (★★☆)"
   ]
  },
  {
   "cell_type": "code",
   "execution_count": 61,
   "id": "a55c52dc",
   "metadata": {},
   "outputs": [
    {
     "name": "stdout",
     "output_type": "stream",
     "text": [
      "# Author: Divakar\n",
      "\n",
      "n = 10\n",
      "p = 3\n",
      "Z = np.zeros((n,n))\n",
      "np.put(Z, np.random.choice(range(n*n), p, replace=False),1)\n",
      "print(Z)\n",
      "[22 31 38]\n",
      "[[ 0  0  0  0  0  0  0  0  0  0]\n",
      " [ 0  0  0  0  0  0  0  0  0  0]\n",
      " [ 0  0 20  0  0  0  0  0  0  0]\n",
      " [ 0 20  0  0  0  0  0  0 20  0]\n",
      " [ 0  0  0  0  0  0  0  0  0  0]\n",
      " [ 0  0  0  0  0  0  0  0  0  0]\n",
      " [ 0  0  0  0  0  0  0  0  0  0]\n",
      " [ 0  0  0  0  0  0  0  0  0  0]\n",
      " [ 0  0  0  0  0  0  0  0  0  0]\n",
      " [ 0  0  0  0  0  0  0  0  0  0]]\n"
     ]
    }
   ],
   "source": [
    "answer(57)\n",
    "\n",
    "arr = np.full(shape=[10,10], fill_value=0) # creating an array with a custom shape and default value\n",
    "p = 3\n",
    "\n",
    "\n",
    "# the following is useful for choosing a random number (size) of items from a max limit of (a)\n",
    "# replace=False means that no choice can be chosen twice.\n",
    "# in this case, we use this function to choose p (size) indicies from an array that have (arr.size=100) total indicies\n",
    "# .\n",
    "indicies = np.random.choice(a=arr.size, size=p, replace=False)\n",
    "print(indicies)\n",
    "\n",
    "\n",
    "# int this function np.put,  works with the random indicies we choosed, the values to put in them, and the array to make the changes to\n",
    "# the value (v) column when we want 3 values for example can work with 1, 2, or 3 values normally!\n",
    "# .\n",
    "np.put(a=arr, ind=indicies, v=[20])\n",
    "print(arr)\n"
   ]
  },
  {
   "cell_type": "markdown",
   "id": "270b6834",
   "metadata": {},
   "source": [
    "#### 58. Subtract the mean of each row of a matrix (★★☆)"
   ]
  },
  {
   "cell_type": "code",
   "execution_count": 62,
   "id": "814080c9",
   "metadata": {},
   "outputs": [
    {
     "name": "stdout",
     "output_type": "stream",
     "text": [
      "[np.float64(0.5161608438481822), np.float64(0.46697994895704226), np.float64(0.4328342117971056), np.float64(0.4439015254987748)]\n",
      "##########\n",
      "[[0.21767105 0.31881439 0.90756114 0.31423023]\n",
      " [0.51487987 0.10169092 0.20581188 0.26216387]\n",
      " [0.61507879 0.67011207 0.03053008 0.90956485]\n",
      " [0.71701367 0.77730241 0.58743375 0.28964714]]\n",
      "##########\n",
      "# Author: Warren Weckesser\n",
      "\n",
      "X = np.random.rand(5, 10)\n",
      "\n",
      "# Recent versions of numpy\n",
      "Y = X - X.mean(axis=1, keepdims=True)\n",
      "\n",
      "# Older versions of numpy\n",
      "Y = X - X.mean(axis=1).reshape(-1, 1)\n",
      "\n",
      "print(Y)\n",
      "##########\n",
      "[[0.91277204 0.09098531 0.45833753 0.9292497  0.9026905  0.3635361\n",
      "  0.86874113 0.33918979 0.61205884 0.09613553]\n",
      " [0.64329021 0.26778993 0.96028091 0.62760544 0.96795473 0.0299699\n",
      "  0.58657496 0.30966934 0.78412445 0.4665    ]\n",
      " [0.38738296 0.40490548 0.01736009 0.40276308 0.59694053 0.93012223\n",
      "  0.14565882 0.08460084 0.9870144  0.8974693 ]\n",
      " [0.36831776 0.54019341 0.51168761 0.48236887 0.68486344 0.0937928\n",
      "  0.21429262 0.3187163  0.32919888 0.48665833]\n",
      " [0.80533368 0.06303955 0.59504387 0.43718167 0.76989996 0.09759011\n",
      "  0.19693279 0.150554   0.98521852 0.0758815 ]]\n",
      "##########\n",
      "[[ 0.35540239 -0.46638434 -0.09903211  0.37188005  0.34532086 -0.19383355\n",
      "   0.31137149 -0.21817986  0.05468919 -0.46123412]\n",
      " [ 0.07891423 -0.29658605  0.39590492  0.06322946  0.40357874 -0.53440609\n",
      "   0.02219897 -0.25470665  0.21974847 -0.09787599]\n",
      " [-0.09803881 -0.08051629 -0.46806168 -0.0826587   0.11151876  0.44470045\n",
      "  -0.33976295 -0.40082093  0.50159263  0.41204753]\n",
      " [-0.03469124  0.13718441  0.10867861  0.07935987  0.28185444 -0.3092162\n",
      "  -0.18871638 -0.0842927  -0.07381012  0.08364933]\n",
      " [ 0.38766612 -0.35462802  0.17737631  0.0195141   0.3522324  -0.32007746\n",
      "  -0.22073477 -0.26711357  0.56755096 -0.34178606]]\n"
     ]
    }
   ],
   "source": [
    "arr = np.random.rand(4,4)\n",
    "l = []\n",
    "\n",
    "# mean(axis=1) can replace all of the following\n",
    "for i in range(arr.shape[1]): \n",
    "    l.append(arr[:,i].mean())\n",
    "\n",
    "print(l)\n",
    "print('#'*10)\n",
    "print(arr)\n",
    "print('#'*10)\n",
    "\n",
    "answer(58)\n",
    "\n",
    "\n",
    "old_arr = np.random.rand(5, 10)\n",
    "\n",
    "# Recent versions of numpy\n",
    "new_arr = old_arr - old_arr.mean(axis=1, keepdims=True)\n",
    "\n",
    "# Older versions of numpy\n",
    "new_arr = old_arr - old_arr.mean(axis=1).reshape(-1, 1)\n",
    "\n",
    "\n",
    "print('#'*10)\n",
    "print(old_arr)\n",
    "print('#'*10)\n",
    "print(new_arr)\n",
    "# =============================================\n",
    "# NUMPY keepdims=True - KEY POINTS\n",
    "# =============================================\n",
    "\n",
    "# 1. WHAT IT DOES:\n",
    "# ---------------\n",
    "# keepdims=True preserves array dimensions during reduction operations\n",
    "# Without it: (5, 10) → mean(axis=1) → (5,)    # Dimension lost!\n",
    "# With it:    (5, 10) → mean(axis=1, keepdims=True) → (5, 1)  # Dimension kept!\n",
    "\n",
    "# 2. WHY IT MATTERS FOR BROADCASTING:\n",
    "# -----------------------------------\n",
    "# X.shape = (5, 10)\n",
    "# \n",
    "# Without keepdims:\n",
    "# mean = X.mean(axis=1)        # shape (5,) \n",
    "# Y = X - mean                 # ERROR! (5,10) vs (5,) - incompatible\n",
    "#\n",
    "# With keepdims:\n",
    "# mean = X.mean(axis=1, keepdims=True)  # shape (5, 1)\n",
    "# Y = X - mean                          # WORKS! (5,10) vs (5,1) - broadcasts\n",
    "\n",
    "# 3. PRACTICAL EXAMPLES:\n",
    "# ----------------------\n",
    "# Standardization:\n",
    "# normalized = (X - X.mean(axis=1, keepdims=True)) / X.std(axis=1, keepdims=True)\n",
    "\n",
    "# Centering:\n",
    "# centered = X - X.mean(axis=0, keepdims=True)  # Center columns\n",
    "\n",
    "# 4. ALTERNATIVE WITHOUT keepdims:\n",
    "# --------------------------------\n",
    "# mean_manual = X.mean(axis=1).reshape(-1, 1)  # Manual reshaping needed\n",
    "# Y_manual = X - mean_manual\n",
    "\n",
    "# 5. BOTTOM LINE:\n",
    "# ---------------\n",
    "# Use keepdims=True for cleaner code and automatic broadcasting compatibility\n",
    "# Especially useful with: mean(), sum(), max(), min(), std(), var()\n",
    "# =============================================\n",
    "# reshape(-1,1) means: keep the number of rows as it's but force the number of columns to be 1"
   ]
  },
  {
   "cell_type": "markdown",
   "id": "52c92916",
   "metadata": {},
   "source": [
    "#### 59. How to sort an array by the nth column? (★★☆)"
   ]
  },
  {
   "cell_type": "code",
   "execution_count": 63,
   "id": "c6ebac6d",
   "metadata": {},
   "outputs": [
    {
     "name": "stdout",
     "output_type": "stream",
     "text": [
      "[[1 4 2 9 9 4 7 9 6 7]\n",
      " [2 2 1 5 3 4 8 7 0 1]\n",
      " [8 8 9 6 8 7 5 4 2 0]\n",
      " [1 8 5 8 1 8 7 0 4 0]\n",
      " [9 4 4 3 7 1 5 7 3 1]\n",
      " [7 6 7 4 4 4 5 2 5 3]\n",
      " [4 0 7 4 4 4 3 3 4 1]\n",
      " [4 8 2 1 0 2 7 3 1 0]\n",
      " [9 7 0 8 2 8 9 8 6 6]\n",
      " [9 9 4 1 8 5 2 5 4 2]]\n",
      "##########\n",
      "# Author: Steve Tjoa\n",
      "\n",
      "Z = np.random.randint(0,10,(3,3))\n",
      "print(Z)\n",
      "print(Z[Z[:,1].argsort()])\n",
      "[[4 8 2 1 0 2 7 3 1 0]\n",
      " [9 9 4 1 8 5 2 5 4 2]\n",
      " [9 4 4 3 7 1 5 7 3 1]\n",
      " [4 0 7 4 4 4 3 3 4 1]\n",
      " [7 6 7 4 4 4 5 2 5 3]\n",
      " [2 2 1 5 3 4 8 7 0 1]\n",
      " [8 8 9 6 8 7 5 4 2 0]\n",
      " [1 8 5 8 1 8 7 0 4 0]\n",
      " [9 7 0 8 2 8 9 8 6 6]\n",
      " [1 4 2 9 9 4 7 9 6 7]]\n"
     ]
    }
   ],
   "source": [
    "arr = np.random.randint(0,10,[10,10])\n",
    "print(arr)\n",
    "print('#'*10)\n",
    "n = 3\n",
    "# arr.sort(axis=0, order=3)\n",
    "\n",
    "answer(59)\n",
    "\n",
    "print(arr[ arr[:,n].argsort() ]) # getting the indexes of the sorted nth column then \"arr[sorted_column]\" sort the whole array by it.\n",
    "\n",
    "# =============================================\n",
    "# NUMPY SORTING - COMPLETE SUMMARY\n",
    "# =============================================\n",
    "\n",
    "# 1. BASIC SORTING FUNCTIONS:\n",
    "# ---------------------------\n",
    "# sorted_arr = np.sort(arr)           # Returns sorted COPY (all dimensions)\n",
    "# arr.sort()                          # In-place sort (modifies original)\n",
    "# indices = np.argsort(arr)           # Returns indices that sort the array\n",
    "# sorted_arr = arr[indices]           # Sort using indices\n",
    "\n",
    "# 2. MULTI-DIMENSIONAL SORTING:\n",
    "# -----------------------------\n",
    "# np.sort(arr_2d, axis=0)            # Sort along ROWS (each column)\n",
    "# np.sort(arr_2d, axis=1)            # Sort along COLUMNS (each row)  \n",
    "# np.sort(arr_2d, axis=None)         # Flatten and sort entire array\n",
    "\n",
    "# 3. PARTIAL SORTING (Efficient for top/bottom k):\n",
    "# ------------------------------------------------\n",
    "# 1. partial = np.partition(arr, k)      # Elements before k are smaller, after are larger\n",
    "# 2. indices = np.argpartition(arr, k)   # Indices for partial sort\n",
    "# 3. Get 3 largest elements:\n",
    "    # Step 1: np.partition(arr, -3) - This rearranges the array so that the 3rd largest element \n",
    "    #   is in the 3rd position from the end, with all larger elements to its right\n",
    "    # Step 2: [-3:] - This takes a slice of the last 3 elements from the rearranged array\n",
    "    # Example: If arr = [5, 2, 8, 1, 9, 3, 7]\n",
    "    #          np.partition(arr, -3) might give: [1, 2, 3, 5, 7, 8, 9]  \n",
    "    #          Then [-3:] takes: [7, 8, 9] which are the 3 largest\n",
    "\n",
    "# 4. SORTING ALGORITHMS (kind parameter):\n",
    "# ---------------------------------------\n",
    "# np.sort(arr, kind='quicksort')     # Fastest, not stable (DEFAULT)\n",
    "# np.sort(arr, kind='mergesort')     # Stable (preserves equal element order)\n",
    "# np.sort(arr, kind='heapsort')      # Good worst-case performance\n",
    "\n",
    "# 5. STRUCTURED ARRAYS (sort by fields):\n",
    "# --------------------------------------\n",
    "# dt = [('name', 'U10'), ('age', int)]\n",
    "# people = np.array([('Alice',25), ('Bob',20)], dtype=dt)\n",
    "# by_age = np.sort(people, order='age')           # Sort by age field\n",
    "# by_multi = np.sort(people, order=['age','name'])# Sort by multiple fields\n",
    "\n",
    "# 6. SPECIAL DATA TYPES:\n",
    "# ----------------------\n",
    "# Complex: sorted by real part, then imaginary\n",
    "# Strings: lexicographical order\n",
    "# Custom: use argsort with custom key function\n",
    "\n",
    "# 7. COMMON PATTERNS:\n",
    "# -------------------\n",
    "# Descending order: np.sort(arr)[::-1]\n",
    "# Sort rows by column: data[data[:,0].argsort()]\n",
    "# Get top k: arr[np.argpartition(arr, -k)[-k:]]\n",
    "# Stable sort for complex cases: kind='mergesort'\n",
    "\n",
    "# =============================================\n",
    "# QUICK REFERENCE - WHEN TO USE WHAT:\n",
    "# =============================================\n",
    "\n",
    "# np.sort()        - Need sorted copy, any dimension\n",
    "# .sort()          - In-place, memory efficient  \n",
    "# np.argsort()     - Need sorting order for multiple arrays\n",
    "# np.partition()   - Only care about top/bottom k elements (FAST)\n",
    "# kind='mergesort' - When equal elements should keep original order\n",
    "# axis parameter   - Control sorting direction in multi-dim arrays\n",
    "\n",
    "# =============================================\n",
    "# PERFORMANCE TIPS:\n",
    "# =============================================\n",
    "# - Use partition() instead of sort() for top/bottom k\n",
    "# - quicksort is fastest for most cases\n",
    "# - mergesort when stability matters\n",
    "# - argsort + indexing for sorting multiple related arrays\n",
    "# ============================================="
   ]
  },
  {
   "cell_type": "markdown",
   "id": "05cef60b",
   "metadata": {},
   "source": [
    "#### 60. How to tell if a given 2D array has null columns? (★★☆)"
   ]
  },
  {
   "cell_type": "code",
   "execution_count": 64,
   "id": "7979b467",
   "metadata": {},
   "outputs": [
    {
     "name": "stdout",
     "output_type": "stream",
     "text": [
      "[]\n",
      "# Author: Warren Weckesser\n",
      "\n",
      "# null : 0 \n",
      "Z = np.random.randint(0,3,(3,10))\n",
      "print((~Z.any(axis=0)).any())\n",
      "\n",
      "# null : np.nan\n",
      "Z=np.array([\n",
      "    [0,1,np.nan],\n",
      "    [1,2,np.nan],\n",
      "    [4,5,np.nan]\n",
      "])\n",
      "print(np.isnan(Z).all(axis=0))\n",
      "##########\n"
     ]
    }
   ],
   "source": [
    "print(f[f is None]) # wrong!\n",
    "\n",
    "answer(60)\n",
    "\n",
    "# =============================================\n",
    "# CHECKING FOR NULL/NaN VALUES IN NUMPY ARRAYS\n",
    "# =============================================\n",
    "\n",
    "# 1. BASIC NaN CHECKING:\n",
    "# ----------------------\n",
    "# nan_mask = np.isnan(arr)            # Returns Boolean array (True where NaN exists)\n",
    "# has_any_nan = np.any(np.isnan(arr)) # Returns True if ANY NaN found in array\n",
    "# all_finite = np.all(np.isfinite(arr)) # Returns True if ALL elements are valid numbers\n",
    "\n",
    "# 2. PRACTICAL EXAMPLES:\n",
    "# ----------------------\n",
    "# arr = np.array([1.0, 2.0, np.nan, 4.0])\n",
    "# \n",
    "# np.isnan(arr)     → [False, False, True, False]  # See WHERE NaNs are\n",
    "# np.any(np.isnan(arr)) → True                     # Check IF any NaN exists\n",
    "# np.all(np.isfinite(arr)) → False                 # Check if ALL are valid numbers\n",
    "\n",
    "# 3. IMPORTANT NOTES:\n",
    "# -------------------\n",
    "# - Integer arrays CANNOT contain NaN values (only works with Floats)\n",
    "# - Use np.isnan(np.sum(arr)) for efficient yes/no checking\n",
    "# - Use np.isnan(arr) to locate exact positions of NaNs\n",
    "# - np.isfinite() also checks for infinite values (inf, -inf)\n",
    "\n",
    "# 4. QUICK REFERENCE:\n",
    "# -------------------\n",
    "# \"Is there any NaN?\" → np.any(np.isnan(arr))\n",
    "# \"Where are the NaNs?\" → np.isnan(arr)  \n",
    "# \"Are all values valid numbers?\" → np.all(np.isfinite(arr))\n",
    "# =============================================\n",
    "\n",
    "print('#'*10)\n",
    "# checking int 2D arrays for all-zero columns: ~arr.any(axis=0).any()\n",
    "# checking float 2D arrays for None columns: np.isnan(arr).all(axis=0)\n",
    "# .\n"
   ]
  },
  {
   "cell_type": "markdown",
   "id": "4891fdf5",
   "metadata": {},
   "source": [
    "#### 61. Find the nearest value from a given value in an array (★★☆)"
   ]
  },
  {
   "cell_type": "code",
   "execution_count": 65,
   "id": "b38950fd",
   "metadata": {},
   "outputs": [
    {
     "name": "stdout",
     "output_type": "stream",
     "text": [
      "Z = np.random.uniform(0,1,10)\n",
      "z = 0.5\n",
      "m = Z.flat[np.abs(Z - z).argmin()]\n",
      "print(m)\n",
      "##########\n",
      "[0.58059917 0.29286038 0.07209814 0.08126203 0.13536681 0.20441291\n",
      " 0.31400773 0.3709533  0.11721407 0.13700461]\n",
      "##########\n",
      "0.5805991699906775\n"
     ]
    }
   ],
   "source": [
    "answer(61)\n",
    "arr = np.random.uniform(0,1,10)\n",
    "value = 0.5\n",
    "print('#'*10)\n",
    "print(arr)\n",
    "print('#'*10)\n",
    "\n",
    "print(arr[np.abs(arr - value).argmin()]) \n",
    "# if we want to use the same function for nD array (1D, 2D, 3D) we can use the same logic with arr.flat[] instead of arr[]\n",
    "# the code first subtract the \"value\" from all the \"arr\" elements ... the closest element in the \"arr\" to the \"value\" will have the minimum subtraction value\n",
    "#   by argmin we get the index of that subtraction value (instead of the opposite that happens with min())"
   ]
  },
  {
   "cell_type": "markdown",
   "id": "b34bfbc7",
   "metadata": {},
   "source": [
    "#### 62. Considering two arrays with shape (1,3) and (3,1), how to compute their sum using an iterator? (★★☆)"
   ]
  },
  {
   "cell_type": "code",
   "execution_count": 66,
   "id": "aa7eb006",
   "metadata": {},
   "outputs": [
    {
     "name": "stdout",
     "output_type": "stream",
     "text": [
      "hint: np.nditer\n",
      "##########\n",
      "[[0.95067567 0.1529071  0.29014871]] [[0.81677782]\n",
      " [0.91727748]\n",
      " [0.68074623]]\n",
      "1.3937314787599382\n",
      "##########\n",
      "A = np.arange(3).reshape(3,1)\n",
      "B = np.arange(3).reshape(1,3)\n",
      "it = np.nditer([A,B,None])\n",
      "for x,y,z in it: z[...] = x + y\n",
      "print(it.operands[2])\n"
     ]
    }
   ],
   "source": [
    "hint(62)\n",
    "print('#'*10)\n",
    "a = np.random.rand(1,3)\n",
    "b = np.random.rand(3,1)\n",
    "print(a,b)\n",
    "sum =0\n",
    "for i in np.nditer(a):\n",
    "    sum += i\n",
    "print(sum)\n",
    "print('#'*10)\n",
    "answer(62)"
   ]
  },
  {
   "cell_type": "markdown",
   "id": "77a27b83",
   "metadata": {},
   "source": [
    "#### 63. Create an array class that has a name attribute (★★☆)"
   ]
  },
  {
   "cell_type": "code",
   "execution_count": 67,
   "id": "a2a83936",
   "metadata": {},
   "outputs": [
    {
     "name": "stdout",
     "output_type": "stream",
     "text": [
      "class NamedArray(np.ndarray):\n",
      "    def __new__(cls, array, name=\"no name\"):\n",
      "        obj = np.asarray(array).view(cls)\n",
      "        obj.name = name\n",
      "        return obj\n",
      "    def __array_finalize__(self, obj):\n",
      "        if obj is None: return\n",
      "        self.name = getattr(obj, 'name', \"no name\")\n",
      "\n",
      "Z = NamedArray(np.arange(10), \"range_10\")\n",
      "print (Z.name)\n"
     ]
    }
   ],
   "source": [
    "class arr:\n",
    "    name: int\n",
    "\n",
    "answer(63)\n",
    "\n",
    "class arr2(np.ndarray):\n",
    "    def __new__():\n",
    "        pass\n"
   ]
  },
  {
   "cell_type": "markdown",
   "id": "f7f5d229",
   "metadata": {},
   "source": [
    "#### 64. Consider a given vector, how to add 1 to each element indexed by a second vector (be careful with repeated indices)? (★★★)"
   ]
  },
  {
   "cell_type": "code",
   "execution_count": 68,
   "id": "9b8f8f48",
   "metadata": {},
   "outputs": [
    {
     "name": "stdout",
     "output_type": "stream",
     "text": [
      "# Author: Brett Olsen\n",
      "\n",
      "Z = np.ones(10)\n",
      "I = np.random.randint(0,len(Z),20)\n",
      "Z += np.bincount(I, minlength=len(Z))\n",
      "print(Z)\n",
      "\n",
      "# Another solution\n",
      "# Author: Bartosz Telenczuk\n",
      "np.add.at(Z, I, 1)\n",
      "print(Z)\n",
      "[1. 3. 1. 2. 2. 3. 2. 2. 2. 2.]\n",
      "##########\n",
      "[1. 3. 1. 2. 2. 3. 2. 2. 2. 2.]\n",
      "##########\n",
      "[1. 3. 1. 2. 2. 3. 2. 2. 2. 2.]\n"
     ]
    }
   ],
   "source": [
    "# I think the questions asks about making two random int arrays then \n",
    "#   add one two each element after reindexing the first array by a second array.\n",
    "\n",
    "a = np.ones(10)\n",
    "b = np.random.randint(0,len(a),10)\n",
    "c = np.random.randint(0,len(a),10)\n",
    "\n",
    "# a.index_by(b)\n",
    "\n",
    "answer(64)\n",
    "# what actually the question is asking about is: extracting the (index:frequency) values from a random array then adding one two them (these indicies).\n",
    "\n",
    "\n",
    "# that is my solution: \n",
    "d = np.bincount(b, minlength=10)\n",
    "print(d+1.0)\n",
    "print('#'*10)\n",
    "\n",
    "# another solution:\n",
    "d = np.bincount(b, minlength=10) # By default, numpy.bincount creates an output array with a length of one more than the maximum value in your input array. The minlength parameter is useful when you need the output to be a specific size, regardless of the values in your input \n",
    "print(d+a)\n",
    "print('#'*10)\n",
    "\n",
    "# another:\n",
    "np.add.at(a, b, 1)\n",
    "print(a)"
   ]
  },
  {
   "cell_type": "markdown",
   "id": "b067fca8",
   "metadata": {},
   "source": [
    "#### 65. How to accumulate elements of a vector (X) to an array (F) based on an index list (I)? (★★★)"
   ]
  },
  {
   "cell_type": "code",
   "execution_count": 69,
   "id": "f983f8ba",
   "metadata": {},
   "outputs": [
    {
     "name": "stdout",
     "output_type": "stream",
     "text": [
      "x: [9 5 0 6 8 2 7 3 3 8]\n",
      "f: [1. 1. 1. 1. 1. 1. 1. 1. 1. 1.]\n",
      "l:  [8 3 2 1 7 1 6 3 1 0]\n",
      "##########\n",
      "[ 9.  4.  1.  4.  1.  1.  8.  9. 10.  1.]\n",
      "##########\n",
      "# Author: Alan G Isaac\n",
      "\n",
      "X = [1,2,3,4,5,6]\n",
      "I = [1,3,9,3,4,1]\n",
      "F = np.bincount(I,X)\n",
      "print(F)\n",
      "##########\n",
      "[ 9. 12.  1.  9.  1.  1.  8.  9. 10.]\n"
     ]
    }
   ],
   "source": [
    "x = np.random.randint(0,10,10)\n",
    "f = np.ones(10)\n",
    "l = np.random.randint(0,10,10)\n",
    "\n",
    "print('x:', x)\n",
    "print('f:', f)\n",
    "print('l: ', l)\n",
    "\n",
    "print('#'*10)\n",
    "\n",
    "f[l] += x # if I have two indicies in (l) with the same value it takes the last one of them not both .. that's wrong.\n",
    "\n",
    "print(f)\n",
    "print('#'*10)\n",
    "\n",
    "answer(65)\n",
    "print('#'*10)\n",
    "\n",
    "print(1.0 + np.bincount(l, weights=x)) # now that's correct!\n",
    "# what have happened here is that each time an element (e) appears in the array (l), it's counted as one \"custom weight\" not \"1\" as the normal way.\n",
    "# by doing so: we found ourselves with an array that in position (0) for example have not the number of times the element (0) occured in (l) only but: the number of times it appeared * its value in x.\n",
    "# this will force elements of (x) to appear in their correct position in (l) and if they appeared multiple times in (l) the result array will accumulate the values of each (x) in its correct position."
   ]
  },
  {
   "cell_type": "markdown",
   "id": "765e2b8e",
   "metadata": {},
   "source": [
    "#### 66. Considering a (w,h,3) image of (dtype=ubyte), compute the number of unique colors (★★☆)"
   ]
  },
  {
   "cell_type": "code",
   "execution_count": 70,
   "id": "7572d90d",
   "metadata": {},
   "outputs": [
    {
     "name": "stdout",
     "output_type": "stream",
     "text": [
      "The image has 1000 unique colors.\n",
      "from void:  1000\n",
      "##########\n",
      "# Author: Fisher Wang\n",
      "\n",
      "w, h = 256, 256\n",
      "I = np.random.randint(0, 4, (h, w, 3)).astype(np.ubyte)\n",
      "colors = np.unique(I.reshape(-1, 3), axis=0)\n",
      "n = len(colors)\n",
      "print(n)\n",
      "\n",
      "# Faster version\n",
      "# Author: Mark Setchell\n",
      "# https://stackoverflow.com/a/59671950/2836621\n",
      "\n",
      "w, h = 256, 256\n",
      "I = np.random.randint(0,4,(h,w,3), dtype=np.uint8)\n",
      "\n",
      "# View each pixel as a single 24-bit integer, rather than three 8-bit bytes\n",
      "I24 = np.dot(I.astype(np.uint32),[1,256,65536])\n",
      "\n",
      "# Count unique colours\n",
      "n = len(np.unique(I24))\n",
      "print(n)\n",
      "##########\n",
      "64\n"
     ]
    }
   ],
   "source": [
    "# ???\n",
    "# I think: 255 * 255 * 255.\n",
    "\n",
    "# no the question asks about if I have a real image with the 3D representation: (weight, height, 3 \"for colors\") how to know the unique combinations of colors available.\n",
    "image = np.random.randint(0,255, size=[100,10,3], dtype=np.ubyte)\n",
    "\n",
    "# the first solution by deepseek:\n",
    "#   reshape -> calculate unique colors/rows -> len\n",
    "pixels = image.reshape(-1, 3) # Reshape to (w*h, 3)\n",
    "unique_colors = np.unique(pixels, axis=0) # Find unique colors/rows\n",
    "number_of_unique_colors = len(unique_colors)\n",
    "\n",
    "print(f\"The image has {number_of_unique_colors} unique colors.\")\n",
    "\n",
    "# an efficient solution by deepseek:\n",
    "#   reshape -> convert to void -> unique -> len\n",
    "pixels = image.reshape(-1, 3)\n",
    "void_view = np.ascontiguousarray(pixels).view(np.dtype((np.void, pixels.dtype.itemsize * pixels.shape[1])))\n",
    "unique_colors = np.unique(void_view)\n",
    "\n",
    "print('from void: ', len(unique_colors))\n",
    "print('#'*10)\n",
    "\n",
    "answer(66)\n",
    "print('#'*10)\n",
    "\n",
    "\n",
    "w, h = 256, 256\n",
    "I = np.random.randint(0,4,(h,w,3), dtype=np.uint8) # all the possible values in the 3 channels are just 4 ... which makes all possible combinations: 4 * 4 * 4= 64 -> this makes validating the answer easier.\n",
    "\n",
    "# View each pixel as a single 24-bit integer, rather than three 8-bit bytes\n",
    "I24 = np.dot(I.astype(np.uint32),[1,256,65536])\n",
    "\n",
    "# how to previous line works?: \n",
    "    # [1, 256, 65536] are powers of 256: 256⁰, 256¹, 256²\n",
    "    # Each RGB triple [R, G, B] becomes: R×1 + G×256 + B×65536\n",
    "    # This packs the 3 bytes into one 24-bit integer\n",
    "    # finally np.dot produces one answer by adding all the (multiplied results) together: a1*b1 + a2*b2 + ... an*bn\n",
    "\n",
    "\n",
    "\n",
    "# Count unique colours\n",
    "n = len(np.unique(I24))\n",
    "print(n)"
   ]
  },
  {
   "cell_type": "markdown",
   "id": "02743317",
   "metadata": {},
   "source": [
    "#### 67. Considering a four dimensions array, how to get sum over the last two axis at once? (★★★)"
   ]
  },
  {
   "cell_type": "code",
   "execution_count": 71,
   "id": "980b5c45",
   "metadata": {},
   "outputs": [
    {
     "name": "stdout",
     "output_type": "stream",
     "text": [
      "[[[[8 6 7 3]\n",
      "   [6 2 5 2]\n",
      "   [9 3 6 4]\n",
      "   [0 7 0 2]]\n",
      "\n",
      "  [[6 3 5 3]\n",
      "   [9 8 5 1]\n",
      "   [0 3 1 8]\n",
      "   [1 0 8 3]]\n",
      "\n",
      "  [[9 4 3 5]\n",
      "   [7 9 5 9]\n",
      "   [5 8 2 7]\n",
      "   [3 3 9 6]]\n",
      "\n",
      "  [[4 0 5 9]\n",
      "   [7 0 4 8]\n",
      "   [2 4 9 4]\n",
      "   [3 4 5 3]]]\n",
      "\n",
      "\n",
      " [[[3 8 4 5]\n",
      "   [3 6 3 6]\n",
      "   [5 1 1 5]\n",
      "   [8 0 2 3]]\n",
      "\n",
      "  [[9 1 7 7]\n",
      "   [6 0 4 4]\n",
      "   [7 9 0 5]\n",
      "   [7 2 8 3]]\n",
      "\n",
      "  [[6 1 0 7]\n",
      "   [9 1 3 1]\n",
      "   [2 9 5 9]\n",
      "   [1 2 9 1]]\n",
      "\n",
      "  [[7 5 8 5]\n",
      "   [8 5 6 0]\n",
      "   [2 2 8 0]\n",
      "   [2 0 9 0]]]\n",
      "\n",
      "\n",
      " [[[4 6 2 8]\n",
      "   [2 3 8 1]\n",
      "   [3 8 0 8]\n",
      "   [8 9 5 8]]\n",
      "\n",
      "  [[1 2 8 8]\n",
      "   [3 7 1 7]\n",
      "   [1 1 9 7]\n",
      "   [3 5 0 1]]\n",
      "\n",
      "  [[7 5 6 8]\n",
      "   [4 7 5 1]\n",
      "   [7 6 1 6]\n",
      "   [4 9 4 1]]\n",
      "\n",
      "  [[4 9 3 6]\n",
      "   [2 7 0 4]\n",
      "   [5 1 5 4]\n",
      "   [7 1 2 4]]]\n",
      "\n",
      "\n",
      " [[[6 8 0 7]\n",
      "   [1 9 4 1]\n",
      "   [8 6 8 3]\n",
      "   [2 6 5 8]]\n",
      "\n",
      "  [[3 4 8 3]\n",
      "   [7 5 8 3]\n",
      "   [8 5 1 2]\n",
      "   [8 8 8 8]]\n",
      "\n",
      "  [[9 7 4 5]\n",
      "   [1 4 7 8]\n",
      "   [4 5 8 3]\n",
      "   [8 3 3 8]]\n",
      "\n",
      "  [[7 3 2 3]\n",
      "   [0 7 8 9]\n",
      "   [9 1 2 7]\n",
      "   [5 3 2 7]]]]\n",
      "##########\n",
      "[[70 64 94 71]\n",
      " [63 79 66 67]\n",
      " [83 64 81 64]\n",
      " [82 89 87 75]]\n",
      "##########\n",
      "A = np.random.randint(0,10,(3,4,3,4))\n",
      "# solution by passing a tuple of axes (introduced in numpy 1.7.0)\n",
      "sum = A.sum(axis=(-2,-1))\n",
      "print(sum)\n",
      "# solution by flattening the last two dimensions into one\n",
      "# (useful for functions that don't accept tuples for axis argument)\n",
      "sum = A.reshape(A.shape[:-2] + (-1,)).sum(axis=-1)\n",
      "print(sum)\n",
      "##########\n",
      "[[70 64 94 71]\n",
      " [63 79 66 67]\n",
      " [83 64 81 64]\n",
      " [82 89 87 75]]\n",
      "[[70 64 94 71]\n",
      " [63 79 66 67]\n",
      " [83 64 81 64]\n",
      " [82 89 87 75]]\n"
     ]
    }
   ],
   "source": [
    "arr = np.random.randint(0,10, [4,4,4,4])\n",
    "print(arr)\n",
    "print('#'*10)\n",
    "\n",
    "print(np.sum((np.sum(arr, axis=3)), axis=2)) # that's correct !! :)\n",
    "print('#'*10)\n",
    "\n",
    "answer(67)\n",
    "print('#'*10)\n",
    "\n",
    "\n",
    "# solution by passing a tuple of axes (introduced in numpy 1.7.0)\n",
    "sum = arr.sum(axis=(-2,-1))\n",
    "print(sum)\n",
    "# solution by flattening the last two dimensions into one\n",
    "# (useful for functions that don't accept tuples for axis argument)\n",
    "sum = arr.reshape(arr.shape[:-2] + (-1,)).sum(axis=-1)\n",
    "\n",
    "# the meaning of the previous code: \n",
    "# 1. The numpy.reshape function can take the new shape either as a tuple of integers (dim1, dim2, ...) or as a series of separated integer arguments dim1, dim2, ...\n",
    "# 2. the function written: arr.shape[:-2] + (-1,) -> produces a tuple by concatenating two tuples\n",
    "# 3. arr.shape[:-2]: this is a tuple that contains the shape of all the array except the last two dimensions.\n",
    "# 4. (-1,): this is also a tuple that contains only the number -1 and what it do is commanding numpy to calculate the size of the last dimension (in this case, the dimension size = the product of the removed two dimensions at the end of the array)\n",
    "# 5. .sum(axis=-1): sum by the last dimension: which is automatically calculated in this case = original dim3 * original dim4.\n",
    "# .\n",
    "print(sum)"
   ]
  },
  {
   "cell_type": "markdown",
   "id": "fe8b8107",
   "metadata": {},
   "source": [
    "#### 68. Considering a one-dimensional vector D, how to compute means of subsets of D using a vector S of same size describing subset  indices? (★★★)"
   ]
  },
  {
   "cell_type": "code",
   "execution_count": 72,
   "id": "9c17c8c9",
   "metadata": {},
   "outputs": [
    {
     "name": "stdout",
     "output_type": "stream",
     "text": [
      "[nan 3.6 2.5 3.  5.5]\n",
      "##########\n",
      "# Author: Jaime Fernández del Río\n",
      "\n",
      "D = np.random.uniform(0,1,100)\n",
      "S = np.random.randint(0,10,100)\n",
      "D_sums = np.bincount(S, weights=D)\n",
      "D_counts = np.bincount(S)\n",
      "D_means = D_sums / D_counts\n",
      "print(D_means)\n",
      "\n",
      "# Pandas solution as a reference due to more intuitive code\n",
      "import pandas as pd\n",
      "print(pd.Series(D).groupby(S).mean())\n"
     ]
    },
    {
     "name": "stderr",
     "output_type": "stream",
     "text": [
      "/tmp/ipykernel_4076/4261771696.py:5: RuntimeWarning: invalid value encountered in divide\n",
      "  print(np.bincount(SSubset, DVector)/ np.bincount(SSubset)) # this solution is by me .. also most of the solutions that comes before [answer()] is by me\n"
     ]
    }
   ],
   "source": [
    "DVector = np.random.randint(0,10,10)\n",
    "SSubset = np.random.randint(0,5,10)\n",
    "\n",
    "# the solution is correct !\n",
    "print(np.bincount(SSubset, DVector)/ np.bincount(SSubset)) # this solution is by me .. also most of the solutions that comes before [answer()] is by me\n",
    "print('#'*10)\n",
    "\n",
    "answer(68)\n",
    "\n",
    "# import pandas as pd\n",
    "# print(pd.Series(DVector).groupby(SSubset).mean())"
   ]
  },
  {
   "cell_type": "markdown",
   "id": "7efa1173",
   "metadata": {},
   "source": [
    "#### 69. How to get the diagonal of a dot product? (★★★)"
   ]
  },
  {
   "cell_type": "code",
   "execution_count": 73,
   "id": "59fc6a51",
   "metadata": {},
   "outputs": [
    {
     "name": "stdout",
     "output_type": "stream",
     "text": [
      "[[2 9 5 7 3]\n",
      " [0 3 8 4 2]\n",
      " [0 8 0 0 4]\n",
      " [0 4 2 0 3]\n",
      " [5 4 8 7 3]]\n",
      "[[2 2 5 8 1]\n",
      " [9 1 4 8 7]\n",
      " [4 2 4 3 0]\n",
      " [9 9 3 8 0]\n",
      " [9 2 3 6 6]]\n",
      "[[195  92  96 177  83]\n",
      " [113  59  62  92  33]\n",
      " [108  16  44  88  80]\n",
      " [ 71  14  33  56  46]\n",
      " [168  99 103 170  51]]\n",
      "##########\n",
      "# Author: Mathieu Blondel\n",
      "\n",
      "A = np.random.uniform(0,1,(5,5))\n",
      "B = np.random.uniform(0,1,(5,5))\n",
      "\n",
      "# Slow version\n",
      "np.diag(np.dot(A, B))\n",
      "\n",
      "# Fast version\n",
      "np.sum(A * B.T, axis=1)\n",
      "\n",
      "# Faster version\n",
      "np.einsum(\"ij,ji->i\", A, B)\n",
      "##########\n",
      "[195  59  44  56  51]\n"
     ]
    }
   ],
   "source": [
    "a = np.random.randint(0,10,[5,5])\n",
    "b = np.random.randint(0,10,[5,5])\n",
    "c = np.dot(a,b)\n",
    "\n",
    "print(a,b,c, sep='\\n') # is there a diagonal for a dot product ? -> I think it will if I changed the shapes to 2D\n",
    "print('#'*10)\n",
    "\n",
    "answer(69)\n",
    "print('#'*10)\n",
    "\n",
    "print(np.diag(c)) # [i,i] = Σⱼ A[i,j] * B[j,i]"
   ]
  },
  {
   "cell_type": "markdown",
   "id": "b72adc30",
   "metadata": {},
   "source": [
    "#### 70. Consider the vector [1, 2, 3, 4, 5], how to build a new vector with 3 consecutive zeros interleaved between each value? (★★★)"
   ]
  },
  {
   "cell_type": "code",
   "execution_count": 74,
   "id": "94b582b4",
   "metadata": {},
   "outputs": [
    {
     "name": "stdout",
     "output_type": "stream",
     "text": [
      "# Author: Warren Weckesser\n",
      "\n",
      "Z = np.array([1,2,3,4,5])\n",
      "nz = 3\n",
      "Z0 = np.zeros(len(Z) + (len(Z)-1)*(nz))\n",
      "Z0[::nz+1] = Z\n",
      "print(Z0)\n",
      "##########\n",
      "[1. 0. 0. 0. 2. 0. 0. 0. 3. 0. 0. 0. 4. 0. 0. 0. 5.]\n"
     ]
    }
   ],
   "source": [
    "arr = [1, 2, 3, 4, 5]\n",
    "zeros = 3\n",
    "# arr2= np.array(arr[0])\n",
    "# for i in arr[1:]:\n",
    "#     arr2 = np.concatenate([arr2, np.array([0, 0, 0, i])])\n",
    "# print(arr2)\n",
    "\n",
    "answer(70)\n",
    "print('#'*10)\n",
    "\n",
    "new_arr = np.zeros(len(arr) + (len(arr)-1)*zeros) # the size of the new array is the size of actual elements + the zeros in between (3 zeros per each actual element except the last element.)\n",
    "new_arr[::zeros+1] = arr # this assigns a value of new_arr to an actual element in (arr).\n",
    "print(new_arr)\n"
   ]
  },
  {
   "cell_type": "markdown",
   "id": "fafa05b8",
   "metadata": {},
   "source": [
    "#### 71. Consider an array of dimension (5,5,3), how to multiply it by an array with dimensions (5,5)? (★★★)"
   ]
  },
  {
   "cell_type": "code",
   "execution_count": 75,
   "id": "0dbb5bd4",
   "metadata": {},
   "outputs": [
    {
     "name": "stdout",
     "output_type": "stream",
     "text": [
      "[[[1. 1. 1.]\n",
      "  [1. 1. 1.]\n",
      "  [1. 1. 1.]\n",
      "  [1. 1. 1.]\n",
      "  [1. 1. 1.]]\n",
      "\n",
      " [[1. 1. 1.]\n",
      "  [1. 1. 1.]\n",
      "  [1. 1. 1.]\n",
      "  [1. 1. 1.]\n",
      "  [1. 1. 1.]]\n",
      "\n",
      " [[1. 1. 1.]\n",
      "  [1. 1. 1.]\n",
      "  [1. 1. 1.]\n",
      "  [1. 1. 1.]\n",
      "  [1. 1. 1.]]\n",
      "\n",
      " [[1. 1. 1.]\n",
      "  [1. 1. 1.]\n",
      "  [1. 1. 1.]\n",
      "  [1. 1. 1.]\n",
      "  [1. 1. 1.]]\n",
      "\n",
      " [[1. 1. 1.]\n",
      "  [1. 1. 1.]\n",
      "  [1. 1. 1.]\n",
      "  [1. 1. 1.]\n",
      "  [1. 1. 1.]]]\n",
      "[[2. 2. 2. 2. 2.]\n",
      " [2. 2. 2. 2. 2.]\n",
      " [2. 2. 2. 2. 2.]\n",
      " [2. 2. 2. 2. 2.]\n",
      " [2. 2. 2. 2. 2.]]\n",
      "[[[2. 2. 2.]\n",
      "  [2. 2. 2.]\n",
      "  [2. 2. 2.]\n",
      "  [2. 2. 2.]\n",
      "  [2. 2. 2.]]\n",
      "\n",
      " [[2. 2. 2.]\n",
      "  [2. 2. 2.]\n",
      "  [2. 2. 2.]\n",
      "  [2. 2. 2.]\n",
      "  [2. 2. 2.]]\n",
      "\n",
      " [[2. 2. 2.]\n",
      "  [2. 2. 2.]\n",
      "  [2. 2. 2.]\n",
      "  [2. 2. 2.]\n",
      "  [2. 2. 2.]]\n",
      "\n",
      " [[2. 2. 2.]\n",
      "  [2. 2. 2.]\n",
      "  [2. 2. 2.]\n",
      "  [2. 2. 2.]\n",
      "  [2. 2. 2.]]\n",
      "\n",
      " [[2. 2. 2.]\n",
      "  [2. 2. 2.]\n",
      "  [2. 2. 2.]\n",
      "  [2. 2. 2.]\n",
      "  [2. 2. 2.]]]\n",
      "##########\n",
      "A = np.ones((5,5,3))\n",
      "B = 2*np.ones((5,5))\n",
      "print(A * B[:,:,None])\n",
      "##########\n",
      "[[[2. 2. 2.]\n",
      "  [2. 2. 2.]\n",
      "  [2. 2. 2.]\n",
      "  [2. 2. 2.]\n",
      "  [2. 2. 2.]]\n",
      "\n",
      " [[2. 2. 2.]\n",
      "  [2. 2. 2.]\n",
      "  [2. 2. 2.]\n",
      "  [2. 2. 2.]\n",
      "  [2. 2. 2.]]\n",
      "\n",
      " [[2. 2. 2.]\n",
      "  [2. 2. 2.]\n",
      "  [2. 2. 2.]\n",
      "  [2. 2. 2.]\n",
      "  [2. 2. 2.]]\n",
      "\n",
      " [[2. 2. 2.]\n",
      "  [2. 2. 2.]\n",
      "  [2. 2. 2.]\n",
      "  [2. 2. 2.]\n",
      "  [2. 2. 2.]]\n",
      "\n",
      " [[2. 2. 2.]\n",
      "  [2. 2. 2.]\n",
      "  [2. 2. 2.]\n",
      "  [2. 2. 2.]\n",
      "  [2. 2. 2.]]]\n"
     ]
    }
   ],
   "source": [
    "# by making the array with dimensions (5,5) -> (5,5,1)\n",
    "a = np.ones((5,5,3))\n",
    "b = 2*np.ones((5,5))\n",
    "c = b.reshape(5,5,1)\n",
    "print(a,b,a*c, sep='\\n')\n",
    "print('#'*10)\n",
    "\n",
    "answer(71)\n",
    "print('#'*10)\n",
    "\n",
    "print(a * b[:,:,None])\n",
    "\n",
    "# ========================\n",
    "# RESHAPE vs NEWAXIS (None)\n",
    "# ========================\n",
    "\n",
    "# RESHAPE USE CASES:\n",
    "# - Complete dimension reorganization: arr.reshape(2,3,4)\n",
    "# - When total elements must be preserved: 24 elements -> (2,3,4)\n",
    "# - Using -1 for auto-calculation: arr.reshape(5,-1,2)\n",
    "# - Flattening arrays: arr.reshape(-1)\n",
    "# - Converting between different dimensional layouts\n",
    "\n",
    "# NEWAXIS (None) USE CASES:\n",
    "# - Simply adding single dimensions: arr[:,None] or arr[None,:]\n",
    "# - Preparing for broadcasting: A * B[:,None]\n",
    "# - Converting 1D to column/row vectors: \n",
    "#   col_vector = arr[:,None]  # (n,) -> (n,1)\n",
    "#   row_vector = arr[None,:]  # (n,) -> (1,n)\n",
    "# - Quick dimension addition without full reshape\n",
    "\n",
    "# KEY DIFFERENCES:\n",
    "# reshape() - Manual control, must specify all dimensions\n",
    "# newaxis   - Automatic, preserves existing dimensions\n",
    "# reshape() - Can fail if element count doesn't match\n",
    "# newaxis   - Always works for dimension addition\n",
    "# reshape() - More explicit but verbose\n",
    "# newaxis   - Cleaner syntax for simple dimension adding\n",
    "\n",
    "# PERFORMANCE:\n",
    "# Both typically return views (memory efficient)\n",
    "# No significant performance difference for most cases\n",
    "\n",
    "# CODE EXAMPLES:\n",
    "# arr.reshape(5,5,1)    # Explicit full reshape\n",
    "# arr[:,:,None]         # Clean dimension addition\n",
    "# arr.reshape(-1,1)     # Auto-calc with reshape\n",
    "# arr[:,None]           # Same result with newaxis"
   ]
  },
  {
   "cell_type": "markdown",
   "id": "35a2bae5",
   "metadata": {},
   "source": [
    "#### 72. How to swap two rows of an array? (★★★)"
   ]
  },
  {
   "cell_type": "code",
   "execution_count": 76,
   "id": "d63b30c3",
   "metadata": {},
   "outputs": [
    {
     "name": "stdout",
     "output_type": "stream",
     "text": [
      "# Author: Eelco Hoogendoorn\n",
      "\n",
      "A = np.arange(25).reshape(5,5)\n",
      "A[[0,1]] = A[[1,0]]\n",
      "print(A)\n",
      "[[ 5  6  7  8  9]\n",
      " [ 0  1  2  3  4]\n",
      " [10 11 12 13 14]\n",
      " [15 16 17 18 19]\n",
      " [20 21 22 23 24]]\n"
     ]
    }
   ],
   "source": [
    "# using a temp var ?\n",
    "answer(72)\n",
    "\n",
    "a = np.arange(25).reshape((5,5))\n",
    "\n",
    "a[[0,1]] = a[[1,0]] # just like what you can do in normal python.\n",
    "print(a)"
   ]
  },
  {
   "cell_type": "markdown",
   "id": "b760fc57",
   "metadata": {},
   "source": [
    "#### 73. Consider a set of 10 triplets describing 10 triangles (with shared vertices), find the set of unique line segments composing all the  triangles (★★★)"
   ]
  },
  {
   "cell_type": "code",
   "execution_count": 77,
   "id": "01738774",
   "metadata": {},
   "outputs": [
    {
     "name": "stdout",
     "output_type": "stream",
     "text": [
      "# Author: Nicolas P. Rougier\n",
      "\n",
      "faces = np.random.randint(0,100,(10,3))\n",
      "F = np.roll(faces.repeat(2,axis=1),-1,axis=1)\n",
      "F = F.reshape(len(F)*3,2)\n",
      "F = np.sort(F,axis=1)\n",
      "G = F.view( dtype=[('p0',F.dtype),('p1',F.dtype)] )\n",
      "G = np.unique(G)\n",
      "print(G)\n",
      "[( 6, 52) ( 6, 74) ( 8, 51) ( 8, 81) (12, 28) (12, 37) (12, 66) (12, 95)\n",
      " (15, 20) (15, 29) (15, 31) (15, 50) (20, 29) (23, 58) (23, 66) (28, 95)\n",
      " (31, 50) (31, 62) (37, 66) (48, 67) (48, 96) (50, 62) (51, 81) (52, 74)\n",
      " (57, 84) (57, 96) (58, 66) (67, 96) (84, 96)]\n"
     ]
    }
   ],
   "source": [
    "# there is a solution using: reshape, meshgrid, sort, unique ... all together ... but I won't write it.\n",
    "\n",
    "answer(73)\n",
    "\n",
    "faces = np.random.randint(0,100,(10,3)) # per each edge of any triangle there is only (one value)\n",
    "\n",
    "F = np.roll(faces.repeat(2,axis=1),-1,axis=1) # all possible combinations of points (=line segments of each triangle) ... this doubles the number of points then roll them: \n",
    "# faces.repeat(2,axis=1) doubles each vertex: [a,b,c] → [a,a,b,b,c,c]\n",
    "# np.roll(...,-1,axis=1) shifts left by 1: [a,a,b,b,c,c] → [a,b,b,c,c,a]\n",
    "# Result: adjacent pairs representing edges: [(a,b), (b,c), (c,a)]\n",
    "\n",
    "F = F.reshape(len(F)*3,2) # (10,6) to (30,2)\n",
    "F = np.sort(F,axis=1) # Ensures [3,1] and [1,3] both become [1,3]\n",
    "\n",
    "G = F.view( dtype=[('p0',F.dtype),('p1',F.dtype)] )\n",
    "# view() reinterprets each [p0,p1] pair as a single structured element with two fields\n",
    "# This allows np.unique() to treat entire edge pairs as atomic units for comparison\n",
    "# Without this trick, np.unique() would treat the 2D array differently\n",
    "\n",
    "\n",
    "G = np.unique(G) # without the previous step this would be: np.unique(G, axis=0)\n",
    "print(G)"
   ]
  },
  {
   "cell_type": "markdown",
   "id": "2d28cdaa",
   "metadata": {},
   "source": [
    "#### 74. Given a sorted array C that corresponds to a bincount, how to produce an array A such that np.bincount(A) == C? (★★★)"
   ]
  },
  {
   "cell_type": "code",
   "execution_count": 78,
   "id": "8423859b",
   "metadata": {},
   "outputs": [
    {
     "name": "stdout",
     "output_type": "stream",
     "text": [
      "[1 2 2 3 3 3 5 5 5 5 5 6 6 6 6 6 6 7 7 7 7 7 7 7 9 9 9 9 9 9 9 9 9]\n",
      "##########\n",
      "# Author: Jaime Fernández del Río\n",
      "\n",
      "C = np.bincount([1,1,2,3,4,4,6])\n",
      "A = np.repeat(np.arange(len(C)), C)\n",
      "print(A)\n",
      "##########\n",
      "[1 1 2 3 4 4 6]\n"
     ]
    }
   ],
   "source": [
    "# then bitcount of A = C = a bitcount that corresponds to C .. by making C a normal array and a bincount at the same time I can solve this\n",
    "C = np.unique( np.sort(np.random.randint(0,10,10)) )\n",
    "C = np.repeat(C, C) # C corresponds to a bitcount.\n",
    "print(C) # = np.bincount(A) = A.\n",
    "print('#'*10)\n",
    "\n",
    "answer(74)\n",
    "print('#'*10)\n",
    "\n",
    "# so you mean that the question asks about how to get the array from bincount. ... this makes my first understanding wrong.\n",
    "\n",
    "C = np.bincount([1,1,2,3,4,4,6])\n",
    "A = np.repeat(np.arange(len(C)), C)\n",
    "print(A)"
   ]
  },
  {
   "cell_type": "markdown",
   "id": "5f4cafbd",
   "metadata": {},
   "source": [
    "#### 75. How to compute averages using a sliding window over an array? (★★★)"
   ]
  },
  {
   "cell_type": "code",
   "execution_count": 79,
   "id": "62d6d514",
   "metadata": {},
   "outputs": [
    {
     "name": "stdout",
     "output_type": "stream",
     "text": [
      "[7 8 1 7 5 6 7 6 7 8]\n",
      "[5.33333333 5.33333333 4.33333333 6.         6.         6.33333333\n",
      " 6.66666667 7.        ]\n",
      "##########\n",
      "# Author: Jaime Fernández del Río\n",
      "\n",
      "def moving_average(a, n=3) :\n",
      "    ret = np.cumsum(a, dtype=float)\n",
      "    ret[n:] = ret[n:] - ret[:-n]\n",
      "    return ret[n - 1:] / n\n",
      "Z = np.arange(20)\n",
      "print(moving_average(Z, n=3))\n",
      "\n",
      "# Author: Jeff Luo (@Jeff1999)\n",
      "# make sure your NumPy >= 1.20.0\n",
      "\n",
      "from numpy.lib.stride_tricks import sliding_window_view\n",
      "\n",
      "Z = np.arange(20)\n",
      "print(sliding_window_view(Z, window_shape=3).mean(axis=-1))\n",
      "##########\n",
      "[ 1.  2.  3.  4.  5.  6.  7.  8.  9. 10. 11. 12. 13. 14. 15. 16. 17. 18.]\n"
     ]
    }
   ],
   "source": [
    "# how to make a sliding window over an array in the first place?\n",
    "# he following answer is written by me not AI!\n",
    "arr = np.random.randint(0,10,10)\n",
    "ws = 3 # window size\n",
    "l = np.empty(len(arr)-ws+1)\n",
    "for i in range(0,len(arr)-ws+1):\n",
    "    l[i] = arr[i:i+ws].mean()\n",
    "print(arr, l, sep='\\n')\n",
    "print('#'*10)\n",
    "\n",
    "answer(75)\n",
    "print('#'*10)\n",
    "\n",
    "def moving_average(a, n=3) : # the array and the window_size\n",
    "    ret = np.cumsum(a, dtype=float) # 0,1,2,3,4,5 -> 0,1,3,6,10,15\n",
    "    ret[n:] = ret[n:] - ret[:-n] # 0,1,3,6,10,15 -> 0,1,3,6,9,12 (that's converting a cumulating sum to a rolling sum)\n",
    "    return ret[n - 1:] / n # 1, 2, 3, 4 (by dividing sums over 3 the result is the mean.)\n",
    "\n",
    "\n",
    "# ========================\n",
    "# STEP-BY-STEP BREAKDOWN\n",
    "# ========================\n",
    "\n",
    "# Step 1: Cumulative Sum\n",
    "# ret = [0, 1, 3, 6, 10, 15]\n",
    "# Index: 0  1  2  3   4   5\n",
    "\n",
    "# Step 2: ret[n:] = ret[n:] - ret[:-n]\n",
    "# ret[n:]   = [6, 10, 15]    (indices 3,4,5)\n",
    "# ret[:-n]  = [0, 1, 3]      (indices 0,1,2)\n",
    "# Subtraction: [6-0, 10-1, 15-3] = [6, 9, 12]\n",
    "# ret becomes: [0, 1, 3, 6, 9, 12]\n",
    "\n",
    "# Step 3: return ret[n - 1:] / n\n",
    "# ret[n-1:] = [3, 6, 9, 12]  (indices 2,3,4,5)\n",
    "# Divide by 3: [1, 2, 3, 4]\n",
    "\n",
    "# ========================\n",
    "# WHAT EACH AVERAGE REPRESENTS\n",
    "# ========================\n",
    "\n",
    "# Original data: [0, 1, 2, 3, 4, 5]\n",
    "# Moving averages: [1, 2, 3, 4]\n",
    "\n",
    "# [1] = (0+1+2)/3 = 1.0  ← Window indices 0,1,2\n",
    "# [2] = (1+2+3)/3 = 2.0  ← Window indices 1,2,3  \n",
    "# [3] = (2+3+4)/3 = 3.0  ← Window indices 2,3,4\n",
    "# [4] = (3+4+5)/3 = 4.0  ← Window indices 3,4,5\n",
    "\n",
    "\n",
    "from numpy.lib.stride_tricks import sliding_window_view \n",
    "# stride: Think of it as the \"step size\" in bytes between consecutive elements along each dimension.\n",
    "# While sliding_window_view is user-friendly, the stride_tricks module contains a more powerful, low-level function called as_strided -> if you don't use it correctly, it crashes.\n",
    "\n",
    "Z = np.arange(20)\n",
    "print(sliding_window_view(Z, window_shape=3).mean(axis=-1)) \n",
    "# The output without calculating the mean is like the following:\n",
    "# [[0 1 2]\n",
    "#  [1 2 3] \n",
    "#  [2 3 4]\n",
    "#  [3 4 5]]\n",
    "# \n",
    "# by calculating mean(axis=-1): we calculate the mean per row (axis=1).\n",
    "# .\n",
    "\n",
    "\n",
    "# => as an example of \"as_stride\":\n",
    "# arr = np.array([0, 1, 2, 3, 4, 5])\n",
    "# Create 4 windows of size 3 without copying data\n",
    "# windows = as_strided(arr, shape=(4, 3), strides=(8, 8))\n",
    "# print(windows)\n",
    "# # [[0 1 2]\n",
    "# #  [1 2 3] \n",
    "# #  [2 3 4]\n",
    "# #  [3 4 5]]\n",
    "\n",
    "\n",
    "\n"
   ]
  },
  {
   "cell_type": "markdown",
   "id": "575d8bb4",
   "metadata": {},
   "source": [
    "#### 76. Consider a one-dimensional array Z, build a two-dimensional array whose first row is (Z[0],Z[1],Z[2]) and each subsequent row is  shifted by 1 (last row should be (Z[-3],Z[-2],Z[-1]) (★★★)"
   ]
  },
  {
   "cell_type": "code",
   "execution_count": 80,
   "id": "2a41d341",
   "metadata": {},
   "outputs": [
    {
     "name": "stdout",
     "output_type": "stream",
     "text": [
      "[[6 0 4]\n",
      " [5 6 1]\n",
      " [3 4 2]\n",
      " [7 0 1]\n",
      " [2 8 8]\n",
      " [8 0 8]\n",
      " [8 2 2]\n",
      " [3 7 0]\n",
      " [2 8 8]\n",
      " [8 8 7]]\n",
      "##########\n",
      "# Author: Joe Kington / Erik Rigtorp\n",
      "from numpy.lib import stride_tricks\n",
      "\n",
      "def rolling(a, window):\n",
      "    shape = (a.size - window + 1, window)\n",
      "    strides = (a.strides[0], a.strides[0])\n",
      "    return stride_tricks.as_strided(a, shape=shape, strides=strides)\n",
      "Z = rolling(np.arange(10), 3)\n",
      "print(Z)\n",
      "\n",
      "# Author: Jeff Luo (@Jeff1999)\n",
      "\n",
      "Z = np.arange(10)\n",
      "print(sliding_window_view(Z, window_shape=3))\n",
      "##########\n"
     ]
    }
   ],
   "source": [
    "arr = np.random.randint(0,10,30)\n",
    "print(arr.reshape(-1,3))\n",
    "print('#'*10)\n",
    "\n",
    "answer(76)\n",
    "print('#'*10)\n",
    "\n",
    "# what's intended is not what I've solved for ... it's getting just a sliding window of size 3"
   ]
  },
  {
   "cell_type": "markdown",
   "id": "80dc0b2a",
   "metadata": {},
   "source": [
    "#### 77. How to negate a boolean, or to change the sign of a float inplace? (★★★)"
   ]
  },
  {
   "cell_type": "code",
   "execution_count": 81,
   "id": "6fc68014",
   "metadata": {},
   "outputs": [
    {
     "name": "stdout",
     "output_type": "stream",
     "text": [
      "[False  True False]\n",
      "##########\n",
      "# Author: Nathaniel J. Smith\n",
      "\n",
      "Z = np.random.randint(0,2,100)\n",
      "np.logical_not(Z, out=Z)\n",
      "\n",
      "Z = np.random.uniform(-1.0,1.0,100)\n",
      "np.negative(Z, out=Z)\n",
      "##########\n"
     ]
    },
    {
     "data": {
      "text/plain": [
       "array([-0.93584957, -0.64296381,  0.58685164, -0.08907695,  0.37979883,\n",
       "        0.52382371, -0.09254217, -0.81920207,  0.52792912,  0.264053  ,\n",
       "       -0.22667979, -0.70320716, -0.93560175,  0.53989629,  0.73799799,\n",
       "       -0.57037849,  0.5580874 , -0.57032229,  0.8438875 ,  0.48114325,\n",
       "        0.28031356,  0.74165111,  0.73954549,  0.39028836,  0.57566345,\n",
       "        0.18041063, -0.08440145,  0.14817302, -0.1689097 , -0.74240277,\n",
       "        0.6389595 , -0.0884991 ,  0.75410149, -0.39038464,  0.51539545,\n",
       "       -0.4014418 ,  0.10704096, -0.20502207, -0.44471371, -0.26042543,\n",
       "        0.55909914,  0.97989636, -0.90117721,  0.1306656 ,  0.76186658,\n",
       "       -0.95901713, -0.56830404,  0.12261792, -0.9471502 , -0.50110263,\n",
       "       -0.69775148, -0.23221594,  0.90228713,  0.74133266, -0.08140975,\n",
       "        0.03373449, -0.09726905, -0.7767514 , -0.50416077,  0.42438758,\n",
       "        0.2067436 , -0.91260602, -0.54304752,  0.66454684,  0.84649142,\n",
       "        0.85842925,  0.92641654, -0.88929525,  0.89870879, -0.24388688,\n",
       "       -0.92655821, -0.56417261, -0.49491614,  0.56468251, -0.03370688,\n",
       "        0.67144518,  0.08029826,  0.79907273,  0.73329785,  0.53676143,\n",
       "       -0.96134132,  0.33511168,  0.52100862,  0.55031129, -0.80547372,\n",
       "       -0.1770021 ,  0.05800167,  0.18995588,  0.7691252 ,  0.39349748,\n",
       "        0.67646963,  0.44285988, -0.74866743,  0.55565761, -0.70803905,\n",
       "        0.34920583, -0.11945862, -0.14723335,  0.60414255, -0.75440335])"
      ]
     },
     "execution_count": 81,
     "metadata": {},
     "output_type": "execute_result"
    }
   ],
   "source": [
    "b = np.array([True, False, True ])\n",
    "np.logical_not(b, out=b)\n",
    "print(b)\n",
    "print('#'*10)\n",
    "\n",
    "answer(77)\n",
    "print('#'*10)\n",
    "\n",
    "# ========================\n",
    "# RANDOM BOOLEAN ARRAYS - SUMMARY\n",
    "# ========================\n",
    "\n",
    "# METHOD 1: np.random.rand() > threshold (RECOMMENDED)\n",
    "# bool_arr = np.random.rand(shape) > 0.5          # 50% True\n",
    "# bool_arr = np.random.rand(5,5) > 0.3            # 30% True, any shape\n",
    "\n",
    "# METHOD 2: np.random.choice() \n",
    "# bool_arr = np.random.choice([True, False], size) # Explicit but slower\n",
    "\n",
    "# METHOD 3: np.random.randint() with bool conversion\n",
    "# bool_arr = np.random.randint(0, 2, size, dtype=bool)\n",
    "\n",
    "# KEY PARAMETERS:\n",
    "# - shape: (10,) for 1D, (5,5) for 2D, etc.\n",
    "# - threshold: 0.5 = 50% True, 0.8 = 20% True, 0.1 = 90% True\n",
    "\n",
    "# USE CASE GUIDE:\n",
    "# - Default: Method 1 with custom probability\n",
    "# - Exact counts: Create array + np.random.shuffle()\n",
    "# - Any dimension: All methods support n-dimensional shapes\n",
    "\n",
    "\n",
    "# changing the sign of a float uses \"negative\" instead of logical_not (used with bool): \n",
    "Z = np.random.uniform(-1.0,1.0,100)\n",
    "np.negative(Z, out=Z)"
   ]
  },
  {
   "cell_type": "markdown",
   "id": "7288634d",
   "metadata": {},
   "source": [
    "#### 78. Consider 2 sets of points P0,P1 describing lines (2d) and a point p, how to compute distance from p to each line i (P0[i],P1[i])? (★★★)"
   ]
  },
  {
   "cell_type": "code",
   "execution_count": 82,
   "id": "4602caa6",
   "metadata": {},
   "outputs": [
    {
     "name": "stdout",
     "output_type": "stream",
     "text": [
      "P0 = np.random.uniform(-10,10,(10,2))\n",
      "P1 = np.random.uniform(-10,10,(10,2))\n",
      "p  = np.random.uniform(-10,10,( 1,2))\n",
      "\n",
      "def distance_faster(P0,P1,p):\n",
      "    #Author: Hemanth Pasupuleti\n",
      "    #Reference: https://mathworld.wolfram.com/Point-LineDistance2-Dimensional.html\n",
      "\n",
      "    v = P1- P0 \n",
      "    v[:,[0,1]] = v[:,[1,0]]\n",
      "    v[:,1]*=-1 \n",
      "    norm = np.linalg.norm(v,axis=1)   \n",
      "    r = P0 - p\n",
      "    d = np.abs(np.einsum(\"ij,ij->i\",r,v)) / norm \n",
      "\n",
      "    return d\n",
      "\n",
      "print(distance_faster(P0, P1, p))\n",
      "\n",
      "##--------------- OR ---------------##\n",
      "def distance_slower(P0, P1, p):\n",
      "    T = P1 - P0\n",
      "    L = (T**2).sum(axis=1)\n",
      "    U = -((P0[:,0]-p[...,0])*T[:,0] + (P0[:,1]-p[...,1])*T[:,1]) / L\n",
      "    U = U.reshape(len(U),1)\n",
      "    D = P0 + U*T - p\n",
      "    return np.sqrt((D**2).sum(axis=1))\n",
      "\n",
      "print(distance_slower(P0, P1, p))\n",
      "##########\n"
     ]
    }
   ],
   "source": [
    "# I think you mean that each set contains values in 1D format but combined gives 2D ...\n",
    "# this means that you want to define the distance between a point (two numbers) and each point (also two numbers) inside the combined two sets.\n",
    "# will something like this work: d0[i] = p0[i]-p, d1 = p1[i]-p\n",
    "\n",
    "answer(78)\n",
    "print('#'*10)\n",
    "\n",
    "# Nevermind !\n"
   ]
  },
  {
   "cell_type": "markdown",
   "id": "e1880e79",
   "metadata": {},
   "source": [
    "#### 79. Consider 2 sets of points P0,P1 describing lines (2d) and a set of points P, how to compute distance from each point j (P[j]) to each line i (P0[i],P1[i])? (★★★)"
   ]
  },
  {
   "cell_type": "code",
   "execution_count": 83,
   "id": "e45b2127",
   "metadata": {},
   "outputs": [
    {
     "name": "stdout",
     "output_type": "stream",
     "text": [
      "# Author: Italmassov Kuanysh\n",
      "\n",
      "# based on distance function from previous question\n",
      "P0 = np.random.uniform(-10, 10, (10,2))\n",
      "P1 = np.random.uniform(-10,10,(10,2))\n",
      "p = np.random.uniform(-10, 10, (10,2))\n",
      "print(np.array([distance(P0,P1,p_i) for p_i in p]))\n",
      "\n",
      "# Author: Yang Wu (Broadcasting)\n",
      "def distance_points_to_lines(p: np.ndarray, p_1: np.ndarray, p_2: np.ndarray) -> np.ndarray:\n",
      "    x_0, y_0 = p.T  # Shape -> (n points, )\n",
      "    x_1, y_1 = p_1.T  # Shape -> (n lines, )\n",
      "    x_2, y_2 = p_2.T  # Shape -> (n lines, )\n",
      "\n",
      "    # Displacement vector coordinates from p_1 -> p_2\n",
      "    dx = x_2 - x_1  # Shape -> (n lines, )\n",
      "    dy = y_2 - y_1  # Shape -> (n lines, )\n",
      "\n",
      "    # The 'cross product' term\n",
      "    cross_term = x_2 * y_1 - y_2 * x_1  # Shape -> (n lines, )\n",
      "\n",
      "    # Broadcast x_0, y_0 (n points, 1) and dx, dy, cross_term (1, n lines) -> (n points, n lines)\n",
      "    numerator = np.abs(\n",
      "        dy[np.newaxis, :] * x_0[:, np.newaxis]\n",
      "        - dx[np.newaxis, :] * y_0[:, np.newaxis]\n",
      "        + cross_term[np.newaxis, :]\n",
      "    )\n",
      "    denominator = np.sqrt(dx**2 + dy**2)  # Shape -> (n lines, )\n",
      "\n",
      "    # Shape (n points, n lines) / (1, n_lines) -> (n points, n lines)\n",
      "    return numerator / denominator[np.newaxis, :]\n",
      "\n",
      "distance_points_to_lines(p, P0, P1)\n"
     ]
    }
   ],
   "source": [
    "# can't I just do the same operations done in the previous question over all of the points in a loop?\n",
    "# can it be broadcasting!?\n",
    "\n",
    "answer(79)"
   ]
  },
  {
   "cell_type": "markdown",
   "id": "b8a2a287",
   "metadata": {},
   "source": [
    "#### 80. Consider an arbitrary array, write a function that extracts a subpart with a fixed shape and centered on a given element (pad with a `fill` value when necessary) (★★★)"
   ]
  },
  {
   "cell_type": "code",
   "execution_count": 84,
   "id": "86af1186",
   "metadata": {},
   "outputs": [
    {
     "name": "stdout",
     "output_type": "stream",
     "text": [
      "[[[3 3]]\n",
      "\n",
      " [[9 3]]\n",
      "\n",
      " [[5 7]]\n",
      "\n",
      " [[1 6]]\n",
      "\n",
      " [[8 5]]\n",
      "\n",
      " [[9 1]]\n",
      "\n",
      " [[8 3]]\n",
      "\n",
      " [[6 3]]\n",
      "\n",
      " [[3 3]]\n",
      "\n",
      " [[9 6]]]\n",
      "[[3 3 9]\n",
      " [3 5 7]\n",
      " [1 6 8]\n",
      " [5 9 1]\n",
      " [8 3 6]\n",
      " [3 3 3]\n",
      " [9 6 3]\n",
      " [3 9 3]\n",
      " [5 7 1]\n",
      " [6 8 5]]\n",
      "##########\n",
      "# Author: Nicolas Rougier\n",
      "\n",
      "Z = np.random.randint(0,10,(10,10))\n",
      "shape = (5,5)\n",
      "fill  = 0\n",
      "position = (1,1)\n",
      "\n",
      "R = np.ones(shape, dtype=Z.dtype)*fill\n",
      "P  = np.array(list(position)).astype(int)\n",
      "Rs = np.array(list(R.shape)).astype(int)\n",
      "Zs = np.array(list(Z.shape)).astype(int)\n",
      "\n",
      "R_start = np.zeros((len(shape),)).astype(int)\n",
      "R_stop  = np.array(list(shape)).astype(int)\n",
      "Z_start = (P-Rs//2)\n",
      "Z_stop  = (P+Rs//2)+Rs%2\n",
      "\n",
      "R_start = (R_start - np.minimum(Z_start,0)).tolist()\n",
      "Z_start = (np.maximum(Z_start,0)).tolist()\n",
      "R_stop = np.maximum(R_start, (R_stop - np.maximum(Z_stop-Zs,0))).tolist()\n",
      "Z_stop = (np.minimum(Z_stop,Zs)).tolist()\n",
      "\n",
      "r = tuple([slice(start,stop) for start,stop in zip(R_start,R_stop)])\n",
      "z = tuple([slice(start,stop) for start,stop in zip(Z_start,Z_stop)])\n",
      "R[r] = Z[z]\n",
      "print(Z)\n",
      "print(R)\n",
      "##########\n",
      "[[2 9 3 0 0 1 1 5 7 0]\n",
      " [6 1 8 9 0 6 2 0 1 9]\n",
      " [8 2 5 1 4 2 5 8 1 2]\n",
      " [1 2 7 6 2 4 5 0 6 8]\n",
      " [1 6 3 3 6 0 8 1 4 0]\n",
      " [6 9 6 1 9 1 9 3 2 2]\n",
      " [2 7 7 7 5 2 6 2 5 2]\n",
      " [9 9 1 5 3 6 7 6 8 9]\n",
      " [5 5 6 8 7 8 7 1 5 8]\n",
      " [7 4 9 9 2 8 4 4 9 7]]\n",
      "[[0 0 0 0 0]\n",
      " [0 2 9 3 0]\n",
      " [0 6 1 8 9]\n",
      " [0 8 2 5 1]\n",
      " [0 1 2 7 6]]\n"
     ]
    }
   ],
   "source": [
    "# this solution I've written didn't solve the (cetered position) thing .. and is working element-by-element to block-by-block like the answer provided below.\n",
    "arr = np.random.randint(0,10,(10,1,2)) # input arr.\n",
    "shape = (10,3)\n",
    "fill = 0\n",
    "\n",
    "result = np.full(shape, fill)\n",
    "\n",
    "if result.size <= result.size:\n",
    "    result.flat = arr.flat[:result.size]\n",
    "else:\n",
    "    result.flat[:arr.size] = arr.flat\n",
    "\n",
    "print(arr, result, sep='\\n')\n",
    "print('#'*10)\n",
    "\n",
    "answer(80)\n",
    "print('#'*10)\n",
    "\n",
    "\n",
    "# ========================\n",
    "# SETUP: Our Input Data\n",
    "# ========================\n",
    "arr = np.random.randint(0, 10, (10, 10))  # 10x10 source grid\n",
    "shape = (5, 5)                            # We want a 5x5 block\n",
    "fill = 0                                  # Fill empty areas with 0\n",
    "center_position = (1, 1)                  # Where we want to center our block\n",
    "\n",
    "# ========================\n",
    "# STEP 1: Create Empty Result\n",
    "# ========================\n",
    "result = np.ones(shape, dtype=arr.dtype) * fill\n",
    "\n",
    "# ========================\n",
    "# STEP 2: Calculate Initial Regions\n",
    "# ========================\n",
    "# Where we THINK the block should be in source array\n",
    "arr_start_planned = (center_position[0] - shape[0]//2,  # 1 - 2 = -1\n",
    "                     center_position[1] - shape[1]//2)  # 1 - 2 = -1\n",
    "\n",
    "arr_end_planned = (center_position[0] + shape[0]//2 + shape[0]%2,  # 1 + 2 + 1 = 4\n",
    "                   center_position[1] + shape[1]//2 + shape[1]%2)  # 1 + 2 + 1 = 4\n",
    "\n",
    "# ========================\n",
    "# STEP 3: Handle Boundaries\n",
    "# ========================\n",
    "# Adjust for when planned region goes outside source array\n",
    "arr_start_actual = (max(arr_start_planned[0], 0),   # Clamp -1 → 0\n",
    "                    max(arr_start_planned[1], 0))   # Clamp -1 → 0\n",
    "\n",
    "arr_end_actual = (min(arr_end_planned[0], arr.shape[0]),  # Clamp 4 → 4\n",
    "                  min(arr_end_planned[1], arr.shape[1]))  # Clamp 4 → 4\n",
    "\n",
    "# Calculate which part of result block we'll actually fill .. The goal is to make the center position in the input array stay as the center position in the result array.\n",
    "# By trial, you'll know that these are correct.\n",
    "result_start = (0 - min(arr_start_planned[0], 0),  # 0 - (-1) = 1\n",
    "                0 - min(arr_start_planned[1], 0))  # 0 - (-1) = 1\n",
    "\n",
    "result_end = (shape[0] - max(arr_end_planned[0] - arr.shape[0], 0),  # 5 - 0 = 5\n",
    "              shape[1] - max(arr_end_planned[1] - arr.shape[1], 0))  # 5 - 0 = 5\n",
    "\n",
    "# ========================\n",
    "# STEP 4: Copy the Data\n",
    "# ========================\n",
    "result_slice = (slice(result_start[0], result_end[0]), \n",
    "                slice(result_start[1], result_end[1])) # result[slice(0,1)] = result[0:1] --> \"slice()\" = \":\"\n",
    "\n",
    "arr_slice = (slice(arr_start_actual[0], arr_end_actual[0]),\n",
    "             slice(arr_start_actual[1], arr_end_actual[1]))\n",
    "\n",
    "result[result_slice] = arr[arr_slice] # just like result[result_start[0]:result_end[0], result_start[1]:result_end[1]] = ...\n",
    "\n",
    "print(arr, result, sep='\\n')\n",
    "\n",
    "\n",
    "\n",
    "# ========================\n",
    "# EXTRACT CENTERED SUB-ARRAY - VECTORIZED VERSION\n",
    "# ========================\n",
    "\n",
    "# Create source array and define extraction parameters\n",
    "Z = np.random.randint(0,10,(10,10))  # Source array: 10x10 random integers\n",
    "shape = (5,5)                        # Target shape: 5x5 sub-array  \n",
    "fill  = 0                            # Fill value for empty regions\n",
    "position = (1,1)                     # Center position in source array\n",
    "\n",
    "# ========================\n",
    "# STEP 1: INITIALIZE RESULT ARRAY\n",
    "# ========================\n",
    "# Create result array filled with specified fill value\n",
    "R = np.ones(shape, dtype=Z.dtype) * fill\n",
    "\n",
    "# ========================\n",
    "# STEP 2: CONVERT PARAMETERS TO NUMPY ARRAYS\n",
    "# ========================\n",
    "# Convert all parameters to arrays for vectorized operations\n",
    "P  = np.array(list(position)).astype(int)  # Center position as array: [1,1]\n",
    "Rs = np.array(list(shape)).astype(int)     # Result shape as array: [5,5]  \n",
    "Zs = np.array(list(Z.shape)).astype(int)   # Source shape as array: [10,10]\n",
    "\n",
    "# ========================\n",
    "# STEP 3: INITIALIZE SLICE BOUNDARIES\n",
    "# ========================\n",
    "# Initialize result slice boundaries (entire result array)\n",
    "R_start = np.zeros((len(shape),)).astype(int)  # Start at [0,0] in result\n",
    "R_stop  = np.array(list(shape)).astype(int)    # End at [5,5] in result\n",
    "\n",
    "# Calculate planned source boundaries based on center position\n",
    "Z_start = (P - Rs//2)    # Planned start in source: [1-2, 1-2] = [-1,-1]\n",
    "Z_stop  = (P + Rs//2) + Rs%2  # Planned end in source: [1+2+1, 1+2+1] = [4,4]\n",
    "\n",
    "# ========================\n",
    "# STEP 4: ADJUST FOR SOURCE ARRAY BOUNDARIES\n",
    "# ========================\n",
    "# Handle cases where planned region extends outside source array\n",
    "\n",
    "# Adjust result start based on how much we go outside source left/top boundaries\n",
    "# If Z_start < 0, shift result start right/down by that amount\n",
    "R_start = (R_start - np.minimum(Z_start,0)).tolist()  # [0,0] - min([-1,-1],0) = [1,1]\n",
    "\n",
    "# Clamp source start to actual array boundaries (can't have negative indices)\n",
    "Z_start = (np.maximum(Z_start,0)).tolist()  # max([-1,-1],0) = [0,0]\n",
    "\n",
    "# Adjust result stop based on how much we go outside source right/bottom boundaries  \n",
    "# If Z_stop > Zs, reduce result stop by the overflow amount\n",
    "R_stop = np.maximum(R_start, (R_stop - np.maximum(Z_stop-Zs,0))).tolist()  # [5,5] - max([4-10,4-10],0) = [5,5]\n",
    "\n",
    "# Clamp source stop to actual array boundaries (can't exceed array size)\n",
    "Z_stop = (np.minimum(Z_stop,Zs)).tolist()  # min([4,4],[10,10]) = [4,4]\n",
    "\n",
    "# ========================\n",
    "# STEP 5: CREATE SLICE OBJECTS AND COPY DATA\n",
    "# ========================\n",
    "# Convert boundaries to slice objects for array indexing\n",
    "\n",
    "# Create slice objects for result array: [slice(1,5), slice(1,5)]\n",
    "r = tuple([slice(start,stop) for start,stop in zip(R_start,R_stop)])\n",
    "\n",
    "# Create slice objects for source array: [slice(0,4), slice(0,4)]  \n",
    "z = tuple([slice(start,stop) for start,stop in zip(Z_start,Z_stop)])\n",
    "\n",
    "# Copy the valid region from source to result\n",
    "R[r] = Z[z]\n",
    "\n",
    "# ========================\n",
    "# FINAL RESULT EXPLANATION\n",
    "# ========================\n",
    "# Result R now contains a 5x5 array where:\n",
    "# - The center at position (1,1) in source is preserved as center in result\n",
    "# - Regions outside source boundaries are filled with 'fill' value (0)\n",
    "# - Only the overlapping region between planned extraction and actual source is copied"
   ]
  },
  {
   "cell_type": "markdown",
   "id": "caa64150",
   "metadata": {},
   "source": [
    "#### 81. Consider an array Z = [1,2,3,4,5,6,7,8,9,10,11,12,13,14], how to generate an array R = [[1,2,3,4], [2,3,4,5], [3,4,5,6], ..., [11,12,13,14]]? (★★★)"
   ]
  },
  {
   "cell_type": "code",
   "execution_count": 86,
   "id": "4e7cc696",
   "metadata": {},
   "outputs": [
    {
     "name": "stdout",
     "output_type": "stream",
     "text": [
      "# Author: Stefan van der Walt\n",
      "\n",
      "Z = np.arange(1,15,dtype=np.uint32)\n",
      "R = stride_tricks.as_strided(Z,(11,4),(4,4))\n",
      "print(R)\n",
      "\n",
      "# Author: Jeff Luo (@Jeff1999)\n",
      "\n",
      "Z = np.arange(1, 15, dtype=np.uint32)\n",
      "print(sliding_window_view(Z, window_shape=4))\n"
     ]
    }
   ],
   "source": [
    "# using sliding window syntax coded before\n",
    "answer(81)"
   ]
  },
  {
   "cell_type": "markdown",
   "id": "9444c83b",
   "metadata": {},
   "source": [
    "#### 82. Compute a matrix rank (★★★)"
   ]
  },
  {
   "cell_type": "code",
   "execution_count": null,
   "id": "9e5c1d64",
   "metadata": {},
   "outputs": [
    {
     "name": "stdout",
     "output_type": "stream",
     "text": [
      "[[ 1  2  3  4  5]\n",
      " [ 6  7  8  9 10]\n",
      " [11 12 13 14 15]\n",
      " [16 17 18 19 20]\n",
      " [21 22 23 24 25]]\n",
      "2\n",
      "2\n",
      "##########\n",
      "# Author: Stefan van der Walt\n",
      "\n",
      "Z = np.random.uniform(0,1,(10,10))\n",
      "U, S, V = np.linalg.svd(Z) # Singular Value Decomposition\n",
      "threshold = len(S) * S.max() * np.finfo(S.dtype).eps\n",
      "rank = np.sum(S > threshold)\n",
      "print(rank)\n",
      "\n",
      "# alternative solution:\n",
      "# Author: Jeff Luo (@Jeff1999)\n",
      "\n",
      "rank = np.linalg.matrix_rank(Z)\n",
      "print(rank)\n",
      "##########\n"
     ]
    }
   ],
   "source": [
    "# Matrix rank is a fundamental concept in linear algebra that measures the dimensionality of the information contained in a matrix. \n",
    "# It tells you how many linearly independent rows or columns the matrix has.\n",
    "# How many rows/cols are going in different directions\n",
    "\n",
    "matrix = np.arange(1,26).reshape(5,5)\n",
    "rows_rank = np.linalg.matrix_rank(matrix)\n",
    "cols_rank = np.linalg.matrix_rank(matrix.T)\n",
    "\n",
    "print(matrix, rows_rank, cols_rank, sep='\\n')\n",
    "print('#'*10)\n",
    "\n",
    "\n",
    "# a math truth:  matrix rows rank (always) =  matrix cols rank\n",
    "\n",
    "answer(82)\n",
    "print('#'*10)\n",
    "\n",
    "# the first solution is out of my scope."
   ]
  },
  {
   "cell_type": "markdown",
   "id": "6eef9f33",
   "metadata": {},
   "source": [
    "#### 83. How to find the most frequent value in an array?"
   ]
  },
  {
   "cell_type": "code",
   "execution_count": null,
   "id": "9fb60e52",
   "metadata": {},
   "outputs": [
    {
     "name": "stdout",
     "output_type": "stream",
     "text": [
      "41\n",
      "##########\n",
      "Z = np.random.randint(0,10,50)\n",
      "print(np.bincount(Z).argmax())\n",
      "##########\n"
     ]
    }
   ],
   "source": [
    "# doing so using bincount will be great but not for arrays that have very large ranges of values.\n",
    "\n",
    "arr = np.random.randint(0,1000, 10)\n",
    "print(np.bincount(arr).argmax())\n",
    "print('#'*10)\n",
    "\n",
    "answer(83) # the same as my solution!!\n",
    "print('#'*10)"
   ]
  },
  {
   "cell_type": "markdown",
   "id": "65f370f9",
   "metadata": {},
   "source": [
    "#### 84. Extract all the contiguous 3x3 blocks from a random 10x10 matrix (★★★)"
   ]
  },
  {
   "cell_type": "code",
   "execution_count": 167,
   "id": "65ade1a6",
   "metadata": {},
   "outputs": [
    {
     "name": "stdout",
     "output_type": "stream",
     "text": [
      "# Author: Chris Barker\n",
      "\n",
      "Z = np.random.randint(0,5,(10,10))\n",
      "n = 3\n",
      "i = 1 + (Z.shape[0]-3)\n",
      "j = 1 + (Z.shape[1]-3)\n",
      "C = stride_tricks.as_strided(Z, shape=(i, j, n, n), strides=Z.strides + Z.strides)\n",
      "print(C)\n",
      "\n",
      "# Author: Jeff Luo (@Jeff1999)\n",
      "\n",
      "Z = np.random.randint(0,5,(10,10))\n",
      "print(sliding_window_view(Z, window_shape=(3, 3)))\n"
     ]
    }
   ],
   "source": [
    "# what?\n",
    "\n",
    "answer(84)"
   ]
  },
  {
   "cell_type": "code",
   "execution_count": 169,
   "id": "86a7d48e",
   "metadata": {},
   "outputs": [
    {
     "name": "stdout",
     "output_type": "stream",
     "text": [
      "Our big 10x10 chocolate bar:\n",
      "[[3 3 1 1 0 1 4 2 1 3]\n",
      " [2 3 0 0 0 2 0 1 2 2]\n",
      " [0 1 1 3 0 0 4 0 3 3]\n",
      " [0 1 3 1 3 3 1 3 1 2]\n",
      " [0 0 2 3 1 0 0 3 2 3]\n",
      " [4 1 4 0 1 0 1 1 0 1]\n",
      " [0 1 1 0 1 4 0 2 1 2]\n",
      " [2 1 4 1 3 2 2 2 2 1]\n",
      " [3 3 3 4 4 2 0 3 2 3]\n",
      " [0 0 0 1 3 3 1 0 4 4]]\n",
      "\n",
      "We can take 8 rows of bites × 8 columns of bites = 64 total bites!\n",
      "Each bite is 3x3 squares\n",
      "\n",
      "🎉 Magic complete! We now have 8×8 = 64 bites\n",
      "Each bite shape: (3, 3)\n",
      "\n",
      "Let's peek at some bites through our magic glasses:\n",
      "\n",
      "Bite at position (0,0) - top-left corner:\n",
      "[[3 3 1]\n",
      " [2 3 0]\n",
      " [0 1 1]]\n",
      "\n",
      "Bite at position (0,1) - top row, second from left:\n",
      "[[3 1 1]\n",
      " [3 0 0]\n",
      " [1 1 3]]\n",
      "\n",
      "Bite at position (1,0) - second row, first from left:\n",
      "[[2 3 0]\n",
      " [0 1 1]\n",
      " [0 1 3]]\n",
      "\n",
      "Bite at position (7,7) - bottom-right corner:\n",
      "[[2 2 1]\n",
      " [3 2 3]\n",
      " [0 4 4]]\n",
      "\n",
      "✨ MAGIC PROOF: All bites look at the ORIGINAL chocolate bar!\n",
      "Do bites and chocolate share memory? False\n",
      "\n",
      "If we change a square through one bite...\n",
      "Bite[0,0,0,0] now shows: 999\n",
      "Original chocolate[0,0] now shows: 999\n",
      "See? They're the same piece of chocolate! 🍫\n",
      "\n",
      "📊 FINAL RESULT:\n",
      "- We have a 8×8 grid of bites\n",
      "- Each bite is 3×3 squares\n",
      "- Total: 64 bites looking at our original chocolate\n",
      "- No chocolate was copied or wasted! 🎉\n"
     ]
    }
   ],
   "source": [
    "# explaination for \"as_strided\":\n",
    "\n",
    "from numpy.lib import stride_tricks\n",
    "\n",
    "# 🍫 Let's make a big chocolate bar! Our bar is 10 squares by 10 squares\n",
    "# Each square has a random number from 0 to 4 (like different flavors)\n",
    "Z = np.random.randint(0, 5, (10, 10))\n",
    "print(\"Our big 10x10 chocolate bar:\")\n",
    "print(Z)\n",
    "\n",
    "# 🍪 We want to take small bites from our big chocolate bar\n",
    "# Each bite will be 3 squares by 3 squares (a 3x3 bite)\n",
    "n = 3  # Our bite size is 3x3\n",
    "\n",
    "# 🧮 Let's figure out how many different starting positions we have for our bites:\n",
    "\n",
    "# For rows: Our bar has 10 rows, each bite is 3 rows tall\n",
    "# We can start bites at row 0, 1, 2, 3, 4, 5, 6, 7 (that's 8 positions!)\n",
    "# Formula: 1 + (10 - 3) = 8 starting rows\n",
    "i = 1 + (Z.shape[0] - 3)  # i = 8\n",
    "\n",
    "# For columns: Our bar has 10 columns, each bite is 3 columns wide  \n",
    "# We can start bites at column 0, 1, 2, 3, 4, 5, 6, 7 (that's 8 positions!)\n",
    "# Formula: 1 + (10 - 3) = 8 starting columns\n",
    "j = 1 + (Z.shape[1] - 3)  # j = 8\n",
    "\n",
    "print(f\"\\nWe can take {i} rows of bites × {j} columns of bites = {i*j} total bites!\")\n",
    "print(f\"Each bite is {n}x{n} squares\")\n",
    "\n",
    "# 🪟 Now comes the MAGIC WINDOW trick!\n",
    "# Instead of actually cutting our chocolate bar, we use special magic glasses\n",
    "# that can look at all the 3x3 bites without cutting or copying!\n",
    "\n",
    "C = stride_tricks.as_strided(Z, \n",
    "    # shape=(8, 8, 3, 3) means:\n",
    "    # - 8 different starting rows for bites\n",
    "    # - 8 different starting columns for bites  \n",
    "    # - each bite is 3 rows tall\n",
    "    # - each bite is 3 columns wide\n",
    "    shape=(i, j, n, n),\n",
    "    \n",
    "    # 🎯 This is the MAGIC RECIPE for moving our magic window:\n",
    "    # Z.strides + Z.strides = (80, 8, 80, 8)\n",
    "    # - First (80, 8): How to move BETWEEN different bites\n",
    "    #   - 80: Move to next bite in a new row (jump 1 row in original chocolate)\n",
    "    #   - 8:  Move to next bite in a new column (jump 1 column in original chocolate)\n",
    "    # - Second (80, 8): How to move INSIDE each bite  \n",
    "    #   - 80: Move to next row within the same bite\n",
    "    #   - 8:  Move to next column within the same bite\n",
    "    strides=Z.strides + Z.strides\n",
    ")\n",
    "\n",
    "print(f\"\\n🎉 Magic complete! We now have {C.shape[0]}×{C.shape[1]} = {C.shape[0]*C.shape[1]} bites\")\n",
    "print(f\"Each bite shape: {C[0,0].shape}\")\n",
    "\n",
    "# 🔍 Let's look at some of our bites:\n",
    "print(\"\\nLet's peek at some bites through our magic glasses:\")\n",
    "print(\"\\nBite at position (0,0) - top-left corner:\")\n",
    "print(C[0, 0])  # This shows squares [0:3, 0:3] from original chocolate\n",
    "\n",
    "print(\"\\nBite at position (0,1) - top row, second from left:\")\n",
    "print(C[0, 1])  # This shows squares [0:3, 1:4] from original chocolate\n",
    "\n",
    "print(\"\\nBite at position (1,0) - second row, first from left:\")  \n",
    "print(C[1, 0])  # This shows squares [1:4, 0:3] from original chocolate\n",
    "\n",
    "print(\"\\nBite at position (7,7) - bottom-right corner:\")\n",
    "print(C[7, 7])  # This shows squares [7:10, 7:10] from original chocolate\n",
    "\n",
    "# 🎁 BONUS: The coolest part - it's all the SAME chocolate!\n",
    "print(f\"\\n✨ MAGIC PROOF: All bites look at the ORIGINAL chocolate bar!\")\n",
    "print(f\"Do bites and chocolate share memory? {C.base is Z}\")  # Should be True\n",
    "\n",
    "print(\"\\nIf we change a square through one bite...\")\n",
    "original_value = Z[0, 0]\n",
    "C[0, 0, 0, 0] = 999  # Change top-left square of first bite\n",
    "print(f\"Bite[0,0,0,0] now shows: {C[0, 0, 0, 0]}\")\n",
    "print(f\"Original chocolate[0,0] now shows: {Z[0, 0]}\")\n",
    "print(\"See? They're the same piece of chocolate! 🍫\")\n",
    "\n",
    "# 🎯 Quick summary of what we created:\n",
    "print(f\"\\n📊 FINAL RESULT:\")\n",
    "print(f\"- We have a {C.shape[0]}×{C.shape[1]} grid of bites\")\n",
    "print(f\"- Each bite is {C.shape[2]}×{C.shape[3]} squares\")  \n",
    "print(f\"- Total: {C.shape[0] * C.shape[1]} bites looking at our original chocolate\")\n",
    "print(f\"- No chocolate was copied or wasted! 🎉\")"
   ]
  },
  {
   "cell_type": "markdown",
   "id": "845ad7f8",
   "metadata": {},
   "source": [
    "#### 85. Create a 2D array subclass such that Z[i,j] == Z[j,i] (★★★)"
   ]
  },
  {
   "cell_type": "code",
   "execution_count": 178,
   "id": "30b1ba71",
   "metadata": {},
   "outputs": [
    {
     "name": "stdout",
     "output_type": "stream",
     "text": [
      "[[16 20  4 28 20]\n",
      " [20 25  5 35 25]\n",
      " [ 4  5  1  7  5]\n",
      " [28 35  7 49 35]\n",
      " [20 25  5 35 25]]\n",
      "##########\n",
      "[ 8 10  2 14 10]\n",
      "##########\n",
      "# Author: Eric O. Lebigot\n",
      "# Note: only works for 2d array and value setting using indices\n",
      "\n",
      "class Symetric(np.ndarray):\n",
      "    def __setitem__(self, index, value):\n",
      "        i,j = index\n",
      "        super(Symetric, self).__setitem__((i,j), value)\n",
      "        super(Symetric, self).__setitem__((j,i), value)\n",
      "\n",
      "def symetric(Z):\n",
      "    return np.asarray(Z + Z.T - np.diag(Z.diagonal())).view(Symetric)\n",
      "\n",
      "S = symetric(np.random.randint(0,10,(5,5)))\n",
      "S[2,3] = 42\n",
      "print(S)\n"
     ]
    }
   ],
   "source": [
    "# np.outer(A, B) = Make a table where each cell is A[i] × B[j]\n",
    "arr = np.random.randint(0,10,5)\n",
    "print(np.outer(arr,arr)) # = arr x arr.T\n",
    "print('#'*10)\n",
    "\n",
    "print(arr + arr.T)\n",
    "print('#'*10)\n",
    "\n",
    "answer(85)"
   ]
  },
  {
   "cell_type": "code",
   "execution_count": null,
   "id": "ded96e57",
   "metadata": {},
   "outputs": [
    {
     "name": "stdout",
     "output_type": "stream",
     "text": [
      "=== COMPLETE DEMONSTRATION ===\n",
      "1. Original matrix:\n",
      "[[1 2 3]\n",
      " [4 5 6]\n",
      " [7 8 9]]\n",
      "\n",
      "2. Making it symmetric step by step:\n",
      "Z + Z.T:\n",
      "[[ 2  6 10]\n",
      " [ 6 10 14]\n",
      " [10 14 18]]\n",
      "\n",
      "Diagonal elements that got doubled: [1 5 9]\n",
      "Correction matrix to subtract:\n",
      "[[1 0 0]\n",
      " [0 5 0]\n",
      " [0 0 9]]\n",
      "\n",
      "3. Final symmetric matrix:\n",
      "[[ 1  6 10]\n",
      " [ 6  5 14]\n",
      " [10 14  9]]\n",
      "\n",
      "4. Testing the magic - set S[0,2] = 100:\n",
      "Before:\n",
      "[[ 1  6 10]\n",
      " [ 6  5 14]\n",
      " [10 14  9]]\n",
      "\n",
      "After S[0,2] = 100:\n",
      "[[  1   6 100]\n",
      " [  6   5  14]\n",
      " [100  14   9]]\n",
      "Notice S[2,0] also became 100 automatically! 🎯\n"
     ]
    }
   ],
   "source": [
    "\n",
    "class Symetric(np.ndarray):\n",
    "    \"\"\"\n",
    "    A smart numpy array that automatically maintains symmetry.\n",
    "    When you set S[i,j], it automatically sets S[j,i] too!\n",
    "    \"\"\"\n",
    "    \n",
    "    def __setitem__(self, index, value):\n",
    "        \"\"\"Override the item setting behavior\"\"\"\n",
    "        i, j = index  # Unpack the indices like (2,3)\n",
    "        \n",
    "        # SUPER EXPLANATION:\n",
    "        # super(Symetric, self) means: \"Look at my parent class (np.ndarray)\"\n",
    "        # .__setitem__((i,j), value) means: \"Call the original set item method\"\n",
    "        \n",
    "        # Set the value at position (i,j)\n",
    "        super(Symetric, self).__setitem__((i,j), value)\n",
    "        \n",
    "        # Also set the value at symmetric position (j,i)\n",
    "        super(Symetric, self).__setitem__((j,i), value)\n",
    "        \n",
    "        # This ensures: S[i,j] = value AND S[j,i] = value automatically!\n",
    "\n",
    "\n",
    "def symetric(Z):\n",
    "    \"\"\"\n",
    "    Convert any matrix to a symmetric matrix using our smart class\n",
    "    \"\"\"\n",
    "    # Step 1: Make matrix symmetric but diagonal gets doubled\n",
    "    naive_symmetric = Z + Z.T\n",
    "    \n",
    "    # Step 2: Get the correct diagonal (original values)\n",
    "    correct_diagonal = Z.diagonal()\n",
    "    \n",
    "    # Step 3: if Z.diagonal is [1,2,3] -> np.diag(z.diagonal) is [[1  0  0]\n",
    "                                                                #  [ 0 2  0]\n",
    "                                                                #  [ 0  0 3]]\n",
    "    diagonal_correction = np.diag(correct_diagonal)\n",
    "    \n",
    "    # Step 4: Create a matrix with only the diagonal difference\n",
    "    # Example: If diagonal was [1,5,9] and became [2,10,18]\n",
    "    # We need to subtract [1,5,9] to get back to original\n",
    "    corrected_matrix = naive_symmetric - diagonal_correction\n",
    "    \n",
    "    # Step 5: Convert to numpy array and view as our Symetric class\n",
    "    final_matrix = np.asarray(corrected_matrix)\n",
    "    \n",
    "    # VIEW EXPLANATION:\n",
    "    # .view(Symetric) means: \"Keep the same data but use Symetric class methods\"\n",
    "    return final_matrix.view(Symetric)\n",
    "\n",
    "\n",
    "# DEMONSTRATION\n",
    "print(\"=== COMPLETE DEMONSTRATION ===\")\n",
    "\n",
    "# Create test matrix\n",
    "Z = np.array([\n",
    "    [1, 2, 3],\n",
    "    [4, 5, 6], \n",
    "    [7, 8, 9]\n",
    "])\n",
    "\n",
    "print(\"1. Original matrix:\")\n",
    "print(Z)\n",
    "\n",
    "print(\"\\n2. Making it symmetric step by step:\")\n",
    "print(\"Z + Z.T:\")\n",
    "print(Z + Z.T)\n",
    "\n",
    "print(\"\\nDiagonal elements that got doubled:\", Z.diagonal())\n",
    "print(\"Correction matrix to subtract:\")\n",
    "print(np.diag(Z.diagonal()))\n",
    "\n",
    "print(\"\\n3. Final symmetric matrix:\")\n",
    "S = symetric(Z)\n",
    "print(S)\n",
    "\n",
    "print(\"\\n4. Testing the magic - set S[0,2] = 100:\")\n",
    "print(\"Before:\")\n",
    "print(S)\n",
    "S[0,2] = 100\n",
    "print(\"\\nAfter S[0,2] = 100:\")\n",
    "print(S)\n",
    "print(\"Notice S[2,0] also became 100 automatically! 🎯\")"
   ]
  },
  {
   "cell_type": "markdown",
   "id": "adc48f02",
   "metadata": {},
   "source": [
    "#### 86. Consider a set of p matrices with shape (n,n) and a set of p vectors with shape (n,1). How to compute the sum of of the p matrix products at once? (result has shape (n,1)) (★★★)"
   ]
  },
  {
   "cell_type": "code",
   "execution_count": null,
   "id": "ec798e90",
   "metadata": {},
   "outputs": [],
   "source": []
  },
  {
   "cell_type": "markdown",
   "id": "9efb34b2",
   "metadata": {},
   "source": [
    "#### 87. Consider a 16x16 array, how to get the block-sum (block size is 4x4)? (★★★)"
   ]
  },
  {
   "cell_type": "code",
   "execution_count": null,
   "id": "ea79f40b",
   "metadata": {},
   "outputs": [],
   "source": []
  },
  {
   "cell_type": "markdown",
   "id": "a9368578",
   "metadata": {},
   "source": [
    "#### 88. How to implement the Game of Life using numpy arrays? (★★★)"
   ]
  },
  {
   "cell_type": "code",
   "execution_count": null,
   "id": "315e9f11",
   "metadata": {},
   "outputs": [],
   "source": []
  },
  {
   "cell_type": "markdown",
   "id": "8c598af3",
   "metadata": {},
   "source": [
    "#### 89. How to get the n largest values of an array (★★★)"
   ]
  },
  {
   "cell_type": "code",
   "execution_count": null,
   "id": "cba8d433",
   "metadata": {},
   "outputs": [],
   "source": []
  },
  {
   "cell_type": "markdown",
   "id": "036a3bb0",
   "metadata": {},
   "source": [
    "#### 90. Given an arbitrary number of vectors, build the cartesian product (every combination of every item) (★★★)"
   ]
  },
  {
   "cell_type": "code",
   "execution_count": null,
   "id": "d712972d",
   "metadata": {},
   "outputs": [],
   "source": []
  },
  {
   "cell_type": "markdown",
   "id": "36487aab",
   "metadata": {},
   "source": [
    "#### 91. How to create a record array from a regular array? (★★★)"
   ]
  },
  {
   "cell_type": "code",
   "execution_count": null,
   "id": "9779dbac",
   "metadata": {},
   "outputs": [],
   "source": []
  },
  {
   "cell_type": "markdown",
   "id": "9f178562",
   "metadata": {},
   "source": [
    "#### 92. Consider a large vector Z, compute Z to the power of 3 using 3 different methods (★★★)"
   ]
  },
  {
   "cell_type": "code",
   "execution_count": null,
   "id": "b08000b8",
   "metadata": {},
   "outputs": [],
   "source": []
  },
  {
   "cell_type": "markdown",
   "id": "86acaf60",
   "metadata": {},
   "source": [
    "#### 93. Consider two arrays A and B of shape (8,3) and (2,2). How to find rows of A that contain elements of each row of B regardless of the order of the elements in B? (★★★)"
   ]
  },
  {
   "cell_type": "code",
   "execution_count": null,
   "id": "793b26d4",
   "metadata": {},
   "outputs": [],
   "source": []
  },
  {
   "cell_type": "markdown",
   "id": "c71b9df2",
   "metadata": {},
   "source": [
    "#### 94. Considering a 10x3 matrix, extract rows with unequal values (e.g. [2,2,3]) (★★★)"
   ]
  },
  {
   "cell_type": "code",
   "execution_count": null,
   "id": "494069f0",
   "metadata": {},
   "outputs": [],
   "source": []
  },
  {
   "cell_type": "markdown",
   "id": "1a8ae7c1",
   "metadata": {},
   "source": [
    "#### 95. Convert a vector of ints into a matrix binary representation (★★★)"
   ]
  },
  {
   "cell_type": "code",
   "execution_count": null,
   "id": "d5e967b8",
   "metadata": {},
   "outputs": [],
   "source": []
  },
  {
   "cell_type": "markdown",
   "id": "edef1198",
   "metadata": {},
   "source": [
    "#### 96. Given a two dimensional array, how to extract unique rows? (★★★)"
   ]
  },
  {
   "cell_type": "code",
   "execution_count": null,
   "id": "fa14799b",
   "metadata": {},
   "outputs": [],
   "source": []
  },
  {
   "cell_type": "markdown",
   "id": "575598a1",
   "metadata": {},
   "source": [
    "#### 97. Considering 2 vectors A & B, write the einsum equivalent of inner, outer, sum, and mul function (★★★)"
   ]
  },
  {
   "cell_type": "code",
   "execution_count": null,
   "id": "9da72f6e",
   "metadata": {},
   "outputs": [],
   "source": []
  },
  {
   "cell_type": "markdown",
   "id": "88e2796a",
   "metadata": {},
   "source": [
    "#### 98. Considering a path described by two vectors (X,Y), how to sample it using equidistant samples (★★★)?"
   ]
  },
  {
   "cell_type": "code",
   "execution_count": null,
   "id": "c17314f8",
   "metadata": {},
   "outputs": [],
   "source": []
  },
  {
   "cell_type": "markdown",
   "id": "8b25b7bd",
   "metadata": {},
   "source": [
    "#### 99. Given an integer n and a 2D array X, select from X the rows which can be interpreted as draws from a multinomial distribution with n degrees, i.e., the rows which only contain integers and which sum to n. (★★★)"
   ]
  },
  {
   "cell_type": "code",
   "execution_count": null,
   "id": "f0dc48cd",
   "metadata": {},
   "outputs": [],
   "source": []
  },
  {
   "cell_type": "markdown",
   "id": "b7068c76",
   "metadata": {},
   "source": [
    "#### 100. Compute bootstrapped 95% confidence intervals for the mean of a 1D array X (i.e., resample the elements of an array with replacement N times, compute the mean of each sample, and then compute percentiles over the means). (★★★)"
   ]
  },
  {
   "cell_type": "code",
   "execution_count": null,
   "id": "3c234201",
   "metadata": {},
   "outputs": [],
   "source": []
  }
 ],
 "metadata": {
  "kernelspec": {
   "display_name": ".venv",
   "language": "python",
   "name": "python3"
  },
  "language_info": {
   "codemirror_mode": {
    "name": "ipython",
    "version": 3
   },
   "file_extension": ".py",
   "mimetype": "text/x-python",
   "name": "python",
   "nbconvert_exporter": "python",
   "pygments_lexer": "ipython3",
   "version": "3.12.3"
  }
 },
 "nbformat": 4,
 "nbformat_minor": 5
}
