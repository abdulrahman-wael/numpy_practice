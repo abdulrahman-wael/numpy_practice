{
 "cells": [
  {
   "cell_type": "markdown",
   "id": "5a28b949",
   "metadata": {},
   "source": [
    "# 100 numpy exercises\n",
    "\n",
    "This is a collection of exercises that have been collected in the numpy mailing list, on stack overflow\n",
    "and in the numpy documentation. The goal of this collection is to offer a quick reference for both old\n",
    "and new users but also to provide a set of exercises for those who teach.\n",
    "\n",
    "\n",
    "If you find an error or think you've a better way to solve some of them, feel\n",
    "free to open an issue at <https://github.com/rougier/numpy-100>."
   ]
  },
  {
   "cell_type": "markdown",
   "id": "3f7a87ec",
   "metadata": {},
   "source": [
    "File automatically generated. See the documentation to update questions/answers/hints programmatically."
   ]
  },
  {
   "cell_type": "markdown",
   "id": "854ecf1b",
   "metadata": {},
   "source": [
    "Run the `initialise.py` module, then for each question you can query the\n",
    "answer or an hint with `hint(n)` or `answer(n)` for `n` question number."
   ]
  },
  {
   "cell_type": "code",
   "execution_count": 1,
   "id": "c53ea877",
   "metadata": {},
   "outputs": [],
   "source": [
    "%run initialise.py"
   ]
  },
  {
   "cell_type": "markdown",
   "id": "c00df986",
   "metadata": {},
   "source": [
    "#### 1. Import the numpy package under the name `np` (★☆☆)"
   ]
  },
  {
   "cell_type": "code",
   "execution_count": 2,
   "id": "35bde95c",
   "metadata": {},
   "outputs": [],
   "source": [
    "import numpy as np"
   ]
  },
  {
   "cell_type": "markdown",
   "id": "b555a89f",
   "metadata": {},
   "source": [
    "#### 2. Print the numpy version and the configuration (★☆☆) !"
   ]
  },
  {
   "cell_type": "code",
   "execution_count": 3,
   "id": "2c9d363d",
   "metadata": {},
   "outputs": [
    {
     "name": "stdout",
     "output_type": "stream",
     "text": [
      "2.3.3\n",
      "<module 'numpy.__config__' from '/home/abdulrahman/code/numpy_practice/.venv/lib/python3.12/site-packages/numpy/__config__.py'>\n",
      "hint: np.__version__, np.show_config)\n"
     ]
    }
   ],
   "source": [
    "print(np.__version__)\n",
    "print(np.__config__)\n",
    "np.show_config # XXXXXXXXXXXXXXXXXXXXXX\n",
    "# what is the difference between show_config, __config__ ?\n",
    "hint(2)"
   ]
  },
  {
   "cell_type": "markdown",
   "id": "e2713407",
   "metadata": {},
   "source": [
    "#### 3. Create a null vector of size 10 (★☆☆)"
   ]
  },
  {
   "cell_type": "code",
   "execution_count": 4,
   "id": "6df2f6db",
   "metadata": {},
   "outputs": [
    {
     "name": "stdout",
     "output_type": "stream",
     "text": [
      "[0. 0. 0. 0. 0. 0. 0. 0. 0. 0.]\n",
      "hint: np.zeros\n",
      "Z = np.zeros(10)\n",
      "print(Z)\n"
     ]
    }
   ],
   "source": [
    "print(np.zeros(10))\n",
    "hint(3)\n",
    "answer(3)\n",
    "\n",
    "# isn't it called a null vector? why it contains a number 0."
   ]
  },
  {
   "cell_type": "markdown",
   "id": "5a09554f",
   "metadata": {},
   "source": [
    "#### 4. How to find the memory size of any array (★☆☆) !"
   ]
  },
  {
   "cell_type": "code",
   "execution_count": 5,
   "id": "c55a2a00",
   "metadata": {},
   "outputs": [
    {
     "name": "stdout",
     "output_type": "stream",
     "text": [
      "10\n",
      "Z = np.zeros((10,10))\n",
      "print(\"%d bytes\" % (Z.size * Z.itemsize))\n",
      "\n",
      "# Simpler alternative\n",
      "print(\"%d bytes\" % Z.nbytes)\n",
      "80\n",
      "80\n"
     ]
    }
   ],
   "source": [
    "print(np.zeros(10).size) # XXXXXXXXXXXXXXXXX - this is not in \"Memory\"\n",
    "answer(4)\n",
    "\n",
    "print(np.zeros(10).size * np.zeros(10).itemsize)\n",
    "print(np.zeros(10).nbytes)"
   ]
  },
  {
   "cell_type": "markdown",
   "id": "4720d438",
   "metadata": {},
   "source": [
    "#### 5. How to get the documentation of the numpy add function from the command line? (★☆☆) !"
   ]
  },
  {
   "cell_type": "code",
   "execution_count": 6,
   "id": "d9e2277e",
   "metadata": {},
   "outputs": [
    {
     "name": "stdout",
     "output_type": "stream",
     "text": [
      "add(x1, x2, /, out=None, *, where=True, casting='same_kind', order='K', dtype=None, subok=True[, signature])\n",
      "\n",
      "Add arguments element-wise.\n",
      "\n",
      "Parameters\n",
      "----------\n",
      "x1, x2 : array_like\n",
      "    The arrays to be added.\n",
      "    If ``x1.shape != x2.shape``, they must be broadcastable to a common\n",
      "    shape (which becomes the shape of the output).\n",
      "out : ndarray, None, or tuple of ndarray and None, optional\n",
      "    A location into which the result is stored. If provided, it must have\n",
      "    a shape that the inputs broadcast to. If not provided or None,\n",
      "    a freshly-allocated array is returned. A tuple (possible only as a\n",
      "    keyword argument) must have length equal to the number of outputs.\n",
      "where : array_like, optional\n",
      "    This condition is broadcast over the input. At locations where the\n",
      "    condition is True, the `out` array will be set to the ufunc result.\n",
      "    Elsewhere, the `out` array will retain its original value.\n",
      "    Note that if an uninitialized `out` array is created via the default\n",
      "    ``out=None``, locations within it where the condition is False will\n",
      "    remain uninitialized.\n",
      "**kwargs\n",
      "    For other keyword-only arguments, see the\n",
      "    :ref:`ufunc docs <ufuncs.kwargs>`.\n",
      "\n",
      "Returns\n",
      "-------\n",
      "add : ndarray or scalar\n",
      "    The sum of `x1` and `x2`, element-wise.\n",
      "    This is a scalar if both `x1` and `x2` are scalars.\n",
      "\n",
      "Notes\n",
      "-----\n",
      "Equivalent to `x1` + `x2` in terms of array broadcasting.\n",
      "\n",
      "Examples\n",
      "--------\n",
      ">>> import numpy as np\n",
      ">>> np.add(1.0, 4.0)\n",
      "5.0\n",
      ">>> x1 = np.arange(9.0).reshape((3, 3))\n",
      ">>> x2 = np.arange(3.0)\n",
      ">>> np.add(x1, x2)\n",
      "array([[  0.,   2.,   4.],\n",
      "       [  3.,   5.,   7.],\n",
      "       [  6.,   8.,  10.]])\n",
      "\n",
      "The ``+`` operator can be used as a shorthand for ``np.add`` on ndarrays.\n",
      "\n",
      ">>> x1 = np.arange(9.0).reshape((3, 3))\n",
      ">>> x2 = np.arange(3.0)\n",
      ">>> x1 + x2\n",
      "array([[ 0.,  2.,  4.],\n",
      "       [ 3.,  5.,  7.],\n",
      "       [ 6.,  8., 10.]])\n",
      "%run `python -c \"import numpy; numpy.info(numpy.add)\"`\n"
     ]
    }
   ],
   "source": [
    "print(np.add.__doc__) # XXXXXXXXXXXX - not in Bash\n",
    "answer(5)\n",
    "\n",
    "# !python -c \"import numpy; numpy.info(numpy.add)\""
   ]
  },
  {
   "cell_type": "markdown",
   "id": "b812d322",
   "metadata": {},
   "source": [
    "#### 6. Create a null vector of size 10 but the fifth value which is 1 (★☆☆)"
   ]
  },
  {
   "cell_type": "code",
   "execution_count": 7,
   "id": "9f95cedf",
   "metadata": {},
   "outputs": [
    {
     "data": {
      "text/plain": [
       "array([0., 0., 0., 0., 1., 0., 0., 0., 0., 0.])"
      ]
     },
     "execution_count": 7,
     "metadata": {},
     "output_type": "execute_result"
    }
   ],
   "source": [
    "vec = np.zeros(10)\n",
    "vec[4] = 1\n",
    "vec"
   ]
  },
  {
   "cell_type": "markdown",
   "id": "a348f2a8",
   "metadata": {},
   "source": [
    "#### 7. Create a vector with values ranging from 10 to 49 (★☆☆)"
   ]
  },
  {
   "cell_type": "code",
   "execution_count": 8,
   "id": "5a68fd5b",
   "metadata": {},
   "outputs": [
    {
     "data": {
      "text/plain": [
       "array([10, 11, 12, 13, 14, 15, 16, 17, 18, 19, 20, 21, 22, 23, 24, 25, 26,\n",
       "       27, 28, 29, 30, 31, 32, 33, 34, 35, 36, 37, 38, 39, 40, 41, 42, 43,\n",
       "       44, 45, 46, 47, 48, 49])"
      ]
     },
     "execution_count": 8,
     "metadata": {},
     "output_type": "execute_result"
    }
   ],
   "source": [
    "vec = np.arange(10,50)\n",
    "vec"
   ]
  },
  {
   "cell_type": "markdown",
   "id": "2f4ca4c0",
   "metadata": {},
   "source": [
    "#### 8. Reverse a vector (first element becomes last) (★☆☆) !"
   ]
  },
  {
   "cell_type": "code",
   "execution_count": 9,
   "id": "1892e775",
   "metadata": {},
   "outputs": [
    {
     "data": {
      "text/plain": [
       "array([49, 48, 47, 46, 45, 44, 43, 42, 41, 40, 39, 38, 37, 36, 35, 34, 33,\n",
       "       32, 31, 30, 29, 28, 27, 26, 25, 24, 23, 22, 21, 20, 19, 18, 17, 16,\n",
       "       15, 14, 13, 12, 11, 10])"
      ]
     },
     "execution_count": 9,
     "metadata": {},
     "output_type": "execute_result"
    }
   ],
   "source": [
    "# vec[-1:0:-1] # where is the first element ?! # XXXXXXXXX\n",
    "\n",
    "vec[::-1]"
   ]
  },
  {
   "cell_type": "markdown",
   "id": "31381832",
   "metadata": {},
   "source": [
    "#### 9. Create a 3x3 matrix with values ranging from 0 to 8 (★☆☆)"
   ]
  },
  {
   "cell_type": "code",
   "execution_count": 10,
   "id": "0154f251",
   "metadata": {},
   "outputs": [
    {
     "data": {
      "text/plain": [
       "array([[0, 1, 2],\n",
       "       [3, 4, 5],\n",
       "       [6, 7, 8]])"
      ]
     },
     "execution_count": 10,
     "metadata": {},
     "output_type": "execute_result"
    }
   ],
   "source": [
    "vec = np.arange(9).reshape(3,3)\n",
    "vec"
   ]
  },
  {
   "cell_type": "markdown",
   "id": "8c353e84",
   "metadata": {},
   "source": [
    "#### 10. Find indices of non-zero elements from [1,2,0,0,4,0] (★☆☆) !"
   ]
  },
  {
   "cell_type": "code",
   "execution_count": 11,
   "id": "da3495c3",
   "metadata": {},
   "outputs": [
    {
     "data": {
      "text/plain": [
       "(array([0, 1, 4]),)"
      ]
     },
     "execution_count": 11,
     "metadata": {},
     "output_type": "execute_result"
    }
   ],
   "source": [
    "# vec = np.array([1,2,0,0,4,0])\n",
    "# vec[vec != 0] # XXXXXXXXXXXXX -> this will get the values themselves not the indices\n",
    "\n",
    "np.nonzero([1,2,0,0,4,0])"
   ]
  },
  {
   "cell_type": "markdown",
   "id": "a26ac749",
   "metadata": {},
   "source": [
    "#### 11. Create a 3x3 identity matrix (★☆☆) !"
   ]
  },
  {
   "cell_type": "code",
   "execution_count": 12,
   "id": "3e33feda",
   "metadata": {},
   "outputs": [
    {
     "data": {
      "text/plain": [
       "array([[1., 0., 0.],\n",
       "       [0., 1., 0.],\n",
       "       [0., 0., 1.]])"
      ]
     },
     "execution_count": 12,
     "metadata": {},
     "output_type": "execute_result"
    }
   ],
   "source": [
    "np.identity(3) # also: np.eye(N, M=None, k=0, dtype=None) -> it's more versatile\n",
    "# N = rows, M = cols, k = diagonal position."
   ]
  },
  {
   "cell_type": "markdown",
   "id": "3a293379",
   "metadata": {},
   "source": [
    "#### 12. Create a 3x3x3 array with random values (★☆☆)"
   ]
  },
  {
   "cell_type": "code",
   "execution_count": 13,
   "id": "2da08152",
   "metadata": {},
   "outputs": [
    {
     "data": {
      "text/plain": [
       "array([[[-0.49493509,  0.46862583, -0.59029567],\n",
       "        [ 0.29072194, -1.64790388,  0.71932698],\n",
       "        [ 0.3746251 ,  2.31255128,  0.45381462]],\n",
       "\n",
       "       [[ 0.32852651,  0.43279139,  0.55073751],\n",
       "        [ 1.36137009,  0.88912158,  1.38475715],\n",
       "        [-1.24489325,  0.41880451, -0.16217485]],\n",
       "\n",
       "       [[-1.05632235, -0.59226043, -0.19641924],\n",
       "        [ 0.15026941, -0.59023605, -0.31293166],\n",
       "        [-0.37048826, -1.09279649,  0.59924344]]])"
      ]
     },
     "execution_count": 13,
     "metadata": {},
     "output_type": "execute_result"
    }
   ],
   "source": [
    "np.random.randn(3,3,3)"
   ]
  },
  {
   "cell_type": "markdown",
   "id": "e3faa924",
   "metadata": {},
   "source": [
    "#### 13. Create a 10x10 array with random values and find the minimum and maximum values (★☆☆)"
   ]
  },
  {
   "cell_type": "code",
   "execution_count": 14,
   "id": "e9fb3793",
   "metadata": {},
   "outputs": [
    {
     "name": "stdout",
     "output_type": "stream",
     "text": [
      "[[ 8.09739470e-01  9.39238299e-01  1.85306733e-01 -3.81125093e-01\n",
      "  -1.24904709e+00  2.99928551e-01 -1.74016604e+00  1.03129041e+00\n",
      "   1.05068916e+00 -3.68063491e-01]\n",
      " [ 9.55064904e-02  1.85799064e-01 -4.31070231e-01  1.32140463e+00\n",
      "   6.08300559e-01 -5.14238855e-02  1.17527746e+00  4.45274584e-01\n",
      "   1.07593489e+00  1.44618756e+00]\n",
      " [ 1.78552289e+00  6.63142620e-01  1.50211362e+00 -5.05599927e-01\n",
      "  -4.53713133e-01 -1.08350094e+00 -6.11546136e-01 -7.16041077e-01\n",
      "   3.24136824e-04 -5.06052168e-01]\n",
      " [-5.29901002e-01  7.29203346e-01  1.45887996e-01 -4.04300718e-01\n",
      "  -8.17718832e-02 -3.25682419e-01  2.72743951e-01  9.05484824e-01\n",
      "   9.05956760e-01 -2.02733186e+00]\n",
      " [-3.87703391e-01 -1.92828834e+00  3.50046573e-01 -2.48659710e+00\n",
      "   8.42196351e-01 -1.69446439e+00  3.93991293e-01 -9.47979623e-02\n",
      "  -2.70611554e-01  9.10035267e-01]\n",
      " [ 9.06320197e-01 -5.86493392e-01  8.63253032e-01 -3.15834937e-01\n",
      "  -4.00182628e-01 -1.06851760e+00 -1.06919160e+00 -1.40971834e+00\n",
      "  -7.16781071e-01 -1.48005106e-01]\n",
      " [ 1.25638623e+00 -1.32839341e+00 -5.82891388e-01  3.23853366e-02\n",
      "  -1.29681624e+00  1.21622056e+00  4.38818640e-01 -4.13999907e-01\n",
      "   1.17980024e+00 -1.62038412e+00]\n",
      " [ 9.85689174e-01 -7.68909463e-01 -3.19287548e-01 -1.61402775e+00\n",
      "  -1.54639533e+00  4.94777163e-01  6.84986791e-01 -4.41276638e-01\n",
      "  -1.28427816e+00 -7.67834903e-01]\n",
      " [-1.77030073e-01  4.73663842e-01 -4.27229459e-01 -1.68262427e+00\n",
      "   4.56888083e-01  7.90197688e-02 -4.81716937e-01 -2.40320306e-01\n",
      "   4.07258304e-01 -1.78857304e+00]\n",
      " [ 1.29760319e+00 -9.92516135e-02  1.82524968e-02 -7.63874064e-02\n",
      "   1.40975717e+00 -2.26883792e-01  1.14293969e+00  4.28147771e-01\n",
      "  -2.89195856e-01 -3.23447857e-01]]\n",
      "1.7855228880136458 -2.486597104521445\n"
     ]
    }
   ],
   "source": [
    "vec = np.random.randn(10,10)\n",
    "print(vec)\n",
    "print(vec.max(), vec.min())"
   ]
  },
  {
   "cell_type": "markdown",
   "id": "317cb8d1",
   "metadata": {},
   "source": [
    "#### 14. Create a random vector of size 30 and find the mean value (★☆☆)"
   ]
  },
  {
   "cell_type": "code",
   "execution_count": 15,
   "id": "4ea995d6",
   "metadata": {},
   "outputs": [
    {
     "data": {
      "text/plain": [
       "np.float64(0.1881297243571583)"
      ]
     },
     "execution_count": 15,
     "metadata": {},
     "output_type": "execute_result"
    }
   ],
   "source": [
    "np.random.randn(30).mean()"
   ]
  },
  {
   "cell_type": "markdown",
   "id": "b8dee0f2",
   "metadata": {},
   "source": [
    "#### 15. Create a 2d array with 1 on the border and 0 inside (★☆☆) !"
   ]
  },
  {
   "cell_type": "code",
   "execution_count": 16,
   "id": "7054464b",
   "metadata": {},
   "outputs": [
    {
     "data": {
      "text/plain": [
       "array([[1., 1., 1., 1., 1., 1., 1., 1., 1., 1.],\n",
       "       [1., 0., 0., 0., 0., 0., 0., 0., 0., 1.],\n",
       "       [1., 0., 0., 0., 0., 0., 0., 0., 0., 1.],\n",
       "       [1., 0., 0., 0., 0., 0., 0., 0., 0., 1.],\n",
       "       [1., 0., 0., 0., 0., 0., 0., 0., 0., 1.],\n",
       "       [1., 0., 0., 0., 0., 0., 0., 0., 0., 1.],\n",
       "       [1., 0., 0., 0., 0., 0., 0., 0., 0., 1.],\n",
       "       [1., 0., 0., 0., 0., 0., 0., 0., 0., 1.],\n",
       "       [1., 0., 0., 0., 0., 0., 0., 0., 0., 1.],\n",
       "       [1., 1., 1., 1., 1., 1., 1., 1., 1., 1.]])"
      ]
     },
     "execution_count": 16,
     "metadata": {},
     "output_type": "execute_result"
    }
   ],
   "source": [
    "vec = np.ones([10,10])\n",
    "\n",
    "vec[1:-1,1:-1] = 0\n",
    "\n",
    "vec"
   ]
  },
  {
   "cell_type": "markdown",
   "id": "1476f45f",
   "metadata": {},
   "source": [
    "#### 16. How to add a border (filled with 0's) around an existing array? (★☆☆) !"
   ]
  },
  {
   "cell_type": "code",
   "execution_count": 17,
   "id": "4f0212af",
   "metadata": {},
   "outputs": [
    {
     "data": {
      "text/plain": [
       "array([[0., 0., 0., 0., 0., 0., 0., 0., 0., 0., 0., 0.],\n",
       "       [0., 1., 1., 1., 1., 1., 1., 1., 1., 1., 1., 0.],\n",
       "       [0., 1., 1., 1., 1., 1., 1., 1., 1., 1., 1., 0.],\n",
       "       [0., 1., 1., 1., 1., 1., 1., 1., 1., 1., 1., 0.],\n",
       "       [0., 1., 1., 1., 1., 1., 1., 1., 1., 1., 1., 0.],\n",
       "       [0., 1., 1., 1., 1., 1., 1., 1., 1., 1., 1., 0.],\n",
       "       [0., 1., 1., 1., 1., 1., 1., 1., 1., 1., 1., 0.],\n",
       "       [0., 1., 1., 1., 1., 1., 1., 1., 1., 1., 1., 0.],\n",
       "       [0., 1., 1., 1., 1., 1., 1., 1., 1., 1., 1., 0.],\n",
       "       [0., 1., 1., 1., 1., 1., 1., 1., 1., 1., 1., 0.],\n",
       "       [0., 1., 1., 1., 1., 1., 1., 1., 1., 1., 1., 0.],\n",
       "       [0., 0., 0., 0., 0., 0., 0., 0., 0., 0., 0., 0.]])"
      ]
     },
     "execution_count": 17,
     "metadata": {},
     "output_type": "execute_result"
    }
   ],
   "source": [
    "# ??\n",
    "\n",
    "vec = np.ones([10,10])\n",
    "vec = np.pad(vec, pad_width=1, mode='constant', constant_values=[0])\n",
    "vec"
   ]
  },
  {
   "cell_type": "markdown",
   "id": "52844dc7",
   "metadata": {},
   "source": [
    "#### 17. What is the result of the following expression? (★☆☆) !\n",
    "```python\n",
    "0 * np.nan\n",
    "np.nan == np.nan\n",
    "np.inf > np.nan\n",
    "np.nan - np.nan\n",
    "np.nan in set([np.nan])\n",
    "0.3 == 3 * 0.1\n",
    "```"
   ]
  },
  {
   "cell_type": "code",
   "execution_count": 18,
   "id": "cfdb7352",
   "metadata": {},
   "outputs": [
    {
     "name": "stdout",
     "output_type": "stream",
     "text": [
      "nan\n",
      "False\n",
      "False\n",
      "nan\n",
      "True\n",
      "False\n"
     ]
    }
   ],
   "source": [
    "print(0 * np.nan)\n",
    "print(np.nan == np.nan)\n",
    "print(np.inf > np.nan)\n",
    "print(np.nan - np.nan)\n",
    "print(np.nan in set([np.nan]))\n",
    "print(0.3 == 3 * 0.1)"
   ]
  },
  {
   "cell_type": "markdown",
   "id": "9801c961",
   "metadata": {},
   "source": [
    "#### 18. Create a 5x5 matrix with values 1,2,3,4 just below the diagonal (★☆☆) !"
   ]
  },
  {
   "cell_type": "code",
   "execution_count": 19,
   "id": "4e97651a",
   "metadata": {},
   "outputs": [
    {
     "data": {
      "text/plain": [
       "array([[0, 0, 0, 0, 0],\n",
       "       [1, 0, 0, 0, 0],\n",
       "       [0, 2, 0, 0, 0],\n",
       "       [0, 0, 3, 0, 0],\n",
       "       [0, 0, 0, 4, 0]])"
      ]
     },
     "execution_count": 19,
     "metadata": {},
     "output_type": "execute_result"
    }
   ],
   "source": [
    "vec = np.zeros([5,5])\n",
    "\n",
    "vec[4,0:4] = [1,2,3,4]\n",
    "\n",
    "vec\n",
    "\n",
    "# another solution: \n",
    "np.diag(1+np.arange(4), k=-1) \n",
    "# 1. this first creates a diagonal below the original one (at k=0) \n",
    "# 2. the content of it is [1,2,3,4] which is equal to (1 + np.arange(4))\n",
    "# 3. the size of the array is (5*5) because the diagonal we created at (k=-1) have 4 elements so the original one will have 5 elements\n",
    "# 4. the rest of the elements are zero default"
   ]
  },
  {
   "cell_type": "markdown",
   "id": "3dc05e9f",
   "metadata": {},
   "source": [
    "#### 19. Create a 8x8 matrix and fill it with a checkerboard pattern (★☆☆) ! "
   ]
  },
  {
   "cell_type": "code",
   "execution_count": 20,
   "id": "0b100b85",
   "metadata": {},
   "outputs": [
    {
     "data": {
      "text/plain": [
       "array([[0., 1., 0., 1., 0., 1., 0., 1.],\n",
       "       [1., 0., 1., 0., 1., 0., 1., 0.],\n",
       "       [0., 1., 0., 1., 0., 1., 0., 1.],\n",
       "       [1., 0., 1., 0., 1., 0., 1., 0.],\n",
       "       [0., 1., 0., 1., 0., 1., 0., 1.],\n",
       "       [1., 0., 1., 0., 1., 0., 1., 0.],\n",
       "       [0., 1., 0., 1., 0., 1., 0., 1.],\n",
       "       [1., 0., 1., 0., 1., 0., 1., 0.]])"
      ]
     },
     "execution_count": 20,
     "metadata": {},
     "output_type": "execute_result"
    }
   ],
   "source": [
    "# ??\n",
    "vec = np.zeros([8,8])\n",
    "vec[1::2, ::2] = 1\n",
    "vec[::2, 1::2] = 1\n",
    "\n",
    "vec\n"
   ]
  },
  {
   "cell_type": "markdown",
   "id": "d8e941b6",
   "metadata": {},
   "source": [
    "#### 20. Consider a (6,7,8) shape array, what is the index (x,y,z) of the 100th element? (★☆☆)"
   ]
  },
  {
   "cell_type": "code",
   "execution_count": 21,
   "id": "b3bc1fcb",
   "metadata": {},
   "outputs": [
    {
     "data": {
      "text/plain": [
       "(np.int64(1), np.int64(5), np.int64(3))"
      ]
     },
     "execution_count": 21,
     "metadata": {},
     "output_type": "execute_result"
    }
   ],
   "source": [
    "vec = np.zeros([6,7,8])\n",
    "\n",
    "flat = vec.flatten()\n",
    "\n",
    "flat[99] = 6\n",
    "\n",
    "vec = flat.reshape(6,7,8)\n",
    "\n",
    "np.where(vec == 6)\n",
    "\n",
    "\n",
    "# another solution: \n",
    "np.unravel_index(99,(6,7,8)) # finding the corresponding index to a flat index in a multidimensional shape."
   ]
  },
  {
   "cell_type": "markdown",
   "id": "bf3b8ab3",
   "metadata": {},
   "source": [
    "#### 21. Create a checkerboard 8x8 matrix using the tile function (★☆☆)"
   ]
  },
  {
   "cell_type": "code",
   "execution_count": 22,
   "id": "eb15c681",
   "metadata": {},
   "outputs": [
    {
     "data": {
      "text/plain": [
       "array([[0, 1, 0, 1, 0, 1, 0, 1],\n",
       "       [0, 1, 0, 1, 0, 1, 0, 1],\n",
       "       [0, 1, 0, 1, 0, 1, 0, 1],\n",
       "       [0, 1, 0, 1, 0, 1, 0, 1],\n",
       "       [0, 1, 0, 1, 0, 1, 0, 1],\n",
       "       [0, 1, 0, 1, 0, 1, 0, 1],\n",
       "       [0, 1, 0, 1, 0, 1, 0, 1],\n",
       "       [0, 1, 0, 1, 0, 1, 0, 1]])"
      ]
     },
     "execution_count": 22,
     "metadata": {},
     "output_type": "execute_result"
    }
   ],
   "source": [
    "np.tile([0,1], [8,4])"
   ]
  },
  {
   "cell_type": "markdown",
   "id": "71af9d19",
   "metadata": {},
   "source": [
    "#### 22. Normalize a 5x5 random matrix (★☆☆)"
   ]
  },
  {
   "cell_type": "code",
   "execution_count": 23,
   "id": "df20b788",
   "metadata": {},
   "outputs": [
    {
     "name": "stdout",
     "output_type": "stream",
     "text": [
      "[[0.92484264 0.75688194 0.82329282 0.90745023 0.78302953]\n",
      " [0.50518613 0.6381321  1.         0.88890854 0.33000206]\n",
      " [0.63382285 0.50677476 0.88208424 0.83903007 0.71990741]\n",
      " [0.53550952 0.63957344 0.10827229 0.90323249 0.38252181]\n",
      " [0.         0.02051722 0.28676076 0.17836647 0.76435606]]\n"
     ]
    }
   ],
   "source": [
    "val = np.random.randn(5,5)\n",
    "\n",
    "print((val - val.min())/(val.max() - val.min()) )"
   ]
  },
  {
   "cell_type": "markdown",
   "id": "01cd9893",
   "metadata": {},
   "source": [
    "#### 23. Create a custom dtype that describes a color as four unsigned bytes (RGBA) (★☆☆)"
   ]
  },
  {
   "cell_type": "code",
   "execution_count": 24,
   "id": "4acddc2f",
   "metadata": {},
   "outputs": [
    {
     "data": {
      "text/plain": [
       "array([(113, 248, 0, 0), (  0,   0, 0, 0), (  0,   0, 0, 0)],\n",
       "      dtype=[('R', 'u1'), ('G', 'u1'), ('B', 'u1'), ('A', 'u1')])"
      ]
     },
     "execution_count": 24,
     "metadata": {},
     "output_type": "execute_result"
    }
   ],
   "source": [
    "# !\n",
    "color = np.dtype([\n",
    "    ('R', 'u1'),\n",
    "    ('G', 'uint8'),\n",
    "    ('B', 'uint8'),\n",
    "    ('A', 'uint8')\n",
    "])\n",
    "# u1 = uint8\n",
    "\n",
    "colors = np.empty(3, dtype=color)\n",
    "\n",
    "colors"
   ]
  },
  {
   "cell_type": "markdown",
   "id": "0ef5f38b",
   "metadata": {},
   "source": [
    "#### 24. Multiply a 5x3 matrix by a 3x2 matrix (real matrix product) (★☆☆)"
   ]
  },
  {
   "cell_type": "code",
   "execution_count": 25,
   "id": "3d36d4a0",
   "metadata": {},
   "outputs": [
    {
     "name": "stdout",
     "output_type": "stream",
     "text": [
      "[[2 9 6]\n",
      " [8 8 5]\n",
      " [6 9 1]\n",
      " [7 5 3]\n",
      " [1 9 6]]\n",
      "[[3 5]\n",
      " [8 2]\n",
      " [5 1]]\n"
     ]
    },
    {
     "data": {
      "text/plain": [
       "array([[108,  34],\n",
       "       [113,  61],\n",
       "       [ 95,  49],\n",
       "       [ 76,  48],\n",
       "       [105,  29]])"
      ]
     },
     "execution_count": 25,
     "metadata": {},
     "output_type": "execute_result"
    }
   ],
   "source": [
    "val = np.random.randint(1,10, [5,3]) \n",
    "val2 = np.random.randint(1,10, [3,2])\n",
    "\n",
    "print(val)\n",
    "\n",
    "print(val2)\n",
    "\n",
    "val @ val2 #!"
   ]
  },
  {
   "cell_type": "markdown",
   "id": "a46db425",
   "metadata": {},
   "source": [
    "#### 25. Given a 1D array, negate all elements which are between 3 and 8, in place. (★☆☆)"
   ]
  },
  {
   "cell_type": "code",
   "execution_count": 26,
   "id": "86e3d6a8",
   "metadata": {},
   "outputs": [
    {
     "data": {
      "text/plain": [
       "array([0, 1, 2, 3, 6, 5, 4, 3, 8, 9])"
      ]
     },
     "execution_count": 26,
     "metadata": {},
     "output_type": "execute_result"
    }
   ],
   "source": [
    "val = np.arange(10)\n",
    "\n",
    "val[4:8] = 10 - val[4:8]\n",
    "\n",
    "val\n",
    "\n",
    "# answer(25)\n",
    "# # Author: Evgeni Burovski\n",
    "\n",
    "# Z = np.arange(11)\n",
    "# Z[(3 < Z) & (Z < 8)] *= -1 # !\n",
    "# print(Z)"
   ]
  },
  {
   "cell_type": "markdown",
   "id": "89fa6007",
   "metadata": {},
   "source": [
    "#### 26. What is the output of the following script? (★☆☆)\n",
    "```python\n",
    "# Author: Jake VanderPlas\n",
    "\n",
    "print(sum(range(5),-1))\n",
    "from numpy import *\n",
    "print(sum(range(5),-1))\n",
    "```"
   ]
  },
  {
   "cell_type": "code",
   "execution_count": 27,
   "id": "59f2c6dc",
   "metadata": {},
   "outputs": [
    {
     "data": {
      "text/plain": [
       "15"
      ]
     },
     "execution_count": 27,
     "metadata": {},
     "output_type": "execute_result"
    }
   ],
   "source": [
    "14 # !\n",
    "15 # !"
   ]
  },
  {
   "cell_type": "markdown",
   "id": "38de4589",
   "metadata": {},
   "source": [
    "#### 27. Consider an integer vector Z, which of these expressions are legal? (★☆☆)\n",
    "```python\n",
    "Z**Z\n",
    "2 << Z >> 2\n",
    "Z <- Z\n",
    "1j*Z\n",
    "Z/1/1\n",
    "Z<Z>Z\n",
    "```"
   ]
  },
  {
   "cell_type": "code",
   "execution_count": 28,
   "id": "a9dc9520",
   "metadata": {},
   "outputs": [
    {
     "name": "stdout",
     "output_type": "stream",
     "text": [
      "Z**Z\n",
      "2 << Z >> 2\n",
      "Z <- Z\n",
      "1j*Z\n",
      "Z/1/1\n",
      "Z<Z>Z\n",
      "27\n",
      "4\n",
      "False\n",
      "3j\n",
      "3.0\n",
      "False\n"
     ]
    }
   ],
   "source": [
    "# !\n",
    "\n",
    "I = 3\n",
    "2 << I >> 2\n",
    "I <- I # = I < - I\n",
    "\n",
    "answer(27)\n",
    "Z = 3\n",
    "print(Z**Z)\n",
    "print(2 << Z >> 2)\n",
    "print(Z <- Z)\n",
    "print(1j*Z)\n",
    "print(Z/1/1)\n",
    "print(Z<Z>Z)"
   ]
  },
  {
   "cell_type": "markdown",
   "id": "77c8b8c7",
   "metadata": {},
   "source": [
    "#### 28. What are the result of the following expressions? (★☆☆)\n",
    "```python\n",
    "np.array(0) / np.array(0)\n",
    "np.array(0) // np.array(0)\n",
    "np.array([np.nan]).astype(int).astype(float)\n",
    "```"
   ]
  },
  {
   "cell_type": "code",
   "execution_count": 29,
   "id": "3b66fe44",
   "metadata": {},
   "outputs": [
    {
     "name": "stdout",
     "output_type": "stream",
     "text": [
      "nan\n",
      "0\n",
      "[-9.22337204e+18]\n"
     ]
    },
    {
     "name": "stderr",
     "output_type": "stream",
     "text": [
      "/tmp/ipykernel_97581/604574712.py:2: RuntimeWarning: invalid value encountered in divide\n",
      "  print(np.array(0) / np.array(0))\n",
      "/tmp/ipykernel_97581/604574712.py:3: RuntimeWarning: divide by zero encountered in floor_divide\n",
      "  print(np.array(0) // np.array(0))\n",
      "/tmp/ipykernel_97581/604574712.py:4: RuntimeWarning: invalid value encountered in cast\n",
      "  print(np.array([np.nan]).astype(int).astype(float))\n"
     ]
    }
   ],
   "source": [
    "# !\n",
    "print(np.array(0) / np.array(0))\n",
    "print(np.array(0) // np.array(0))\n",
    "print(np.array([np.nan]).astype(int).astype(float))"
   ]
  },
  {
   "cell_type": "markdown",
   "id": "1f3f0892",
   "metadata": {},
   "source": [
    "#### 29. How to round away from zero a float array ? (★☆☆)"
   ]
  },
  {
   "cell_type": "code",
   "execution_count": 30,
   "id": "8fce1bd7",
   "metadata": {},
   "outputs": [
    {
     "name": "stdout",
     "output_type": "stream",
     "text": [
      "# Author: Charles R Harris\n",
      "\n",
      "Z = np.random.uniform(-10,+10,10)\n",
      "print(np.copysign(np.ceil(np.abs(Z)), Z))\n",
      "\n",
      "# More readable but less efficient\n",
      "print(np.where(Z>0, np.ceil(Z), np.floor(Z)))\n"
     ]
    }
   ],
   "source": [
    "answer(29) # I don't understand the first answer"
   ]
  },
  {
   "cell_type": "markdown",
   "id": "53f47438",
   "metadata": {},
   "source": [
    "#### 30. How to find common values between two arrays? (★☆☆)"
   ]
  },
  {
   "cell_type": "code",
   "execution_count": 31,
   "id": "981db6ec",
   "metadata": {},
   "outputs": [
    {
     "name": "stdout",
     "output_type": "stream",
     "text": [
      "Z1 = np.random.randint(0,10,10)\n",
      "Z2 = np.random.randint(0,10,10)\n",
      "print(np.intersect1d(Z1,Z2))\n"
     ]
    }
   ],
   "source": [
    "answer(30) # ok !"
   ]
  },
  {
   "cell_type": "markdown",
   "id": "51cf9109",
   "metadata": {},
   "source": [
    "#### 31. How to ignore all numpy warnings (not recommended)? (★☆☆)"
   ]
  },
  {
   "cell_type": "code",
   "execution_count": 32,
   "id": "09ba7521",
   "metadata": {},
   "outputs": [],
   "source": [
    "# with np.errstate(all=\"ignore\"): # ! (that's a context manager)\n",
    "#     np.arange(3) / 0"
   ]
  },
  {
   "cell_type": "markdown",
   "id": "948a691b",
   "metadata": {},
   "source": [
    "#### 32. Is the following expressions true? (★☆☆)\n",
    "```python\n",
    "np.sqrt(-1) == np.emath.sqrt(-1)\n",
    "```"
   ]
  },
  {
   "cell_type": "code",
   "execution_count": 33,
   "id": "6d8f745b",
   "metadata": {},
   "outputs": [
    {
     "name": "stderr",
     "output_type": "stream",
     "text": [
      "/tmp/ipykernel_97581/3595560445.py:3: RuntimeWarning: invalid value encountered in sqrt\n",
      "  np.sqrt(-1) == np.emath.sqrt(-1)\n"
     ]
    },
    {
     "data": {
      "text/plain": [
       "np.False_"
      ]
     },
     "execution_count": 33,
     "metadata": {},
     "output_type": "execute_result"
    }
   ],
   "source": [
    "# I think so.\n",
    "\n",
    "np.sqrt(-1) == np.emath.sqrt(-1)\n",
    "\n",
    "# it's wrong ! why?\n",
    "\n",
    "# np.sqrt(-1) # floating number output (nan)\n",
    "# np.emath.sqrt(-1) # complex number output (1j)\n",
    "\n",
    "\n",
    "# 🧮 What is numpy.lib.scimath?\n",
    "# The module is officially called numpy.lib.scimath. It's often imported under the convenient alias np.emath. Its purpose is to provide versions of mathematical functions that behave more usefully when dealing with complex numbers than the standard NumPy functions.\n",
    "\n",
    "# The key difference is in how they handle inputs that would be invalid for real numbers. For example, what should the function do if you try to take the square root of a negative number?"
   ]
  },
  {
   "cell_type": "markdown",
   "id": "d1a8992e",
   "metadata": {},
   "source": [
    "#### 33. How to get the dates of yesterday, today and tomorrow? (★☆☆)"
   ]
  },
  {
   "cell_type": "code",
   "execution_count": 34,
   "id": "31a1ade2",
   "metadata": {},
   "outputs": [
    {
     "data": {
      "text/plain": [
       "np.datetime64('2025-10-01T05:51:26')"
      ]
     },
     "execution_count": 34,
     "metadata": {},
     "output_type": "execute_result"
    }
   ],
   "source": [
    "np.datetime64('now') # wow that's correct !\n",
    "np.datetime64('now') - np.timedelta64(1,'D') # yesterday\n",
    "np.datetime64('now') + np.timedelta64(1,'D') # tomorrow"
   ]
  },
  {
   "cell_type": "markdown",
   "id": "01378794",
   "metadata": {},
   "source": [
    "#### 34. How to get all the dates corresponding to the month of July 2016? (★★☆)"
   ]
  },
  {
   "cell_type": "code",
   "execution_count": 35,
   "id": "928c55c6",
   "metadata": {},
   "outputs": [
    {
     "name": "stdout",
     "output_type": "stream",
     "text": [
      "2016-07-01\n",
      "2016-07-02\n",
      "2016-07-03\n",
      "2016-07-04\n",
      "2016-07-05\n",
      "2016-07-06\n",
      "2016-07-07\n",
      "2016-07-08\n",
      "2016-07-09\n",
      "2016-07-10\n",
      "2016-07-11\n",
      "2016-07-12\n",
      "2016-07-13\n",
      "2016-07-14\n",
      "2016-07-15\n",
      "2016-07-16\n",
      "2016-07-17\n",
      "2016-07-18\n",
      "2016-07-19\n",
      "2016-07-20\n",
      "2016-07-21\n",
      "2016-07-22\n",
      "2016-07-23\n",
      "2016-07-24\n",
      "2016-07-25\n",
      "2016-07-26\n",
      "2016-07-27\n",
      "2016-07-28\n",
      "2016-07-29\n",
      "2016-07-30\n",
      "2016-07-31\n",
      "Z = np.arange('2016-07', '2016-08', dtype='datetime64[D]')\n",
      "print(Z)\n",
      "['2016-07-01' '2016-07-02' '2016-07-03' '2016-07-04' '2016-07-05'\n",
      " '2016-07-06' '2016-07-07' '2016-07-08' '2016-07-09' '2016-07-10'\n",
      " '2016-07-11' '2016-07-12' '2016-07-13' '2016-07-14' '2016-07-15'\n",
      " '2016-07-16' '2016-07-17' '2016-07-18' '2016-07-19' '2016-07-20'\n",
      " '2016-07-21' '2016-07-22' '2016-07-23' '2016-07-24' '2016-07-25'\n",
      " '2016-07-26' '2016-07-27' '2016-07-28' '2016-07-29' '2016-07-30'\n",
      " '2016-07-31']\n"
     ]
    }
   ],
   "source": [
    "first = np.datetime64('2016-07-01')\n",
    "while np.datetime64(first, 'M').astype(int) % 12 + 1 == 7:\n",
    "    print(first)\n",
    "    first+=np.timedelta64(1,'D')\n",
    "\n",
    "answer(34)\n",
    "\n",
    "dates = np.arange('2016-07', '2016-08', dtype='datetime64[D]') # the 'D' symbol is important here.\n",
    "print(dates)"
   ]
  },
  {
   "cell_type": "markdown",
   "id": "e3f8fe94",
   "metadata": {},
   "source": [
    "#### 35. How to compute ((A+B)*(-A/2)) in place (without copy)? (★★☆)"
   ]
  },
  {
   "cell_type": "code",
   "execution_count": 36,
   "id": "14e478d5",
   "metadata": {},
   "outputs": [
    {
     "name": "stdout",
     "output_type": "stream",
     "text": [
      "A = np.ones(3)*1\n",
      "B = np.ones(3)*2\n",
      "np.add(A,B,out=B)\n",
      "np.divide(A,2,out=A)\n",
      "np.negative(A,out=A)\n",
      "np.multiply(A,B,out=A)\n"
     ]
    }
   ],
   "source": [
    "# KEY LEARNING SUMMARY FROM NUMPY IN-PLACE OPERATIONS:\n",
    "\n",
    "# 1. MEMORY MANAGEMENT\n",
    "# - Normal operations (A + B) create new arrays each time\n",
    "# - In-place operations (A += B) modify existing arrays, saving memory\n",
    "A = np.array([1, 2, 3])\n",
    "B = np.array([4, 5, 6])\n",
    "C = A + B  # New array created: [5, 7, 9]\n",
    "A += B     # A modified in-place: [5, 7, 9] (no new array)\n",
    "\n",
    "# 2. OUT PARAMETER USAGE  \n",
    "# - np.add(A, B, out=result) stores result in pre-allocated memory\n",
    "result = np.empty_like(A)\n",
    "np.add(A, B, out=result)  # result = [5, 7, 9] (no temporary)\n",
    "np.add(A, B, out=A)       # A = [5, 7, 9] (overwrite original)\n",
    "\n",
    "# 3. OPERATORS VS FUNCTIONS\n",
    "# - Operators for simplicity, functions for control\n",
    "C = A * B                    # Simple: [20, 35, 54]  \n",
    "np.multiply(A, B, out=A)     # Controlled: A = [20, 35, 54]\n",
    "np.multiply(A, B, where=[True,False,True])  # Conditional\n",
    "\n",
    "# 4. TEMPORARY VARIABLE STRATEGY\n",
    "# - One copy avoids multiple intermediates\n",
    "A = np.array([1, 2, 3], dtype=float); B = np.array([4, 5, 6])\n",
    "temp = A.astype(float)     # temp = [1, 2, 3] # without the .astype() -> the expression (Temp = A) will create an alias not a copy and when you multiply it by a fraction (.5) it will raise an error\n",
    "A += B              # A = [5, 7, 9] \n",
    "temp *= -0.5        # temp = [-0.5, -1, -1.5]\n",
    "A *= temp           # A = [-2.5, -7, -13.5] (only 3 arrays total)\n",
    "\n",
    "# 5. EXPRESSION EXECUTION FLOW\n",
    "# - Complex expressions create hidden temporaries\n",
    "result = ((A + B) * (-A / 2))\n",
    "# Actually creates: temp1=A+B, temp2=-A, temp3=temp2/2, result=temp1*temp3\n",
    "# Total: 4 new arrays instead of 1!\n",
    "\n",
    "# 6. EINSTEIN SUMMATION (EINSUM)\n",
    "# - Compact notation for complex operations\n",
    "A = np.array([[1, 2], [3, 4]])\n",
    "B = np.array([[5, 6], [7, 8]])\n",
    "result = np.einsum('ij,jk->ik', A, B)  # Matrix multiplication: [[19, 22], [43, 50]]\n",
    "\n",
    "# 7. PERFORMANCE TRADEOFFS\n",
    "# - Readable code vs Memory efficiency\n",
    "# result = A + B - C * D  # Readable but creates 3 temporaries\n",
    "# vs\n",
    "# result = A.copy(); result += B; temp = C.copy(); temp *= D; result -= temp  # Efficient but complex\n",
    "\n",
    "answer(35)"
   ]
  },
  {
   "cell_type": "markdown",
   "id": "5c4d58c9",
   "metadata": {},
   "source": [
    "#### 36. Extract the integer part of a random array of positive numbers using 4 different methods (★★☆)"
   ]
  },
  {
   "cell_type": "code",
   "execution_count": 37,
   "id": "586beded",
   "metadata": {},
   "outputs": [
    {
     "name": "stdout",
     "output_type": "stream",
     "text": [
      "[8. 4. 8. 1. 8. 2. 7. 6. 4. 7.]\n",
      "[8. 4. 8. 1. 8. 2. 7. 6. 4. 7.]\n",
      "[8. 4. 8. 1. 8. 2. 7. 6. 4. 7.]\n",
      "[8. 4. 8. 1. 8. 2. 7. 6. 4. 7.]\n",
      "[8 4 8 1 8 2 7 6 4 7]\n",
      "[8.30384614 4.15695162 8.94255828 1.79369819 8.17050513 2.48335314\n",
      " 7.85245218 6.63092684 4.21101854 7.09412334]\n",
      "Z = np.random.uniform(0,10,10)\n",
      "\n",
      "print(Z - Z%1)\n",
      "print(Z // 1)\n",
      "print(np.floor(Z))\n",
      "print(Z.astype(int))\n",
      "print(np.trunc(Z))\n"
     ]
    }
   ],
   "source": [
    "arr = np.random.uniform(0,10, 10)\n",
    "print((arr//1))\n",
    "print(np.floor(arr))\n",
    "print(np.trunc(arr))\n",
    "print((arr - arr%1))\n",
    "print(arr.astype(int))\n",
    "print(arr)\n",
    "\n",
    "answer(36)"
   ]
  },
  {
   "cell_type": "markdown",
   "id": "62628653",
   "metadata": {},
   "source": [
    "#### 37. Create a 5x5 matrix with row values ranging from 0 to 4 (★★☆)"
   ]
  },
  {
   "cell_type": "code",
   "execution_count": 38,
   "id": "e57763b3",
   "metadata": {},
   "outputs": [
    {
     "name": "stdout",
     "output_type": "stream",
     "text": [
      "[[0. 1. 2. 3. 4.]\n",
      " [0. 1. 2. 3. 4.]\n",
      " [0. 1. 2. 3. 4.]\n",
      " [0. 1. 2. 3. 4.]\n",
      " [0. 1. 2. 3. 4.]]\n",
      "Z = np.zeros((5,5))\n",
      "Z += np.arange(5)\n",
      "print(Z)\n",
      "\n",
      "# without broadcasting\n",
      "Z = np.tile(np.arange(0, 5), (5,1))\n",
      "print(Z)\n",
      "[[0. 1. 2. 3. 4.]\n",
      " [0. 1. 2. 3. 4.]\n",
      " [0. 1. 2. 3. 4.]\n",
      " [0. 1. 2. 3. 4.]\n",
      " [0. 1. 2. 3. 4.]]\n",
      "##########\n",
      "[[0 1 2 3 4]\n",
      " [0 1 2 3 4]\n",
      " [0 1 2 3 4]\n",
      " [0 1 2 3 4]\n",
      " [0 1 2 3 4]]\n"
     ]
    }
   ],
   "source": [
    "print(np.ones([5,5]) * np.arange(5)) \n",
    "\n",
    "\n",
    "answer(37)\n",
    "\n",
    "print(np.zeros([5,5]) + np.arange(5)) # just like my solution\n",
    "print(10*'#')\n",
    "print(np.tile(np.arange(5), [5,1]))\n",
    "\n",
    "# both np.ones, np.zeros produce floating point numbers"
   ]
  },
  {
   "cell_type": "markdown",
   "id": "d3d46d64",
   "metadata": {},
   "source": [
    "#### 38. Consider a generator function that generates 10 integers and use it to build an array (★☆☆)"
   ]
  },
  {
   "cell_type": "code",
   "execution_count": 39,
   "id": "24590d8c",
   "metadata": {},
   "outputs": [
    {
     "name": "stdout",
     "output_type": "stream",
     "text": [
      "[0. 1. 2. 3. 4. 5. 6. 7. 8. 9.]\n",
      "def generate():\n",
      "    for x in range(10):\n",
      "        yield x\n",
      "Z = np.fromiter(generate(),dtype=float,count=-1)\n",
      "print(Z)\n"
     ]
    }
   ],
   "source": [
    "def fun():\n",
    "    for i in range(10):\n",
    "        yield i\n",
    "# np.array(fun()) # that's wrong\n",
    "\n",
    "print(np.fromiter(fun(), dtype=float)) # adding \", count=-1\" doesn't affect the result?\n",
    "\n",
    "answer(38)"
   ]
  },
  {
   "cell_type": "markdown",
   "id": "5e1e51e4",
   "metadata": {},
   "source": [
    "#### 39. Create a vector of size 10 with values ranging from 0 to 1, both excluded (★★☆)"
   ]
  },
  {
   "cell_type": "code",
   "execution_count": 40,
   "id": "def73884",
   "metadata": {},
   "outputs": [
    {
     "name": "stdout",
     "output_type": "stream",
     "text": [
      "[0.93751032 0.24047917 0.39624341 0.35848936 0.96980684 0.67797442\n",
      " 0.19199875 0.73270264 0.86153326 0.75956614]\n",
      "Z = np.linspace(0,1,11,endpoint=False)[1:]\n",
      "print(Z)\n",
      "[0.09090909 0.18181818 0.27272727 0.36363636 0.45454545 0.54545455\n",
      " 0.63636364 0.72727273 0.81818182 0.90909091]\n",
      "[0.09090909 0.18181818 0.27272727 0.36363636 0.45454545 0.54545455\n",
      " 0.63636364 0.72727273 0.81818182 0.90909091]\n"
     ]
    }
   ],
   "source": [
    "print(np.random.uniform(0,1, 10)) # is this actually excluding 0, 1 ?\n",
    "\n",
    "answer(39)\n",
    "\n",
    "print(np.linspace(0,1,11, endpoint=False)[1:])\n",
    "# linspace produces an array that have equal difference between its consequetive elements\n",
    "# the endpoint=False part is for excluding the \"1\" from the array\n",
    "# the [1:] part is for excluding the \"0\" and therefore we need another element to make them = 10 elements so we produce 11.\n",
    "\n",
    "print(np.linspace(0,1,12)[1:-1]) # the same result as above"
   ]
  },
  {
   "cell_type": "markdown",
   "id": "9e19964c",
   "metadata": {},
   "source": [
    "#### 40. Create a random vector of size 10 and sort it (★★☆)"
   ]
  },
  {
   "cell_type": "code",
   "execution_count": null,
   "id": "ec302eb1",
   "metadata": {},
   "outputs": [
    {
     "name": "stdout",
     "output_type": "stream",
     "text": [
      "[0.03220423 0.2281805  0.23844027 0.3401768  0.45844692 0.74447068\n",
      " 0.8178564  0.87559488 0.94867548 0.95815901]\n",
      "[0.15362527 0.31070847 0.32290449 0.39691407 0.46817308 0.58118318\n",
      " 0.63829133 0.67624511 0.87441768 0.91168515]\n",
      "Z = np.random.random(10)\n",
      "Z.sort()\n",
      "print(Z)\n"
     ]
    }
   ],
   "source": [
    "r = np.random.rand(10); r.sort(); print(r)  # in place sorting\n",
    "\n",
    "print( np.sort( np.random.rand(10) ) ) # returns a new sorted array\n",
    "\n",
    "# # np.argsort() - Returns indices that would sort array\n",
    "# indices = np.argsort(arr)                    # [1, 3, 6, 0, 2, 4, 5]\n",
    "# sorted_via_indices = arr[indices]            # Same as np.sort(arr)\n",
    "\n",
    "\n",
    "# # Sort entire array flattened\n",
    "# flat_sorted = np.sort(arr_2d, axis=None)     # [1, 1, 2, 3, 4, 5, 5, 6, 9]\n",
    "\n",
    "answer(40)"
   ]
  },
  {
   "cell_type": "markdown",
   "id": "13a034e2",
   "metadata": {},
   "source": [
    "#### 41. How to sum a small array faster than np.sum? (★★☆)"
   ]
  },
  {
   "cell_type": "code",
   "execution_count": 42,
   "id": "b09a3551",
   "metadata": {},
   "outputs": [
    {
     "name": "stdout",
     "output_type": "stream",
     "text": [
      "# Author: Evgeni Burovski\n",
      "\n",
      "Z = np.arange(10)\n",
      "np.add.reduce(Z)\n",
      "##########\n",
      "16\n"
     ]
    }
   ],
   "source": [
    "# I don't know !\n",
    "\n",
    "answer(41)\n",
    "print('#'*10)\n",
    "print( np.add.reduce([3,10,3]) ) "
   ]
  },
  {
   "cell_type": "markdown",
   "id": "32d10473",
   "metadata": {},
   "source": [
    "#### 42. Consider two random arrays A and B, check if they are equal (★★☆)"
   ]
  },
  {
   "cell_type": "code",
   "execution_count": 43,
   "id": "5ebb1103",
   "metadata": {},
   "outputs": [
    {
     "name": "stdout",
     "output_type": "stream",
     "text": [
      "[False False False False False False False False False False]\n",
      "##########\n",
      "A = np.random.randint(0,2,5)\n",
      "B = np.random.randint(0,2,5)\n",
      "\n",
      "# Assuming identical shape of the arrays and a tolerance for the comparison of values\n",
      "equal = np.allclose(A,B)\n",
      "print(equal)\n",
      "\n",
      "# Checking both the shape and the element values, no tolerance (values have to be exactly equal)\n",
      "equal = np.array_equal(A,B)\n",
      "print(equal)\n",
      "False\n",
      "False\n"
     ]
    }
   ],
   "source": [
    "a = np.random.rand(10)\n",
    "b = np.random.rand(10)\n",
    "\n",
    "print( a == b )\n",
    "print('#'*10)\n",
    "\n",
    "answer(42)\n",
    "\n",
    "print( np.allclose(a,b) )\n",
    "\n",
    "print( np.array_equal(a,b) )"
   ]
  },
  {
   "cell_type": "markdown",
   "id": "a50474b0",
   "metadata": {},
   "source": [
    "#### 43. Make an array immutable (read-only) (★★☆)"
   ]
  },
  {
   "cell_type": "code",
   "execution_count": 44,
   "id": "db6fe176",
   "metadata": {},
   "outputs": [
    {
     "name": "stdout",
     "output_type": "stream",
     "text": [
      "Z = np.zeros(10)\n",
      "Z.flags.writeable = False\n",
      "Z[0] = 1\n"
     ]
    }
   ],
   "source": [
    "# what ?\n",
    "\n",
    "# for more about the topic: https://note.nkmk.me/en/python-numpy-ndarray-immutable-read-only/\n",
    "\n",
    "answer(43)\n",
    "\n",
    "# another way = \n",
    "# z = np.zeros(10)\n",
    "# z.setflags(write=False)\n",
    "# z[1] = 1"
   ]
  },
  {
   "cell_type": "markdown",
   "id": "b7a6093e",
   "metadata": {},
   "source": [
    "#### 44. Consider a random 10x2 matrix representing cartesian coordinates, convert them to polar coordinates (★★☆)"
   ]
  },
  {
   "cell_type": "code",
   "execution_count": 45,
   "id": "4479c48d",
   "metadata": {},
   "outputs": [
    {
     "name": "stdout",
     "output_type": "stream",
     "text": [
      "[[3 9]\n",
      " [9 9]\n",
      " [2 4]\n",
      " [3 5]\n",
      " [5 7]\n",
      " [5 9]\n",
      " [8 7]\n",
      " [5 6]\n",
      " [4 7]\n",
      " [6 6]]\n",
      "##########\n",
      "Z = np.random.random((10,2))\n",
      "X,Y = Z[:,0], Z[:,1]\n",
      "R = np.sqrt(X**2+Y**2)\n",
      "T = np.arctan2(Y,X)\n",
      "print(R)\n",
      "print(T)\n"
     ]
    }
   ],
   "source": [
    "original = np.random.randint(10, size=[10,2])\n",
    "print(original)\n",
    "print('#'*10)\n",
    "\n",
    "# useful: https://github.com/numpy/numpy/issues/5228\n",
    "\n",
    "# for example: \n",
    "\n",
    "# def cart2pol(x, y):\n",
    "#     \"\"\"Converts Cartesian coordinates to polar coordinates.\"\"\"\n",
    "#     rho = np.hypot(x, y)\n",
    "#     phi = np.arctan2(y, x)\n",
    "#     return rho, phi\n",
    "\n",
    "# def pol2cart(rho, phi):\n",
    "#     \"\"\"Converts polar coordinates to Cartesian coordinates.\"\"\"\n",
    "#     x = rho * np.cos(phi)\n",
    "#     y = rho * np.sin(phi)\n",
    "#     return x, y\n",
    "\n",
    "# print(original[:,1]) # getting all the rows but only the second column (number: 1)\n",
    "# we use arctan2 not arctan because it have better handling for dividing by zero issues\n",
    "\n",
    "answer(44)"
   ]
  },
  {
   "cell_type": "markdown",
   "id": "934f889c",
   "metadata": {},
   "source": [
    "#### 45. Create random vector of size 10 and replace the maximum value by 0 (★★☆)"
   ]
  },
  {
   "cell_type": "code",
   "execution_count": 46,
   "id": "4b576814",
   "metadata": {},
   "outputs": [
    {
     "name": "stdout",
     "output_type": "stream",
     "text": [
      "[1 9 6 6 8 2 9 7 5 8]\n",
      "##########\n",
      "[1 0 6 6 8 2 0 7 5 8]\n",
      "Z = np.random.random(10)\n",
      "Z[Z.argmax()] = 0\n",
      "print(Z)\n"
     ]
    }
   ],
   "source": [
    "arr = np.random.randint(10,size=[10])\n",
    "print(arr)\n",
    "print('#'*10)\n",
    "\n",
    "arr[ np.where(arr == arr.max())[0] ] = 0\n",
    "\n",
    "print(arr)\n",
    "\n",
    "answer(45)\n",
    "\n",
    "# so, arr.argmax() = np.where(arr == arr.max())[0]"
   ]
  },
  {
   "cell_type": "markdown",
   "id": "d4f6e2e1",
   "metadata": {},
   "source": [
    "#### 46. Create a structured array with `x` and `y` coordinates covering the [0,1]x[0,1] area (★★☆)"
   ]
  },
  {
   "cell_type": "code",
   "execution_count": 47,
   "id": "f90f969b",
   "metadata": {},
   "outputs": [
    {
     "name": "stdout",
     "output_type": "stream",
     "text": [
      "[[0 0]\n",
      " [0 1]\n",
      " [1 0]\n",
      " [1 1]]\n",
      "Z = np.zeros((5,5), [('x',float),('y',float)])\n",
      "Z['x'], Z['y'] = np.meshgrid(np.linspace(0,1,5),\n",
      "                             np.linspace(0,1,5))\n",
      "print(Z)\n",
      "[[(0., 0.) (0., 0.) (0., 0.) (0., 0.) (0., 0.)]\n",
      " [(0., 0.) (0., 0.) (0., 0.) (0., 0.) (0., 0.)]\n",
      " [(0., 0.) (0., 0.) (0., 0.) (0., 0.) (0., 0.)]\n",
      " [(0., 0.) (0., 0.) (0., 0.) (0., 0.) (0., 0.)]\n",
      " [(0., 0.) (0., 0.) (0., 0.) (0., 0.) (0., 0.)]]\n",
      "[[0. 0. 0. 0. 0.]\n",
      " [0. 0. 0. 0. 0.]\n",
      " [0. 0. 0. 0. 0.]\n",
      " [0. 0. 0. 0. 0.]\n",
      " [0. 0. 0. 0. 0.]]\n",
      "[[0. 0. 0. 0. 0.]\n",
      " [0. 0. 0. 0. 0.]\n",
      " [0. 0. 0. 0. 0.]\n",
      " [0. 0. 0. 0. 0.]\n",
      " [0. 0. 0. 0. 0.]]\n",
      "##########\n",
      "[[(0.  , 0.  ) (0.25, 0.  ) (0.5 , 0.  ) (0.75, 0.  ) (1.  , 0.  )]\n",
      " [(0.  , 0.25) (0.25, 0.25) (0.5 , 0.25) (0.75, 0.25) (1.  , 0.25)]\n",
      " [(0.  , 0.5 ) (0.25, 0.5 ) (0.5 , 0.5 ) (0.75, 0.5 ) (1.  , 0.5 )]\n",
      " [(0.  , 0.75) (0.25, 0.75) (0.5 , 0.75) (0.75, 0.75) (1.  , 0.75)]\n",
      " [(0.  , 1.  ) (0.25, 1.  ) (0.5 , 1.  ) (0.75, 1.  ) (1.  , 1.  )]]\n",
      "[[0.   0.25 0.5  0.75 1.  ]\n",
      " [0.   0.25 0.5  0.75 1.  ]\n",
      " [0.   0.25 0.5  0.75 1.  ]\n",
      " [0.   0.25 0.5  0.75 1.  ]\n",
      " [0.   0.25 0.5  0.75 1.  ]]\n",
      "[[0.   0.   0.   0.   0.  ]\n",
      " [0.25 0.25 0.25 0.25 0.25]\n",
      " [0.5  0.5  0.5  0.5  0.5 ]\n",
      " [0.75 0.75 0.75 0.75 0.75]\n",
      " [1.   1.   1.   1.   1.  ]]\n"
     ]
    }
   ],
   "source": [
    "arr = np.array([[0,0], [0,1], [1,0], [1,1]])\n",
    "print(arr)\n",
    "\n",
    "answer(46)\n",
    "\n",
    "arr = np.zeros((5,5), [('x', float), ('y', float)]) # naming columns - that's a structured array!\n",
    "print(arr)\n",
    "print(arr['x'], arr['y'], sep='\\n')\n",
    "print('#'*10)\n",
    "\n",
    "arr['x'], arr['y'] = np.meshgrid(np.linspace(0,1,5), np.linspace(0,1,5)) # creating all possible combinations between the two 1D arrays (np.linspace) to create one 2D array.\n",
    "\n",
    "print(arr)\n",
    "print(arr['x'], arr['y'], sep='\\n')\n",
    "\n",
    "\n",
    "# first, the question can be solved without specifying exactly 5 points in each direction but OK !\n",
    "# second, I've learned that I can name columns for a numpy array !\n",
    "# third, the 'meshgrid' function can be used to create a 2D array with all possbile combinations between two 1D arrays."
   ]
  },
  {
   "cell_type": "markdown",
   "id": "bc9c88d3",
   "metadata": {},
   "source": [
    "#### 47. Given two arrays, X and Y, construct the Cauchy matrix C (Cij =1/(xi - yj)) (★★☆)"
   ]
  },
  {
   "cell_type": "code",
   "execution_count": 48,
   "id": "e90ad595",
   "metadata": {},
   "outputs": [
    {
     "name": "stdout",
     "output_type": "stream",
     "text": [
      "[[-0.33333333 -0.5        -1.        ]\n",
      " [-0.25       -0.33333333 -0.5       ]\n",
      " [-0.2        -0.25       -0.33333333]]\n",
      "##########\n",
      "# Author: Evgeni Burovski\n",
      "\n",
      "X = np.arange(8)\n",
      "Y = X + 0.5\n",
      "C = 1.0 / np.subtract.outer(X, Y)\n",
      "print(np.linalg.det(C))\n",
      "[1 2 3] [4 5 6]\n",
      "[[-0.33333333 -0.25       -0.2       ]\n",
      " [-0.5        -0.33333333 -0.25      ]\n",
      " [-1.         -0.5        -0.33333333]]\n",
      "0.00046296296296296146\n"
     ]
    }
   ],
   "source": [
    "x = np.array([1,2,3])\n",
    "y = np.array([4,5,6])\n",
    "\n",
    "\n",
    "C = np.zeros((3,3), [('x', float), ('y', float)])\n",
    "C['x'], C['y'] = np.meshgrid(x,y)\n",
    "C = 1 / (C['x'] - C['y'])\n",
    "print(C, '#'*10, sep='\\n')\n",
    "\n",
    "answer(47)\n",
    "\n",
    "X = np.array([1,2,3])\n",
    "Y = np.array([4,5,6])\n",
    "print(X,Y)\n",
    "C = 1.0 / np.subtract.outer(X, Y)\n",
    "print(C)\n",
    "print(np.linalg.det(C))"
   ]
  },
  {
   "cell_type": "markdown",
   "id": "a840a52f",
   "metadata": {},
   "source": [
    "#### 48. Print the minimum and maximum representable values for each numpy scalar type (★★☆)"
   ]
  },
  {
   "cell_type": "code",
   "execution_count": 49,
   "id": "d2eb3b4a",
   "metadata": {},
   "outputs": [
    {
     "name": "stdout",
     "output_type": "stream",
     "text": [
      "for dtype in [np.int8, np.int32, np.int64]:\n",
      "   print(np.iinfo(dtype).min)\n",
      "   print(np.iinfo(dtype).max)\n",
      "for dtype in [np.float32, np.float64]:\n",
      "   print(np.finfo(dtype).min)\n",
      "   print(np.finfo(dtype).max)\n",
      "   print(np.finfo(dtype).eps)\n",
      "Machine parameters for int8\n",
      "---------------------------------------------------------------\n",
      "min = -128\n",
      "max = 127\n",
      "---------------------------------------------------------------\n",
      "\n",
      "Machine parameters for int16\n",
      "---------------------------------------------------------------\n",
      "min = -32768\n",
      "max = 32767\n",
      "---------------------------------------------------------------\n",
      "\n",
      "Machine parameters for int32\n",
      "---------------------------------------------------------------\n",
      "min = -2147483648\n",
      "max = 2147483647\n",
      "---------------------------------------------------------------\n",
      "\n",
      "Machine parameters for int64\n",
      "---------------------------------------------------------------\n",
      "min = -9223372036854775808\n",
      "max = 9223372036854775807\n",
      "---------------------------------------------------------------\n",
      "\n",
      "Machine parameters for uint8\n",
      "---------------------------------------------------------------\n",
      "min = 0\n",
      "max = 255\n",
      "---------------------------------------------------------------\n",
      "\n",
      "Machine parameters for uint16\n",
      "---------------------------------------------------------------\n",
      "min = 0\n",
      "max = 65535\n",
      "---------------------------------------------------------------\n",
      "\n",
      "Machine parameters for uint32\n",
      "---------------------------------------------------------------\n",
      "min = 0\n",
      "max = 4294967295\n",
      "---------------------------------------------------------------\n",
      "\n",
      "Machine parameters for uint64\n",
      "---------------------------------------------------------------\n",
      "min = 0\n",
      "max = 18446744073709551615\n",
      "---------------------------------------------------------------\n",
      "\n",
      "Machine parameters for float16\n",
      "---------------------------------------------------------------\n",
      "precision =   3   resolution = 1.00040e-03\n",
      "machep =    -10   eps =        9.76562e-04\n",
      "negep =     -11   epsneg =     4.88281e-04\n",
      "minexp =    -14   tiny =       6.10352e-05\n",
      "maxexp =     16   max =        6.55040e+04\n",
      "nexp =        5   min =        -max\n",
      "smallest_normal = 6.10352e-05   smallest_subnormal = 5.96046e-08\n",
      "---------------------------------------------------------------\n",
      "\n",
      "Machine parameters for float32\n",
      "---------------------------------------------------------------\n",
      "precision =   6   resolution = 1.0000000e-06\n",
      "machep =    -23   eps =        1.1920929e-07\n",
      "negep =     -24   epsneg =     5.9604645e-08\n",
      "minexp =   -126   tiny =       1.1754944e-38\n",
      "maxexp =    128   max =        3.4028235e+38\n",
      "nexp =        8   min =        -max\n",
      "smallest_normal = 1.1754944e-38   smallest_subnormal = 1.4012985e-45\n",
      "---------------------------------------------------------------\n",
      "\n",
      "Machine parameters for float64\n",
      "---------------------------------------------------------------\n",
      "precision =  15   resolution = 1.0000000000000001e-15\n",
      "machep =    -52   eps =        2.2204460492503131e-16\n",
      "negep =     -53   epsneg =     1.1102230246251565e-16\n",
      "minexp =  -1022   tiny =       2.2250738585072014e-308\n",
      "maxexp =   1024   max =        1.7976931348623157e+308\n",
      "nexp =       11   min =        -max\n",
      "smallest_normal = 2.2250738585072014e-308   smallest_subnormal = 4.9406564584124654e-324\n",
      "---------------------------------------------------------------\n",
      "\n",
      "9223372036854775807\n",
      "18446744073709551615\n"
     ]
    }
   ],
   "source": [
    "answer(48)\n",
    "\n",
    "types = [np.int8, np.int16, np.int32, np.int64, np.uint8, np.uint16, np.uint32, np.uint64]\n",
    "types_f = [np.float16, np.float32, np.float64]\n",
    "for dtype in types:\n",
    "    print(np.iinfo(dtype))\n",
    "for dtype in types_f:\n",
    "    print(np.finfo(dtype))\n",
    "    \n",
    "print(np.iinfo(np.intp).max, np.iinfo(np.uintp).max, sep='\\n')"
   ]
  },
  {
   "cell_type": "markdown",
   "id": "0a0819d5",
   "metadata": {},
   "source": [
    "#### 49. How to print all the values of an array? (★★☆)"
   ]
  },
  {
   "cell_type": "code",
   "execution_count": 50,
   "id": "d76dbf55",
   "metadata": {},
   "outputs": [
    {
     "name": "stdout",
     "output_type": "stream",
     "text": [
      "[[0. 0. 0. ... 0. 0. 0.]\n",
      " [0. 0. 0. ... 0. 0. 0.]\n",
      " [0. 0. 0. ... 0. 0. 0.]\n",
      " ...\n",
      " [0. 0. 0. ... 0. 0. 0.]\n",
      " [0. 0. 0. ... 0. 0. 0.]\n",
      " [0. 0. 0. ... 0. 0. 0.]]\n",
      "np.set_printoptions(threshold=float(\"inf\"))\n",
      "Z = np.zeros((40,40))\n",
      "print(Z)\n"
     ]
    }
   ],
   "source": [
    "print(np.zeros([40,40])) # the default threshold is 1000\n",
    "\n",
    "answer(49)"
   ]
  },
  {
   "cell_type": "code",
   "execution_count": 51,
   "id": "535e3568",
   "metadata": {},
   "outputs": [
    {
     "name": "stdout",
     "output_type": "stream",
     "text": [
      "[[0. 0. 0. 0. 0. 0. 0. 0. 0. 0. 0. 0. 0. 0. 0. 0. 0. 0. 0. 0. 0. 0. 0. 0.\n",
      "  0. 0. 0. 0. 0. 0. 0. 0. 0. 0. 0. 0. 0. 0. 0. 0.]\n",
      " [0. 0. 0. 0. 0. 0. 0. 0. 0. 0. 0. 0. 0. 0. 0. 0. 0. 0. 0. 0. 0. 0. 0. 0.\n",
      "  0. 0. 0. 0. 0. 0. 0. 0. 0. 0. 0. 0. 0. 0. 0. 0.]\n",
      " [0. 0. 0. 0. 0. 0. 0. 0. 0. 0. 0. 0. 0. 0. 0. 0. 0. 0. 0. 0. 0. 0. 0. 0.\n",
      "  0. 0. 0. 0. 0. 0. 0. 0. 0. 0. 0. 0. 0. 0. 0. 0.]\n",
      " [0. 0. 0. 0. 0. 0. 0. 0. 0. 0. 0. 0. 0. 0. 0. 0. 0. 0. 0. 0. 0. 0. 0. 0.\n",
      "  0. 0. 0. 0. 0. 0. 0. 0. 0. 0. 0. 0. 0. 0. 0. 0.]\n",
      " [0. 0. 0. 0. 0. 0. 0. 0. 0. 0. 0. 0. 0. 0. 0. 0. 0. 0. 0. 0. 0. 0. 0. 0.\n",
      "  0. 0. 0. 0. 0. 0. 0. 0. 0. 0. 0. 0. 0. 0. 0. 0.]\n",
      " [0. 0. 0. 0. 0. 0. 0. 0. 0. 0. 0. 0. 0. 0. 0. 0. 0. 0. 0. 0. 0. 0. 0. 0.\n",
      "  0. 0. 0. 0. 0. 0. 0. 0. 0. 0. 0. 0. 0. 0. 0. 0.]\n",
      " [0. 0. 0. 0. 0. 0. 0. 0. 0. 0. 0. 0. 0. 0. 0. 0. 0. 0. 0. 0. 0. 0. 0. 0.\n",
      "  0. 0. 0. 0. 0. 0. 0. 0. 0. 0. 0. 0. 0. 0. 0. 0.]\n",
      " [0. 0. 0. 0. 0. 0. 0. 0. 0. 0. 0. 0. 0. 0. 0. 0. 0. 0. 0. 0. 0. 0. 0. 0.\n",
      "  0. 0. 0. 0. 0. 0. 0. 0. 0. 0. 0. 0. 0. 0. 0. 0.]\n",
      " [0. 0. 0. 0. 0. 0. 0. 0. 0. 0. 0. 0. 0. 0. 0. 0. 0. 0. 0. 0. 0. 0. 0. 0.\n",
      "  0. 0. 0. 0. 0. 0. 0. 0. 0. 0. 0. 0. 0. 0. 0. 0.]\n",
      " [0. 0. 0. 0. 0. 0. 0. 0. 0. 0. 0. 0. 0. 0. 0. 0. 0. 0. 0. 0. 0. 0. 0. 0.\n",
      "  0. 0. 0. 0. 0. 0. 0. 0. 0. 0. 0. 0. 0. 0. 0. 0.]\n",
      " [0. 0. 0. 0. 0. 0. 0. 0. 0. 0. 0. 0. 0. 0. 0. 0. 0. 0. 0. 0. 0. 0. 0. 0.\n",
      "  0. 0. 0. 0. 0. 0. 0. 0. 0. 0. 0. 0. 0. 0. 0. 0.]\n",
      " [0. 0. 0. 0. 0. 0. 0. 0. 0. 0. 0. 0. 0. 0. 0. 0. 0. 0. 0. 0. 0. 0. 0. 0.\n",
      "  0. 0. 0. 0. 0. 0. 0. 0. 0. 0. 0. 0. 0. 0. 0. 0.]\n",
      " [0. 0. 0. 0. 0. 0. 0. 0. 0. 0. 0. 0. 0. 0. 0. 0. 0. 0. 0. 0. 0. 0. 0. 0.\n",
      "  0. 0. 0. 0. 0. 0. 0. 0. 0. 0. 0. 0. 0. 0. 0. 0.]\n",
      " [0. 0. 0. 0. 0. 0. 0. 0. 0. 0. 0. 0. 0. 0. 0. 0. 0. 0. 0. 0. 0. 0. 0. 0.\n",
      "  0. 0. 0. 0. 0. 0. 0. 0. 0. 0. 0. 0. 0. 0. 0. 0.]\n",
      " [0. 0. 0. 0. 0. 0. 0. 0. 0. 0. 0. 0. 0. 0. 0. 0. 0. 0. 0. 0. 0. 0. 0. 0.\n",
      "  0. 0. 0. 0. 0. 0. 0. 0. 0. 0. 0. 0. 0. 0. 0. 0.]\n",
      " [0. 0. 0. 0. 0. 0. 0. 0. 0. 0. 0. 0. 0. 0. 0. 0. 0. 0. 0. 0. 0. 0. 0. 0.\n",
      "  0. 0. 0. 0. 0. 0. 0. 0. 0. 0. 0. 0. 0. 0. 0. 0.]\n",
      " [0. 0. 0. 0. 0. 0. 0. 0. 0. 0. 0. 0. 0. 0. 0. 0. 0. 0. 0. 0. 0. 0. 0. 0.\n",
      "  0. 0. 0. 0. 0. 0. 0. 0. 0. 0. 0. 0. 0. 0. 0. 0.]\n",
      " [0. 0. 0. 0. 0. 0. 0. 0. 0. 0. 0. 0. 0. 0. 0. 0. 0. 0. 0. 0. 0. 0. 0. 0.\n",
      "  0. 0. 0. 0. 0. 0. 0. 0. 0. 0. 0. 0. 0. 0. 0. 0.]\n",
      " [0. 0. 0. 0. 0. 0. 0. 0. 0. 0. 0. 0. 0. 0. 0. 0. 0. 0. 0. 0. 0. 0. 0. 0.\n",
      "  0. 0. 0. 0. 0. 0. 0. 0. 0. 0. 0. 0. 0. 0. 0. 0.]\n",
      " [0. 0. 0. 0. 0. 0. 0. 0. 0. 0. 0. 0. 0. 0. 0. 0. 0. 0. 0. 0. 0. 0. 0. 0.\n",
      "  0. 0. 0. 0. 0. 0. 0. 0. 0. 0. 0. 0. 0. 0. 0. 0.]\n",
      " [0. 0. 0. 0. 0. 0. 0. 0. 0. 0. 0. 0. 0. 0. 0. 0. 0. 0. 0. 0. 0. 0. 0. 0.\n",
      "  0. 0. 0. 0. 0. 0. 0. 0. 0. 0. 0. 0. 0. 0. 0. 0.]\n",
      " [0. 0. 0. 0. 0. 0. 0. 0. 0. 0. 0. 0. 0. 0. 0. 0. 0. 0. 0. 0. 0. 0. 0. 0.\n",
      "  0. 0. 0. 0. 0. 0. 0. 0. 0. 0. 0. 0. 0. 0. 0. 0.]\n",
      " [0. 0. 0. 0. 0. 0. 0. 0. 0. 0. 0. 0. 0. 0. 0. 0. 0. 0. 0. 0. 0. 0. 0. 0.\n",
      "  0. 0. 0. 0. 0. 0. 0. 0. 0. 0. 0. 0. 0. 0. 0. 0.]\n",
      " [0. 0. 0. 0. 0. 0. 0. 0. 0. 0. 0. 0. 0. 0. 0. 0. 0. 0. 0. 0. 0. 0. 0. 0.\n",
      "  0. 0. 0. 0. 0. 0. 0. 0. 0. 0. 0. 0. 0. 0. 0. 0.]\n",
      " [0. 0. 0. 0. 0. 0. 0. 0. 0. 0. 0. 0. 0. 0. 0. 0. 0. 0. 0. 0. 0. 0. 0. 0.\n",
      "  0. 0. 0. 0. 0. 0. 0. 0. 0. 0. 0. 0. 0. 0. 0. 0.]\n",
      " [0. 0. 0. 0. 0. 0. 0. 0. 0. 0. 0. 0. 0. 0. 0. 0. 0. 0. 0. 0. 0. 0. 0. 0.\n",
      "  0. 0. 0. 0. 0. 0. 0. 0. 0. 0. 0. 0. 0. 0. 0. 0.]\n",
      " [0. 0. 0. 0. 0. 0. 0. 0. 0. 0. 0. 0. 0. 0. 0. 0. 0. 0. 0. 0. 0. 0. 0. 0.\n",
      "  0. 0. 0. 0. 0. 0. 0. 0. 0. 0. 0. 0. 0. 0. 0. 0.]\n",
      " [0. 0. 0. 0. 0. 0. 0. 0. 0. 0. 0. 0. 0. 0. 0. 0. 0. 0. 0. 0. 0. 0. 0. 0.\n",
      "  0. 0. 0. 0. 0. 0. 0. 0. 0. 0. 0. 0. 0. 0. 0. 0.]\n",
      " [0. 0. 0. 0. 0. 0. 0. 0. 0. 0. 0. 0. 0. 0. 0. 0. 0. 0. 0. 0. 0. 0. 0. 0.\n",
      "  0. 0. 0. 0. 0. 0. 0. 0. 0. 0. 0. 0. 0. 0. 0. 0.]\n",
      " [0. 0. 0. 0. 0. 0. 0. 0. 0. 0. 0. 0. 0. 0. 0. 0. 0. 0. 0. 0. 0. 0. 0. 0.\n",
      "  0. 0. 0. 0. 0. 0. 0. 0. 0. 0. 0. 0. 0. 0. 0. 0.]\n",
      " [0. 0. 0. 0. 0. 0. 0. 0. 0. 0. 0. 0. 0. 0. 0. 0. 0. 0. 0. 0. 0. 0. 0. 0.\n",
      "  0. 0. 0. 0. 0. 0. 0. 0. 0. 0. 0. 0. 0. 0. 0. 0.]\n",
      " [0. 0. 0. 0. 0. 0. 0. 0. 0. 0. 0. 0. 0. 0. 0. 0. 0. 0. 0. 0. 0. 0. 0. 0.\n",
      "  0. 0. 0. 0. 0. 0. 0. 0. 0. 0. 0. 0. 0. 0. 0. 0.]\n",
      " [0. 0. 0. 0. 0. 0. 0. 0. 0. 0. 0. 0. 0. 0. 0. 0. 0. 0. 0. 0. 0. 0. 0. 0.\n",
      "  0. 0. 0. 0. 0. 0. 0. 0. 0. 0. 0. 0. 0. 0. 0. 0.]\n",
      " [0. 0. 0. 0. 0. 0. 0. 0. 0. 0. 0. 0. 0. 0. 0. 0. 0. 0. 0. 0. 0. 0. 0. 0.\n",
      "  0. 0. 0. 0. 0. 0. 0. 0. 0. 0. 0. 0. 0. 0. 0. 0.]\n",
      " [0. 0. 0. 0. 0. 0. 0. 0. 0. 0. 0. 0. 0. 0. 0. 0. 0. 0. 0. 0. 0. 0. 0. 0.\n",
      "  0. 0. 0. 0. 0. 0. 0. 0. 0. 0. 0. 0. 0. 0. 0. 0.]\n",
      " [0. 0. 0. 0. 0. 0. 0. 0. 0. 0. 0. 0. 0. 0. 0. 0. 0. 0. 0. 0. 0. 0. 0. 0.\n",
      "  0. 0. 0. 0. 0. 0. 0. 0. 0. 0. 0. 0. 0. 0. 0. 0.]\n",
      " [0. 0. 0. 0. 0. 0. 0. 0. 0. 0. 0. 0. 0. 0. 0. 0. 0. 0. 0. 0. 0. 0. 0. 0.\n",
      "  0. 0. 0. 0. 0. 0. 0. 0. 0. 0. 0. 0. 0. 0. 0. 0.]\n",
      " [0. 0. 0. 0. 0. 0. 0. 0. 0. 0. 0. 0. 0. 0. 0. 0. 0. 0. 0. 0. 0. 0. 0. 0.\n",
      "  0. 0. 0. 0. 0. 0. 0. 0. 0. 0. 0. 0. 0. 0. 0. 0.]\n",
      " [0. 0. 0. 0. 0. 0. 0. 0. 0. 0. 0. 0. 0. 0. 0. 0. 0. 0. 0. 0. 0. 0. 0. 0.\n",
      "  0. 0. 0. 0. 0. 0. 0. 0. 0. 0. 0. 0. 0. 0. 0. 0.]\n",
      " [0. 0. 0. 0. 0. 0. 0. 0. 0. 0. 0. 0. 0. 0. 0. 0. 0. 0. 0. 0. 0. 0. 0. 0.\n",
      "  0. 0. 0. 0. 0. 0. 0. 0. 0. 0. 0. 0. 0. 0. 0. 0.]]\n"
     ]
    }
   ],
   "source": [
    "np.set_printoptions(threshold=float('inf')) # = np.inf = sys.maxsize\n",
    "print(np.zeros([40,40]))"
   ]
  },
  {
   "cell_type": "markdown",
   "id": "50c62214",
   "metadata": {},
   "source": [
    "#### 50. How to find the closest value (to a given scalar) in a vector? (★★☆)"
   ]
  },
  {
   "cell_type": "code",
   "execution_count": 52,
   "id": "24b45bb5",
   "metadata": {},
   "outputs": [
    {
     "name": "stdout",
     "output_type": "stream",
     "text": [
      "0.9494221518961211\n"
     ]
    }
   ],
   "source": [
    "arr = np.random.rand(10)\n",
    "value = 4.5\n",
    "diff = np.abs(arr - value)\n",
    "print(arr[diff.argmin()]) # not min() -> argmin is the index while min is the value"
   ]
  },
  {
   "cell_type": "markdown",
   "id": "4c5a5116",
   "metadata": {},
   "source": [
    "#### 51. Create a structured array representing a position (x,y) and a color (r,g,b) (★★☆)"
   ]
  },
  {
   "cell_type": "code",
   "execution_count": 53,
   "id": "275806b2",
   "metadata": {},
   "outputs": [
    {
     "name": "stdout",
     "output_type": "stream",
     "text": [
      "[[(0, 0) (0, 0) (0, 0) (0, 0) (0, 0)]\n",
      " [(0, 0) (0, 0) (0, 0) (0, 0) (0, 0)]\n",
      " [(0, 0) (0, 0) (0, 0) (0, 0) (0, 0)]\n",
      " [(0, 0) (0, 0) (0, 0) (0, 0) (0, 0)]\n",
      " [(0, 0) (0, 0) (0, 0) (0, 0) (0, 0)]]\n",
      "[[[(0, 0, 0) (0, 0, 0) (0, 0, 0) ... (0, 0, 0) (0, 0, 0) (0, 0, 0)]\n",
      "  [(0, 0, 0) (0, 0, 0) (0, 0, 0) ... (0, 0, 0) (0, 0, 0) (0, 0, 0)]\n",
      "  [(0, 0, 0) (0, 0, 0) (0, 0, 0) ... (0, 0, 0) (0, 0, 0) (0, 0, 0)]\n",
      "  ...\n",
      "  [(0, 0, 0) (0, 0, 0) (0, 0, 0) ... (0, 0, 0) (0, 0, 0) (0, 0, 0)]\n",
      "  [(0, 0, 0) (0, 0, 0) (0, 0, 0) ... (0, 0, 0) (0, 0, 0) (0, 0, 0)]\n",
      "  [(0, 0, 0) (0, 0, 0) (0, 0, 0) ... (0, 0, 0) (0, 0, 0) (0, 0, 0)]]\n",
      "\n",
      " [[(0, 0, 0) (0, 0, 0) (0, 0, 0) ... (0, 0, 0) (0, 0, 0) (0, 0, 0)]\n",
      "  [(0, 0, 0) (0, 0, 0) (0, 0, 0) ... (0, 0, 0) (0, 0, 0) (0, 0, 0)]\n",
      "  [(0, 0, 0) (0, 0, 0) (0, 0, 0) ... (0, 0, 0) (0, 0, 0) (0, 0, 0)]\n",
      "  ...\n",
      "  [(0, 0, 0) (0, 0, 0) (0, 0, 0) ... (0, 0, 0) (0, 0, 0) (0, 0, 0)]\n",
      "  [(0, 0, 0) (0, 0, 0) (0, 0, 0) ... (0, 0, 0) (0, 0, 0) (0, 0, 0)]\n",
      "  [(0, 0, 0) (0, 0, 0) (0, 0, 0) ... (0, 0, 0) (0, 0, 0) (0, 0, 0)]]\n",
      "\n",
      " [[(0, 0, 0) (0, 0, 0) (0, 0, 0) ... (0, 0, 0) (0, 0, 0) (0, 0, 0)]\n",
      "  [(0, 0, 0) (0, 0, 0) (0, 0, 0) ... (0, 0, 0) (0, 0, 0) (0, 0, 0)]\n",
      "  [(0, 0, 0) (0, 0, 0) (0, 0, 0) ... (0, 0, 0) (0, 0, 0) (0, 0, 0)]\n",
      "  ...\n",
      "  [(0, 0, 0) (0, 0, 0) (0, 0, 0) ... (0, 0, 0) (0, 0, 0) (0, 0, 0)]\n",
      "  [(0, 0, 0) (0, 0, 0) (0, 0, 0) ... (0, 0, 0) (0, 0, 0) (0, 0, 0)]\n",
      "  [(0, 0, 0) (0, 0, 0) (0, 0, 0) ... (0, 0, 0) (0, 0, 0) (0, 0, 0)]]\n",
      "\n",
      " ...\n",
      "\n",
      " [[(0, 0, 0) (0, 0, 0) (0, 0, 0) ... (0, 0, 0) (0, 0, 0) (0, 0, 0)]\n",
      "  [(0, 0, 0) (0, 0, 0) (0, 0, 0) ... (0, 0, 0) (0, 0, 0) (0, 0, 0)]\n",
      "  [(0, 0, 0) (0, 0, 0) (0, 0, 0) ... (0, 0, 0) (0, 0, 0) (0, 0, 0)]\n",
      "  ...\n",
      "  [(0, 0, 0) (0, 0, 0) (0, 0, 0) ... (0, 0, 0) (0, 0, 0) (0, 0, 0)]\n",
      "  [(0, 0, 0) (0, 0, 0) (0, 0, 0) ... (0, 0, 0) (0, 0, 0) (0, 0, 0)]\n",
      "  [(0, 0, 0) (0, 0, 0) (0, 0, 0) ... (0, 0, 0) (0, 0, 0) (0, 0, 0)]]\n",
      "\n",
      " [[(0, 0, 0) (0, 0, 0) (0, 0, 0) ... (0, 0, 0) (0, 0, 0) (0, 0, 0)]\n",
      "  [(0, 0, 0) (0, 0, 0) (0, 0, 0) ... (0, 0, 0) (0, 0, 0) (0, 0, 0)]\n",
      "  [(0, 0, 0) (0, 0, 0) (0, 0, 0) ... (0, 0, 0) (0, 0, 0) (0, 0, 0)]\n",
      "  ...\n",
      "  [(0, 0, 0) (0, 0, 0) (0, 0, 0) ... (0, 0, 0) (0, 0, 0) (0, 0, 0)]\n",
      "  [(0, 0, 0) (0, 0, 0) (0, 0, 0) ... (0, 0, 0) (0, 0, 0) (0, 0, 0)]\n",
      "  [(0, 0, 0) (0, 0, 0) (0, 0, 0) ... (0, 0, 0) (0, 0, 0) (0, 0, 0)]]\n",
      "\n",
      " [[(0, 0, 0) (0, 0, 0) (0, 0, 0) ... (0, 0, 0) (0, 0, 0) (0, 0, 0)]\n",
      "  [(0, 0, 0) (0, 0, 0) (0, 0, 0) ... (0, 0, 0) (0, 0, 0) (0, 0, 0)]\n",
      "  [(0, 0, 0) (0, 0, 0) (0, 0, 0) ... (0, 0, 0) (0, 0, 0) (0, 0, 0)]\n",
      "  ...\n",
      "  [(0, 0, 0) (0, 0, 0) (0, 0, 0) ... (0, 0, 0) (0, 0, 0) (0, 0, 0)]\n",
      "  [(0, 0, 0) (0, 0, 0) (0, 0, 0) ... (0, 0, 0) (0, 0, 0) (0, 0, 0)]\n",
      "  [(0, 0, 0) (0, 0, 0) (0, 0, 0) ... (0, 0, 0) (0, 0, 0) (0, 0, 0)]]]\n",
      "Z = np.zeros(10, [ ('position', [ ('x', float, 1),\n",
      "                                  ('y', float, 1)]),\n",
      "                   ('color',    [ ('r', float, 1),\n",
      "                                  ('g', float, 1),\n",
      "                                  ('b', float, 1)])])\n",
      "print(Z)\n"
     ]
    }
   ],
   "source": [
    "np.set_printoptions(threshold=1000) # = np.inf = sys.maxsize\n",
    "\n",
    "\n",
    "arr = np.zeros((5,5), [('x', int), ('y', int)])\n",
    "print(arr)\n",
    "\n",
    "arr = np.zeros((128,128,128), [('r', int), ('g', int), ('b', int)])\n",
    "print(arr)\n",
    "\n",
    "answer(51)\n",
    "\n",
    "\n",
    "# to make them in one array: Z = np.zeros(10, dtype = [ ('position', [ ('x', float, 1), ('y', float, 1)]),\n",
    "                            #    ('color',    [ ('r', float, ('g', float, 1), ('b', float, 1)])])"
   ]
  },
  {
   "cell_type": "markdown",
   "id": "1d3399ca",
   "metadata": {},
   "source": [
    "#### 52. Consider a random vector with shape (100,2) representing coordinates, find point by point distances (★★☆)"
   ]
  },
  {
   "cell_type": "code",
   "execution_count": 54,
   "id": "67eae5bf",
   "metadata": {},
   "outputs": [
    {
     "name": "stdout",
     "output_type": "stream",
     "text": [
      "Z = np.random.random((10,2))\n",
      "X,Y = np.atleast_2d(Z[:,0], Z[:,1])\n",
      "D = np.sqrt( (X-X.T)**2 + (Y-Y.T)**2)\n",
      "print(D)\n",
      "\n",
      "# Much faster with scipy\n",
      "import scipy\n",
      "# Thanks Gavin Heverly-Coulson (#issue 1)\n",
      "import scipy.spatial\n",
      "\n",
      "Z = np.random.random((10,2))\n",
      "D = scipy.spatial.distance.cdist(Z,Z)\n",
      "print(D)\n",
      "[[0.         0.05801323 0.64930831 0.23184576 0.11352728 0.11829761\n",
      "  0.7154813  0.26069172 0.39495319 0.4284597 ]\n",
      " [0.05801323 0.         0.68979367 0.24330659 0.11425951 0.06028505\n",
      "  0.77231736 0.20282204 0.44934764 0.4650469 ]\n",
      " [0.64930831 0.68979367 0.         0.48800564 0.75111922 0.73409431\n",
      "  0.42117213 0.83793046 0.34026899 0.84567039]\n",
      " [0.23184576 0.24330659 0.48800564 0.         0.34429984 0.26795731\n",
      "  0.68680306 0.35152306 0.35902535 0.62306632]\n",
      " [0.11352728 0.11425951 0.75111922 0.34429984 0.         0.14300111\n",
      "  0.77214146 0.26469385 0.4704798  0.36633199]\n",
      " [0.11829761 0.06028505 0.73409431 0.26795731 0.14300111 0.\n",
      "  0.8314776  0.14276571 0.50660524 0.50759313]\n",
      " [0.7154813  0.77231736 0.42117213 0.68680306 0.77214146 0.8314776\n",
      "  0.         0.96913245 0.33299721 0.66696007]\n",
      " [0.26069172 0.20282204 0.83793046 0.35152306 0.26469385 0.14276571\n",
      "  0.96913245 0.         0.64038682 0.62789191]\n",
      " [0.39495319 0.44934764 0.34026899 0.35902535 0.4704798  0.50660524\n",
      "  0.33299721 0.64038682 0.         0.50542782]\n",
      " [0.4284597  0.4650469  0.84567039 0.62306632 0.36633199 0.50759313\n",
      "  0.66696007 0.62789191 0.50542782 0.        ]]\n"
     ]
    }
   ],
   "source": [
    "answer(52)\n",
    "\n",
    "z = np.random.random((10,2))\n",
    "x, y = np.atleast_2d(z[:,0], z[:,1])\n",
    "d = np.sqrt( (x - x.T)**2 + (y - y.T)**2 )\n",
    "print(d)\n",
    "\n",
    "# no need to fully understand this !"
   ]
  },
  {
   "cell_type": "markdown",
   "id": "003ff920",
   "metadata": {},
   "source": [
    "#### 53. How to convert a float (32 bits) array into an integer (32 bits) array in place?"
   ]
  },
  {
   "cell_type": "code",
   "execution_count": 55,
   "id": "76245e6d",
   "metadata": {},
   "outputs": [
    {
     "name": "stdout",
     "output_type": "stream",
     "text": [
      "# Thanks Vikas (https://stackoverflow.com/a/10622758/5989906)\n",
      "# & unutbu (https://stackoverflow.com/a/4396247/5989906)\n",
      "Z = (np.random.rand(10)*100).astype(np.float32)\n",
      "Y = Z.view(np.int32)\n",
      "Y[:] = Z\n",
      "print(Y)\n"
     ]
    }
   ],
   "source": [
    "z = np.arange(10, dtype=np.float32)\n",
    "z.dtype = np.int32\n",
    "z.dtype\n",
    "\n",
    "answer(53)\n",
    "\n",
    "# 1. ORIGINAL ARRAY: [1.0, 2.7, 4.5] as float32\n",
    "#    Memory: [3F800000, 402CCCCD, 40900000] (float bit patterns)\n",
    "\n",
    "# 2. DANGEROUS: z.dtype = np.int32\n",
    "#    SAME memory, just reinterpreted: [1065353216, 1075000115, 1083179008]\n",
    "#    WRONG values - no actual conversion!\n",
    "\n",
    "# 3. SAFE BUT MEMORY-HEAVY: z.astype(np.int32)  \n",
    "#    CREATES NEW array: [1, 2, 4]\n",
    "#    ORIGINAL memory unchanged, NEW memory allocated\n",
    "\n",
    "# 4. MEMORY-EFFICIENT: Y = Z.view(np.int32); Y[:] = Z\n",
    "#    Step 1: Y views SAME memory as int32: [1065353216, 1075000115, 1083179008]\n",
    "#    Step 2: Y[:] = Z OVERWRITES memory with converted values: [1, 2, 4]\n",
    "#    Result: Same memory reused, proper conversion, no extra allocation"
   ]
  },
  {
   "cell_type": "markdown",
   "id": "0c99eac4",
   "metadata": {},
   "source": [
    "#### 54. How to read the following file? (★★☆)\n",
    "```\n",
    "1, 2, 3, 4, 5\n",
    "6,  ,  , 7, 8\n",
    " ,  , 9,10,11\n",
    "```"
   ]
  },
  {
   "cell_type": "code",
   "execution_count": 66,
   "id": "55c6bf8c",
   "metadata": {},
   "outputs": [
    {
     "name": "stdout",
     "output_type": "stream",
     "text": [
      "Z = np.arange(9).reshape(3,3)\n",
      "for index, value in np.ndenumerate(Z):\n",
      "    print(index, value)\n",
      "for index in np.ndindex(Z.shape):\n",
      "    print(index, Z[index])\n"
     ]
    }
   ],
   "source": [
    "np.genfromtxt('file.csv', delimiter=',')\n",
    "# =============================================\n",
    "# SUMMARY: READING FILES IN NUMPY\n",
    "# =============================================\n",
    "\n",
    "# 1. For simple text files (CSV, TSV):\n",
    "# ------------------------------------\n",
    "# data = np.loadtxt('file.txt')                    # Space-separated\n",
    "# data = np.loadtxt('file.csv', delimiter=',')     # CSV files\n",
    "# data = np.loadtxt('file.csv', delimiter=',', skiprows=1, dtype=int)  # Skip header, specify type\n",
    "# data = np.loadtxt('file.csv', delimiter=',', usecols=(0, 2))         # Select specific columns\n",
    "\n",
    "# 2. For text files with missing values:\n",
    "# --------------------------------------\n",
    "# data = np.genfromtxt('file.csv', delimiter=',')           # Auto-fill missing with NaN\n",
    "# data = np.genfromtxt('file.csv', delimiter=',', filling_values=0)  # Fill missing with 0\n",
    "# data = np.genfromtxt('file.csv', delimiter=',', usemask=True)      # Create masked array\n",
    "\n",
    "# 3. For NumPy binary files (.npy, .npz):\n",
    "# ---------------------------------------\n",
    "# array = np.load('data.npy')                                # Single array\n",
    "# with np.load('archive.npz') as data:                       # Multiple arrays\n",
    "#     array1 = data['array1']\n",
    "#     array2 = data['array2']\n",
    "\n",
    "# 4. For memory-mapped large arrays:\n",
    "# ----------------------------------\n",
    "# large_array = np.load('large_array.npy', mmap_mode='r')\n",
    "\n",
    "# 5. For raw binary data (use with caution):\n",
    "# ------------------------------------------\n",
    "# data = np.fromfile('binary_data.bin', dtype=np.float32)\n",
    "\n",
    "# =============================================\n",
    "# RECOMMENDATIONS:\n",
    "# - Use .npy/.npz format for reliable storage\n",
    "# - Avoid fromfile() for long-term storage\n",
    "# - Use genfromtxt() for messy data with missing values\n",
    "# =============================================\n",
    "\n",
    "answer(55)\n"
   ]
  },
  {
   "cell_type": "code",
   "execution_count": null,
   "id": "f4c317af",
   "metadata": {},
   "outputs": [],
   "source": [
    "# =============================================\n",
    "# SUMMARY: CREATING NUMPY .NPY/.NPZ FILES\n",
    "# =============================================\n",
    "\n",
    "# 1. Saving single array to .npy:\n",
    "# -------------------------------\n",
    "# np.save('filename.npy', array)           # Saves single array efficiently\n",
    "# loaded_array = np.load('filename.npy')   # Load it back\n",
    "\n",
    "# 2. Saving multiple arrays to .npz:\n",
    "# ----------------------------------\n",
    "# np.savez('archive.npz', key1=array1, key2=array2)  # Uncompressed\n",
    "# np.savez_compressed('archive.npz', key1=array1, key2=array2)  # Compressed\n",
    "\n",
    "# 3. Loading .npz files:\n",
    "# ----------------------\n",
    "# data = np.load('archive.npz')\n",
    "# array1 = data['key1']                    # Access by key name\n",
    "# array2 = data['key2']\n",
    "# print(data.files)                        # List all keys\n",
    "\n",
    "# =============================================\n",
    "# CREATING CSV FILES FROM NUMPY\n",
    "# =============================================\n",
    "\n",
    "# 1. Basic CSV export:\n",
    "# --------------------\n",
    "# np.savetxt('data.csv', array, delimiter=',')           # Comma-separated\n",
    "# np.savetxt('data.tsv', array, delimiter='\\t')          # Tab-separated\n",
    "\n",
    "# 2. CSV with header and formatting:\n",
    "# ----------------------------------\n",
    "# np.savetxt('data.csv', array, delimiter=',', \n",
    "#            header='col1,col2,col3',        # Column names\n",
    "#            fmt='%.2f',                     # Float formatting (2 decimal places)\n",
    "#            comments='')                    # Remove '#' from header\n",
    "\n",
    "# 3. CSV with specific data types:\n",
    "# --------------------------------\n",
    "# np.savetxt('data.csv', array, delimiter=',', \n",
    "#            fmt='%d')                       # Integer format\n",
    "\n",
    "# 4. For structured arrays with mixed data:\n",
    "# -----------------------------------------\n",
    "# Use pandas: pd.DataFrame(array).to_csv('data.csv', index=False)\n",
    "\n",
    "# =============================================\n",
    "# QUICK EXAMPLES:\n",
    "# =============================================\n",
    "\n",
    "# Create and save arrays\n",
    "# array = np.random.rand(5, 3)\n",
    "# np.save('data.npy', array)                           # Binary format\n",
    "# np.savetxt('data.csv', array, delimiter=',')         # CSV format\n",
    "\n",
    "# Create structured data example\n",
    "# structured_array = np.array([(1, 2.5, 'A'), (2, 3.7, 'B')], \n",
    "#                            dtype=[('id', 'i4'), ('value', 'f4'), ('label', 'U1')])\n",
    "# Use pandas for mixed data types: \n",
    "# pd.DataFrame(structured_array).to_csv('structured.csv', index=False)\n",
    "\n",
    "# =============================================\n",
    "# KEY POINTS:\n",
    "# - Use .npy/.npz for NumPy-to-NumPy (fast, preserves everything)\n",
    "# - Use CSV for sharing/exchanging data with other programs\n",
    "# - Use pandas for complex/mixed data types in CSV\n",
    "# ============================================="
   ]
  },
  {
   "cell_type": "markdown",
   "id": "8cd30360",
   "metadata": {},
   "source": [
    "#### 55. What is the equivalent of enumerate for numpy arrays? (★★☆)"
   ]
  },
  {
   "cell_type": "code",
   "execution_count": 110,
   "id": "608315ba",
   "metadata": {},
   "outputs": [
    {
     "name": "stdout",
     "output_type": "stream",
     "text": [
      "7\n",
      "2\n",
      "5\n",
      "8\n",
      "8\n",
      "3\n",
      "8\n",
      "5\n",
      "1\n",
      "7\n",
      "54\n",
      "Z = np.arange(9).reshape(3,3)\n",
      "for index, value in np.ndenumerate(Z):\n",
      "    print(index, value)\n",
      "for index in np.ndindex(Z.shape):\n",
      "    print(index, Z[index])\n"
     ]
    }
   ],
   "source": [
    "arr = np.random.randint(1, 10, 10)\n",
    "size =0\n",
    "for i in np.ndenumerate(arr): # if you want only indexes use: ndindex() instead\n",
    "    print(i[1]); size+= i[1]\n",
    "print(size)\n",
    "\n",
    "answer(55)"
   ]
  },
  {
   "cell_type": "markdown",
   "id": "4823a294",
   "metadata": {},
   "source": [
    "#### 56. Generate a generic 2D Gaussian-like array (★★☆)"
   ]
  },
  {
   "cell_type": "code",
   "execution_count": null,
   "id": "9b3b682d",
   "metadata": {},
   "outputs": [
    {
     "name": "stdout",
     "output_type": "stream",
     "text": [
      "[[-7.44677253e-01  2.84502751e-01]\n",
      " [ 1.64349846e+00  2.29387763e+00]\n",
      " [ 1.49312248e-01  2.15058836e-01]\n",
      " [-6.34358447e-01  1.42130585e-01]\n",
      " [ 2.51519249e-01  1.34925236e+00]\n",
      " [ 9.70896459e-01 -6.19788275e-01]\n",
      " [ 1.02208323e+00 -4.93070811e-01]\n",
      " [ 3.77050585e-01  2.16383506e+00]\n",
      " [ 6.41004805e-01  3.85674102e-01]\n",
      " [ 1.51762351e+00 -3.17618108e-01]\n",
      " [ 6.07153471e-01 -4.52721064e-01]\n",
      " [ 1.78824153e+00  7.53137584e-01]\n",
      " [-7.46126654e-01 -8.79161167e-01]\n",
      " [ 9.18998333e-01 -9.53987651e-01]\n",
      " [ 2.01932772e-01 -8.89726897e-01]\n",
      " [ 1.00842987e+00  9.72117892e-01]\n",
      " [-1.04408524e+00  1.83851805e+00]\n",
      " [ 1.79905304e+00 -5.99862521e-01]\n",
      " [ 1.47998699e+00  6.21027899e-01]\n",
      " [-1.34293083e-01 -3.34143723e-01]\n",
      " [-2.11387446e+00  3.83395876e-01]\n",
      " [-8.44698343e-01  7.71993351e-01]\n",
      " [ 4.36578971e-01 -7.02757465e-01]\n",
      " [-2.14520816e-01  8.48805688e-01]\n",
      " [ 3.36540505e-01 -1.21376168e+00]\n",
      " [-1.44015914e+00 -1.85510350e+00]\n",
      " [-5.42764752e-01  1.15123439e+00]\n",
      " [-2.91808905e-01  3.11861393e-02]\n",
      " [-1.12047752e+00 -9.42091350e-01]\n",
      " [ 8.86879215e-01  6.64971405e-01]\n",
      " [ 1.16909240e+00 -2.53494408e-01]\n",
      " [ 6.49735814e-01 -4.51579706e-01]\n",
      " [ 7.54792520e-01  9.22279973e-01]\n",
      " [-7.82530141e-01  3.83875367e-01]\n",
      " [ 7.97435286e-01 -3.12780932e-01]\n",
      " [-6.21414319e-01  8.12548491e-01]\n",
      " [ 1.48982620e+00  1.88400397e+00]\n",
      " [ 4.88714045e-01 -1.05926993e+00]\n",
      " [-3.78034043e-01  2.74746653e-01]\n",
      " [ 1.03902339e+00 -7.93288525e-01]\n",
      " [-9.18885311e-01  4.25359976e-02]\n",
      " [-9.47058596e-01  1.22238585e+00]\n",
      " [-4.13632929e-01  1.19729926e+00]\n",
      " [-5.78041284e-01  3.08263545e-01]\n",
      " [ 1.87601588e+00 -3.12804974e-01]\n",
      " [-1.06001902e+00 -9.44018565e-01]\n",
      " [ 3.78946439e-01  2.47764675e-01]\n",
      " [-2.06730457e+00  9.88432620e-01]\n",
      " [ 4.46095200e-04  1.76320931e-01]\n",
      " [ 2.23424139e-01 -8.64978233e-01]\n",
      " [ 2.22558172e+00  1.13907168e-01]\n",
      " [-9.51415496e-01  3.51990013e-01]\n",
      " [-2.61205321e-01 -7.11916719e-01]\n",
      " [ 9.31436300e-01 -8.60914995e-02]\n",
      " [ 1.26436581e+00  1.35860679e+00]\n",
      " [ 1.27915401e+00  4.29324965e-01]\n",
      " [-5.28818864e-01  1.10132608e+00]\n",
      " [-3.14868579e-02 -6.75112040e-01]\n",
      " [-7.06110924e-01 -3.01477734e-01]\n",
      " [-1.46814057e+00  1.08203731e-01]\n",
      " [-1.32360543e+00  6.38404315e-02]\n",
      " [-8.64147111e-01  3.92913846e-01]\n",
      " [-3.41801001e-01 -3.57760674e-01]\n",
      " [ 7.19658978e-01 -3.71079599e-01]\n",
      " [-3.02064383e-01 -3.27518239e-01]\n",
      " [ 2.88170118e+00 -1.30639657e+00]\n",
      " [-8.50667524e-01  2.17794518e-01]\n",
      " [-9.91044339e-02 -1.41655844e+00]\n",
      " [ 8.79117229e-01 -1.20115308e-01]\n",
      " [ 3.12210129e-01 -9.10815215e-01]\n",
      " [-1.15242681e-01  1.40281004e+00]\n",
      " [-1.55311122e-01 -8.28900628e-01]\n",
      " [-1.80902566e-01  8.03584624e-02]\n",
      " [-1.33433435e+00  1.05210975e+00]\n",
      " [ 1.66506861e+00  3.09059288e-01]\n",
      " [ 2.92345879e-01  4.52811554e-01]\n",
      " [ 2.04730767e-02 -1.18139068e+00]\n",
      " [-2.16187579e+00 -2.04931811e+00]\n",
      " [ 3.12521944e-01  7.06765600e-01]\n",
      " [-5.66081639e-02  1.88129366e-02]\n",
      " [ 1.55497817e-01 -1.51752871e+00]\n",
      " [-2.39272466e-01 -1.54116895e+00]\n",
      " [ 1.63847119e-01 -9.26952008e-01]\n",
      " [-1.39611371e+00 -1.60543814e+00]\n",
      " [-1.37643315e+00 -3.71333544e-01]\n",
      " [-1.92194547e+00  1.07114592e+00]\n",
      " [ 1.30313305e+00 -2.40507572e-01]\n",
      " [ 1.06003877e+00 -1.30697810e+00]\n",
      " [ 1.92906609e+00  3.90481509e-01]\n",
      " [ 8.32824670e-01  1.82199230e-01]\n",
      " [ 5.97793289e-01 -6.44874122e-03]\n",
      " [ 6.14261737e-01 -2.45386039e+00]\n",
      " [-7.96799848e-01  7.58517981e-01]\n",
      " [-5.74409685e-01 -7.58798032e-01]\n",
      " [ 8.60602417e-01 -1.43481858e+00]\n",
      " [ 2.17661204e+00  3.98057272e-02]\n",
      " [ 1.54244222e-01 -1.21505270e+00]\n",
      " [ 7.67723361e-01 -1.50575728e-01]\n",
      " [ 6.64460359e-01  2.37309378e-01]\n",
      " [ 3.81209118e-01 -1.36768935e+00]]\n",
      "X, Y = np.meshgrid(np.linspace(-1,1,10), np.linspace(-1,1,10))\n",
      "D = np.sqrt(X*X+Y*Y)\n",
      "sigma, mu = 1.0, 0.0\n",
      "G = np.exp(-( (D-mu)**2 / ( 2.0 * sigma**2 ) ) )\n",
      "print(G)\n"
     ]
    }
   ],
   "source": [
    "print(np.random.normal(loc=0.0, scale=1.0, size=[100,2]))\n",
    "\n",
    "answer(56)\n",
    "\n",
    "# G(x,y) = exp(-(x² + y²) / (2σ²)) is equivalent to this"
   ]
  },
  {
   "cell_type": "markdown",
   "id": "2dd8891d",
   "metadata": {},
   "source": [
    "#### 57. How to randomly place p elements in a 2D array? (★★☆)"
   ]
  },
  {
   "cell_type": "code",
   "execution_count": null,
   "id": "a55c52dc",
   "metadata": {},
   "outputs": [
    {
     "name": "stdout",
     "output_type": "stream",
     "text": [
      "# Author: Divakar\n",
      "\n",
      "n = 10\n",
      "p = 3\n",
      "Z = np.zeros((n,n))\n",
      "np.put(Z, np.random.choice(range(n*n), p, replace=False),1)\n",
      "print(Z)\n",
      "[39 40 74]\n",
      "[[ 0  0  0  0  0  0  0  0  0  0]\n",
      " [ 0  0  0  0  0  0  0  0  0  0]\n",
      " [ 0  0  0  0  0  0  0  0  0  0]\n",
      " [ 0  0  0  0  0  0  0  0  0 20]\n",
      " [20  0  0  0  0  0  0  0  0  0]\n",
      " [ 0  0  0  0  0  0  0  0  0  0]\n",
      " [ 0  0  0  0  0  0  0  0  0  0]\n",
      " [ 0  0  0  0 20  0  0  0  0  0]\n",
      " [ 0  0  0  0  0  0  0  0  0  0]\n",
      " [ 0  0  0  0  0  0  0  0  0  0]]\n",
      "100\n"
     ]
    }
   ],
   "source": [
    "answer(57)\n",
    "\n",
    "arr = np.full(shape=[10,10], fill_value=0) # creating an array with a custom shape and default value\n",
    "p = 3\n",
    "\n",
    "\n",
    "# the following is useful for choosing a random number (size) of items from a max limit of (a)\n",
    "# replace=False means that no choice can be chosen twice.\n",
    "# in this case, we use this function to choose p (size) indicies from an array that have (arr.size=100) total indicies\n",
    "# .\n",
    "indicies = np.random.choice(a=arr.size, size=p, replace=False)\n",
    "print(indicies)\n",
    "\n",
    "\n",
    "# int this function np.put,  works with the random indicies we choosed, the values to put in them, and the array to make the changes to\n",
    "# the value (v) column when we want 3 values for example can work with 1, 2, or 3 values normally!\n",
    "# .\n",
    "np.put(a=arr, ind=indicies, v=[20])\n",
    "print(arr)\n"
   ]
  },
  {
   "cell_type": "markdown",
   "id": "270b6834",
   "metadata": {},
   "source": [
    "#### 58. Subtract the mean of each row of a matrix (★★☆)"
   ]
  },
  {
   "cell_type": "code",
   "execution_count": null,
   "id": "814080c9",
   "metadata": {},
   "outputs": [
    {
     "name": "stdout",
     "output_type": "stream",
     "text": [
      "[np.float64(0.4944373963350882), np.float64(0.28888501540276823), np.float64(0.12501489202524455), np.float64(0.5654413663075697)]\n",
      "##########\n",
      "[[0.72732943 0.52555844 0.03295237 0.48238859]\n",
      " [0.04386322 0.4234022  0.40521552 0.97242188]\n",
      " [0.94438286 0.01053369 0.04671609 0.15922335]\n",
      " [0.26217408 0.19604573 0.01517558 0.64773164]]\n",
      "##########\n",
      "# Author: Warren Weckesser\n",
      "\n",
      "X = np.random.rand(5, 10)\n",
      "\n",
      "# Recent versions of numpy\n",
      "Y = X - X.mean(axis=1, keepdims=True)\n",
      "\n",
      "# Older versions of numpy\n",
      "Y = X - X.mean(axis=1).reshape(-1, 1)\n",
      "\n",
      "print(Y)\n",
      "##########\n",
      "[[0.89308644 0.2993231  0.9466417  0.5196693  0.69498319 0.80843143\n",
      "  0.68231018 0.29313658 0.53753139 0.02739425]\n",
      " [0.63575901 0.37126504 0.51411951 0.98058178 0.22816537 0.40371977\n",
      "  0.84518731 0.26139178 0.09662641 0.34731026]\n",
      " [0.81313226 0.82835617 0.9484299  0.12328183 0.88154984 0.55697161\n",
      "  0.34835247 0.16875778 0.94228482 0.30195901]\n",
      " [0.14681751 0.78497278 0.40279513 0.32778563 0.77211251 0.53210355\n",
      "  0.31418835 0.19697755 0.83520491 0.34143436]\n",
      " [0.76091402 0.02268607 0.17342705 0.9874265  0.56081568 0.75372858\n",
      "  0.50175986 0.33741003 0.10084023 0.22705377]]\n",
      "##########\n",
      "[[ 0.32283568 -0.27092766  0.37639094 -0.05058145  0.12473243  0.23818068\n",
      "   0.11205942 -0.27711417 -0.03271937 -0.54285651]\n",
      " [ 0.16734639 -0.09714759  0.04570688  0.51216915 -0.24024725 -0.06469286\n",
      "   0.37677468 -0.20702084 -0.37178621 -0.12110236]\n",
      " [ 0.22182469  0.2370486   0.35712233 -0.46802574  0.29024227 -0.03433596\n",
      "  -0.2429551  -0.42254979  0.35097725 -0.28934856]\n",
      " [-0.31862172  0.31953355 -0.0626441  -0.1376536   0.30667328  0.06666433\n",
      "  -0.15125088 -0.26846168  0.36976568 -0.12400487]\n",
      " [ 0.31830784 -0.41992011 -0.26917913  0.54482032  0.1182095   0.3111224\n",
      "   0.05915368 -0.10519615 -0.34176595 -0.21555241]]\n"
     ]
    }
   ],
   "source": [
    "arr = np.random.rand(4,4)\n",
    "l = []\n",
    "\n",
    "# mean(axis=1) can replace all of the following\n",
    "for i in range(arr.shape[1]): \n",
    "    l.append(arr[:,i].mean())\n",
    "\n",
    "print(l)\n",
    "print('#'*10)\n",
    "print(arr)\n",
    "print('#'*10)\n",
    "\n",
    "answer(58)\n",
    "\n",
    "\n",
    "old_arr = np.random.rand(5, 10)\n",
    "\n",
    "# Recent versions of numpy\n",
    "new_arr = old_arr - old_arr.mean(axis=1, keepdims=True)\n",
    "\n",
    "# Older versions of numpy\n",
    "new_arr = old_arr - old_arr.mean(axis=1).reshape(-1, 1)\n",
    "\n",
    "\n",
    "print('#'*10)\n",
    "print(old_arr)\n",
    "print('#'*10)\n",
    "print(new_arr)\n",
    "# =============================================\n",
    "# NUMPY keepdims=True - KEY POINTS\n",
    "# =============================================\n",
    "\n",
    "# 1. WHAT IT DOES:\n",
    "# ---------------\n",
    "# keepdims=True preserves array dimensions during reduction operations\n",
    "# Without it: (5, 10) → mean(axis=1) → (5,)    # Dimension lost!\n",
    "# With it:    (5, 10) → mean(axis=1, keepdims=True) → (5, 1)  # Dimension kept!\n",
    "\n",
    "# 2. WHY IT MATTERS FOR BROADCASTING:\n",
    "# -----------------------------------\n",
    "# X.shape = (5, 10)\n",
    "# \n",
    "# Without keepdims:\n",
    "# mean = X.mean(axis=1)        # shape (5,) \n",
    "# Y = X - mean                 # ERROR! (5,10) vs (5,) - incompatible\n",
    "#\n",
    "# With keepdims:\n",
    "# mean = X.mean(axis=1, keepdims=True)  # shape (5, 1)\n",
    "# Y = X - mean                          # WORKS! (5,10) vs (5,1) - broadcasts\n",
    "\n",
    "# 3. PRACTICAL EXAMPLES:\n",
    "# ----------------------\n",
    "# Standardization:\n",
    "# normalized = (X - X.mean(axis=1, keepdims=True)) / X.std(axis=1, keepdims=True)\n",
    "\n",
    "# Centering:\n",
    "# centered = X - X.mean(axis=0, keepdims=True)  # Center columns\n",
    "\n",
    "# 4. ALTERNATIVE WITHOUT keepdims:\n",
    "# --------------------------------\n",
    "# mean_manual = X.mean(axis=1).reshape(-1, 1)  # Manual reshaping needed\n",
    "# Y_manual = X - mean_manual\n",
    "\n",
    "# 5. BOTTOM LINE:\n",
    "# ---------------\n",
    "# Use keepdims=True for cleaner code and automatic broadcasting compatibility\n",
    "# Especially useful with: mean(), sum(), max(), min(), std(), var()\n",
    "# =============================================\n",
    "# reshape(-1,1) means: keep the number of rows as it's but force the number of columns to be 1"
   ]
  },
  {
   "cell_type": "markdown",
   "id": "52c92916",
   "metadata": {},
   "source": [
    "#### 59. How to sort an array by the nth column? (★★☆)"
   ]
  },
  {
   "cell_type": "code",
   "execution_count": null,
   "id": "c6ebac6d",
   "metadata": {},
   "outputs": [
    {
     "name": "stdout",
     "output_type": "stream",
     "text": [
      "[[6 6 0 3 2 1 8 8 7 3]\n",
      " [9 8 1 4 5 0 0 6 3 8]\n",
      " [7 9 7 6 6 3 3 5 9 4]\n",
      " [8 7 4 6 0 1 6 0 7 7]\n",
      " [7 6 4 5 8 0 2 6 2 9]\n",
      " [0 7 8 5 7 6 9 2 8 7]\n",
      " [9 6 0 1 9 0 1 0 7 8]\n",
      " [2 5 6 1 7 6 6 5 2 8]\n",
      " [7 8 9 7 4 3 2 0 5 8]\n",
      " [3 2 1 9 0 2 6 4 8 5]]\n",
      "##########\n",
      "# Author: Steve Tjoa\n",
      "\n",
      "Z = np.random.randint(0,10,(3,3))\n",
      "print(Z)\n",
      "print(Z[Z[:,1].argsort()])\n",
      "[[9 6 0 1 9 0 1 0 7 8]\n",
      " [2 5 6 1 7 6 6 5 2 8]\n",
      " [6 6 0 3 2 1 8 8 7 3]\n",
      " [9 8 1 4 5 0 0 6 3 8]\n",
      " [0 7 8 5 7 6 9 2 8 7]\n",
      " [7 6 4 5 8 0 2 6 2 9]\n",
      " [8 7 4 6 0 1 6 0 7 7]\n",
      " [7 9 7 6 6 3 3 5 9 4]\n",
      " [7 8 9 7 4 3 2 0 5 8]\n",
      " [3 2 1 9 0 2 6 4 8 5]]\n"
     ]
    }
   ],
   "source": [
    "arr = np.random.randint(0,10,[10,10])\n",
    "print(arr)\n",
    "print('#'*10)\n",
    "n = 3\n",
    "# arr.sort(axis=0, order=3)\n",
    "\n",
    "answer(59)\n",
    "\n",
    "print(arr[ arr[:,n].argsort() ]) # getting the indexes of the sorted nth column then \"arr[sorted_column]\" sort the whole array by it.\n",
    "\n",
    "# =============================================\n",
    "# NUMPY SORTING - COMPLETE SUMMARY\n",
    "# =============================================\n",
    "\n",
    "# 1. BASIC SORTING FUNCTIONS:\n",
    "# ---------------------------\n",
    "# sorted_arr = np.sort(arr)           # Returns sorted COPY (all dimensions)\n",
    "# arr.sort()                          # In-place sort (modifies original)\n",
    "# indices = np.argsort(arr)           # Returns indices that sort the array\n",
    "# sorted_arr = arr[indices]           # Sort using indices\n",
    "\n",
    "# 2. MULTI-DIMENSIONAL SORTING:\n",
    "# -----------------------------\n",
    "# np.sort(arr_2d, axis=0)            # Sort along ROWS (each column)\n",
    "# np.sort(arr_2d, axis=1)            # Sort along COLUMNS (each row)  \n",
    "# np.sort(arr_2d, axis=None)         # Flatten and sort entire array\n",
    "\n",
    "# 3. PARTIAL SORTING (Efficient for top/bottom k):\n",
    "# ------------------------------------------------\n",
    "# 1. partial = np.partition(arr, k)      # Elements before k are smaller, after are larger\n",
    "# 2. indices = np.argpartition(arr, k)   # Indices for partial sort\n",
    "# 3. Get 3 largest elements:\n",
    "    # Step 1: np.partition(arr, -3) - This rearranges the array so that the 3rd largest element \n",
    "    #   is in the 3rd position from the end, with all larger elements to its right\n",
    "    # Step 2: [-3:] - This takes a slice of the last 3 elements from the rearranged array\n",
    "    # Example: If arr = [5, 2, 8, 1, 9, 3, 7]\n",
    "    #          np.partition(arr, -3) might give: [1, 2, 3, 5, 7, 8, 9]  \n",
    "    #          Then [-3:] takes: [7, 8, 9] which are the 3 largest\n",
    "\n",
    "# 4. SORTING ALGORITHMS (kind parameter):\n",
    "# ---------------------------------------\n",
    "# np.sort(arr, kind='quicksort')     # Fastest, not stable (DEFAULT)\n",
    "# np.sort(arr, kind='mergesort')     # Stable (preserves equal element order)\n",
    "# np.sort(arr, kind='heapsort')      # Good worst-case performance\n",
    "\n",
    "# 5. STRUCTURED ARRAYS (sort by fields):\n",
    "# --------------------------------------\n",
    "# dt = [('name', 'U10'), ('age', int)]\n",
    "# people = np.array([('Alice',25), ('Bob',20)], dtype=dt)\n",
    "# by_age = np.sort(people, order='age')           # Sort by age field\n",
    "# by_multi = np.sort(people, order=['age','name'])# Sort by multiple fields\n",
    "\n",
    "# 6. SPECIAL DATA TYPES:\n",
    "# ----------------------\n",
    "# Complex: sorted by real part, then imaginary\n",
    "# Strings: lexicographical order\n",
    "# Custom: use argsort with custom key function\n",
    "\n",
    "# 7. COMMON PATTERNS:\n",
    "# -------------------\n",
    "# Descending order: np.sort(arr)[::-1]\n",
    "# Sort rows by column: data[data[:,0].argsort()]\n",
    "# Get top k: arr[np.argpartition(arr, -k)[-k:]]\n",
    "# Stable sort for complex cases: kind='mergesort'\n",
    "\n",
    "# =============================================\n",
    "# QUICK REFERENCE - WHEN TO USE WHAT:\n",
    "# =============================================\n",
    "\n",
    "# np.sort()        - Need sorted copy, any dimension\n",
    "# .sort()          - In-place, memory efficient  \n",
    "# np.argsort()     - Need sorting order for multiple arrays\n",
    "# np.partition()   - Only care about top/bottom k elements (FAST)\n",
    "# kind='mergesort' - When equal elements should keep original order\n",
    "# axis parameter   - Control sorting direction in multi-dim arrays\n",
    "\n",
    "# =============================================\n",
    "# PERFORMANCE TIPS:\n",
    "# =============================================\n",
    "# - Use partition() instead of sort() for top/bottom k\n",
    "# - quicksort is fastest for most cases\n",
    "# - mergesort when stability matters\n",
    "# - argsort + indexing for sorting multiple related arrays\n",
    "# ============================================="
   ]
  },
  {
   "cell_type": "markdown",
   "id": "05cef60b",
   "metadata": {},
   "source": [
    "#### 60. How to tell if a given 2D array has null columns? (★★☆)"
   ]
  },
  {
   "cell_type": "code",
   "execution_count": null,
   "id": "7979b467",
   "metadata": {},
   "outputs": [],
   "source": []
  },
  {
   "cell_type": "markdown",
   "id": "4891fdf5",
   "metadata": {},
   "source": [
    "#### 61. Find the nearest value from a given value in an array (★★☆)"
   ]
  },
  {
   "cell_type": "code",
   "execution_count": null,
   "id": "b38950fd",
   "metadata": {},
   "outputs": [],
   "source": []
  },
  {
   "cell_type": "markdown",
   "id": "b34bfbc7",
   "metadata": {},
   "source": [
    "#### 62. Considering two arrays with shape (1,3) and (3,1), how to compute their sum using an iterator? (★★☆)"
   ]
  },
  {
   "cell_type": "code",
   "execution_count": null,
   "id": "aa7eb006",
   "metadata": {},
   "outputs": [],
   "source": []
  },
  {
   "cell_type": "markdown",
   "id": "77a27b83",
   "metadata": {},
   "source": [
    "#### 63. Create an array class that has a name attribute (★★☆)"
   ]
  },
  {
   "cell_type": "code",
   "execution_count": null,
   "id": "a2a83936",
   "metadata": {},
   "outputs": [],
   "source": []
  },
  {
   "cell_type": "markdown",
   "id": "f7f5d229",
   "metadata": {},
   "source": [
    "#### 64. Consider a given vector, how to add 1 to each element indexed by a second vector (be careful with repeated indices)? (★★★)"
   ]
  },
  {
   "cell_type": "code",
   "execution_count": null,
   "id": "9b8f8f48",
   "metadata": {},
   "outputs": [],
   "source": []
  },
  {
   "cell_type": "markdown",
   "id": "b067fca8",
   "metadata": {},
   "source": [
    "#### 65. How to accumulate elements of a vector (X) to an array (F) based on an index list (I)? (★★★)"
   ]
  },
  {
   "cell_type": "code",
   "execution_count": null,
   "id": "f983f8ba",
   "metadata": {},
   "outputs": [],
   "source": []
  },
  {
   "cell_type": "markdown",
   "id": "765e2b8e",
   "metadata": {},
   "source": [
    "#### 66. Considering a (w,h,3) image of (dtype=ubyte), compute the number of unique colors (★★☆)"
   ]
  },
  {
   "cell_type": "code",
   "execution_count": null,
   "id": "7572d90d",
   "metadata": {},
   "outputs": [],
   "source": []
  },
  {
   "cell_type": "markdown",
   "id": "02743317",
   "metadata": {},
   "source": [
    "#### 67. Considering a four dimensions array, how to get sum over the last two axis at once? (★★★)"
   ]
  },
  {
   "cell_type": "code",
   "execution_count": null,
   "id": "980b5c45",
   "metadata": {},
   "outputs": [],
   "source": []
  },
  {
   "cell_type": "markdown",
   "id": "fe8b8107",
   "metadata": {},
   "source": [
    "#### 68. Considering a one-dimensional vector D, how to compute means of subsets of D using a vector S of same size describing subset  indices? (★★★)"
   ]
  },
  {
   "cell_type": "code",
   "execution_count": null,
   "id": "9c17c8c9",
   "metadata": {},
   "outputs": [],
   "source": []
  },
  {
   "cell_type": "markdown",
   "id": "7efa1173",
   "metadata": {},
   "source": [
    "#### 69. How to get the diagonal of a dot product? (★★★)"
   ]
  },
  {
   "cell_type": "code",
   "execution_count": null,
   "id": "59fc6a51",
   "metadata": {},
   "outputs": [],
   "source": []
  },
  {
   "cell_type": "markdown",
   "id": "b72adc30",
   "metadata": {},
   "source": [
    "#### 70. Consider the vector [1, 2, 3, 4, 5], how to build a new vector with 3 consecutive zeros interleaved between each value? (★★★)"
   ]
  },
  {
   "cell_type": "code",
   "execution_count": null,
   "id": "94b582b4",
   "metadata": {},
   "outputs": [],
   "source": []
  },
  {
   "cell_type": "markdown",
   "id": "fafa05b8",
   "metadata": {},
   "source": [
    "#### 71. Consider an array of dimension (5,5,3), how to multiply it by an array with dimensions (5,5)? (★★★)"
   ]
  },
  {
   "cell_type": "code",
   "execution_count": null,
   "id": "0dbb5bd4",
   "metadata": {},
   "outputs": [],
   "source": []
  },
  {
   "cell_type": "markdown",
   "id": "35a2bae5",
   "metadata": {},
   "source": [
    "#### 72. How to swap two rows of an array? (★★★)"
   ]
  },
  {
   "cell_type": "code",
   "execution_count": null,
   "id": "d63b30c3",
   "metadata": {},
   "outputs": [],
   "source": []
  },
  {
   "cell_type": "markdown",
   "id": "b760fc57",
   "metadata": {},
   "source": [
    "#### 73. Consider a set of 10 triplets describing 10 triangles (with shared vertices), find the set of unique line segments composing all the  triangles (★★★)"
   ]
  },
  {
   "cell_type": "code",
   "execution_count": null,
   "id": "01738774",
   "metadata": {},
   "outputs": [],
   "source": []
  },
  {
   "cell_type": "markdown",
   "id": "2d28cdaa",
   "metadata": {},
   "source": [
    "#### 74. Given a sorted array C that corresponds to a bincount, how to produce an array A such that np.bincount(A) == C? (★★★)"
   ]
  },
  {
   "cell_type": "code",
   "execution_count": null,
   "id": "8423859b",
   "metadata": {},
   "outputs": [],
   "source": []
  },
  {
   "cell_type": "markdown",
   "id": "5f4cafbd",
   "metadata": {},
   "source": [
    "#### 75. How to compute averages using a sliding window over an array? (★★★)"
   ]
  },
  {
   "cell_type": "code",
   "execution_count": null,
   "id": "62d6d514",
   "metadata": {},
   "outputs": [],
   "source": []
  },
  {
   "cell_type": "markdown",
   "id": "575d8bb4",
   "metadata": {},
   "source": [
    "#### 76. Consider a one-dimensional array Z, build a two-dimensional array whose first row is (Z[0],Z[1],Z[2]) and each subsequent row is  shifted by 1 (last row should be (Z[-3],Z[-2],Z[-1]) (★★★)"
   ]
  },
  {
   "cell_type": "code",
   "execution_count": null,
   "id": "2a41d341",
   "metadata": {},
   "outputs": [],
   "source": []
  },
  {
   "cell_type": "markdown",
   "id": "80dc0b2a",
   "metadata": {},
   "source": [
    "#### 77. How to negate a boolean, or to change the sign of a float inplace? (★★★)"
   ]
  },
  {
   "cell_type": "code",
   "execution_count": null,
   "id": "6fc68014",
   "metadata": {},
   "outputs": [],
   "source": []
  },
  {
   "cell_type": "markdown",
   "id": "7288634d",
   "metadata": {},
   "source": [
    "#### 78. Consider 2 sets of points P0,P1 describing lines (2d) and a point p, how to compute distance from p to each line i (P0[i],P1[i])? (★★★)"
   ]
  },
  {
   "cell_type": "code",
   "execution_count": null,
   "id": "4602caa6",
   "metadata": {},
   "outputs": [],
   "source": []
  },
  {
   "cell_type": "markdown",
   "id": "e1880e79",
   "metadata": {},
   "source": [
    "#### 79. Consider 2 sets of points P0,P1 describing lines (2d) and a set of points P, how to compute distance from each point j (P[j]) to each line i (P0[i],P1[i])? (★★★)"
   ]
  },
  {
   "cell_type": "code",
   "execution_count": null,
   "id": "a14e151b",
   "metadata": {},
   "outputs": [],
   "source": []
  },
  {
   "cell_type": "markdown",
   "id": "b8a2a287",
   "metadata": {},
   "source": [
    "#### 80. Consider an arbitrary array, write a function that extracts a subpart with a fixed shape and centered on a given element (pad with a `fill` value when necessary) (★★★)"
   ]
  },
  {
   "cell_type": "code",
   "execution_count": null,
   "id": "86af1186",
   "metadata": {},
   "outputs": [],
   "source": []
  },
  {
   "cell_type": "markdown",
   "id": "caa64150",
   "metadata": {},
   "source": [
    "#### 81. Consider an array Z = [1,2,3,4,5,6,7,8,9,10,11,12,13,14], how to generate an array R = [[1,2,3,4], [2,3,4,5], [3,4,5,6], ..., [11,12,13,14]]? (★★★)"
   ]
  },
  {
   "cell_type": "code",
   "execution_count": null,
   "id": "4e7cc696",
   "metadata": {},
   "outputs": [],
   "source": []
  },
  {
   "cell_type": "markdown",
   "id": "9444c83b",
   "metadata": {},
   "source": [
    "#### 82. Compute a matrix rank (★★★)"
   ]
  },
  {
   "cell_type": "code",
   "execution_count": null,
   "id": "9e5c1d64",
   "metadata": {},
   "outputs": [],
   "source": []
  },
  {
   "cell_type": "markdown",
   "id": "6eef9f33",
   "metadata": {},
   "source": [
    "#### 83. How to find the most frequent value in an array?"
   ]
  },
  {
   "cell_type": "code",
   "execution_count": null,
   "id": "9fb60e52",
   "metadata": {},
   "outputs": [],
   "source": []
  },
  {
   "cell_type": "markdown",
   "id": "65f370f9",
   "metadata": {},
   "source": [
    "#### 84. Extract all the contiguous 3x3 blocks from a random 10x10 matrix (★★★)"
   ]
  },
  {
   "cell_type": "code",
   "execution_count": null,
   "id": "65ade1a6",
   "metadata": {},
   "outputs": [],
   "source": []
  },
  {
   "cell_type": "markdown",
   "id": "845ad7f8",
   "metadata": {},
   "source": [
    "#### 85. Create a 2D array subclass such that Z[i,j] == Z[j,i] (★★★)"
   ]
  },
  {
   "cell_type": "code",
   "execution_count": null,
   "id": "30b1ba71",
   "metadata": {},
   "outputs": [],
   "source": []
  },
  {
   "cell_type": "markdown",
   "id": "adc48f02",
   "metadata": {},
   "source": [
    "#### 86. Consider a set of p matrices with shape (n,n) and a set of p vectors with shape (n,1). How to compute the sum of of the p matrix products at once? (result has shape (n,1)) (★★★)"
   ]
  },
  {
   "cell_type": "code",
   "execution_count": null,
   "id": "ec798e90",
   "metadata": {},
   "outputs": [],
   "source": []
  },
  {
   "cell_type": "markdown",
   "id": "9efb34b2",
   "metadata": {},
   "source": [
    "#### 87. Consider a 16x16 array, how to get the block-sum (block size is 4x4)? (★★★)"
   ]
  },
  {
   "cell_type": "code",
   "execution_count": null,
   "id": "ea79f40b",
   "metadata": {},
   "outputs": [],
   "source": []
  },
  {
   "cell_type": "markdown",
   "id": "a9368578",
   "metadata": {},
   "source": [
    "#### 88. How to implement the Game of Life using numpy arrays? (★★★)"
   ]
  },
  {
   "cell_type": "code",
   "execution_count": null,
   "id": "315e9f11",
   "metadata": {},
   "outputs": [],
   "source": []
  },
  {
   "cell_type": "markdown",
   "id": "8c598af3",
   "metadata": {},
   "source": [
    "#### 89. How to get the n largest values of an array (★★★)"
   ]
  },
  {
   "cell_type": "code",
   "execution_count": null,
   "id": "cba8d433",
   "metadata": {},
   "outputs": [],
   "source": []
  },
  {
   "cell_type": "markdown",
   "id": "036a3bb0",
   "metadata": {},
   "source": [
    "#### 90. Given an arbitrary number of vectors, build the cartesian product (every combination of every item) (★★★)"
   ]
  },
  {
   "cell_type": "code",
   "execution_count": null,
   "id": "d712972d",
   "metadata": {},
   "outputs": [],
   "source": []
  },
  {
   "cell_type": "markdown",
   "id": "36487aab",
   "metadata": {},
   "source": [
    "#### 91. How to create a record array from a regular array? (★★★)"
   ]
  },
  {
   "cell_type": "code",
   "execution_count": null,
   "id": "9779dbac",
   "metadata": {},
   "outputs": [],
   "source": []
  },
  {
   "cell_type": "markdown",
   "id": "9f178562",
   "metadata": {},
   "source": [
    "#### 92. Consider a large vector Z, compute Z to the power of 3 using 3 different methods (★★★)"
   ]
  },
  {
   "cell_type": "code",
   "execution_count": null,
   "id": "b08000b8",
   "metadata": {},
   "outputs": [],
   "source": []
  },
  {
   "cell_type": "markdown",
   "id": "86acaf60",
   "metadata": {},
   "source": [
    "#### 93. Consider two arrays A and B of shape (8,3) and (2,2). How to find rows of A that contain elements of each row of B regardless of the order of the elements in B? (★★★)"
   ]
  },
  {
   "cell_type": "code",
   "execution_count": null,
   "id": "793b26d4",
   "metadata": {},
   "outputs": [],
   "source": []
  },
  {
   "cell_type": "markdown",
   "id": "c71b9df2",
   "metadata": {},
   "source": [
    "#### 94. Considering a 10x3 matrix, extract rows with unequal values (e.g. [2,2,3]) (★★★)"
   ]
  },
  {
   "cell_type": "code",
   "execution_count": null,
   "id": "494069f0",
   "metadata": {},
   "outputs": [],
   "source": []
  },
  {
   "cell_type": "markdown",
   "id": "1a8ae7c1",
   "metadata": {},
   "source": [
    "#### 95. Convert a vector of ints into a matrix binary representation (★★★)"
   ]
  },
  {
   "cell_type": "code",
   "execution_count": null,
   "id": "d5e967b8",
   "metadata": {},
   "outputs": [],
   "source": []
  },
  {
   "cell_type": "markdown",
   "id": "edef1198",
   "metadata": {},
   "source": [
    "#### 96. Given a two dimensional array, how to extract unique rows? (★★★)"
   ]
  },
  {
   "cell_type": "code",
   "execution_count": null,
   "id": "fa14799b",
   "metadata": {},
   "outputs": [],
   "source": []
  },
  {
   "cell_type": "markdown",
   "id": "575598a1",
   "metadata": {},
   "source": [
    "#### 97. Considering 2 vectors A & B, write the einsum equivalent of inner, outer, sum, and mul function (★★★)"
   ]
  },
  {
   "cell_type": "code",
   "execution_count": null,
   "id": "9da72f6e",
   "metadata": {},
   "outputs": [],
   "source": []
  },
  {
   "cell_type": "markdown",
   "id": "88e2796a",
   "metadata": {},
   "source": [
    "#### 98. Considering a path described by two vectors (X,Y), how to sample it using equidistant samples (★★★)?"
   ]
  },
  {
   "cell_type": "code",
   "execution_count": null,
   "id": "c17314f8",
   "metadata": {},
   "outputs": [],
   "source": []
  },
  {
   "cell_type": "markdown",
   "id": "8b25b7bd",
   "metadata": {},
   "source": [
    "#### 99. Given an integer n and a 2D array X, select from X the rows which can be interpreted as draws from a multinomial distribution with n degrees, i.e., the rows which only contain integers and which sum to n. (★★★)"
   ]
  },
  {
   "cell_type": "code",
   "execution_count": null,
   "id": "f0dc48cd",
   "metadata": {},
   "outputs": [],
   "source": []
  },
  {
   "cell_type": "markdown",
   "id": "b7068c76",
   "metadata": {},
   "source": [
    "#### 100. Compute bootstrapped 95% confidence intervals for the mean of a 1D array X (i.e., resample the elements of an array with replacement N times, compute the mean of each sample, and then compute percentiles over the means). (★★★)"
   ]
  },
  {
   "cell_type": "code",
   "execution_count": null,
   "id": "3c234201",
   "metadata": {},
   "outputs": [],
   "source": []
  }
 ],
 "metadata": {
  "kernelspec": {
   "display_name": ".venv",
   "language": "python",
   "name": "python3"
  },
  "language_info": {
   "codemirror_mode": {
    "name": "ipython",
    "version": 3
   },
   "file_extension": ".py",
   "mimetype": "text/x-python",
   "name": "python",
   "nbconvert_exporter": "python",
   "pygments_lexer": "ipython3",
   "version": "3.12.3"
  }
 },
 "nbformat": 4,
 "nbformat_minor": 5
}
